{
  "nbformat": 4,
  "nbformat_minor": 0,
  "metadata": {
    "colab": {
      "name": "Regex_And_Text_Manipulation_Elyar.ipynb",
      "provenance": [],
      "collapsed_sections": [
        "YqwIwZSeMcp6",
        "semkTS2sUkkX",
        "TB25O6fTjOem",
        "4F_8PPBumykv",
        "TDTD7Qumpuzl",
        "iUdsascK8v1K",
        "8tanSPw6A-gZ",
        "B40dtI0TIpZF",
        "LsrMPTQ2NtLJ",
        "KPzZtRO8PqrS",
        "tWYVRbrMRBiU",
        "Pgspen36ttP0",
        "9nfR81-nyFNG",
        "sc3LGLCAAA_j",
        "sQeZ04RBGk0S",
        "GluFA6hVxWNO",
        "KXnVpvGYxZSA",
        "9rCekfEsEhBz",
        "ioe_Fpr8QcTq",
        "XdhlA8A5SRhp"
      ]
    },
    "kernelspec": {
      "name": "python3",
      "display_name": "Python 3"
    }
  },
  "cells": [
    {
      "cell_type": "code",
      "metadata": {
        "id": "bR-LITVbMZpw"
      },
      "source": [
        "import pandas as pd\n",
        "import numpy as np"
      ],
      "execution_count": 1,
      "outputs": []
    },
    {
      "cell_type": "code",
      "metadata": {
        "id": "pNY-kJqBMbrZ",
        "colab": {
          "base_uri": "https://localhost:8080/",
          "height": 35
        },
        "outputId": "4257a896-ccac-4f37-e4c6-f837ef3801f7"
      },
      "source": [
        "pd.__version__"
      ],
      "execution_count": 2,
      "outputs": [
        {
          "output_type": "execute_result",
          "data": {
            "application/vnd.google.colaboratory.intrinsic+json": {
              "type": "string"
            },
            "text/plain": [
              "'1.3.5'"
            ]
          },
          "metadata": {},
          "execution_count": 2
        }
      ]
    },
    {
      "cell_type": "markdown",
      "metadata": {
        "id": "YqwIwZSeMcp6"
      },
      "source": [
        "#### Our Data: Boston Marathon Runners"
      ]
    },
    {
      "cell_type": "markdown",
      "metadata": {
        "id": "bPwxWSaVMeql"
      },
      "source": [
        "\n",
        "> https://andybek.com/pandas-marathon\n",
        "\n",
        "*...also attached as a resource!*\n"
      ]
    },
    {
      "cell_type": "code",
      "metadata": {
        "id": "pRzqmnjbUcme"
      },
      "source": [
        "boston_url = 'https://andybek.com/pandas-marathon'"
      ],
      "execution_count": 3,
      "outputs": []
    },
    {
      "cell_type": "code",
      "metadata": {
        "id": "jyMhQWWaUf1l"
      },
      "source": [
        "boston = pd.read_csv(boston_url)"
      ],
      "execution_count": 4,
      "outputs": []
    },
    {
      "cell_type": "code",
      "metadata": {
        "id": "lSNdBwaUUhgm",
        "colab": {
          "base_uri": "https://localhost:8080/",
          "height": 0
        },
        "outputId": "df221001-7927-46b8-8ca7-fde0b2e7af63"
      },
      "source": [
        "boston.head()"
      ],
      "execution_count": 5,
      "outputs": [
        {
          "output_type": "execute_result",
          "data": {
            "text/html": [
              "\n",
              "  <div id=\"df-13ed4198-38ee-40e3-999c-9d4020e44a3f\">\n",
              "    <div class=\"colab-df-container\">\n",
              "      <div>\n",
              "<style scoped>\n",
              "    .dataframe tbody tr th:only-of-type {\n",
              "        vertical-align: middle;\n",
              "    }\n",
              "\n",
              "    .dataframe tbody tr th {\n",
              "        vertical-align: top;\n",
              "    }\n",
              "\n",
              "    .dataframe thead th {\n",
              "        text-align: right;\n",
              "    }\n",
              "</style>\n",
              "<table border=\"1\" class=\"dataframe\">\n",
              "  <thead>\n",
              "    <tr style=\"text-align: right;\">\n",
              "      <th></th>\n",
              "      <th>Name</th>\n",
              "      <th>Age</th>\n",
              "      <th>M/F</th>\n",
              "      <th>City</th>\n",
              "      <th>State</th>\n",
              "      <th>Country</th>\n",
              "      <th>Official Time</th>\n",
              "      <th>Overall</th>\n",
              "      <th>Gender</th>\n",
              "      <th>Years Ran</th>\n",
              "    </tr>\n",
              "  </thead>\n",
              "  <tbody>\n",
              "    <tr>\n",
              "      <th>0</th>\n",
              "      <td>Kirui, Geoffrey</td>\n",
              "      <td>24</td>\n",
              "      <td>M</td>\n",
              "      <td>Keringet</td>\n",
              "      <td>NaN</td>\n",
              "      <td>KEN</td>\n",
              "      <td>2:09:37</td>\n",
              "      <td>1</td>\n",
              "      <td>1</td>\n",
              "      <td>NaN</td>\n",
              "    </tr>\n",
              "    <tr>\n",
              "      <th>1</th>\n",
              "      <td>Rupp, Galen</td>\n",
              "      <td>30</td>\n",
              "      <td>M</td>\n",
              "      <td>Portland</td>\n",
              "      <td>OR</td>\n",
              "      <td>USA</td>\n",
              "      <td>2:09:58</td>\n",
              "      <td>2</td>\n",
              "      <td>2</td>\n",
              "      <td>NaN</td>\n",
              "    </tr>\n",
              "    <tr>\n",
              "      <th>2</th>\n",
              "      <td>Osako, Suguru</td>\n",
              "      <td>25</td>\n",
              "      <td>M</td>\n",
              "      <td>Machida-City</td>\n",
              "      <td>NaN</td>\n",
              "      <td>JPN</td>\n",
              "      <td>2:10:28</td>\n",
              "      <td>3</td>\n",
              "      <td>3</td>\n",
              "      <td>NaN</td>\n",
              "    </tr>\n",
              "    <tr>\n",
              "      <th>3</th>\n",
              "      <td>Biwott, Shadrack</td>\n",
              "      <td>32</td>\n",
              "      <td>M</td>\n",
              "      <td>Mammoth Lakes</td>\n",
              "      <td>CA</td>\n",
              "      <td>USA</td>\n",
              "      <td>2:12:08</td>\n",
              "      <td>4</td>\n",
              "      <td>4</td>\n",
              "      <td>NaN</td>\n",
              "    </tr>\n",
              "    <tr>\n",
              "      <th>4</th>\n",
              "      <td>Chebet, Wilson</td>\n",
              "      <td>31</td>\n",
              "      <td>M</td>\n",
              "      <td>Marakwet</td>\n",
              "      <td>NaN</td>\n",
              "      <td>KEN</td>\n",
              "      <td>2:12:35</td>\n",
              "      <td>5</td>\n",
              "      <td>5</td>\n",
              "      <td>2015</td>\n",
              "    </tr>\n",
              "  </tbody>\n",
              "</table>\n",
              "</div>\n",
              "      <button class=\"colab-df-convert\" onclick=\"convertToInteractive('df-13ed4198-38ee-40e3-999c-9d4020e44a3f')\"\n",
              "              title=\"Convert this dataframe to an interactive table.\"\n",
              "              style=\"display:none;\">\n",
              "        \n",
              "  <svg xmlns=\"http://www.w3.org/2000/svg\" height=\"24px\"viewBox=\"0 0 24 24\"\n",
              "       width=\"24px\">\n",
              "    <path d=\"M0 0h24v24H0V0z\" fill=\"none\"/>\n",
              "    <path d=\"M18.56 5.44l.94 2.06.94-2.06 2.06-.94-2.06-.94-.94-2.06-.94 2.06-2.06.94zm-11 1L8.5 8.5l.94-2.06 2.06-.94-2.06-.94L8.5 2.5l-.94 2.06-2.06.94zm10 10l.94 2.06.94-2.06 2.06-.94-2.06-.94-.94-2.06-.94 2.06-2.06.94z\"/><path d=\"M17.41 7.96l-1.37-1.37c-.4-.4-.92-.59-1.43-.59-.52 0-1.04.2-1.43.59L10.3 9.45l-7.72 7.72c-.78.78-.78 2.05 0 2.83L4 21.41c.39.39.9.59 1.41.59.51 0 1.02-.2 1.41-.59l7.78-7.78 2.81-2.81c.8-.78.8-2.07 0-2.86zM5.41 20L4 18.59l7.72-7.72 1.47 1.35L5.41 20z\"/>\n",
              "  </svg>\n",
              "      </button>\n",
              "      \n",
              "  <style>\n",
              "    .colab-df-container {\n",
              "      display:flex;\n",
              "      flex-wrap:wrap;\n",
              "      gap: 12px;\n",
              "    }\n",
              "\n",
              "    .colab-df-convert {\n",
              "      background-color: #E8F0FE;\n",
              "      border: none;\n",
              "      border-radius: 50%;\n",
              "      cursor: pointer;\n",
              "      display: none;\n",
              "      fill: #1967D2;\n",
              "      height: 32px;\n",
              "      padding: 0 0 0 0;\n",
              "      width: 32px;\n",
              "    }\n",
              "\n",
              "    .colab-df-convert:hover {\n",
              "      background-color: #E2EBFA;\n",
              "      box-shadow: 0px 1px 2px rgba(60, 64, 67, 0.3), 0px 1px 3px 1px rgba(60, 64, 67, 0.15);\n",
              "      fill: #174EA6;\n",
              "    }\n",
              "\n",
              "    [theme=dark] .colab-df-convert {\n",
              "      background-color: #3B4455;\n",
              "      fill: #D2E3FC;\n",
              "    }\n",
              "\n",
              "    [theme=dark] .colab-df-convert:hover {\n",
              "      background-color: #434B5C;\n",
              "      box-shadow: 0px 1px 3px 1px rgba(0, 0, 0, 0.15);\n",
              "      filter: drop-shadow(0px 1px 2px rgba(0, 0, 0, 0.3));\n",
              "      fill: #FFFFFF;\n",
              "    }\n",
              "  </style>\n",
              "\n",
              "      <script>\n",
              "        const buttonEl =\n",
              "          document.querySelector('#df-13ed4198-38ee-40e3-999c-9d4020e44a3f button.colab-df-convert');\n",
              "        buttonEl.style.display =\n",
              "          google.colab.kernel.accessAllowed ? 'block' : 'none';\n",
              "\n",
              "        async function convertToInteractive(key) {\n",
              "          const element = document.querySelector('#df-13ed4198-38ee-40e3-999c-9d4020e44a3f');\n",
              "          const dataTable =\n",
              "            await google.colab.kernel.invokeFunction('convertToInteractive',\n",
              "                                                     [key], {});\n",
              "          if (!dataTable) return;\n",
              "\n",
              "          const docLinkHtml = 'Like what you see? Visit the ' +\n",
              "            '<a target=\"_blank\" href=https://colab.research.google.com/notebooks/data_table.ipynb>data table notebook</a>'\n",
              "            + ' to learn more about interactive tables.';\n",
              "          element.innerHTML = '';\n",
              "          dataTable['output_type'] = 'display_data';\n",
              "          await google.colab.output.renderOutput(dataTable, element);\n",
              "          const docLink = document.createElement('div');\n",
              "          docLink.innerHTML = docLinkHtml;\n",
              "          element.appendChild(docLink);\n",
              "        }\n",
              "      </script>\n",
              "    </div>\n",
              "  </div>\n",
              "  "
            ],
            "text/plain": [
              "                Name  Age M/F           City State Country Official Time  \\\n",
              "0   Kirui, Geoffrey    24   M       Keringet   NaN     KEN       2:09:37   \n",
              "1     Rupp, Galen      30   M       Portland    OR     USA       2:09:58   \n",
              "2    Osako, Suguru     25   M   Machida-City   NaN     JPN       2:10:28   \n",
              "3   Biwott, Shadrack   32   M  Mammoth Lakes    CA     USA       2:12:08   \n",
              "4     Chebet, Wilson   31   M       Marakwet   NaN     KEN       2:12:35   \n",
              "\n",
              "   Overall  Gender Years Ran  \n",
              "0        1       1       NaN  \n",
              "1        2       2       NaN  \n",
              "2        3       3       NaN  \n",
              "3        4       4       NaN  \n",
              "4        5       5      2015  "
            ]
          },
          "metadata": {},
          "execution_count": 5
        }
      ]
    },
    {
      "cell_type": "code",
      "metadata": {
        "id": "Fsangl59Ujl7",
        "colab": {
          "base_uri": "https://localhost:8080/"
        },
        "outputId": "210c66f8-1a90-43c2-ea4e-c02e7fd5501d"
      },
      "source": [
        "boston.info()"
      ],
      "execution_count": 6,
      "outputs": [
        {
          "output_type": "stream",
          "name": "stdout",
          "text": [
            "<class 'pandas.core.frame.DataFrame'>\n",
            "RangeIndex: 1000 entries, 0 to 999\n",
            "Data columns (total 10 columns):\n",
            " #   Column         Non-Null Count  Dtype \n",
            "---  ------         --------------  ----- \n",
            " 0   Name           1000 non-null   object\n",
            " 1   Age            1000 non-null   int64 \n",
            " 2   M/F            1000 non-null   object\n",
            " 3   City           1000 non-null   object\n",
            " 4   State          807 non-null    object\n",
            " 5   Country        1000 non-null   object\n",
            " 6   Official Time  1000 non-null   object\n",
            " 7   Overall        1000 non-null   int64 \n",
            " 8   Gender         1000 non-null   int64 \n",
            " 9   Years Ran      315 non-null    object\n",
            "dtypes: int64(3), object(7)\n",
            "memory usage: 78.2+ KB\n"
          ]
        }
      ]
    },
    {
      "cell_type": "markdown",
      "metadata": {
        "id": "semkTS2sUkkX"
      },
      "source": [
        "#### String Methods In Python"
      ]
    },
    {
      "cell_type": "code",
      "metadata": {
        "id": "kGwEVkJEWWbE"
      },
      "source": [
        "# Agenda:\n",
        "#   - len\n",
        "#   - center\n",
        "#   - startswith, endswith\n",
        "#   - the 'in' operator\n",
        "#   - list comprehensions"
      ],
      "execution_count": 7,
      "outputs": []
    },
    {
      "cell_type": "code",
      "metadata": {
        "id": "E0dPfFW7Z4cb"
      },
      "source": [
        "s = \"Welcome to the text manipulation section\""
      ],
      "execution_count": 8,
      "outputs": []
    },
    {
      "cell_type": "code",
      "metadata": {
        "id": "JMpX2x4uiLfR",
        "colab": {
          "base_uri": "https://localhost:8080/"
        },
        "outputId": "87730bf0-7053-4650-b4a7-4b47a6c48a26"
      },
      "source": [
        "len(s)"
      ],
      "execution_count": 9,
      "outputs": [
        {
          "output_type": "execute_result",
          "data": {
            "text/plain": [
              "40"
            ]
          },
          "metadata": {},
          "execution_count": 9
        }
      ]
    },
    {
      "cell_type": "code",
      "metadata": {
        "id": "IyHLhGsWiOgl",
        "colab": {
          "base_uri": "https://localhost:8080/",
          "height": 0
        },
        "outputId": "d4d87de9-b52f-423b-91c3-88caeac2b4c8"
      },
      "source": [
        "s.center(100, '*')"
      ],
      "execution_count": 10,
      "outputs": [
        {
          "output_type": "execute_result",
          "data": {
            "application/vnd.google.colaboratory.intrinsic+json": {
              "type": "string"
            },
            "text/plain": [
              "'******************************Welcome to the text manipulation section******************************'"
            ]
          },
          "metadata": {},
          "execution_count": 10
        }
      ]
    },
    {
      "cell_type": "code",
      "metadata": {
        "id": "zu5HhlI-iVWf",
        "colab": {
          "base_uri": "https://localhost:8080/",
          "height": 0
        },
        "outputId": "7f355afb-ca2b-4267-ac68-977e4e5c3ec6"
      },
      "source": [
        "s.center(30, '*')"
      ],
      "execution_count": 11,
      "outputs": [
        {
          "output_type": "execute_result",
          "data": {
            "application/vnd.google.colaboratory.intrinsic+json": {
              "type": "string"
            },
            "text/plain": [
              "'Welcome to the text manipulation section'"
            ]
          },
          "metadata": {},
          "execution_count": 11
        }
      ]
    },
    {
      "cell_type": "code",
      "metadata": {
        "id": "S6pSjju2iaHO",
        "colab": {
          "base_uri": "https://localhost:8080/"
        },
        "outputId": "ab2654fa-ab37-4dc0-9553-dad469d12249"
      },
      "source": [
        "s.endswith('tion')"
      ],
      "execution_count": 12,
      "outputs": [
        {
          "output_type": "execute_result",
          "data": {
            "text/plain": [
              "True"
            ]
          },
          "metadata": {},
          "execution_count": 12
        }
      ]
    },
    {
      "cell_type": "code",
      "metadata": {
        "id": "rZWvuWH6ifYe",
        "colab": {
          "base_uri": "https://localhost:8080/"
        },
        "outputId": "117a8ae9-5471-46d7-82fa-e473acf70fad"
      },
      "source": [
        "s.startswith('W')"
      ],
      "execution_count": 13,
      "outputs": [
        {
          "output_type": "execute_result",
          "data": {
            "text/plain": [
              "True"
            ]
          },
          "metadata": {},
          "execution_count": 13
        }
      ]
    },
    {
      "cell_type": "code",
      "metadata": {
        "id": "757YDuvkiiXg",
        "colab": {
          "base_uri": "https://localhost:8080/"
        },
        "outputId": "fc132692-f100-4303-ec5f-5da3a2b71d4b"
      },
      "source": [
        "s.startswith('w')"
      ],
      "execution_count": 14,
      "outputs": [
        {
          "output_type": "execute_result",
          "data": {
            "text/plain": [
              "False"
            ]
          },
          "metadata": {},
          "execution_count": 14
        }
      ]
    },
    {
      "cell_type": "code",
      "metadata": {
        "id": "U8dNBvBmilTs"
      },
      "source": [
        "# how about includes?"
      ],
      "execution_count": 15,
      "outputs": []
    },
    {
      "cell_type": "code",
      "metadata": {
        "id": "rn3nIjBKiptL"
      },
      "source": [
        "# s.includes('substring')"
      ],
      "execution_count": 16,
      "outputs": []
    },
    {
      "cell_type": "code",
      "metadata": {
        "id": "eeoFEj26isJ6",
        "colab": {
          "base_uri": "https://localhost:8080/"
        },
        "outputId": "bd5b5d33-3ed8-4620-e1b3-ece85ae30063"
      },
      "source": [
        "'text' in s"
      ],
      "execution_count": 17,
      "outputs": [
        {
          "output_type": "execute_result",
          "data": {
            "text/plain": [
              "True"
            ]
          },
          "metadata": {},
          "execution_count": 17
        }
      ]
    },
    {
      "cell_type": "code",
      "metadata": {
        "id": "p5k58fkniuOw",
        "colab": {
          "base_uri": "https://localhost:8080/"
        },
        "outputId": "a164f901-fbc3-49de-badc-65cd2e45c775"
      },
      "source": [
        "'texted' in s"
      ],
      "execution_count": 18,
      "outputs": [
        {
          "output_type": "execute_result",
          "data": {
            "text/plain": [
              "False"
            ]
          },
          "metadata": {},
          "execution_count": 18
        }
      ]
    },
    {
      "cell_type": "code",
      "metadata": {
        "id": "ybzSBcpQixEx"
      },
      "source": [
        "# text transform within list comprehensions"
      ],
      "execution_count": 19,
      "outputs": []
    },
    {
      "cell_type": "code",
      "metadata": {
        "id": "ML0dw0kPi-Eh"
      },
      "source": [
        "names = ['Alanah', 'Albion', 'Andrew', np.NaN, 'Brian']"
      ],
      "execution_count": 20,
      "outputs": []
    },
    {
      "cell_type": "code",
      "metadata": {
        "id": "KCeuT4yFjBXd"
      },
      "source": [
        "# [len(name) for name in names]"
      ],
      "execution_count": 21,
      "outputs": []
    },
    {
      "cell_type": "code",
      "metadata": {
        "id": "ae3oihRZjHsM"
      },
      "source": [
        "# [name.startswith('A') for name in names]"
      ],
      "execution_count": 22,
      "outputs": []
    },
    {
      "cell_type": "markdown",
      "metadata": {
        "id": "TB25O6fTjOem"
      },
      "source": [
        "#### Vectorized String Operations In Pandas"
      ]
    },
    {
      "cell_type": "code",
      "metadata": {
        "id": "bApZFTAZkOxy",
        "colab": {
          "base_uri": "https://localhost:8080/",
          "height": 0
        },
        "outputId": "ee380d30-5dff-4710-e433-7811017c205a"
      },
      "source": [
        "boston.head()"
      ],
      "execution_count": 23,
      "outputs": [
        {
          "output_type": "execute_result",
          "data": {
            "text/html": [
              "\n",
              "  <div id=\"df-0b1f5d6b-f8d2-492b-815c-f71202d3e86a\">\n",
              "    <div class=\"colab-df-container\">\n",
              "      <div>\n",
              "<style scoped>\n",
              "    .dataframe tbody tr th:only-of-type {\n",
              "        vertical-align: middle;\n",
              "    }\n",
              "\n",
              "    .dataframe tbody tr th {\n",
              "        vertical-align: top;\n",
              "    }\n",
              "\n",
              "    .dataframe thead th {\n",
              "        text-align: right;\n",
              "    }\n",
              "</style>\n",
              "<table border=\"1\" class=\"dataframe\">\n",
              "  <thead>\n",
              "    <tr style=\"text-align: right;\">\n",
              "      <th></th>\n",
              "      <th>Name</th>\n",
              "      <th>Age</th>\n",
              "      <th>M/F</th>\n",
              "      <th>City</th>\n",
              "      <th>State</th>\n",
              "      <th>Country</th>\n",
              "      <th>Official Time</th>\n",
              "      <th>Overall</th>\n",
              "      <th>Gender</th>\n",
              "      <th>Years Ran</th>\n",
              "    </tr>\n",
              "  </thead>\n",
              "  <tbody>\n",
              "    <tr>\n",
              "      <th>0</th>\n",
              "      <td>Kirui, Geoffrey</td>\n",
              "      <td>24</td>\n",
              "      <td>M</td>\n",
              "      <td>Keringet</td>\n",
              "      <td>NaN</td>\n",
              "      <td>KEN</td>\n",
              "      <td>2:09:37</td>\n",
              "      <td>1</td>\n",
              "      <td>1</td>\n",
              "      <td>NaN</td>\n",
              "    </tr>\n",
              "    <tr>\n",
              "      <th>1</th>\n",
              "      <td>Rupp, Galen</td>\n",
              "      <td>30</td>\n",
              "      <td>M</td>\n",
              "      <td>Portland</td>\n",
              "      <td>OR</td>\n",
              "      <td>USA</td>\n",
              "      <td>2:09:58</td>\n",
              "      <td>2</td>\n",
              "      <td>2</td>\n",
              "      <td>NaN</td>\n",
              "    </tr>\n",
              "    <tr>\n",
              "      <th>2</th>\n",
              "      <td>Osako, Suguru</td>\n",
              "      <td>25</td>\n",
              "      <td>M</td>\n",
              "      <td>Machida-City</td>\n",
              "      <td>NaN</td>\n",
              "      <td>JPN</td>\n",
              "      <td>2:10:28</td>\n",
              "      <td>3</td>\n",
              "      <td>3</td>\n",
              "      <td>NaN</td>\n",
              "    </tr>\n",
              "    <tr>\n",
              "      <th>3</th>\n",
              "      <td>Biwott, Shadrack</td>\n",
              "      <td>32</td>\n",
              "      <td>M</td>\n",
              "      <td>Mammoth Lakes</td>\n",
              "      <td>CA</td>\n",
              "      <td>USA</td>\n",
              "      <td>2:12:08</td>\n",
              "      <td>4</td>\n",
              "      <td>4</td>\n",
              "      <td>NaN</td>\n",
              "    </tr>\n",
              "    <tr>\n",
              "      <th>4</th>\n",
              "      <td>Chebet, Wilson</td>\n",
              "      <td>31</td>\n",
              "      <td>M</td>\n",
              "      <td>Marakwet</td>\n",
              "      <td>NaN</td>\n",
              "      <td>KEN</td>\n",
              "      <td>2:12:35</td>\n",
              "      <td>5</td>\n",
              "      <td>5</td>\n",
              "      <td>2015</td>\n",
              "    </tr>\n",
              "  </tbody>\n",
              "</table>\n",
              "</div>\n",
              "      <button class=\"colab-df-convert\" onclick=\"convertToInteractive('df-0b1f5d6b-f8d2-492b-815c-f71202d3e86a')\"\n",
              "              title=\"Convert this dataframe to an interactive table.\"\n",
              "              style=\"display:none;\">\n",
              "        \n",
              "  <svg xmlns=\"http://www.w3.org/2000/svg\" height=\"24px\"viewBox=\"0 0 24 24\"\n",
              "       width=\"24px\">\n",
              "    <path d=\"M0 0h24v24H0V0z\" fill=\"none\"/>\n",
              "    <path d=\"M18.56 5.44l.94 2.06.94-2.06 2.06-.94-2.06-.94-.94-2.06-.94 2.06-2.06.94zm-11 1L8.5 8.5l.94-2.06 2.06-.94-2.06-.94L8.5 2.5l-.94 2.06-2.06.94zm10 10l.94 2.06.94-2.06 2.06-.94-2.06-.94-.94-2.06-.94 2.06-2.06.94z\"/><path d=\"M17.41 7.96l-1.37-1.37c-.4-.4-.92-.59-1.43-.59-.52 0-1.04.2-1.43.59L10.3 9.45l-7.72 7.72c-.78.78-.78 2.05 0 2.83L4 21.41c.39.39.9.59 1.41.59.51 0 1.02-.2 1.41-.59l7.78-7.78 2.81-2.81c.8-.78.8-2.07 0-2.86zM5.41 20L4 18.59l7.72-7.72 1.47 1.35L5.41 20z\"/>\n",
              "  </svg>\n",
              "      </button>\n",
              "      \n",
              "  <style>\n",
              "    .colab-df-container {\n",
              "      display:flex;\n",
              "      flex-wrap:wrap;\n",
              "      gap: 12px;\n",
              "    }\n",
              "\n",
              "    .colab-df-convert {\n",
              "      background-color: #E8F0FE;\n",
              "      border: none;\n",
              "      border-radius: 50%;\n",
              "      cursor: pointer;\n",
              "      display: none;\n",
              "      fill: #1967D2;\n",
              "      height: 32px;\n",
              "      padding: 0 0 0 0;\n",
              "      width: 32px;\n",
              "    }\n",
              "\n",
              "    .colab-df-convert:hover {\n",
              "      background-color: #E2EBFA;\n",
              "      box-shadow: 0px 1px 2px rgba(60, 64, 67, 0.3), 0px 1px 3px 1px rgba(60, 64, 67, 0.15);\n",
              "      fill: #174EA6;\n",
              "    }\n",
              "\n",
              "    [theme=dark] .colab-df-convert {\n",
              "      background-color: #3B4455;\n",
              "      fill: #D2E3FC;\n",
              "    }\n",
              "\n",
              "    [theme=dark] .colab-df-convert:hover {\n",
              "      background-color: #434B5C;\n",
              "      box-shadow: 0px 1px 3px 1px rgba(0, 0, 0, 0.15);\n",
              "      filter: drop-shadow(0px 1px 2px rgba(0, 0, 0, 0.3));\n",
              "      fill: #FFFFFF;\n",
              "    }\n",
              "  </style>\n",
              "\n",
              "      <script>\n",
              "        const buttonEl =\n",
              "          document.querySelector('#df-0b1f5d6b-f8d2-492b-815c-f71202d3e86a button.colab-df-convert');\n",
              "        buttonEl.style.display =\n",
              "          google.colab.kernel.accessAllowed ? 'block' : 'none';\n",
              "\n",
              "        async function convertToInteractive(key) {\n",
              "          const element = document.querySelector('#df-0b1f5d6b-f8d2-492b-815c-f71202d3e86a');\n",
              "          const dataTable =\n",
              "            await google.colab.kernel.invokeFunction('convertToInteractive',\n",
              "                                                     [key], {});\n",
              "          if (!dataTable) return;\n",
              "\n",
              "          const docLinkHtml = 'Like what you see? Visit the ' +\n",
              "            '<a target=\"_blank\" href=https://colab.research.google.com/notebooks/data_table.ipynb>data table notebook</a>'\n",
              "            + ' to learn more about interactive tables.';\n",
              "          element.innerHTML = '';\n",
              "          dataTable['output_type'] = 'display_data';\n",
              "          await google.colab.output.renderOutput(dataTable, element);\n",
              "          const docLink = document.createElement('div');\n",
              "          docLink.innerHTML = docLinkHtml;\n",
              "          element.appendChild(docLink);\n",
              "        }\n",
              "      </script>\n",
              "    </div>\n",
              "  </div>\n",
              "  "
            ],
            "text/plain": [
              "                Name  Age M/F           City State Country Official Time  \\\n",
              "0   Kirui, Geoffrey    24   M       Keringet   NaN     KEN       2:09:37   \n",
              "1     Rupp, Galen      30   M       Portland    OR     USA       2:09:58   \n",
              "2    Osako, Suguru     25   M   Machida-City   NaN     JPN       2:10:28   \n",
              "3   Biwott, Shadrack   32   M  Mammoth Lakes    CA     USA       2:12:08   \n",
              "4     Chebet, Wilson   31   M       Marakwet   NaN     KEN       2:12:35   \n",
              "\n",
              "   Overall  Gender Years Ran  \n",
              "0        1       1       NaN  \n",
              "1        2       2       NaN  \n",
              "2        3       3       NaN  \n",
              "3        4       4       NaN  \n",
              "4        5       5      2015  "
            ]
          },
          "metadata": {},
          "execution_count": 23
        }
      ]
    },
    {
      "cell_type": "code",
      "metadata": {
        "id": "RBnqqd7ql6vt",
        "colab": {
          "base_uri": "https://localhost:8080/"
        },
        "outputId": "4dc56f8a-5ba8-436a-c49b-48ce02693aae"
      },
      "source": [
        "len('Kirui, Geoffrey')"
      ],
      "execution_count": 24,
      "outputs": [
        {
          "output_type": "execute_result",
          "data": {
            "text/plain": [
              "15"
            ]
          },
          "metadata": {},
          "execution_count": 24
        }
      ]
    },
    {
      "cell_type": "code",
      "metadata": {
        "id": "9ZXSAwJlmf6R",
        "colab": {
          "base_uri": "https://localhost:8080/"
        },
        "outputId": "1d87ab38-bc23-4c8f-8041-d331104e3bee"
      },
      "source": [
        "boston.Name"
      ],
      "execution_count": 25,
      "outputs": [
        {
          "output_type": "execute_result",
          "data": {
            "text/plain": [
              "0         Kirui, Geoffrey \n",
              "1           Rupp, Galen   \n",
              "2          Osako, Suguru  \n",
              "3         Biwott, Shadrack\n",
              "4           Chebet, Wilson\n",
              "              ...         \n",
              "995           Larosa, Mark\n",
              "996    Williamson, Jerry A\n",
              "997        Mccue, Daniel T\n",
              "998           Larosa, John\n",
              "999         Sanchez, Sam R\n",
              "Name: Name, Length: 1000, dtype: object"
            ]
          },
          "metadata": {},
          "execution_count": 25
        }
      ]
    },
    {
      "cell_type": "code",
      "metadata": {
        "id": "UK-5sCYImid7",
        "colab": {
          "base_uri": "https://localhost:8080/"
        },
        "outputId": "b3b625c5-9729-4358-aa4d-92e7e6f0816a"
      },
      "source": [
        "len(boston.Name)"
      ],
      "execution_count": 26,
      "outputs": [
        {
          "output_type": "execute_result",
          "data": {
            "text/plain": [
              "1000"
            ]
          },
          "metadata": {},
          "execution_count": 26
        }
      ]
    },
    {
      "cell_type": "code",
      "metadata": {
        "id": "ofuz4KO0mkrQ",
        "colab": {
          "base_uri": "https://localhost:8080/"
        },
        "outputId": "11784aee-16c7-4e6f-b5c4-5d260cea9c42"
      },
      "source": [
        "boston.Name.str.len()"
      ],
      "execution_count": 27,
      "outputs": [
        {
          "output_type": "execute_result",
          "data": {
            "text/plain": [
              "0      17\n",
              "1      14\n",
              "2      15\n",
              "3      16\n",
              "4      14\n",
              "       ..\n",
              "995    12\n",
              "996    19\n",
              "997    15\n",
              "998    12\n",
              "999    14\n",
              "Name: Name, Length: 1000, dtype: int64"
            ]
          },
          "metadata": {},
          "execution_count": 27
        }
      ]
    },
    {
      "cell_type": "code",
      "metadata": {
        "id": "xIhc5-eamqqi"
      },
      "source": [
        "# boston.Name.len()"
      ],
      "execution_count": 28,
      "outputs": []
    },
    {
      "cell_type": "code",
      "metadata": {
        "id": "TF6BHIS6mv10",
        "colab": {
          "base_uri": "https://localhost:8080/"
        },
        "outputId": "898bd5b4-145d-4a67-ec94-28e01540e048"
      },
      "source": [
        "boston.Name.str.startswith('A')"
      ],
      "execution_count": 29,
      "outputs": [
        {
          "output_type": "execute_result",
          "data": {
            "text/plain": [
              "0      False\n",
              "1      False\n",
              "2      False\n",
              "3      False\n",
              "4      False\n",
              "       ...  \n",
              "995    False\n",
              "996    False\n",
              "997    False\n",
              "998    False\n",
              "999    False\n",
              "Name: Name, Length: 1000, dtype: bool"
            ]
          },
          "metadata": {},
          "execution_count": 29
        }
      ]
    },
    {
      "cell_type": "markdown",
      "metadata": {
        "id": "4F_8PPBumykv"
      },
      "source": [
        "#### Case Operations"
      ]
    },
    {
      "cell_type": "code",
      "metadata": {
        "id": "egiOjUH5nyQQ"
      },
      "source": [
        "# Agenda:\n",
        "#  - title()\n",
        "#  - upper()\n",
        "#  - lower()\n",
        "#  - swapcase()\n",
        "#  - capitalize()"
      ],
      "execution_count": 30,
      "outputs": []
    },
    {
      "cell_type": "code",
      "metadata": {
        "id": "WC1qPqI0n-R1",
        "colab": {
          "base_uri": "https://localhost:8080/",
          "height": 0
        },
        "outputId": "4d4f60bc-0149-4be4-957d-a34a5e389359"
      },
      "source": [
        "boston.head()"
      ],
      "execution_count": 31,
      "outputs": [
        {
          "output_type": "execute_result",
          "data": {
            "text/html": [
              "\n",
              "  <div id=\"df-8d682377-f972-44a3-97dc-f087afc2a8e0\">\n",
              "    <div class=\"colab-df-container\">\n",
              "      <div>\n",
              "<style scoped>\n",
              "    .dataframe tbody tr th:only-of-type {\n",
              "        vertical-align: middle;\n",
              "    }\n",
              "\n",
              "    .dataframe tbody tr th {\n",
              "        vertical-align: top;\n",
              "    }\n",
              "\n",
              "    .dataframe thead th {\n",
              "        text-align: right;\n",
              "    }\n",
              "</style>\n",
              "<table border=\"1\" class=\"dataframe\">\n",
              "  <thead>\n",
              "    <tr style=\"text-align: right;\">\n",
              "      <th></th>\n",
              "      <th>Name</th>\n",
              "      <th>Age</th>\n",
              "      <th>M/F</th>\n",
              "      <th>City</th>\n",
              "      <th>State</th>\n",
              "      <th>Country</th>\n",
              "      <th>Official Time</th>\n",
              "      <th>Overall</th>\n",
              "      <th>Gender</th>\n",
              "      <th>Years Ran</th>\n",
              "    </tr>\n",
              "  </thead>\n",
              "  <tbody>\n",
              "    <tr>\n",
              "      <th>0</th>\n",
              "      <td>Kirui, Geoffrey</td>\n",
              "      <td>24</td>\n",
              "      <td>M</td>\n",
              "      <td>Keringet</td>\n",
              "      <td>NaN</td>\n",
              "      <td>KEN</td>\n",
              "      <td>2:09:37</td>\n",
              "      <td>1</td>\n",
              "      <td>1</td>\n",
              "      <td>NaN</td>\n",
              "    </tr>\n",
              "    <tr>\n",
              "      <th>1</th>\n",
              "      <td>Rupp, Galen</td>\n",
              "      <td>30</td>\n",
              "      <td>M</td>\n",
              "      <td>Portland</td>\n",
              "      <td>OR</td>\n",
              "      <td>USA</td>\n",
              "      <td>2:09:58</td>\n",
              "      <td>2</td>\n",
              "      <td>2</td>\n",
              "      <td>NaN</td>\n",
              "    </tr>\n",
              "    <tr>\n",
              "      <th>2</th>\n",
              "      <td>Osako, Suguru</td>\n",
              "      <td>25</td>\n",
              "      <td>M</td>\n",
              "      <td>Machida-City</td>\n",
              "      <td>NaN</td>\n",
              "      <td>JPN</td>\n",
              "      <td>2:10:28</td>\n",
              "      <td>3</td>\n",
              "      <td>3</td>\n",
              "      <td>NaN</td>\n",
              "    </tr>\n",
              "    <tr>\n",
              "      <th>3</th>\n",
              "      <td>Biwott, Shadrack</td>\n",
              "      <td>32</td>\n",
              "      <td>M</td>\n",
              "      <td>Mammoth Lakes</td>\n",
              "      <td>CA</td>\n",
              "      <td>USA</td>\n",
              "      <td>2:12:08</td>\n",
              "      <td>4</td>\n",
              "      <td>4</td>\n",
              "      <td>NaN</td>\n",
              "    </tr>\n",
              "    <tr>\n",
              "      <th>4</th>\n",
              "      <td>Chebet, Wilson</td>\n",
              "      <td>31</td>\n",
              "      <td>M</td>\n",
              "      <td>Marakwet</td>\n",
              "      <td>NaN</td>\n",
              "      <td>KEN</td>\n",
              "      <td>2:12:35</td>\n",
              "      <td>5</td>\n",
              "      <td>5</td>\n",
              "      <td>2015</td>\n",
              "    </tr>\n",
              "  </tbody>\n",
              "</table>\n",
              "</div>\n",
              "      <button class=\"colab-df-convert\" onclick=\"convertToInteractive('df-8d682377-f972-44a3-97dc-f087afc2a8e0')\"\n",
              "              title=\"Convert this dataframe to an interactive table.\"\n",
              "              style=\"display:none;\">\n",
              "        \n",
              "  <svg xmlns=\"http://www.w3.org/2000/svg\" height=\"24px\"viewBox=\"0 0 24 24\"\n",
              "       width=\"24px\">\n",
              "    <path d=\"M0 0h24v24H0V0z\" fill=\"none\"/>\n",
              "    <path d=\"M18.56 5.44l.94 2.06.94-2.06 2.06-.94-2.06-.94-.94-2.06-.94 2.06-2.06.94zm-11 1L8.5 8.5l.94-2.06 2.06-.94-2.06-.94L8.5 2.5l-.94 2.06-2.06.94zm10 10l.94 2.06.94-2.06 2.06-.94-2.06-.94-.94-2.06-.94 2.06-2.06.94z\"/><path d=\"M17.41 7.96l-1.37-1.37c-.4-.4-.92-.59-1.43-.59-.52 0-1.04.2-1.43.59L10.3 9.45l-7.72 7.72c-.78.78-.78 2.05 0 2.83L4 21.41c.39.39.9.59 1.41.59.51 0 1.02-.2 1.41-.59l7.78-7.78 2.81-2.81c.8-.78.8-2.07 0-2.86zM5.41 20L4 18.59l7.72-7.72 1.47 1.35L5.41 20z\"/>\n",
              "  </svg>\n",
              "      </button>\n",
              "      \n",
              "  <style>\n",
              "    .colab-df-container {\n",
              "      display:flex;\n",
              "      flex-wrap:wrap;\n",
              "      gap: 12px;\n",
              "    }\n",
              "\n",
              "    .colab-df-convert {\n",
              "      background-color: #E8F0FE;\n",
              "      border: none;\n",
              "      border-radius: 50%;\n",
              "      cursor: pointer;\n",
              "      display: none;\n",
              "      fill: #1967D2;\n",
              "      height: 32px;\n",
              "      padding: 0 0 0 0;\n",
              "      width: 32px;\n",
              "    }\n",
              "\n",
              "    .colab-df-convert:hover {\n",
              "      background-color: #E2EBFA;\n",
              "      box-shadow: 0px 1px 2px rgba(60, 64, 67, 0.3), 0px 1px 3px 1px rgba(60, 64, 67, 0.15);\n",
              "      fill: #174EA6;\n",
              "    }\n",
              "\n",
              "    [theme=dark] .colab-df-convert {\n",
              "      background-color: #3B4455;\n",
              "      fill: #D2E3FC;\n",
              "    }\n",
              "\n",
              "    [theme=dark] .colab-df-convert:hover {\n",
              "      background-color: #434B5C;\n",
              "      box-shadow: 0px 1px 3px 1px rgba(0, 0, 0, 0.15);\n",
              "      filter: drop-shadow(0px 1px 2px rgba(0, 0, 0, 0.3));\n",
              "      fill: #FFFFFF;\n",
              "    }\n",
              "  </style>\n",
              "\n",
              "      <script>\n",
              "        const buttonEl =\n",
              "          document.querySelector('#df-8d682377-f972-44a3-97dc-f087afc2a8e0 button.colab-df-convert');\n",
              "        buttonEl.style.display =\n",
              "          google.colab.kernel.accessAllowed ? 'block' : 'none';\n",
              "\n",
              "        async function convertToInteractive(key) {\n",
              "          const element = document.querySelector('#df-8d682377-f972-44a3-97dc-f087afc2a8e0');\n",
              "          const dataTable =\n",
              "            await google.colab.kernel.invokeFunction('convertToInteractive',\n",
              "                                                     [key], {});\n",
              "          if (!dataTable) return;\n",
              "\n",
              "          const docLinkHtml = 'Like what you see? Visit the ' +\n",
              "            '<a target=\"_blank\" href=https://colab.research.google.com/notebooks/data_table.ipynb>data table notebook</a>'\n",
              "            + ' to learn more about interactive tables.';\n",
              "          element.innerHTML = '';\n",
              "          dataTable['output_type'] = 'display_data';\n",
              "          await google.colab.output.renderOutput(dataTable, element);\n",
              "          const docLink = document.createElement('div');\n",
              "          docLink.innerHTML = docLinkHtml;\n",
              "          element.appendChild(docLink);\n",
              "        }\n",
              "      </script>\n",
              "    </div>\n",
              "  </div>\n",
              "  "
            ],
            "text/plain": [
              "                Name  Age M/F           City State Country Official Time  \\\n",
              "0   Kirui, Geoffrey    24   M       Keringet   NaN     KEN       2:09:37   \n",
              "1     Rupp, Galen      30   M       Portland    OR     USA       2:09:58   \n",
              "2    Osako, Suguru     25   M   Machida-City   NaN     JPN       2:10:28   \n",
              "3   Biwott, Shadrack   32   M  Mammoth Lakes    CA     USA       2:12:08   \n",
              "4     Chebet, Wilson   31   M       Marakwet   NaN     KEN       2:12:35   \n",
              "\n",
              "   Overall  Gender Years Ran  \n",
              "0        1       1       NaN  \n",
              "1        2       2       NaN  \n",
              "2        3       3       NaN  \n",
              "3        4       4       NaN  \n",
              "4        5       5      2015  "
            ]
          },
          "metadata": {},
          "execution_count": 31
        }
      ]
    },
    {
      "cell_type": "code",
      "metadata": {
        "id": "9xsLKTIqpFTJ",
        "colab": {
          "base_uri": "https://localhost:8080/"
        },
        "outputId": "18b46849-d145-43b0-e9f7-469345ded814"
      },
      "source": [
        "boston.City"
      ],
      "execution_count": 32,
      "outputs": [
        {
          "output_type": "execute_result",
          "data": {
            "text/plain": [
              "0           Keringet\n",
              "1           Portland\n",
              "2       Machida-City\n",
              "3      Mammoth Lakes\n",
              "4           Marakwet\n",
              "           ...      \n",
              "995    North Andover\n",
              "996          Raleigh\n",
              "997        Arlington\n",
              "998          Danbury\n",
              "999         Santa Fe\n",
              "Name: City, Length: 1000, dtype: object"
            ]
          },
          "metadata": {},
          "execution_count": 32
        }
      ]
    },
    {
      "cell_type": "code",
      "metadata": {
        "id": "S70wKlUSpUaF",
        "colab": {
          "base_uri": "https://localhost:8080/"
        },
        "outputId": "56515112-a7db-4e39-ea12-67e38f5df11e"
      },
      "source": [
        "boston.City.str.upper()"
      ],
      "execution_count": 33,
      "outputs": [
        {
          "output_type": "execute_result",
          "data": {
            "text/plain": [
              "0           KERINGET\n",
              "1           PORTLAND\n",
              "2       MACHIDA-CITY\n",
              "3      MAMMOTH LAKES\n",
              "4           MARAKWET\n",
              "           ...      \n",
              "995    NORTH ANDOVER\n",
              "996          RALEIGH\n",
              "997        ARLINGTON\n",
              "998          DANBURY\n",
              "999         SANTA FE\n",
              "Name: City, Length: 1000, dtype: object"
            ]
          },
          "metadata": {},
          "execution_count": 33
        }
      ]
    },
    {
      "cell_type": "code",
      "metadata": {
        "id": "olEjFqJdpbEp",
        "colab": {
          "base_uri": "https://localhost:8080/"
        },
        "outputId": "ee53a2c3-302f-4452-e15b-1dd68ba5f4f4"
      },
      "source": [
        "boston.City.str.lower()"
      ],
      "execution_count": 34,
      "outputs": [
        {
          "output_type": "execute_result",
          "data": {
            "text/plain": [
              "0           keringet\n",
              "1           portland\n",
              "2       machida-city\n",
              "3      mammoth lakes\n",
              "4           marakwet\n",
              "           ...      \n",
              "995    north andover\n",
              "996          raleigh\n",
              "997        arlington\n",
              "998          danbury\n",
              "999         santa fe\n",
              "Name: City, Length: 1000, dtype: object"
            ]
          },
          "metadata": {},
          "execution_count": 34
        }
      ]
    },
    {
      "cell_type": "code",
      "metadata": {
        "id": "qgbOdEIjplR_",
        "colab": {
          "base_uri": "https://localhost:8080/"
        },
        "outputId": "f0ad4fe1-309e-4ad9-8ad1-d87405ff2495"
      },
      "source": [
        "boston.City.str.swapcase()"
      ],
      "execution_count": 35,
      "outputs": [
        {
          "output_type": "execute_result",
          "data": {
            "text/plain": [
              "0           kERINGET\n",
              "1           pORTLAND\n",
              "2       mACHIDA-cITY\n",
              "3      mAMMOTH lAKES\n",
              "4           mARAKWET\n",
              "           ...      \n",
              "995    nORTH aNDOVER\n",
              "996          rALEIGH\n",
              "997        aRLINGTON\n",
              "998          dANBURY\n",
              "999         sANTA fE\n",
              "Name: City, Length: 1000, dtype: object"
            ]
          },
          "metadata": {},
          "execution_count": 35
        }
      ]
    },
    {
      "cell_type": "code",
      "metadata": {
        "id": "RwKRFpGzpndm",
        "colab": {
          "base_uri": "https://localhost:8080/"
        },
        "outputId": "8eb3606e-8255-4d63-85e1-d947ec441dc1"
      },
      "source": [
        "boston.City.str.capitalize()"
      ],
      "execution_count": 36,
      "outputs": [
        {
          "output_type": "execute_result",
          "data": {
            "text/plain": [
              "0           Keringet\n",
              "1           Portland\n",
              "2       Machida-city\n",
              "3      Mammoth lakes\n",
              "4           Marakwet\n",
              "           ...      \n",
              "995    North andover\n",
              "996          Raleigh\n",
              "997        Arlington\n",
              "998          Danbury\n",
              "999         Santa fe\n",
              "Name: City, Length: 1000, dtype: object"
            ]
          },
          "metadata": {},
          "execution_count": 36
        }
      ]
    },
    {
      "cell_type": "markdown",
      "metadata": {
        "id": "TDTD7Qumpuzl"
      },
      "source": [
        "#### Finding Characters And Words"
      ]
    },
    {
      "cell_type": "code",
      "metadata": {
        "id": "sZrV-C7E5v7f"
      },
      "source": [
        "# Agenda:\n",
        "#  - find()\n",
        "#  - rfind() in python and pandas"
      ],
      "execution_count": 37,
      "outputs": []
    },
    {
      "cell_type": "code",
      "metadata": {
        "id": "kvtR0_Jg6qG3",
        "colab": {
          "base_uri": "https://localhost:8080/",
          "height": 0
        },
        "outputId": "afba7591-5311-4959-e230-8947122898be"
      },
      "source": [
        "s"
      ],
      "execution_count": 38,
      "outputs": [
        {
          "output_type": "execute_result",
          "data": {
            "application/vnd.google.colaboratory.intrinsic+json": {
              "type": "string"
            },
            "text/plain": [
              "'Welcome to the text manipulation section'"
            ]
          },
          "metadata": {},
          "execution_count": 38
        }
      ]
    },
    {
      "cell_type": "code",
      "metadata": {
        "id": "hqIo9Kmu7dw6",
        "colab": {
          "base_uri": "https://localhost:8080/"
        },
        "outputId": "891b1c37-c40b-41cb-e5e1-e419f16cd3a1"
      },
      "source": [
        "s.find('x')"
      ],
      "execution_count": 39,
      "outputs": [
        {
          "output_type": "execute_result",
          "data": {
            "text/plain": [
              "17"
            ]
          },
          "metadata": {},
          "execution_count": 39
        }
      ]
    },
    {
      "cell_type": "code",
      "metadata": {
        "id": "TEH41lo47kd3",
        "colab": {
          "base_uri": "https://localhost:8080/",
          "height": 0
        },
        "outputId": "2d6573d3-3fba-4551-a63c-0c1db7b380b0"
      },
      "source": [
        "s[0]"
      ],
      "execution_count": 40,
      "outputs": [
        {
          "output_type": "execute_result",
          "data": {
            "application/vnd.google.colaboratory.intrinsic+json": {
              "type": "string"
            },
            "text/plain": [
              "'W'"
            ]
          },
          "metadata": {},
          "execution_count": 40
        }
      ]
    },
    {
      "cell_type": "code",
      "metadata": {
        "id": "z9rpu0x27p1V",
        "colab": {
          "base_uri": "https://localhost:8080/",
          "height": 0
        },
        "outputId": "26e682c3-7851-4531-8540-d4e79739a75f"
      },
      "source": [
        "s[1]"
      ],
      "execution_count": 41,
      "outputs": [
        {
          "output_type": "execute_result",
          "data": {
            "application/vnd.google.colaboratory.intrinsic+json": {
              "type": "string"
            },
            "text/plain": [
              "'e'"
            ]
          },
          "metadata": {},
          "execution_count": 41
        }
      ]
    },
    {
      "cell_type": "code",
      "metadata": {
        "id": "lEijYOWm7rg_",
        "colab": {
          "base_uri": "https://localhost:8080/",
          "height": 0
        },
        "outputId": "f9897e36-4b67-4ac5-a53a-81bd318b1908"
      },
      "source": [
        "s[2]"
      ],
      "execution_count": 42,
      "outputs": [
        {
          "output_type": "execute_result",
          "data": {
            "application/vnd.google.colaboratory.intrinsic+json": {
              "type": "string"
            },
            "text/plain": [
              "'l'"
            ]
          },
          "metadata": {},
          "execution_count": 42
        }
      ]
    },
    {
      "cell_type": "code",
      "metadata": {
        "id": "k2BvHbrq7sE4",
        "colab": {
          "base_uri": "https://localhost:8080/"
        },
        "outputId": "9d8b1633-d7d7-47ac-f7e0-0067ae7db953"
      },
      "source": [
        "s.find('text')"
      ],
      "execution_count": 43,
      "outputs": [
        {
          "output_type": "execute_result",
          "data": {
            "text/plain": [
              "15"
            ]
          },
          "metadata": {},
          "execution_count": 43
        }
      ]
    },
    {
      "cell_type": "code",
      "metadata": {
        "id": "9ZnFyf-37zCH",
        "colab": {
          "base_uri": "https://localhost:8080/"
        },
        "outputId": "d9f9bdbe-b1fe-422a-d5ac-5f8143d0de7a"
      },
      "source": [
        "s.find('soccer')"
      ],
      "execution_count": 44,
      "outputs": [
        {
          "output_type": "execute_result",
          "data": {
            "text/plain": [
              "-1"
            ]
          },
          "metadata": {},
          "execution_count": 44
        }
      ]
    },
    {
      "cell_type": "code",
      "metadata": {
        "id": "wKKVn2my73aL",
        "colab": {
          "base_uri": "https://localhost:8080/",
          "height": 0
        },
        "outputId": "6064cd6d-2577-4616-b2c3-8e46a787ad4d"
      },
      "source": [
        "boston.head()"
      ],
      "execution_count": 45,
      "outputs": [
        {
          "output_type": "execute_result",
          "data": {
            "text/html": [
              "\n",
              "  <div id=\"df-bc1b5b09-07f2-45ec-af48-40f7c285c7d0\">\n",
              "    <div class=\"colab-df-container\">\n",
              "      <div>\n",
              "<style scoped>\n",
              "    .dataframe tbody tr th:only-of-type {\n",
              "        vertical-align: middle;\n",
              "    }\n",
              "\n",
              "    .dataframe tbody tr th {\n",
              "        vertical-align: top;\n",
              "    }\n",
              "\n",
              "    .dataframe thead th {\n",
              "        text-align: right;\n",
              "    }\n",
              "</style>\n",
              "<table border=\"1\" class=\"dataframe\">\n",
              "  <thead>\n",
              "    <tr style=\"text-align: right;\">\n",
              "      <th></th>\n",
              "      <th>Name</th>\n",
              "      <th>Age</th>\n",
              "      <th>M/F</th>\n",
              "      <th>City</th>\n",
              "      <th>State</th>\n",
              "      <th>Country</th>\n",
              "      <th>Official Time</th>\n",
              "      <th>Overall</th>\n",
              "      <th>Gender</th>\n",
              "      <th>Years Ran</th>\n",
              "    </tr>\n",
              "  </thead>\n",
              "  <tbody>\n",
              "    <tr>\n",
              "      <th>0</th>\n",
              "      <td>Kirui, Geoffrey</td>\n",
              "      <td>24</td>\n",
              "      <td>M</td>\n",
              "      <td>Keringet</td>\n",
              "      <td>NaN</td>\n",
              "      <td>KEN</td>\n",
              "      <td>2:09:37</td>\n",
              "      <td>1</td>\n",
              "      <td>1</td>\n",
              "      <td>NaN</td>\n",
              "    </tr>\n",
              "    <tr>\n",
              "      <th>1</th>\n",
              "      <td>Rupp, Galen</td>\n",
              "      <td>30</td>\n",
              "      <td>M</td>\n",
              "      <td>Portland</td>\n",
              "      <td>OR</td>\n",
              "      <td>USA</td>\n",
              "      <td>2:09:58</td>\n",
              "      <td>2</td>\n",
              "      <td>2</td>\n",
              "      <td>NaN</td>\n",
              "    </tr>\n",
              "    <tr>\n",
              "      <th>2</th>\n",
              "      <td>Osako, Suguru</td>\n",
              "      <td>25</td>\n",
              "      <td>M</td>\n",
              "      <td>Machida-City</td>\n",
              "      <td>NaN</td>\n",
              "      <td>JPN</td>\n",
              "      <td>2:10:28</td>\n",
              "      <td>3</td>\n",
              "      <td>3</td>\n",
              "      <td>NaN</td>\n",
              "    </tr>\n",
              "    <tr>\n",
              "      <th>3</th>\n",
              "      <td>Biwott, Shadrack</td>\n",
              "      <td>32</td>\n",
              "      <td>M</td>\n",
              "      <td>Mammoth Lakes</td>\n",
              "      <td>CA</td>\n",
              "      <td>USA</td>\n",
              "      <td>2:12:08</td>\n",
              "      <td>4</td>\n",
              "      <td>4</td>\n",
              "      <td>NaN</td>\n",
              "    </tr>\n",
              "    <tr>\n",
              "      <th>4</th>\n",
              "      <td>Chebet, Wilson</td>\n",
              "      <td>31</td>\n",
              "      <td>M</td>\n",
              "      <td>Marakwet</td>\n",
              "      <td>NaN</td>\n",
              "      <td>KEN</td>\n",
              "      <td>2:12:35</td>\n",
              "      <td>5</td>\n",
              "      <td>5</td>\n",
              "      <td>2015</td>\n",
              "    </tr>\n",
              "  </tbody>\n",
              "</table>\n",
              "</div>\n",
              "      <button class=\"colab-df-convert\" onclick=\"convertToInteractive('df-bc1b5b09-07f2-45ec-af48-40f7c285c7d0')\"\n",
              "              title=\"Convert this dataframe to an interactive table.\"\n",
              "              style=\"display:none;\">\n",
              "        \n",
              "  <svg xmlns=\"http://www.w3.org/2000/svg\" height=\"24px\"viewBox=\"0 0 24 24\"\n",
              "       width=\"24px\">\n",
              "    <path d=\"M0 0h24v24H0V0z\" fill=\"none\"/>\n",
              "    <path d=\"M18.56 5.44l.94 2.06.94-2.06 2.06-.94-2.06-.94-.94-2.06-.94 2.06-2.06.94zm-11 1L8.5 8.5l.94-2.06 2.06-.94-2.06-.94L8.5 2.5l-.94 2.06-2.06.94zm10 10l.94 2.06.94-2.06 2.06-.94-2.06-.94-.94-2.06-.94 2.06-2.06.94z\"/><path d=\"M17.41 7.96l-1.37-1.37c-.4-.4-.92-.59-1.43-.59-.52 0-1.04.2-1.43.59L10.3 9.45l-7.72 7.72c-.78.78-.78 2.05 0 2.83L4 21.41c.39.39.9.59 1.41.59.51 0 1.02-.2 1.41-.59l7.78-7.78 2.81-2.81c.8-.78.8-2.07 0-2.86zM5.41 20L4 18.59l7.72-7.72 1.47 1.35L5.41 20z\"/>\n",
              "  </svg>\n",
              "      </button>\n",
              "      \n",
              "  <style>\n",
              "    .colab-df-container {\n",
              "      display:flex;\n",
              "      flex-wrap:wrap;\n",
              "      gap: 12px;\n",
              "    }\n",
              "\n",
              "    .colab-df-convert {\n",
              "      background-color: #E8F0FE;\n",
              "      border: none;\n",
              "      border-radius: 50%;\n",
              "      cursor: pointer;\n",
              "      display: none;\n",
              "      fill: #1967D2;\n",
              "      height: 32px;\n",
              "      padding: 0 0 0 0;\n",
              "      width: 32px;\n",
              "    }\n",
              "\n",
              "    .colab-df-convert:hover {\n",
              "      background-color: #E2EBFA;\n",
              "      box-shadow: 0px 1px 2px rgba(60, 64, 67, 0.3), 0px 1px 3px 1px rgba(60, 64, 67, 0.15);\n",
              "      fill: #174EA6;\n",
              "    }\n",
              "\n",
              "    [theme=dark] .colab-df-convert {\n",
              "      background-color: #3B4455;\n",
              "      fill: #D2E3FC;\n",
              "    }\n",
              "\n",
              "    [theme=dark] .colab-df-convert:hover {\n",
              "      background-color: #434B5C;\n",
              "      box-shadow: 0px 1px 3px 1px rgba(0, 0, 0, 0.15);\n",
              "      filter: drop-shadow(0px 1px 2px rgba(0, 0, 0, 0.3));\n",
              "      fill: #FFFFFF;\n",
              "    }\n",
              "  </style>\n",
              "\n",
              "      <script>\n",
              "        const buttonEl =\n",
              "          document.querySelector('#df-bc1b5b09-07f2-45ec-af48-40f7c285c7d0 button.colab-df-convert');\n",
              "        buttonEl.style.display =\n",
              "          google.colab.kernel.accessAllowed ? 'block' : 'none';\n",
              "\n",
              "        async function convertToInteractive(key) {\n",
              "          const element = document.querySelector('#df-bc1b5b09-07f2-45ec-af48-40f7c285c7d0');\n",
              "          const dataTable =\n",
              "            await google.colab.kernel.invokeFunction('convertToInteractive',\n",
              "                                                     [key], {});\n",
              "          if (!dataTable) return;\n",
              "\n",
              "          const docLinkHtml = 'Like what you see? Visit the ' +\n",
              "            '<a target=\"_blank\" href=https://colab.research.google.com/notebooks/data_table.ipynb>data table notebook</a>'\n",
              "            + ' to learn more about interactive tables.';\n",
              "          element.innerHTML = '';\n",
              "          dataTable['output_type'] = 'display_data';\n",
              "          await google.colab.output.renderOutput(dataTable, element);\n",
              "          const docLink = document.createElement('div');\n",
              "          docLink.innerHTML = docLinkHtml;\n",
              "          element.appendChild(docLink);\n",
              "        }\n",
              "      </script>\n",
              "    </div>\n",
              "  </div>\n",
              "  "
            ],
            "text/plain": [
              "                Name  Age M/F           City State Country Official Time  \\\n",
              "0   Kirui, Geoffrey    24   M       Keringet   NaN     KEN       2:09:37   \n",
              "1     Rupp, Galen      30   M       Portland    OR     USA       2:09:58   \n",
              "2    Osako, Suguru     25   M   Machida-City   NaN     JPN       2:10:28   \n",
              "3   Biwott, Shadrack   32   M  Mammoth Lakes    CA     USA       2:12:08   \n",
              "4     Chebet, Wilson   31   M       Marakwet   NaN     KEN       2:12:35   \n",
              "\n",
              "   Overall  Gender Years Ran  \n",
              "0        1       1       NaN  \n",
              "1        2       2       NaN  \n",
              "2        3       3       NaN  \n",
              "3        4       4       NaN  \n",
              "4        5       5      2015  "
            ]
          },
          "metadata": {},
          "execution_count": 45
        }
      ]
    },
    {
      "cell_type": "code",
      "metadata": {
        "id": "vvPUYC2U78Qd",
        "colab": {
          "base_uri": "https://localhost:8080/"
        },
        "outputId": "5f63539e-7082-40b7-d8cb-a08f707475ff"
      },
      "source": [
        "boston.Name.str.find('Andy').value_counts()"
      ],
      "execution_count": 46,
      "outputs": [
        {
          "output_type": "execute_result",
          "data": {
            "text/plain": [
              "-1     998\n",
              " 8       1\n",
              " 12      1\n",
              "Name: Name, dtype: int64"
            ]
          },
          "metadata": {},
          "execution_count": 46
        }
      ]
    },
    {
      "cell_type": "code",
      "metadata": {
        "id": "B7b-wb8_8DSg",
        "colab": {
          "base_uri": "https://localhost:8080/"
        },
        "outputId": "098c46ff-405b-4401-babe-5b122dbe4f48"
      },
      "source": [
        "boston.Name.str.find('James').value_counts()"
      ],
      "execution_count": 47,
      "outputs": [
        {
          "output_type": "execute_result",
          "data": {
            "text/plain": [
              "-1     988\n",
              " 8       3\n",
              " 10      3\n",
              " 7       2\n",
              " 9       2\n",
              " 12      1\n",
              " 6       1\n",
              "Name: Name, dtype: int64"
            ]
          },
          "metadata": {},
          "execution_count": 47
        }
      ]
    },
    {
      "cell_type": "code",
      "metadata": {
        "id": "3Q24z2MI8VF1"
      },
      "source": [
        "p = 'pandas numpy numpy pandas'"
      ],
      "execution_count": 48,
      "outputs": []
    },
    {
      "cell_type": "code",
      "metadata": {
        "id": "0zDzkX9Q8gji",
        "colab": {
          "base_uri": "https://localhost:8080/"
        },
        "outputId": "d6c2265a-23f6-433c-b93d-c5e800b7bea1"
      },
      "source": [
        "p.find('pandas')"
      ],
      "execution_count": 49,
      "outputs": [
        {
          "output_type": "execute_result",
          "data": {
            "text/plain": [
              "0"
            ]
          },
          "metadata": {},
          "execution_count": 49
        }
      ]
    },
    {
      "cell_type": "code",
      "metadata": {
        "id": "uflNSZ4j8idL",
        "colab": {
          "base_uri": "https://localhost:8080/"
        },
        "outputId": "b7eea089-7937-436f-ca37-e94d9233c09f"
      },
      "source": [
        "p.rfind('pandas')"
      ],
      "execution_count": 50,
      "outputs": [
        {
          "output_type": "execute_result",
          "data": {
            "text/plain": [
              "19"
            ]
          },
          "metadata": {},
          "execution_count": 50
        }
      ]
    },
    {
      "cell_type": "code",
      "metadata": {
        "id": "s2KbvIcd8qvK",
        "colab": {
          "base_uri": "https://localhost:8080/",
          "height": 0
        },
        "outputId": "43170b6c-eda6-4e1c-bdf9-ff63c104e664"
      },
      "source": [
        "p[19:]"
      ],
      "execution_count": 51,
      "outputs": [
        {
          "output_type": "execute_result",
          "data": {
            "application/vnd.google.colaboratory.intrinsic+json": {
              "type": "string"
            },
            "text/plain": [
              "'pandas'"
            ]
          },
          "metadata": {},
          "execution_count": 51
        }
      ]
    },
    {
      "cell_type": "markdown",
      "metadata": {
        "id": "iUdsascK8v1K"
      },
      "source": [
        "#### Strips And Whitespace"
      ]
    },
    {
      "cell_type": "code",
      "metadata": {
        "id": "s9iegLae9x-i"
      },
      "source": [
        "# Agenda: \n",
        "# - isspace()\n",
        "# - lstrip()\n",
        "# - rstrip()\n",
        "# - strip()"
      ],
      "execution_count": 52,
      "outputs": []
    },
    {
      "cell_type": "code",
      "metadata": {
        "id": "zYTAVIBv9ORo",
        "colab": {
          "base_uri": "https://localhost:8080/"
        },
        "outputId": "ec32ceae-e58f-4e4d-e772-c70f2dd98e55"
      },
      "source": [
        "print('pandas', '\\tnumpy')"
      ],
      "execution_count": 53,
      "outputs": [
        {
          "output_type": "stream",
          "name": "stdout",
          "text": [
            "pandas \tnumpy\n"
          ]
        }
      ]
    },
    {
      "cell_type": "code",
      "metadata": {
        "id": "NOWQbEI69dPU",
        "colab": {
          "base_uri": "https://localhost:8080/"
        },
        "outputId": "bb9f6d3d-b88e-489c-9965-5244e84ac11e"
      },
      "source": [
        "print('pandas', '\\npython')"
      ],
      "execution_count": 54,
      "outputs": [
        {
          "output_type": "stream",
          "name": "stdout",
          "text": [
            "pandas \n",
            "python\n"
          ]
        }
      ]
    },
    {
      "cell_type": "code",
      "metadata": {
        "id": "siapF1Cw9fLX",
        "colab": {
          "base_uri": "https://localhost:8080/"
        },
        "outputId": "4afdc36f-454a-4731-c220-44e702db7983"
      },
      "source": [
        "' '.isspace()"
      ],
      "execution_count": 55,
      "outputs": [
        {
          "output_type": "execute_result",
          "data": {
            "text/plain": [
              "True"
            ]
          },
          "metadata": {},
          "execution_count": 55
        }
      ]
    },
    {
      "cell_type": "code",
      "metadata": {
        "id": "zrklGX6P_kfV",
        "colab": {
          "base_uri": "https://localhost:8080/"
        },
        "outputId": "83c21403-90f3-4213-fc20-8bda032698b9"
      },
      "source": [
        "'\\n'.isspace()"
      ],
      "execution_count": 56,
      "outputs": [
        {
          "output_type": "execute_result",
          "data": {
            "text/plain": [
              "True"
            ]
          },
          "metadata": {},
          "execution_count": 56
        }
      ]
    },
    {
      "cell_type": "code",
      "metadata": {
        "id": "WmkGYEXN_nuL",
        "colab": {
          "base_uri": "https://localhost:8080/"
        },
        "outputId": "d36c48ae-310a-46a2-cd39-b8f4c1ef5918"
      },
      "source": [
        "'\\t'.isspace()"
      ],
      "execution_count": 57,
      "outputs": [
        {
          "output_type": "execute_result",
          "data": {
            "text/plain": [
              "True"
            ]
          },
          "metadata": {},
          "execution_count": 57
        }
      ]
    },
    {
      "cell_type": "code",
      "metadata": {
        "id": "fPl3HAlm_qqe"
      },
      "source": [
        "left_spaced = '    this is a pandas course'"
      ],
      "execution_count": 58,
      "outputs": []
    },
    {
      "cell_type": "code",
      "metadata": {
        "id": "9UiXyIAm_v2E"
      },
      "source": [
        "right_spaced = 'we cover plenty of python too!    '"
      ],
      "execution_count": 59,
      "outputs": []
    },
    {
      "cell_type": "code",
      "metadata": {
        "id": "a-xpxJ7x_yX0"
      },
      "source": [
        "spaced = '  the name is: BOND \\t JAMES BOND \\n\\n'"
      ],
      "execution_count": 60,
      "outputs": []
    },
    {
      "cell_type": "code",
      "metadata": {
        "id": "rx66gp1x_3bw",
        "colab": {
          "base_uri": "https://localhost:8080/"
        },
        "outputId": "0738d7b1-5a70-40c0-f9cc-e3542bedf4e0"
      },
      "source": [
        "print(left_spaced)"
      ],
      "execution_count": 61,
      "outputs": [
        {
          "output_type": "stream",
          "name": "stdout",
          "text": [
            "    this is a pandas course\n"
          ]
        }
      ]
    },
    {
      "cell_type": "code",
      "metadata": {
        "id": "ixJYkYCt_6z_",
        "colab": {
          "base_uri": "https://localhost:8080/"
        },
        "outputId": "a5cc0864-22b9-44b7-8ade-e3817cd1f6bb"
      },
      "source": [
        "print(spaced)"
      ],
      "execution_count": 62,
      "outputs": [
        {
          "output_type": "stream",
          "name": "stdout",
          "text": [
            "  the name is: BOND \t JAMES BOND \n",
            "\n",
            "\n"
          ]
        }
      ]
    },
    {
      "cell_type": "code",
      "metadata": {
        "id": "I60-qvOQAAhF",
        "colab": {
          "base_uri": "https://localhost:8080/",
          "height": 0
        },
        "outputId": "9211c61d-8a60-4ca4-85c2-036f67b9e774"
      },
      "source": [
        "left_spaced.lstrip()"
      ],
      "execution_count": 63,
      "outputs": [
        {
          "output_type": "execute_result",
          "data": {
            "application/vnd.google.colaboratory.intrinsic+json": {
              "type": "string"
            },
            "text/plain": [
              "'this is a pandas course'"
            ]
          },
          "metadata": {},
          "execution_count": 63
        }
      ]
    },
    {
      "cell_type": "code",
      "metadata": {
        "id": "cCQzWcDnAPmc",
        "colab": {
          "base_uri": "https://localhost:8080/",
          "height": 0
        },
        "outputId": "64e6e70e-a15e-4018-9a11-ce611488e460"
      },
      "source": [
        "right_spaced.rstrip()"
      ],
      "execution_count": 64,
      "outputs": [
        {
          "output_type": "execute_result",
          "data": {
            "application/vnd.google.colaboratory.intrinsic+json": {
              "type": "string"
            },
            "text/plain": [
              "'we cover plenty of python too!'"
            ]
          },
          "metadata": {},
          "execution_count": 64
        }
      ]
    },
    {
      "cell_type": "code",
      "metadata": {
        "id": "Ce-UFC9PAT2m",
        "colab": {
          "base_uri": "https://localhost:8080/",
          "height": 0
        },
        "outputId": "cbcf8c56-9ad8-4ce9-9985-9e575debbd14"
      },
      "source": [
        "spaced.strip()"
      ],
      "execution_count": 65,
      "outputs": [
        {
          "output_type": "execute_result",
          "data": {
            "application/vnd.google.colaboratory.intrinsic+json": {
              "type": "string"
            },
            "text/plain": [
              "'the name is: BOND \\t JAMES BOND'"
            ]
          },
          "metadata": {},
          "execution_count": 65
        }
      ]
    },
    {
      "cell_type": "code",
      "metadata": {
        "id": "0fX_QKBmAYDx",
        "colab": {
          "base_uri": "https://localhost:8080/",
          "height": 0
        },
        "outputId": "92a8fd99-b1e1-4295-8322-044bb9835055"
      },
      "source": [
        "boston.head()"
      ],
      "execution_count": 66,
      "outputs": [
        {
          "output_type": "execute_result",
          "data": {
            "text/html": [
              "\n",
              "  <div id=\"df-73217dce-6b61-4721-806d-885971bf45f4\">\n",
              "    <div class=\"colab-df-container\">\n",
              "      <div>\n",
              "<style scoped>\n",
              "    .dataframe tbody tr th:only-of-type {\n",
              "        vertical-align: middle;\n",
              "    }\n",
              "\n",
              "    .dataframe tbody tr th {\n",
              "        vertical-align: top;\n",
              "    }\n",
              "\n",
              "    .dataframe thead th {\n",
              "        text-align: right;\n",
              "    }\n",
              "</style>\n",
              "<table border=\"1\" class=\"dataframe\">\n",
              "  <thead>\n",
              "    <tr style=\"text-align: right;\">\n",
              "      <th></th>\n",
              "      <th>Name</th>\n",
              "      <th>Age</th>\n",
              "      <th>M/F</th>\n",
              "      <th>City</th>\n",
              "      <th>State</th>\n",
              "      <th>Country</th>\n",
              "      <th>Official Time</th>\n",
              "      <th>Overall</th>\n",
              "      <th>Gender</th>\n",
              "      <th>Years Ran</th>\n",
              "    </tr>\n",
              "  </thead>\n",
              "  <tbody>\n",
              "    <tr>\n",
              "      <th>0</th>\n",
              "      <td>Kirui, Geoffrey</td>\n",
              "      <td>24</td>\n",
              "      <td>M</td>\n",
              "      <td>Keringet</td>\n",
              "      <td>NaN</td>\n",
              "      <td>KEN</td>\n",
              "      <td>2:09:37</td>\n",
              "      <td>1</td>\n",
              "      <td>1</td>\n",
              "      <td>NaN</td>\n",
              "    </tr>\n",
              "    <tr>\n",
              "      <th>1</th>\n",
              "      <td>Rupp, Galen</td>\n",
              "      <td>30</td>\n",
              "      <td>M</td>\n",
              "      <td>Portland</td>\n",
              "      <td>OR</td>\n",
              "      <td>USA</td>\n",
              "      <td>2:09:58</td>\n",
              "      <td>2</td>\n",
              "      <td>2</td>\n",
              "      <td>NaN</td>\n",
              "    </tr>\n",
              "    <tr>\n",
              "      <th>2</th>\n",
              "      <td>Osako, Suguru</td>\n",
              "      <td>25</td>\n",
              "      <td>M</td>\n",
              "      <td>Machida-City</td>\n",
              "      <td>NaN</td>\n",
              "      <td>JPN</td>\n",
              "      <td>2:10:28</td>\n",
              "      <td>3</td>\n",
              "      <td>3</td>\n",
              "      <td>NaN</td>\n",
              "    </tr>\n",
              "    <tr>\n",
              "      <th>3</th>\n",
              "      <td>Biwott, Shadrack</td>\n",
              "      <td>32</td>\n",
              "      <td>M</td>\n",
              "      <td>Mammoth Lakes</td>\n",
              "      <td>CA</td>\n",
              "      <td>USA</td>\n",
              "      <td>2:12:08</td>\n",
              "      <td>4</td>\n",
              "      <td>4</td>\n",
              "      <td>NaN</td>\n",
              "    </tr>\n",
              "    <tr>\n",
              "      <th>4</th>\n",
              "      <td>Chebet, Wilson</td>\n",
              "      <td>31</td>\n",
              "      <td>M</td>\n",
              "      <td>Marakwet</td>\n",
              "      <td>NaN</td>\n",
              "      <td>KEN</td>\n",
              "      <td>2:12:35</td>\n",
              "      <td>5</td>\n",
              "      <td>5</td>\n",
              "      <td>2015</td>\n",
              "    </tr>\n",
              "  </tbody>\n",
              "</table>\n",
              "</div>\n",
              "      <button class=\"colab-df-convert\" onclick=\"convertToInteractive('df-73217dce-6b61-4721-806d-885971bf45f4')\"\n",
              "              title=\"Convert this dataframe to an interactive table.\"\n",
              "              style=\"display:none;\">\n",
              "        \n",
              "  <svg xmlns=\"http://www.w3.org/2000/svg\" height=\"24px\"viewBox=\"0 0 24 24\"\n",
              "       width=\"24px\">\n",
              "    <path d=\"M0 0h24v24H0V0z\" fill=\"none\"/>\n",
              "    <path d=\"M18.56 5.44l.94 2.06.94-2.06 2.06-.94-2.06-.94-.94-2.06-.94 2.06-2.06.94zm-11 1L8.5 8.5l.94-2.06 2.06-.94-2.06-.94L8.5 2.5l-.94 2.06-2.06.94zm10 10l.94 2.06.94-2.06 2.06-.94-2.06-.94-.94-2.06-.94 2.06-2.06.94z\"/><path d=\"M17.41 7.96l-1.37-1.37c-.4-.4-.92-.59-1.43-.59-.52 0-1.04.2-1.43.59L10.3 9.45l-7.72 7.72c-.78.78-.78 2.05 0 2.83L4 21.41c.39.39.9.59 1.41.59.51 0 1.02-.2 1.41-.59l7.78-7.78 2.81-2.81c.8-.78.8-2.07 0-2.86zM5.41 20L4 18.59l7.72-7.72 1.47 1.35L5.41 20z\"/>\n",
              "  </svg>\n",
              "      </button>\n",
              "      \n",
              "  <style>\n",
              "    .colab-df-container {\n",
              "      display:flex;\n",
              "      flex-wrap:wrap;\n",
              "      gap: 12px;\n",
              "    }\n",
              "\n",
              "    .colab-df-convert {\n",
              "      background-color: #E8F0FE;\n",
              "      border: none;\n",
              "      border-radius: 50%;\n",
              "      cursor: pointer;\n",
              "      display: none;\n",
              "      fill: #1967D2;\n",
              "      height: 32px;\n",
              "      padding: 0 0 0 0;\n",
              "      width: 32px;\n",
              "    }\n",
              "\n",
              "    .colab-df-convert:hover {\n",
              "      background-color: #E2EBFA;\n",
              "      box-shadow: 0px 1px 2px rgba(60, 64, 67, 0.3), 0px 1px 3px 1px rgba(60, 64, 67, 0.15);\n",
              "      fill: #174EA6;\n",
              "    }\n",
              "\n",
              "    [theme=dark] .colab-df-convert {\n",
              "      background-color: #3B4455;\n",
              "      fill: #D2E3FC;\n",
              "    }\n",
              "\n",
              "    [theme=dark] .colab-df-convert:hover {\n",
              "      background-color: #434B5C;\n",
              "      box-shadow: 0px 1px 3px 1px rgba(0, 0, 0, 0.15);\n",
              "      filter: drop-shadow(0px 1px 2px rgba(0, 0, 0, 0.3));\n",
              "      fill: #FFFFFF;\n",
              "    }\n",
              "  </style>\n",
              "\n",
              "      <script>\n",
              "        const buttonEl =\n",
              "          document.querySelector('#df-73217dce-6b61-4721-806d-885971bf45f4 button.colab-df-convert');\n",
              "        buttonEl.style.display =\n",
              "          google.colab.kernel.accessAllowed ? 'block' : 'none';\n",
              "\n",
              "        async function convertToInteractive(key) {\n",
              "          const element = document.querySelector('#df-73217dce-6b61-4721-806d-885971bf45f4');\n",
              "          const dataTable =\n",
              "            await google.colab.kernel.invokeFunction('convertToInteractive',\n",
              "                                                     [key], {});\n",
              "          if (!dataTable) return;\n",
              "\n",
              "          const docLinkHtml = 'Like what you see? Visit the ' +\n",
              "            '<a target=\"_blank\" href=https://colab.research.google.com/notebooks/data_table.ipynb>data table notebook</a>'\n",
              "            + ' to learn more about interactive tables.';\n",
              "          element.innerHTML = '';\n",
              "          dataTable['output_type'] = 'display_data';\n",
              "          await google.colab.output.renderOutput(dataTable, element);\n",
              "          const docLink = document.createElement('div');\n",
              "          docLink.innerHTML = docLinkHtml;\n",
              "          element.appendChild(docLink);\n",
              "        }\n",
              "      </script>\n",
              "    </div>\n",
              "  </div>\n",
              "  "
            ],
            "text/plain": [
              "                Name  Age M/F           City State Country Official Time  \\\n",
              "0   Kirui, Geoffrey    24   M       Keringet   NaN     KEN       2:09:37   \n",
              "1     Rupp, Galen      30   M       Portland    OR     USA       2:09:58   \n",
              "2    Osako, Suguru     25   M   Machida-City   NaN     JPN       2:10:28   \n",
              "3   Biwott, Shadrack   32   M  Mammoth Lakes    CA     USA       2:12:08   \n",
              "4     Chebet, Wilson   31   M       Marakwet   NaN     KEN       2:12:35   \n",
              "\n",
              "   Overall  Gender Years Ran  \n",
              "0        1       1       NaN  \n",
              "1        2       2       NaN  \n",
              "2        3       3       NaN  \n",
              "3        4       4       NaN  \n",
              "4        5       5      2015  "
            ]
          },
          "metadata": {},
          "execution_count": 66
        }
      ]
    },
    {
      "cell_type": "code",
      "metadata": {
        "id": "Pb2TtPfJAlcQ",
        "colab": {
          "base_uri": "https://localhost:8080/",
          "height": 0
        },
        "outputId": "b36d094b-f6b6-4865-f926-95bf8fe91d0e"
      },
      "source": [
        "boston.Name.iloc[0]"
      ],
      "execution_count": 67,
      "outputs": [
        {
          "output_type": "execute_result",
          "data": {
            "application/vnd.google.colaboratory.intrinsic+json": {
              "type": "string"
            },
            "text/plain": [
              "' Kirui, Geoffrey '"
            ]
          },
          "metadata": {},
          "execution_count": 67
        }
      ]
    },
    {
      "cell_type": "code",
      "metadata": {
        "id": "0ESHDETDAo_s",
        "colab": {
          "base_uri": "https://localhost:8080/",
          "height": 0
        },
        "outputId": "13ba3a69-53b3-4847-d2d1-1c48785401f1"
      },
      "source": [
        "boston.Name.iloc[1]"
      ],
      "execution_count": 68,
      "outputs": [
        {
          "output_type": "execute_result",
          "data": {
            "application/vnd.google.colaboratory.intrinsic+json": {
              "type": "string"
            },
            "text/plain": [
              "'Rupp, Galen   '"
            ]
          },
          "metadata": {},
          "execution_count": 68
        }
      ]
    },
    {
      "cell_type": "code",
      "metadata": {
        "id": "cjri03NLAsBm",
        "colab": {
          "base_uri": "https://localhost:8080/"
        },
        "outputId": "67b54a3f-9fc5-4cf6-edba-00aa7444e1fd"
      },
      "source": [
        "boston.Name.iloc[0:2].str.strip()"
      ],
      "execution_count": 69,
      "outputs": [
        {
          "output_type": "execute_result",
          "data": {
            "text/plain": [
              "0    Kirui, Geoffrey\n",
              "1        Rupp, Galen\n",
              "Name: Name, dtype: object"
            ]
          },
          "metadata": {},
          "execution_count": 69
        }
      ]
    },
    {
      "cell_type": "code",
      "metadata": {
        "id": "x1efc3tFAxua"
      },
      "source": [
        "boston.Name = boston.Name.str.strip()"
      ],
      "execution_count": 70,
      "outputs": []
    },
    {
      "cell_type": "code",
      "metadata": {
        "id": "lQ1kAE6UA7Ll",
        "colab": {
          "base_uri": "https://localhost:8080/",
          "height": 0
        },
        "outputId": "f2d49932-5927-4f9f-db31-235068c24f09"
      },
      "source": [
        "boston.head()"
      ],
      "execution_count": 71,
      "outputs": [
        {
          "output_type": "execute_result",
          "data": {
            "text/html": [
              "\n",
              "  <div id=\"df-3a738f70-cd6f-4afd-8989-c08c6ceecf7a\">\n",
              "    <div class=\"colab-df-container\">\n",
              "      <div>\n",
              "<style scoped>\n",
              "    .dataframe tbody tr th:only-of-type {\n",
              "        vertical-align: middle;\n",
              "    }\n",
              "\n",
              "    .dataframe tbody tr th {\n",
              "        vertical-align: top;\n",
              "    }\n",
              "\n",
              "    .dataframe thead th {\n",
              "        text-align: right;\n",
              "    }\n",
              "</style>\n",
              "<table border=\"1\" class=\"dataframe\">\n",
              "  <thead>\n",
              "    <tr style=\"text-align: right;\">\n",
              "      <th></th>\n",
              "      <th>Name</th>\n",
              "      <th>Age</th>\n",
              "      <th>M/F</th>\n",
              "      <th>City</th>\n",
              "      <th>State</th>\n",
              "      <th>Country</th>\n",
              "      <th>Official Time</th>\n",
              "      <th>Overall</th>\n",
              "      <th>Gender</th>\n",
              "      <th>Years Ran</th>\n",
              "    </tr>\n",
              "  </thead>\n",
              "  <tbody>\n",
              "    <tr>\n",
              "      <th>0</th>\n",
              "      <td>Kirui, Geoffrey</td>\n",
              "      <td>24</td>\n",
              "      <td>M</td>\n",
              "      <td>Keringet</td>\n",
              "      <td>NaN</td>\n",
              "      <td>KEN</td>\n",
              "      <td>2:09:37</td>\n",
              "      <td>1</td>\n",
              "      <td>1</td>\n",
              "      <td>NaN</td>\n",
              "    </tr>\n",
              "    <tr>\n",
              "      <th>1</th>\n",
              "      <td>Rupp, Galen</td>\n",
              "      <td>30</td>\n",
              "      <td>M</td>\n",
              "      <td>Portland</td>\n",
              "      <td>OR</td>\n",
              "      <td>USA</td>\n",
              "      <td>2:09:58</td>\n",
              "      <td>2</td>\n",
              "      <td>2</td>\n",
              "      <td>NaN</td>\n",
              "    </tr>\n",
              "    <tr>\n",
              "      <th>2</th>\n",
              "      <td>Osako, Suguru</td>\n",
              "      <td>25</td>\n",
              "      <td>M</td>\n",
              "      <td>Machida-City</td>\n",
              "      <td>NaN</td>\n",
              "      <td>JPN</td>\n",
              "      <td>2:10:28</td>\n",
              "      <td>3</td>\n",
              "      <td>3</td>\n",
              "      <td>NaN</td>\n",
              "    </tr>\n",
              "    <tr>\n",
              "      <th>3</th>\n",
              "      <td>Biwott, Shadrack</td>\n",
              "      <td>32</td>\n",
              "      <td>M</td>\n",
              "      <td>Mammoth Lakes</td>\n",
              "      <td>CA</td>\n",
              "      <td>USA</td>\n",
              "      <td>2:12:08</td>\n",
              "      <td>4</td>\n",
              "      <td>4</td>\n",
              "      <td>NaN</td>\n",
              "    </tr>\n",
              "    <tr>\n",
              "      <th>4</th>\n",
              "      <td>Chebet, Wilson</td>\n",
              "      <td>31</td>\n",
              "      <td>M</td>\n",
              "      <td>Marakwet</td>\n",
              "      <td>NaN</td>\n",
              "      <td>KEN</td>\n",
              "      <td>2:12:35</td>\n",
              "      <td>5</td>\n",
              "      <td>5</td>\n",
              "      <td>2015</td>\n",
              "    </tr>\n",
              "  </tbody>\n",
              "</table>\n",
              "</div>\n",
              "      <button class=\"colab-df-convert\" onclick=\"convertToInteractive('df-3a738f70-cd6f-4afd-8989-c08c6ceecf7a')\"\n",
              "              title=\"Convert this dataframe to an interactive table.\"\n",
              "              style=\"display:none;\">\n",
              "        \n",
              "  <svg xmlns=\"http://www.w3.org/2000/svg\" height=\"24px\"viewBox=\"0 0 24 24\"\n",
              "       width=\"24px\">\n",
              "    <path d=\"M0 0h24v24H0V0z\" fill=\"none\"/>\n",
              "    <path d=\"M18.56 5.44l.94 2.06.94-2.06 2.06-.94-2.06-.94-.94-2.06-.94 2.06-2.06.94zm-11 1L8.5 8.5l.94-2.06 2.06-.94-2.06-.94L8.5 2.5l-.94 2.06-2.06.94zm10 10l.94 2.06.94-2.06 2.06-.94-2.06-.94-.94-2.06-.94 2.06-2.06.94z\"/><path d=\"M17.41 7.96l-1.37-1.37c-.4-.4-.92-.59-1.43-.59-.52 0-1.04.2-1.43.59L10.3 9.45l-7.72 7.72c-.78.78-.78 2.05 0 2.83L4 21.41c.39.39.9.59 1.41.59.51 0 1.02-.2 1.41-.59l7.78-7.78 2.81-2.81c.8-.78.8-2.07 0-2.86zM5.41 20L4 18.59l7.72-7.72 1.47 1.35L5.41 20z\"/>\n",
              "  </svg>\n",
              "      </button>\n",
              "      \n",
              "  <style>\n",
              "    .colab-df-container {\n",
              "      display:flex;\n",
              "      flex-wrap:wrap;\n",
              "      gap: 12px;\n",
              "    }\n",
              "\n",
              "    .colab-df-convert {\n",
              "      background-color: #E8F0FE;\n",
              "      border: none;\n",
              "      border-radius: 50%;\n",
              "      cursor: pointer;\n",
              "      display: none;\n",
              "      fill: #1967D2;\n",
              "      height: 32px;\n",
              "      padding: 0 0 0 0;\n",
              "      width: 32px;\n",
              "    }\n",
              "\n",
              "    .colab-df-convert:hover {\n",
              "      background-color: #E2EBFA;\n",
              "      box-shadow: 0px 1px 2px rgba(60, 64, 67, 0.3), 0px 1px 3px 1px rgba(60, 64, 67, 0.15);\n",
              "      fill: #174EA6;\n",
              "    }\n",
              "\n",
              "    [theme=dark] .colab-df-convert {\n",
              "      background-color: #3B4455;\n",
              "      fill: #D2E3FC;\n",
              "    }\n",
              "\n",
              "    [theme=dark] .colab-df-convert:hover {\n",
              "      background-color: #434B5C;\n",
              "      box-shadow: 0px 1px 3px 1px rgba(0, 0, 0, 0.15);\n",
              "      filter: drop-shadow(0px 1px 2px rgba(0, 0, 0, 0.3));\n",
              "      fill: #FFFFFF;\n",
              "    }\n",
              "  </style>\n",
              "\n",
              "      <script>\n",
              "        const buttonEl =\n",
              "          document.querySelector('#df-3a738f70-cd6f-4afd-8989-c08c6ceecf7a button.colab-df-convert');\n",
              "        buttonEl.style.display =\n",
              "          google.colab.kernel.accessAllowed ? 'block' : 'none';\n",
              "\n",
              "        async function convertToInteractive(key) {\n",
              "          const element = document.querySelector('#df-3a738f70-cd6f-4afd-8989-c08c6ceecf7a');\n",
              "          const dataTable =\n",
              "            await google.colab.kernel.invokeFunction('convertToInteractive',\n",
              "                                                     [key], {});\n",
              "          if (!dataTable) return;\n",
              "\n",
              "          const docLinkHtml = 'Like what you see? Visit the ' +\n",
              "            '<a target=\"_blank\" href=https://colab.research.google.com/notebooks/data_table.ipynb>data table notebook</a>'\n",
              "            + ' to learn more about interactive tables.';\n",
              "          element.innerHTML = '';\n",
              "          dataTable['output_type'] = 'display_data';\n",
              "          await google.colab.output.renderOutput(dataTable, element);\n",
              "          const docLink = document.createElement('div');\n",
              "          docLink.innerHTML = docLinkHtml;\n",
              "          element.appendChild(docLink);\n",
              "        }\n",
              "      </script>\n",
              "    </div>\n",
              "  </div>\n",
              "  "
            ],
            "text/plain": [
              "               Name  Age M/F           City State Country Official Time  \\\n",
              "0   Kirui, Geoffrey   24   M       Keringet   NaN     KEN       2:09:37   \n",
              "1       Rupp, Galen   30   M       Portland    OR     USA       2:09:58   \n",
              "2     Osako, Suguru   25   M   Machida-City   NaN     JPN       2:10:28   \n",
              "3  Biwott, Shadrack   32   M  Mammoth Lakes    CA     USA       2:12:08   \n",
              "4    Chebet, Wilson   31   M       Marakwet   NaN     KEN       2:12:35   \n",
              "\n",
              "   Overall  Gender Years Ran  \n",
              "0        1       1       NaN  \n",
              "1        2       2       NaN  \n",
              "2        3       3       NaN  \n",
              "3        4       4       NaN  \n",
              "4        5       5      2015  "
            ]
          },
          "metadata": {},
          "execution_count": 71
        }
      ]
    },
    {
      "cell_type": "code",
      "metadata": {
        "id": "LFHAxV4LA8O2",
        "colab": {
          "base_uri": "https://localhost:8080/",
          "height": 0
        },
        "outputId": "f8fb558f-53e3-4b70-e507-07980fd65f31"
      },
      "source": [
        "boston.Name.iloc[0]"
      ],
      "execution_count": 72,
      "outputs": [
        {
          "output_type": "execute_result",
          "data": {
            "application/vnd.google.colaboratory.intrinsic+json": {
              "type": "string"
            },
            "text/plain": [
              "'Kirui, Geoffrey'"
            ]
          },
          "metadata": {},
          "execution_count": 72
        }
      ]
    },
    {
      "cell_type": "markdown",
      "metadata": {
        "id": "8tanSPw6A-gZ"
      },
      "source": [
        "#### String Splitting And Concatenation"
      ]
    },
    {
      "cell_type": "code",
      "metadata": {
        "id": "rsXhn8KOBo6E"
      },
      "source": [
        "# Agenda:\n",
        "#  - split()\n",
        "#  - get()\n",
        "#  - cat()"
      ],
      "execution_count": 73,
      "outputs": []
    },
    {
      "cell_type": "code",
      "metadata": {
        "id": "ekpfPSPfGl9s",
        "colab": {
          "base_uri": "https://localhost:8080/",
          "height": 0
        },
        "outputId": "83211c94-1b3f-4359-d2dd-84fa37f499d3"
      },
      "source": [
        "s"
      ],
      "execution_count": 74,
      "outputs": [
        {
          "output_type": "execute_result",
          "data": {
            "application/vnd.google.colaboratory.intrinsic+json": {
              "type": "string"
            },
            "text/plain": [
              "'Welcome to the text manipulation section'"
            ]
          },
          "metadata": {},
          "execution_count": 74
        }
      ]
    },
    {
      "cell_type": "code",
      "metadata": {
        "id": "P7TlcXGMGyeA",
        "colab": {
          "base_uri": "https://localhost:8080/"
        },
        "outputId": "8b4ef045-b748-455a-aced-0b950ddca27b"
      },
      "source": [
        "s.split()"
      ],
      "execution_count": 75,
      "outputs": [
        {
          "output_type": "execute_result",
          "data": {
            "text/plain": [
              "['Welcome', 'to', 'the', 'text', 'manipulation', 'section']"
            ]
          },
          "metadata": {},
          "execution_count": 75
        }
      ]
    },
    {
      "cell_type": "code",
      "metadata": {
        "id": "AmWv3lJ7G0SV",
        "colab": {
          "base_uri": "https://localhost:8080/"
        },
        "outputId": "20572710-3cc6-49ae-c6a9-9552c9d0378d"
      },
      "source": [
        "s.split(' ')"
      ],
      "execution_count": 76,
      "outputs": [
        {
          "output_type": "execute_result",
          "data": {
            "text/plain": [
              "['Welcome', 'to', 'the', 'text', 'manipulation', 'section']"
            ]
          },
          "metadata": {},
          "execution_count": 76
        }
      ]
    },
    {
      "cell_type": "code",
      "metadata": {
        "id": "AIIchqiTHBSU",
        "colab": {
          "base_uri": "https://localhost:8080/",
          "height": 0
        },
        "outputId": "df0daea1-3ff3-4e83-88be-0ff1a10b29ac"
      },
      "source": [
        "spaced"
      ],
      "execution_count": 77,
      "outputs": [
        {
          "output_type": "execute_result",
          "data": {
            "application/vnd.google.colaboratory.intrinsic+json": {
              "type": "string"
            },
            "text/plain": [
              "'  the name is: BOND \\t JAMES BOND \\n\\n'"
            ]
          },
          "metadata": {},
          "execution_count": 77
        }
      ]
    },
    {
      "cell_type": "code",
      "metadata": {
        "id": "K8yAiexwHFpy",
        "colab": {
          "base_uri": "https://localhost:8080/"
        },
        "outputId": "e493ac88-57e7-477d-bdbb-177705bb4b21"
      },
      "source": [
        "spaced.split()"
      ],
      "execution_count": 78,
      "outputs": [
        {
          "output_type": "execute_result",
          "data": {
            "text/plain": [
              "['the', 'name', 'is:', 'BOND', 'JAMES', 'BOND']"
            ]
          },
          "metadata": {},
          "execution_count": 78
        }
      ]
    },
    {
      "cell_type": "code",
      "metadata": {
        "id": "WQlxMfpFHI1f",
        "colab": {
          "base_uri": "https://localhost:8080/"
        },
        "outputId": "d88b58ed-2dc7-4f65-eeb4-836630e6299e"
      },
      "source": [
        "spaced.split(' ')"
      ],
      "execution_count": 79,
      "outputs": [
        {
          "output_type": "execute_result",
          "data": {
            "text/plain": [
              "['', '', 'the', 'name', 'is:', 'BOND', '\\t', 'JAMES', 'BOND', '\\n\\n']"
            ]
          },
          "metadata": {},
          "execution_count": 79
        }
      ]
    },
    {
      "cell_type": "code",
      "metadata": {
        "id": "CnQJO9vDHOE9",
        "colab": {
          "base_uri": "https://localhost:8080/",
          "height": 0
        },
        "outputId": "6a567597-c2ef-407c-eac0-110815b22ff6"
      },
      "source": [
        "s"
      ],
      "execution_count": 80,
      "outputs": [
        {
          "output_type": "execute_result",
          "data": {
            "application/vnd.google.colaboratory.intrinsic+json": {
              "type": "string"
            },
            "text/plain": [
              "'Welcome to the text manipulation section'"
            ]
          },
          "metadata": {},
          "execution_count": 80
        }
      ]
    },
    {
      "cell_type": "code",
      "metadata": {
        "id": "636oxleSHWDK",
        "colab": {
          "base_uri": "https://localhost:8080/"
        },
        "outputId": "c90f8607-1779-457b-8f2b-0625f3899930"
      },
      "source": [
        "s.split('to')"
      ],
      "execution_count": 81,
      "outputs": [
        {
          "output_type": "execute_result",
          "data": {
            "text/plain": [
              "['Welcome ', ' the text manipulation section']"
            ]
          },
          "metadata": {},
          "execution_count": 81
        }
      ]
    },
    {
      "cell_type": "code",
      "metadata": {
        "id": "cacOOZSLHX7_",
        "colab": {
          "base_uri": "https://localhost:8080/",
          "height": 0
        },
        "outputId": "07d839e0-e227-4cca-81b6-039b3927f48d"
      },
      "source": [
        "boston.head()"
      ],
      "execution_count": 82,
      "outputs": [
        {
          "output_type": "execute_result",
          "data": {
            "text/html": [
              "\n",
              "  <div id=\"df-25e6c30e-fa81-4425-b875-451631e03977\">\n",
              "    <div class=\"colab-df-container\">\n",
              "      <div>\n",
              "<style scoped>\n",
              "    .dataframe tbody tr th:only-of-type {\n",
              "        vertical-align: middle;\n",
              "    }\n",
              "\n",
              "    .dataframe tbody tr th {\n",
              "        vertical-align: top;\n",
              "    }\n",
              "\n",
              "    .dataframe thead th {\n",
              "        text-align: right;\n",
              "    }\n",
              "</style>\n",
              "<table border=\"1\" class=\"dataframe\">\n",
              "  <thead>\n",
              "    <tr style=\"text-align: right;\">\n",
              "      <th></th>\n",
              "      <th>Name</th>\n",
              "      <th>Age</th>\n",
              "      <th>M/F</th>\n",
              "      <th>City</th>\n",
              "      <th>State</th>\n",
              "      <th>Country</th>\n",
              "      <th>Official Time</th>\n",
              "      <th>Overall</th>\n",
              "      <th>Gender</th>\n",
              "      <th>Years Ran</th>\n",
              "    </tr>\n",
              "  </thead>\n",
              "  <tbody>\n",
              "    <tr>\n",
              "      <th>0</th>\n",
              "      <td>Kirui, Geoffrey</td>\n",
              "      <td>24</td>\n",
              "      <td>M</td>\n",
              "      <td>Keringet</td>\n",
              "      <td>NaN</td>\n",
              "      <td>KEN</td>\n",
              "      <td>2:09:37</td>\n",
              "      <td>1</td>\n",
              "      <td>1</td>\n",
              "      <td>NaN</td>\n",
              "    </tr>\n",
              "    <tr>\n",
              "      <th>1</th>\n",
              "      <td>Rupp, Galen</td>\n",
              "      <td>30</td>\n",
              "      <td>M</td>\n",
              "      <td>Portland</td>\n",
              "      <td>OR</td>\n",
              "      <td>USA</td>\n",
              "      <td>2:09:58</td>\n",
              "      <td>2</td>\n",
              "      <td>2</td>\n",
              "      <td>NaN</td>\n",
              "    </tr>\n",
              "    <tr>\n",
              "      <th>2</th>\n",
              "      <td>Osako, Suguru</td>\n",
              "      <td>25</td>\n",
              "      <td>M</td>\n",
              "      <td>Machida-City</td>\n",
              "      <td>NaN</td>\n",
              "      <td>JPN</td>\n",
              "      <td>2:10:28</td>\n",
              "      <td>3</td>\n",
              "      <td>3</td>\n",
              "      <td>NaN</td>\n",
              "    </tr>\n",
              "    <tr>\n",
              "      <th>3</th>\n",
              "      <td>Biwott, Shadrack</td>\n",
              "      <td>32</td>\n",
              "      <td>M</td>\n",
              "      <td>Mammoth Lakes</td>\n",
              "      <td>CA</td>\n",
              "      <td>USA</td>\n",
              "      <td>2:12:08</td>\n",
              "      <td>4</td>\n",
              "      <td>4</td>\n",
              "      <td>NaN</td>\n",
              "    </tr>\n",
              "    <tr>\n",
              "      <th>4</th>\n",
              "      <td>Chebet, Wilson</td>\n",
              "      <td>31</td>\n",
              "      <td>M</td>\n",
              "      <td>Marakwet</td>\n",
              "      <td>NaN</td>\n",
              "      <td>KEN</td>\n",
              "      <td>2:12:35</td>\n",
              "      <td>5</td>\n",
              "      <td>5</td>\n",
              "      <td>2015</td>\n",
              "    </tr>\n",
              "  </tbody>\n",
              "</table>\n",
              "</div>\n",
              "      <button class=\"colab-df-convert\" onclick=\"convertToInteractive('df-25e6c30e-fa81-4425-b875-451631e03977')\"\n",
              "              title=\"Convert this dataframe to an interactive table.\"\n",
              "              style=\"display:none;\">\n",
              "        \n",
              "  <svg xmlns=\"http://www.w3.org/2000/svg\" height=\"24px\"viewBox=\"0 0 24 24\"\n",
              "       width=\"24px\">\n",
              "    <path d=\"M0 0h24v24H0V0z\" fill=\"none\"/>\n",
              "    <path d=\"M18.56 5.44l.94 2.06.94-2.06 2.06-.94-2.06-.94-.94-2.06-.94 2.06-2.06.94zm-11 1L8.5 8.5l.94-2.06 2.06-.94-2.06-.94L8.5 2.5l-.94 2.06-2.06.94zm10 10l.94 2.06.94-2.06 2.06-.94-2.06-.94-.94-2.06-.94 2.06-2.06.94z\"/><path d=\"M17.41 7.96l-1.37-1.37c-.4-.4-.92-.59-1.43-.59-.52 0-1.04.2-1.43.59L10.3 9.45l-7.72 7.72c-.78.78-.78 2.05 0 2.83L4 21.41c.39.39.9.59 1.41.59.51 0 1.02-.2 1.41-.59l7.78-7.78 2.81-2.81c.8-.78.8-2.07 0-2.86zM5.41 20L4 18.59l7.72-7.72 1.47 1.35L5.41 20z\"/>\n",
              "  </svg>\n",
              "      </button>\n",
              "      \n",
              "  <style>\n",
              "    .colab-df-container {\n",
              "      display:flex;\n",
              "      flex-wrap:wrap;\n",
              "      gap: 12px;\n",
              "    }\n",
              "\n",
              "    .colab-df-convert {\n",
              "      background-color: #E8F0FE;\n",
              "      border: none;\n",
              "      border-radius: 50%;\n",
              "      cursor: pointer;\n",
              "      display: none;\n",
              "      fill: #1967D2;\n",
              "      height: 32px;\n",
              "      padding: 0 0 0 0;\n",
              "      width: 32px;\n",
              "    }\n",
              "\n",
              "    .colab-df-convert:hover {\n",
              "      background-color: #E2EBFA;\n",
              "      box-shadow: 0px 1px 2px rgba(60, 64, 67, 0.3), 0px 1px 3px 1px rgba(60, 64, 67, 0.15);\n",
              "      fill: #174EA6;\n",
              "    }\n",
              "\n",
              "    [theme=dark] .colab-df-convert {\n",
              "      background-color: #3B4455;\n",
              "      fill: #D2E3FC;\n",
              "    }\n",
              "\n",
              "    [theme=dark] .colab-df-convert:hover {\n",
              "      background-color: #434B5C;\n",
              "      box-shadow: 0px 1px 3px 1px rgba(0, 0, 0, 0.15);\n",
              "      filter: drop-shadow(0px 1px 2px rgba(0, 0, 0, 0.3));\n",
              "      fill: #FFFFFF;\n",
              "    }\n",
              "  </style>\n",
              "\n",
              "      <script>\n",
              "        const buttonEl =\n",
              "          document.querySelector('#df-25e6c30e-fa81-4425-b875-451631e03977 button.colab-df-convert');\n",
              "        buttonEl.style.display =\n",
              "          google.colab.kernel.accessAllowed ? 'block' : 'none';\n",
              "\n",
              "        async function convertToInteractive(key) {\n",
              "          const element = document.querySelector('#df-25e6c30e-fa81-4425-b875-451631e03977');\n",
              "          const dataTable =\n",
              "            await google.colab.kernel.invokeFunction('convertToInteractive',\n",
              "                                                     [key], {});\n",
              "          if (!dataTable) return;\n",
              "\n",
              "          const docLinkHtml = 'Like what you see? Visit the ' +\n",
              "            '<a target=\"_blank\" href=https://colab.research.google.com/notebooks/data_table.ipynb>data table notebook</a>'\n",
              "            + ' to learn more about interactive tables.';\n",
              "          element.innerHTML = '';\n",
              "          dataTable['output_type'] = 'display_data';\n",
              "          await google.colab.output.renderOutput(dataTable, element);\n",
              "          const docLink = document.createElement('div');\n",
              "          docLink.innerHTML = docLinkHtml;\n",
              "          element.appendChild(docLink);\n",
              "        }\n",
              "      </script>\n",
              "    </div>\n",
              "  </div>\n",
              "  "
            ],
            "text/plain": [
              "               Name  Age M/F           City State Country Official Time  \\\n",
              "0   Kirui, Geoffrey   24   M       Keringet   NaN     KEN       2:09:37   \n",
              "1       Rupp, Galen   30   M       Portland    OR     USA       2:09:58   \n",
              "2     Osako, Suguru   25   M   Machida-City   NaN     JPN       2:10:28   \n",
              "3  Biwott, Shadrack   32   M  Mammoth Lakes    CA     USA       2:12:08   \n",
              "4    Chebet, Wilson   31   M       Marakwet   NaN     KEN       2:12:35   \n",
              "\n",
              "   Overall  Gender Years Ran  \n",
              "0        1       1       NaN  \n",
              "1        2       2       NaN  \n",
              "2        3       3       NaN  \n",
              "3        4       4       NaN  \n",
              "4        5       5      2015  "
            ]
          },
          "metadata": {},
          "execution_count": 82
        }
      ]
    },
    {
      "cell_type": "code",
      "metadata": {
        "id": "5LpWP9nkHh3a",
        "colab": {
          "base_uri": "https://localhost:8080/"
        },
        "outputId": "ad5456bc-81ba-4d0f-bfd6-7108a10c429f"
      },
      "source": [
        "boston.Name.str.split(', ')"
      ],
      "execution_count": 83,
      "outputs": [
        {
          "output_type": "execute_result",
          "data": {
            "text/plain": [
              "0          [Kirui, Geoffrey]\n",
              "1              [Rupp, Galen]\n",
              "2            [Osako, Suguru]\n",
              "3         [Biwott, Shadrack]\n",
              "4           [Chebet, Wilson]\n",
              "               ...          \n",
              "995           [Larosa, Mark]\n",
              "996    [Williamson, Jerry A]\n",
              "997        [Mccue, Daniel T]\n",
              "998           [Larosa, John]\n",
              "999         [Sanchez, Sam R]\n",
              "Name: Name, Length: 1000, dtype: object"
            ]
          },
          "metadata": {},
          "execution_count": 83
        }
      ]
    },
    {
      "cell_type": "code",
      "metadata": {
        "id": "4vyZl0ysHvKM",
        "colab": {
          "base_uri": "https://localhost:8080/"
        },
        "outputId": "52da8ae9-1c03-4593-96fa-297af5a34657"
      },
      "source": [
        "boston.Name.str.split(', ')[0]"
      ],
      "execution_count": 84,
      "outputs": [
        {
          "output_type": "execute_result",
          "data": {
            "text/plain": [
              "['Kirui', 'Geoffrey']"
            ]
          },
          "metadata": {},
          "execution_count": 84
        }
      ]
    },
    {
      "cell_type": "code",
      "metadata": {
        "id": "1gSbJ0ykH7eK"
      },
      "source": [
        "# the str.get() method"
      ],
      "execution_count": 85,
      "outputs": []
    },
    {
      "cell_type": "code",
      "metadata": {
        "id": "VFXEWi2HICdA",
        "colab": {
          "base_uri": "https://localhost:8080/"
        },
        "outputId": "dd6069b4-3ce3-4f17-e89b-708b26f8b79c"
      },
      "source": [
        "boston.Name.str.split(', ').str.get(1)"
      ],
      "execution_count": 86,
      "outputs": [
        {
          "output_type": "execute_result",
          "data": {
            "text/plain": [
              "0      Geoffrey\n",
              "1         Galen\n",
              "2        Suguru\n",
              "3      Shadrack\n",
              "4        Wilson\n",
              "         ...   \n",
              "995        Mark\n",
              "996     Jerry A\n",
              "997    Daniel T\n",
              "998        John\n",
              "999       Sam R\n",
              "Name: Name, Length: 1000, dtype: object"
            ]
          },
          "metadata": {},
          "execution_count": 86
        }
      ]
    },
    {
      "cell_type": "code",
      "metadata": {
        "id": "QS4QtIjmIEIP"
      },
      "source": [
        "boston['First Name'] = boston.Name.str.split(', ').str.get(1)\n",
        "boston['Last Name'] = boston.Name.str.split(', ').str.get(0)"
      ],
      "execution_count": 87,
      "outputs": []
    },
    {
      "cell_type": "code",
      "metadata": {
        "id": "x1xmB-08IV9M",
        "colab": {
          "base_uri": "https://localhost:8080/",
          "height": 0
        },
        "outputId": "ac2b5b4f-2607-4e3c-9679-2490dc87c7b0"
      },
      "source": [
        "boston.head(10)"
      ],
      "execution_count": 88,
      "outputs": [
        {
          "output_type": "execute_result",
          "data": {
            "text/html": [
              "\n",
              "  <div id=\"df-444de984-fe71-47f3-a372-50c22cfe993b\">\n",
              "    <div class=\"colab-df-container\">\n",
              "      <div>\n",
              "<style scoped>\n",
              "    .dataframe tbody tr th:only-of-type {\n",
              "        vertical-align: middle;\n",
              "    }\n",
              "\n",
              "    .dataframe tbody tr th {\n",
              "        vertical-align: top;\n",
              "    }\n",
              "\n",
              "    .dataframe thead th {\n",
              "        text-align: right;\n",
              "    }\n",
              "</style>\n",
              "<table border=\"1\" class=\"dataframe\">\n",
              "  <thead>\n",
              "    <tr style=\"text-align: right;\">\n",
              "      <th></th>\n",
              "      <th>Name</th>\n",
              "      <th>Age</th>\n",
              "      <th>M/F</th>\n",
              "      <th>City</th>\n",
              "      <th>State</th>\n",
              "      <th>Country</th>\n",
              "      <th>Official Time</th>\n",
              "      <th>Overall</th>\n",
              "      <th>Gender</th>\n",
              "      <th>Years Ran</th>\n",
              "      <th>First Name</th>\n",
              "      <th>Last Name</th>\n",
              "    </tr>\n",
              "  </thead>\n",
              "  <tbody>\n",
              "    <tr>\n",
              "      <th>0</th>\n",
              "      <td>Kirui, Geoffrey</td>\n",
              "      <td>24</td>\n",
              "      <td>M</td>\n",
              "      <td>Keringet</td>\n",
              "      <td>NaN</td>\n",
              "      <td>KEN</td>\n",
              "      <td>2:09:37</td>\n",
              "      <td>1</td>\n",
              "      <td>1</td>\n",
              "      <td>NaN</td>\n",
              "      <td>Geoffrey</td>\n",
              "      <td>Kirui</td>\n",
              "    </tr>\n",
              "    <tr>\n",
              "      <th>1</th>\n",
              "      <td>Rupp, Galen</td>\n",
              "      <td>30</td>\n",
              "      <td>M</td>\n",
              "      <td>Portland</td>\n",
              "      <td>OR</td>\n",
              "      <td>USA</td>\n",
              "      <td>2:09:58</td>\n",
              "      <td>2</td>\n",
              "      <td>2</td>\n",
              "      <td>NaN</td>\n",
              "      <td>Galen</td>\n",
              "      <td>Rupp</td>\n",
              "    </tr>\n",
              "    <tr>\n",
              "      <th>2</th>\n",
              "      <td>Osako, Suguru</td>\n",
              "      <td>25</td>\n",
              "      <td>M</td>\n",
              "      <td>Machida-City</td>\n",
              "      <td>NaN</td>\n",
              "      <td>JPN</td>\n",
              "      <td>2:10:28</td>\n",
              "      <td>3</td>\n",
              "      <td>3</td>\n",
              "      <td>NaN</td>\n",
              "      <td>Suguru</td>\n",
              "      <td>Osako</td>\n",
              "    </tr>\n",
              "    <tr>\n",
              "      <th>3</th>\n",
              "      <td>Biwott, Shadrack</td>\n",
              "      <td>32</td>\n",
              "      <td>M</td>\n",
              "      <td>Mammoth Lakes</td>\n",
              "      <td>CA</td>\n",
              "      <td>USA</td>\n",
              "      <td>2:12:08</td>\n",
              "      <td>4</td>\n",
              "      <td>4</td>\n",
              "      <td>NaN</td>\n",
              "      <td>Shadrack</td>\n",
              "      <td>Biwott</td>\n",
              "    </tr>\n",
              "    <tr>\n",
              "      <th>4</th>\n",
              "      <td>Chebet, Wilson</td>\n",
              "      <td>31</td>\n",
              "      <td>M</td>\n",
              "      <td>Marakwet</td>\n",
              "      <td>NaN</td>\n",
              "      <td>KEN</td>\n",
              "      <td>2:12:35</td>\n",
              "      <td>5</td>\n",
              "      <td>5</td>\n",
              "      <td>2015</td>\n",
              "      <td>Wilson</td>\n",
              "      <td>Chebet</td>\n",
              "    </tr>\n",
              "    <tr>\n",
              "      <th>5</th>\n",
              "      <td>Abdirahman, Abdi</td>\n",
              "      <td>40</td>\n",
              "      <td>M</td>\n",
              "      <td>Phoenix</td>\n",
              "      <td>AZ</td>\n",
              "      <td>USA</td>\n",
              "      <td>2:12:45</td>\n",
              "      <td>6</td>\n",
              "      <td>6</td>\n",
              "      <td>NaN</td>\n",
              "      <td>Abdi</td>\n",
              "      <td>Abdirahman</td>\n",
              "    </tr>\n",
              "    <tr>\n",
              "      <th>6</th>\n",
              "      <td>Maiyo, Augustus K.</td>\n",
              "      <td>33</td>\n",
              "      <td>M</td>\n",
              "      <td>Colorado Springs</td>\n",
              "      <td>CO</td>\n",
              "      <td>USA</td>\n",
              "      <td>2:13:16</td>\n",
              "      <td>7</td>\n",
              "      <td>7</td>\n",
              "      <td>NaN</td>\n",
              "      <td>Augustus K.</td>\n",
              "      <td>Maiyo</td>\n",
              "    </tr>\n",
              "    <tr>\n",
              "      <th>7</th>\n",
              "      <td>Sefir, Dino</td>\n",
              "      <td>28</td>\n",
              "      <td>M</td>\n",
              "      <td>Addis Ababa</td>\n",
              "      <td>NaN</td>\n",
              "      <td>ETH</td>\n",
              "      <td>2:14:26</td>\n",
              "      <td>8</td>\n",
              "      <td>8</td>\n",
              "      <td>NaN</td>\n",
              "      <td>Dino</td>\n",
              "      <td>Sefir</td>\n",
              "    </tr>\n",
              "    <tr>\n",
              "      <th>8</th>\n",
              "      <td>Puskedra, Luke</td>\n",
              "      <td>27</td>\n",
              "      <td>M</td>\n",
              "      <td>Eugene</td>\n",
              "      <td>OR</td>\n",
              "      <td>USA</td>\n",
              "      <td>2:14:45</td>\n",
              "      <td>9</td>\n",
              "      <td>9</td>\n",
              "      <td>NaN</td>\n",
              "      <td>Luke</td>\n",
              "      <td>Puskedra</td>\n",
              "    </tr>\n",
              "    <tr>\n",
              "      <th>9</th>\n",
              "      <td>Ward, Jared</td>\n",
              "      <td>28</td>\n",
              "      <td>M</td>\n",
              "      <td>Kaysville</td>\n",
              "      <td>UT</td>\n",
              "      <td>USA</td>\n",
              "      <td>2:15:28</td>\n",
              "      <td>10</td>\n",
              "      <td>10</td>\n",
              "      <td>NaN</td>\n",
              "      <td>Jared</td>\n",
              "      <td>Ward</td>\n",
              "    </tr>\n",
              "  </tbody>\n",
              "</table>\n",
              "</div>\n",
              "      <button class=\"colab-df-convert\" onclick=\"convertToInteractive('df-444de984-fe71-47f3-a372-50c22cfe993b')\"\n",
              "              title=\"Convert this dataframe to an interactive table.\"\n",
              "              style=\"display:none;\">\n",
              "        \n",
              "  <svg xmlns=\"http://www.w3.org/2000/svg\" height=\"24px\"viewBox=\"0 0 24 24\"\n",
              "       width=\"24px\">\n",
              "    <path d=\"M0 0h24v24H0V0z\" fill=\"none\"/>\n",
              "    <path d=\"M18.56 5.44l.94 2.06.94-2.06 2.06-.94-2.06-.94-.94-2.06-.94 2.06-2.06.94zm-11 1L8.5 8.5l.94-2.06 2.06-.94-2.06-.94L8.5 2.5l-.94 2.06-2.06.94zm10 10l.94 2.06.94-2.06 2.06-.94-2.06-.94-.94-2.06-.94 2.06-2.06.94z\"/><path d=\"M17.41 7.96l-1.37-1.37c-.4-.4-.92-.59-1.43-.59-.52 0-1.04.2-1.43.59L10.3 9.45l-7.72 7.72c-.78.78-.78 2.05 0 2.83L4 21.41c.39.39.9.59 1.41.59.51 0 1.02-.2 1.41-.59l7.78-7.78 2.81-2.81c.8-.78.8-2.07 0-2.86zM5.41 20L4 18.59l7.72-7.72 1.47 1.35L5.41 20z\"/>\n",
              "  </svg>\n",
              "      </button>\n",
              "      \n",
              "  <style>\n",
              "    .colab-df-container {\n",
              "      display:flex;\n",
              "      flex-wrap:wrap;\n",
              "      gap: 12px;\n",
              "    }\n",
              "\n",
              "    .colab-df-convert {\n",
              "      background-color: #E8F0FE;\n",
              "      border: none;\n",
              "      border-radius: 50%;\n",
              "      cursor: pointer;\n",
              "      display: none;\n",
              "      fill: #1967D2;\n",
              "      height: 32px;\n",
              "      padding: 0 0 0 0;\n",
              "      width: 32px;\n",
              "    }\n",
              "\n",
              "    .colab-df-convert:hover {\n",
              "      background-color: #E2EBFA;\n",
              "      box-shadow: 0px 1px 2px rgba(60, 64, 67, 0.3), 0px 1px 3px 1px rgba(60, 64, 67, 0.15);\n",
              "      fill: #174EA6;\n",
              "    }\n",
              "\n",
              "    [theme=dark] .colab-df-convert {\n",
              "      background-color: #3B4455;\n",
              "      fill: #D2E3FC;\n",
              "    }\n",
              "\n",
              "    [theme=dark] .colab-df-convert:hover {\n",
              "      background-color: #434B5C;\n",
              "      box-shadow: 0px 1px 3px 1px rgba(0, 0, 0, 0.15);\n",
              "      filter: drop-shadow(0px 1px 2px rgba(0, 0, 0, 0.3));\n",
              "      fill: #FFFFFF;\n",
              "    }\n",
              "  </style>\n",
              "\n",
              "      <script>\n",
              "        const buttonEl =\n",
              "          document.querySelector('#df-444de984-fe71-47f3-a372-50c22cfe993b button.colab-df-convert');\n",
              "        buttonEl.style.display =\n",
              "          google.colab.kernel.accessAllowed ? 'block' : 'none';\n",
              "\n",
              "        async function convertToInteractive(key) {\n",
              "          const element = document.querySelector('#df-444de984-fe71-47f3-a372-50c22cfe993b');\n",
              "          const dataTable =\n",
              "            await google.colab.kernel.invokeFunction('convertToInteractive',\n",
              "                                                     [key], {});\n",
              "          if (!dataTable) return;\n",
              "\n",
              "          const docLinkHtml = 'Like what you see? Visit the ' +\n",
              "            '<a target=\"_blank\" href=https://colab.research.google.com/notebooks/data_table.ipynb>data table notebook</a>'\n",
              "            + ' to learn more about interactive tables.';\n",
              "          element.innerHTML = '';\n",
              "          dataTable['output_type'] = 'display_data';\n",
              "          await google.colab.output.renderOutput(dataTable, element);\n",
              "          const docLink = document.createElement('div');\n",
              "          docLink.innerHTML = docLinkHtml;\n",
              "          element.appendChild(docLink);\n",
              "        }\n",
              "      </script>\n",
              "    </div>\n",
              "  </div>\n",
              "  "
            ],
            "text/plain": [
              "                 Name  Age M/F              City State Country Official Time  \\\n",
              "0     Kirui, Geoffrey   24   M          Keringet   NaN     KEN       2:09:37   \n",
              "1         Rupp, Galen   30   M          Portland    OR     USA       2:09:58   \n",
              "2       Osako, Suguru   25   M      Machida-City   NaN     JPN       2:10:28   \n",
              "3    Biwott, Shadrack   32   M     Mammoth Lakes    CA     USA       2:12:08   \n",
              "4      Chebet, Wilson   31   M          Marakwet   NaN     KEN       2:12:35   \n",
              "5    Abdirahman, Abdi   40   M           Phoenix    AZ     USA       2:12:45   \n",
              "6  Maiyo, Augustus K.   33   M  Colorado Springs    CO     USA       2:13:16   \n",
              "7         Sefir, Dino   28   M       Addis Ababa   NaN     ETH       2:14:26   \n",
              "8      Puskedra, Luke   27   M            Eugene    OR     USA       2:14:45   \n",
              "9         Ward, Jared   28   M         Kaysville    UT     USA       2:15:28   \n",
              "\n",
              "   Overall  Gender Years Ran   First Name   Last Name  \n",
              "0        1       1       NaN     Geoffrey       Kirui  \n",
              "1        2       2       NaN        Galen        Rupp  \n",
              "2        3       3       NaN       Suguru       Osako  \n",
              "3        4       4       NaN     Shadrack      Biwott  \n",
              "4        5       5      2015       Wilson      Chebet  \n",
              "5        6       6       NaN         Abdi  Abdirahman  \n",
              "6        7       7       NaN  Augustus K.       Maiyo  \n",
              "7        8       8       NaN         Dino       Sefir  \n",
              "8        9       9       NaN         Luke    Puskedra  \n",
              "9       10      10       NaN        Jared        Ward  "
            ]
          },
          "metadata": {},
          "execution_count": 88
        }
      ]
    },
    {
      "cell_type": "code",
      "metadata": {
        "id": "9_vsCxPFIXKy",
        "colab": {
          "base_uri": "https://localhost:8080/"
        },
        "outputId": "1440a0be-c1d7-4799-c3d4-3ed230da324e"
      },
      "source": [
        "boston['M/F'].str.cat(boston.Age.astype(str), sep='_')"
      ],
      "execution_count": 89,
      "outputs": [
        {
          "output_type": "execute_result",
          "data": {
            "text/plain": [
              "0      M_24\n",
              "1      M_30\n",
              "2      M_25\n",
              "3      M_32\n",
              "4      M_31\n",
              "       ... \n",
              "995    M_38\n",
              "996    M_43\n",
              "997    M_40\n",
              "998    M_35\n",
              "999    M_35\n",
              "Name: M/F, Length: 1000, dtype: object"
            ]
          },
          "metadata": {},
          "execution_count": 89
        }
      ]
    },
    {
      "cell_type": "markdown",
      "metadata": {
        "id": "B40dtI0TIpZF"
      },
      "source": [
        "#### More Split Parameters"
      ]
    },
    {
      "cell_type": "code",
      "metadata": {
        "id": "tjgzu9mrKrme"
      },
      "source": [
        "# Previously:\n",
        "  # boston['First Name'] = boston.Name.str.split(', ').str.get(1)\n",
        "  # boston['Last Name'] = boston.Name.str.split(', ').str.get(0)"
      ],
      "execution_count": 90,
      "outputs": []
    },
    {
      "cell_type": "code",
      "metadata": {
        "id": "z8VotRA9LtGG"
      },
      "source": [
        "boston.drop(['First Name', 'Last Name'], axis=1, inplace=True)"
      ],
      "execution_count": 91,
      "outputs": []
    },
    {
      "cell_type": "code",
      "metadata": {
        "id": "5IGLtvWnMG29",
        "colab": {
          "base_uri": "https://localhost:8080/",
          "height": 0
        },
        "outputId": "7b94691a-59b1-4a3b-caa7-51b7ee54ab24"
      },
      "source": [
        "boston.head()"
      ],
      "execution_count": 92,
      "outputs": [
        {
          "output_type": "execute_result",
          "data": {
            "text/html": [
              "\n",
              "  <div id=\"df-0d991785-0507-4a80-8e40-1a0bb68b8c8d\">\n",
              "    <div class=\"colab-df-container\">\n",
              "      <div>\n",
              "<style scoped>\n",
              "    .dataframe tbody tr th:only-of-type {\n",
              "        vertical-align: middle;\n",
              "    }\n",
              "\n",
              "    .dataframe tbody tr th {\n",
              "        vertical-align: top;\n",
              "    }\n",
              "\n",
              "    .dataframe thead th {\n",
              "        text-align: right;\n",
              "    }\n",
              "</style>\n",
              "<table border=\"1\" class=\"dataframe\">\n",
              "  <thead>\n",
              "    <tr style=\"text-align: right;\">\n",
              "      <th></th>\n",
              "      <th>Name</th>\n",
              "      <th>Age</th>\n",
              "      <th>M/F</th>\n",
              "      <th>City</th>\n",
              "      <th>State</th>\n",
              "      <th>Country</th>\n",
              "      <th>Official Time</th>\n",
              "      <th>Overall</th>\n",
              "      <th>Gender</th>\n",
              "      <th>Years Ran</th>\n",
              "    </tr>\n",
              "  </thead>\n",
              "  <tbody>\n",
              "    <tr>\n",
              "      <th>0</th>\n",
              "      <td>Kirui, Geoffrey</td>\n",
              "      <td>24</td>\n",
              "      <td>M</td>\n",
              "      <td>Keringet</td>\n",
              "      <td>NaN</td>\n",
              "      <td>KEN</td>\n",
              "      <td>2:09:37</td>\n",
              "      <td>1</td>\n",
              "      <td>1</td>\n",
              "      <td>NaN</td>\n",
              "    </tr>\n",
              "    <tr>\n",
              "      <th>1</th>\n",
              "      <td>Rupp, Galen</td>\n",
              "      <td>30</td>\n",
              "      <td>M</td>\n",
              "      <td>Portland</td>\n",
              "      <td>OR</td>\n",
              "      <td>USA</td>\n",
              "      <td>2:09:58</td>\n",
              "      <td>2</td>\n",
              "      <td>2</td>\n",
              "      <td>NaN</td>\n",
              "    </tr>\n",
              "    <tr>\n",
              "      <th>2</th>\n",
              "      <td>Osako, Suguru</td>\n",
              "      <td>25</td>\n",
              "      <td>M</td>\n",
              "      <td>Machida-City</td>\n",
              "      <td>NaN</td>\n",
              "      <td>JPN</td>\n",
              "      <td>2:10:28</td>\n",
              "      <td>3</td>\n",
              "      <td>3</td>\n",
              "      <td>NaN</td>\n",
              "    </tr>\n",
              "    <tr>\n",
              "      <th>3</th>\n",
              "      <td>Biwott, Shadrack</td>\n",
              "      <td>32</td>\n",
              "      <td>M</td>\n",
              "      <td>Mammoth Lakes</td>\n",
              "      <td>CA</td>\n",
              "      <td>USA</td>\n",
              "      <td>2:12:08</td>\n",
              "      <td>4</td>\n",
              "      <td>4</td>\n",
              "      <td>NaN</td>\n",
              "    </tr>\n",
              "    <tr>\n",
              "      <th>4</th>\n",
              "      <td>Chebet, Wilson</td>\n",
              "      <td>31</td>\n",
              "      <td>M</td>\n",
              "      <td>Marakwet</td>\n",
              "      <td>NaN</td>\n",
              "      <td>KEN</td>\n",
              "      <td>2:12:35</td>\n",
              "      <td>5</td>\n",
              "      <td>5</td>\n",
              "      <td>2015</td>\n",
              "    </tr>\n",
              "  </tbody>\n",
              "</table>\n",
              "</div>\n",
              "      <button class=\"colab-df-convert\" onclick=\"convertToInteractive('df-0d991785-0507-4a80-8e40-1a0bb68b8c8d')\"\n",
              "              title=\"Convert this dataframe to an interactive table.\"\n",
              "              style=\"display:none;\">\n",
              "        \n",
              "  <svg xmlns=\"http://www.w3.org/2000/svg\" height=\"24px\"viewBox=\"0 0 24 24\"\n",
              "       width=\"24px\">\n",
              "    <path d=\"M0 0h24v24H0V0z\" fill=\"none\"/>\n",
              "    <path d=\"M18.56 5.44l.94 2.06.94-2.06 2.06-.94-2.06-.94-.94-2.06-.94 2.06-2.06.94zm-11 1L8.5 8.5l.94-2.06 2.06-.94-2.06-.94L8.5 2.5l-.94 2.06-2.06.94zm10 10l.94 2.06.94-2.06 2.06-.94-2.06-.94-.94-2.06-.94 2.06-2.06.94z\"/><path d=\"M17.41 7.96l-1.37-1.37c-.4-.4-.92-.59-1.43-.59-.52 0-1.04.2-1.43.59L10.3 9.45l-7.72 7.72c-.78.78-.78 2.05 0 2.83L4 21.41c.39.39.9.59 1.41.59.51 0 1.02-.2 1.41-.59l7.78-7.78 2.81-2.81c.8-.78.8-2.07 0-2.86zM5.41 20L4 18.59l7.72-7.72 1.47 1.35L5.41 20z\"/>\n",
              "  </svg>\n",
              "      </button>\n",
              "      \n",
              "  <style>\n",
              "    .colab-df-container {\n",
              "      display:flex;\n",
              "      flex-wrap:wrap;\n",
              "      gap: 12px;\n",
              "    }\n",
              "\n",
              "    .colab-df-convert {\n",
              "      background-color: #E8F0FE;\n",
              "      border: none;\n",
              "      border-radius: 50%;\n",
              "      cursor: pointer;\n",
              "      display: none;\n",
              "      fill: #1967D2;\n",
              "      height: 32px;\n",
              "      padding: 0 0 0 0;\n",
              "      width: 32px;\n",
              "    }\n",
              "\n",
              "    .colab-df-convert:hover {\n",
              "      background-color: #E2EBFA;\n",
              "      box-shadow: 0px 1px 2px rgba(60, 64, 67, 0.3), 0px 1px 3px 1px rgba(60, 64, 67, 0.15);\n",
              "      fill: #174EA6;\n",
              "    }\n",
              "\n",
              "    [theme=dark] .colab-df-convert {\n",
              "      background-color: #3B4455;\n",
              "      fill: #D2E3FC;\n",
              "    }\n",
              "\n",
              "    [theme=dark] .colab-df-convert:hover {\n",
              "      background-color: #434B5C;\n",
              "      box-shadow: 0px 1px 3px 1px rgba(0, 0, 0, 0.15);\n",
              "      filter: drop-shadow(0px 1px 2px rgba(0, 0, 0, 0.3));\n",
              "      fill: #FFFFFF;\n",
              "    }\n",
              "  </style>\n",
              "\n",
              "      <script>\n",
              "        const buttonEl =\n",
              "          document.querySelector('#df-0d991785-0507-4a80-8e40-1a0bb68b8c8d button.colab-df-convert');\n",
              "        buttonEl.style.display =\n",
              "          google.colab.kernel.accessAllowed ? 'block' : 'none';\n",
              "\n",
              "        async function convertToInteractive(key) {\n",
              "          const element = document.querySelector('#df-0d991785-0507-4a80-8e40-1a0bb68b8c8d');\n",
              "          const dataTable =\n",
              "            await google.colab.kernel.invokeFunction('convertToInteractive',\n",
              "                                                     [key], {});\n",
              "          if (!dataTable) return;\n",
              "\n",
              "          const docLinkHtml = 'Like what you see? Visit the ' +\n",
              "            '<a target=\"_blank\" href=https://colab.research.google.com/notebooks/data_table.ipynb>data table notebook</a>'\n",
              "            + ' to learn more about interactive tables.';\n",
              "          element.innerHTML = '';\n",
              "          dataTable['output_type'] = 'display_data';\n",
              "          await google.colab.output.renderOutput(dataTable, element);\n",
              "          const docLink = document.createElement('div');\n",
              "          docLink.innerHTML = docLinkHtml;\n",
              "          element.appendChild(docLink);\n",
              "        }\n",
              "      </script>\n",
              "    </div>\n",
              "  </div>\n",
              "  "
            ],
            "text/plain": [
              "               Name  Age M/F           City State Country Official Time  \\\n",
              "0   Kirui, Geoffrey   24   M       Keringet   NaN     KEN       2:09:37   \n",
              "1       Rupp, Galen   30   M       Portland    OR     USA       2:09:58   \n",
              "2     Osako, Suguru   25   M   Machida-City   NaN     JPN       2:10:28   \n",
              "3  Biwott, Shadrack   32   M  Mammoth Lakes    CA     USA       2:12:08   \n",
              "4    Chebet, Wilson   31   M       Marakwet   NaN     KEN       2:12:35   \n",
              "\n",
              "   Overall  Gender Years Ran  \n",
              "0        1       1       NaN  \n",
              "1        2       2       NaN  \n",
              "2        3       3       NaN  \n",
              "3        4       4       NaN  \n",
              "4        5       5      2015  "
            ]
          },
          "metadata": {},
          "execution_count": 92
        }
      ]
    },
    {
      "cell_type": "code",
      "metadata": {
        "id": "xDdSAXMLMHiu"
      },
      "source": [
        "# the expand param"
      ],
      "execution_count": 93,
      "outputs": []
    },
    {
      "cell_type": "code",
      "metadata": {
        "id": "_Ny2P31OMQQa",
        "colab": {
          "base_uri": "https://localhost:8080/",
          "height": 0
        },
        "outputId": "05b51513-2a9c-4ac1-cad4-abec19126fb6"
      },
      "source": [
        "boston.Name.str.split(', ', expand=True)"
      ],
      "execution_count": 94,
      "outputs": [
        {
          "output_type": "execute_result",
          "data": {
            "text/html": [
              "\n",
              "  <div id=\"df-15cf0ca2-2474-4753-8fae-bddf2e53b786\">\n",
              "    <div class=\"colab-df-container\">\n",
              "      <div>\n",
              "<style scoped>\n",
              "    .dataframe tbody tr th:only-of-type {\n",
              "        vertical-align: middle;\n",
              "    }\n",
              "\n",
              "    .dataframe tbody tr th {\n",
              "        vertical-align: top;\n",
              "    }\n",
              "\n",
              "    .dataframe thead th {\n",
              "        text-align: right;\n",
              "    }\n",
              "</style>\n",
              "<table border=\"1\" class=\"dataframe\">\n",
              "  <thead>\n",
              "    <tr style=\"text-align: right;\">\n",
              "      <th></th>\n",
              "      <th>0</th>\n",
              "      <th>1</th>\n",
              "    </tr>\n",
              "  </thead>\n",
              "  <tbody>\n",
              "    <tr>\n",
              "      <th>0</th>\n",
              "      <td>Kirui</td>\n",
              "      <td>Geoffrey</td>\n",
              "    </tr>\n",
              "    <tr>\n",
              "      <th>1</th>\n",
              "      <td>Rupp</td>\n",
              "      <td>Galen</td>\n",
              "    </tr>\n",
              "    <tr>\n",
              "      <th>2</th>\n",
              "      <td>Osako</td>\n",
              "      <td>Suguru</td>\n",
              "    </tr>\n",
              "    <tr>\n",
              "      <th>3</th>\n",
              "      <td>Biwott</td>\n",
              "      <td>Shadrack</td>\n",
              "    </tr>\n",
              "    <tr>\n",
              "      <th>4</th>\n",
              "      <td>Chebet</td>\n",
              "      <td>Wilson</td>\n",
              "    </tr>\n",
              "    <tr>\n",
              "      <th>...</th>\n",
              "      <td>...</td>\n",
              "      <td>...</td>\n",
              "    </tr>\n",
              "    <tr>\n",
              "      <th>995</th>\n",
              "      <td>Larosa</td>\n",
              "      <td>Mark</td>\n",
              "    </tr>\n",
              "    <tr>\n",
              "      <th>996</th>\n",
              "      <td>Williamson</td>\n",
              "      <td>Jerry A</td>\n",
              "    </tr>\n",
              "    <tr>\n",
              "      <th>997</th>\n",
              "      <td>Mccue</td>\n",
              "      <td>Daniel T</td>\n",
              "    </tr>\n",
              "    <tr>\n",
              "      <th>998</th>\n",
              "      <td>Larosa</td>\n",
              "      <td>John</td>\n",
              "    </tr>\n",
              "    <tr>\n",
              "      <th>999</th>\n",
              "      <td>Sanchez</td>\n",
              "      <td>Sam R</td>\n",
              "    </tr>\n",
              "  </tbody>\n",
              "</table>\n",
              "<p>1000 rows × 2 columns</p>\n",
              "</div>\n",
              "      <button class=\"colab-df-convert\" onclick=\"convertToInteractive('df-15cf0ca2-2474-4753-8fae-bddf2e53b786')\"\n",
              "              title=\"Convert this dataframe to an interactive table.\"\n",
              "              style=\"display:none;\">\n",
              "        \n",
              "  <svg xmlns=\"http://www.w3.org/2000/svg\" height=\"24px\"viewBox=\"0 0 24 24\"\n",
              "       width=\"24px\">\n",
              "    <path d=\"M0 0h24v24H0V0z\" fill=\"none\"/>\n",
              "    <path d=\"M18.56 5.44l.94 2.06.94-2.06 2.06-.94-2.06-.94-.94-2.06-.94 2.06-2.06.94zm-11 1L8.5 8.5l.94-2.06 2.06-.94-2.06-.94L8.5 2.5l-.94 2.06-2.06.94zm10 10l.94 2.06.94-2.06 2.06-.94-2.06-.94-.94-2.06-.94 2.06-2.06.94z\"/><path d=\"M17.41 7.96l-1.37-1.37c-.4-.4-.92-.59-1.43-.59-.52 0-1.04.2-1.43.59L10.3 9.45l-7.72 7.72c-.78.78-.78 2.05 0 2.83L4 21.41c.39.39.9.59 1.41.59.51 0 1.02-.2 1.41-.59l7.78-7.78 2.81-2.81c.8-.78.8-2.07 0-2.86zM5.41 20L4 18.59l7.72-7.72 1.47 1.35L5.41 20z\"/>\n",
              "  </svg>\n",
              "      </button>\n",
              "      \n",
              "  <style>\n",
              "    .colab-df-container {\n",
              "      display:flex;\n",
              "      flex-wrap:wrap;\n",
              "      gap: 12px;\n",
              "    }\n",
              "\n",
              "    .colab-df-convert {\n",
              "      background-color: #E8F0FE;\n",
              "      border: none;\n",
              "      border-radius: 50%;\n",
              "      cursor: pointer;\n",
              "      display: none;\n",
              "      fill: #1967D2;\n",
              "      height: 32px;\n",
              "      padding: 0 0 0 0;\n",
              "      width: 32px;\n",
              "    }\n",
              "\n",
              "    .colab-df-convert:hover {\n",
              "      background-color: #E2EBFA;\n",
              "      box-shadow: 0px 1px 2px rgba(60, 64, 67, 0.3), 0px 1px 3px 1px rgba(60, 64, 67, 0.15);\n",
              "      fill: #174EA6;\n",
              "    }\n",
              "\n",
              "    [theme=dark] .colab-df-convert {\n",
              "      background-color: #3B4455;\n",
              "      fill: #D2E3FC;\n",
              "    }\n",
              "\n",
              "    [theme=dark] .colab-df-convert:hover {\n",
              "      background-color: #434B5C;\n",
              "      box-shadow: 0px 1px 3px 1px rgba(0, 0, 0, 0.15);\n",
              "      filter: drop-shadow(0px 1px 2px rgba(0, 0, 0, 0.3));\n",
              "      fill: #FFFFFF;\n",
              "    }\n",
              "  </style>\n",
              "\n",
              "      <script>\n",
              "        const buttonEl =\n",
              "          document.querySelector('#df-15cf0ca2-2474-4753-8fae-bddf2e53b786 button.colab-df-convert');\n",
              "        buttonEl.style.display =\n",
              "          google.colab.kernel.accessAllowed ? 'block' : 'none';\n",
              "\n",
              "        async function convertToInteractive(key) {\n",
              "          const element = document.querySelector('#df-15cf0ca2-2474-4753-8fae-bddf2e53b786');\n",
              "          const dataTable =\n",
              "            await google.colab.kernel.invokeFunction('convertToInteractive',\n",
              "                                                     [key], {});\n",
              "          if (!dataTable) return;\n",
              "\n",
              "          const docLinkHtml = 'Like what you see? Visit the ' +\n",
              "            '<a target=\"_blank\" href=https://colab.research.google.com/notebooks/data_table.ipynb>data table notebook</a>'\n",
              "            + ' to learn more about interactive tables.';\n",
              "          element.innerHTML = '';\n",
              "          dataTable['output_type'] = 'display_data';\n",
              "          await google.colab.output.renderOutput(dataTable, element);\n",
              "          const docLink = document.createElement('div');\n",
              "          docLink.innerHTML = docLinkHtml;\n",
              "          element.appendChild(docLink);\n",
              "        }\n",
              "      </script>\n",
              "    </div>\n",
              "  </div>\n",
              "  "
            ],
            "text/plain": [
              "              0         1\n",
              "0         Kirui  Geoffrey\n",
              "1          Rupp     Galen\n",
              "2         Osako    Suguru\n",
              "3        Biwott  Shadrack\n",
              "4        Chebet    Wilson\n",
              "..          ...       ...\n",
              "995      Larosa      Mark\n",
              "996  Williamson   Jerry A\n",
              "997       Mccue  Daniel T\n",
              "998      Larosa      John\n",
              "999     Sanchez     Sam R\n",
              "\n",
              "[1000 rows x 2 columns]"
            ]
          },
          "metadata": {},
          "execution_count": 94
        }
      ]
    },
    {
      "cell_type": "code",
      "metadata": {
        "id": "sDmLSv-HMTdM",
        "colab": {
          "base_uri": "https://localhost:8080/",
          "height": 0
        },
        "outputId": "eef91459-7d9f-47f3-abe0-6e1f6407a630"
      },
      "source": [
        "boston.Name.str.split(expand=True)"
      ],
      "execution_count": 95,
      "outputs": [
        {
          "output_type": "execute_result",
          "data": {
            "text/html": [
              "\n",
              "  <div id=\"df-78a0dae3-6088-4a44-9ebb-2a16f31656cc\">\n",
              "    <div class=\"colab-df-container\">\n",
              "      <div>\n",
              "<style scoped>\n",
              "    .dataframe tbody tr th:only-of-type {\n",
              "        vertical-align: middle;\n",
              "    }\n",
              "\n",
              "    .dataframe tbody tr th {\n",
              "        vertical-align: top;\n",
              "    }\n",
              "\n",
              "    .dataframe thead th {\n",
              "        text-align: right;\n",
              "    }\n",
              "</style>\n",
              "<table border=\"1\" class=\"dataframe\">\n",
              "  <thead>\n",
              "    <tr style=\"text-align: right;\">\n",
              "      <th></th>\n",
              "      <th>0</th>\n",
              "      <th>1</th>\n",
              "      <th>2</th>\n",
              "      <th>3</th>\n",
              "      <th>4</th>\n",
              "    </tr>\n",
              "  </thead>\n",
              "  <tbody>\n",
              "    <tr>\n",
              "      <th>0</th>\n",
              "      <td>Kirui,</td>\n",
              "      <td>Geoffrey</td>\n",
              "      <td>None</td>\n",
              "      <td>None</td>\n",
              "      <td>None</td>\n",
              "    </tr>\n",
              "    <tr>\n",
              "      <th>1</th>\n",
              "      <td>Rupp,</td>\n",
              "      <td>Galen</td>\n",
              "      <td>None</td>\n",
              "      <td>None</td>\n",
              "      <td>None</td>\n",
              "    </tr>\n",
              "    <tr>\n",
              "      <th>2</th>\n",
              "      <td>Osako,</td>\n",
              "      <td>Suguru</td>\n",
              "      <td>None</td>\n",
              "      <td>None</td>\n",
              "      <td>None</td>\n",
              "    </tr>\n",
              "    <tr>\n",
              "      <th>3</th>\n",
              "      <td>Biwott,</td>\n",
              "      <td>Shadrack</td>\n",
              "      <td>None</td>\n",
              "      <td>None</td>\n",
              "      <td>None</td>\n",
              "    </tr>\n",
              "    <tr>\n",
              "      <th>4</th>\n",
              "      <td>Chebet,</td>\n",
              "      <td>Wilson</td>\n",
              "      <td>None</td>\n",
              "      <td>None</td>\n",
              "      <td>None</td>\n",
              "    </tr>\n",
              "    <tr>\n",
              "      <th>...</th>\n",
              "      <td>...</td>\n",
              "      <td>...</td>\n",
              "      <td>...</td>\n",
              "      <td>...</td>\n",
              "      <td>...</td>\n",
              "    </tr>\n",
              "    <tr>\n",
              "      <th>995</th>\n",
              "      <td>Larosa,</td>\n",
              "      <td>Mark</td>\n",
              "      <td>None</td>\n",
              "      <td>None</td>\n",
              "      <td>None</td>\n",
              "    </tr>\n",
              "    <tr>\n",
              "      <th>996</th>\n",
              "      <td>Williamson,</td>\n",
              "      <td>Jerry</td>\n",
              "      <td>A</td>\n",
              "      <td>None</td>\n",
              "      <td>None</td>\n",
              "    </tr>\n",
              "    <tr>\n",
              "      <th>997</th>\n",
              "      <td>Mccue,</td>\n",
              "      <td>Daniel</td>\n",
              "      <td>T</td>\n",
              "      <td>None</td>\n",
              "      <td>None</td>\n",
              "    </tr>\n",
              "    <tr>\n",
              "      <th>998</th>\n",
              "      <td>Larosa,</td>\n",
              "      <td>John</td>\n",
              "      <td>None</td>\n",
              "      <td>None</td>\n",
              "      <td>None</td>\n",
              "    </tr>\n",
              "    <tr>\n",
              "      <th>999</th>\n",
              "      <td>Sanchez,</td>\n",
              "      <td>Sam</td>\n",
              "      <td>R</td>\n",
              "      <td>None</td>\n",
              "      <td>None</td>\n",
              "    </tr>\n",
              "  </tbody>\n",
              "</table>\n",
              "<p>1000 rows × 5 columns</p>\n",
              "</div>\n",
              "      <button class=\"colab-df-convert\" onclick=\"convertToInteractive('df-78a0dae3-6088-4a44-9ebb-2a16f31656cc')\"\n",
              "              title=\"Convert this dataframe to an interactive table.\"\n",
              "              style=\"display:none;\">\n",
              "        \n",
              "  <svg xmlns=\"http://www.w3.org/2000/svg\" height=\"24px\"viewBox=\"0 0 24 24\"\n",
              "       width=\"24px\">\n",
              "    <path d=\"M0 0h24v24H0V0z\" fill=\"none\"/>\n",
              "    <path d=\"M18.56 5.44l.94 2.06.94-2.06 2.06-.94-2.06-.94-.94-2.06-.94 2.06-2.06.94zm-11 1L8.5 8.5l.94-2.06 2.06-.94-2.06-.94L8.5 2.5l-.94 2.06-2.06.94zm10 10l.94 2.06.94-2.06 2.06-.94-2.06-.94-.94-2.06-.94 2.06-2.06.94z\"/><path d=\"M17.41 7.96l-1.37-1.37c-.4-.4-.92-.59-1.43-.59-.52 0-1.04.2-1.43.59L10.3 9.45l-7.72 7.72c-.78.78-.78 2.05 0 2.83L4 21.41c.39.39.9.59 1.41.59.51 0 1.02-.2 1.41-.59l7.78-7.78 2.81-2.81c.8-.78.8-2.07 0-2.86zM5.41 20L4 18.59l7.72-7.72 1.47 1.35L5.41 20z\"/>\n",
              "  </svg>\n",
              "      </button>\n",
              "      \n",
              "  <style>\n",
              "    .colab-df-container {\n",
              "      display:flex;\n",
              "      flex-wrap:wrap;\n",
              "      gap: 12px;\n",
              "    }\n",
              "\n",
              "    .colab-df-convert {\n",
              "      background-color: #E8F0FE;\n",
              "      border: none;\n",
              "      border-radius: 50%;\n",
              "      cursor: pointer;\n",
              "      display: none;\n",
              "      fill: #1967D2;\n",
              "      height: 32px;\n",
              "      padding: 0 0 0 0;\n",
              "      width: 32px;\n",
              "    }\n",
              "\n",
              "    .colab-df-convert:hover {\n",
              "      background-color: #E2EBFA;\n",
              "      box-shadow: 0px 1px 2px rgba(60, 64, 67, 0.3), 0px 1px 3px 1px rgba(60, 64, 67, 0.15);\n",
              "      fill: #174EA6;\n",
              "    }\n",
              "\n",
              "    [theme=dark] .colab-df-convert {\n",
              "      background-color: #3B4455;\n",
              "      fill: #D2E3FC;\n",
              "    }\n",
              "\n",
              "    [theme=dark] .colab-df-convert:hover {\n",
              "      background-color: #434B5C;\n",
              "      box-shadow: 0px 1px 3px 1px rgba(0, 0, 0, 0.15);\n",
              "      filter: drop-shadow(0px 1px 2px rgba(0, 0, 0, 0.3));\n",
              "      fill: #FFFFFF;\n",
              "    }\n",
              "  </style>\n",
              "\n",
              "      <script>\n",
              "        const buttonEl =\n",
              "          document.querySelector('#df-78a0dae3-6088-4a44-9ebb-2a16f31656cc button.colab-df-convert');\n",
              "        buttonEl.style.display =\n",
              "          google.colab.kernel.accessAllowed ? 'block' : 'none';\n",
              "\n",
              "        async function convertToInteractive(key) {\n",
              "          const element = document.querySelector('#df-78a0dae3-6088-4a44-9ebb-2a16f31656cc');\n",
              "          const dataTable =\n",
              "            await google.colab.kernel.invokeFunction('convertToInteractive',\n",
              "                                                     [key], {});\n",
              "          if (!dataTable) return;\n",
              "\n",
              "          const docLinkHtml = 'Like what you see? Visit the ' +\n",
              "            '<a target=\"_blank\" href=https://colab.research.google.com/notebooks/data_table.ipynb>data table notebook</a>'\n",
              "            + ' to learn more about interactive tables.';\n",
              "          element.innerHTML = '';\n",
              "          dataTable['output_type'] = 'display_data';\n",
              "          await google.colab.output.renderOutput(dataTable, element);\n",
              "          const docLink = document.createElement('div');\n",
              "          docLink.innerHTML = docLinkHtml;\n",
              "          element.appendChild(docLink);\n",
              "        }\n",
              "      </script>\n",
              "    </div>\n",
              "  </div>\n",
              "  "
            ],
            "text/plain": [
              "               0         1     2     3     4\n",
              "0         Kirui,  Geoffrey  None  None  None\n",
              "1          Rupp,     Galen  None  None  None\n",
              "2         Osako,    Suguru  None  None  None\n",
              "3        Biwott,  Shadrack  None  None  None\n",
              "4        Chebet,    Wilson  None  None  None\n",
              "..           ...       ...   ...   ...   ...\n",
              "995      Larosa,      Mark  None  None  None\n",
              "996  Williamson,     Jerry     A  None  None\n",
              "997       Mccue,    Daniel     T  None  None\n",
              "998      Larosa,      John  None  None  None\n",
              "999     Sanchez,       Sam     R  None  None\n",
              "\n",
              "[1000 rows x 5 columns]"
            ]
          },
          "metadata": {},
          "execution_count": 95
        }
      ]
    },
    {
      "cell_type": "code",
      "metadata": {
        "id": "d1lF_PllMch-",
        "colab": {
          "base_uri": "https://localhost:8080/"
        },
        "outputId": "d4c67a4c-1158-40a2-ac5d-a26980aff9a7"
      },
      "source": [
        "boston.Name.str.split(expand=True).count(axis=1) == 5"
      ],
      "execution_count": 96,
      "outputs": [
        {
          "output_type": "execute_result",
          "data": {
            "text/plain": [
              "0      False\n",
              "1      False\n",
              "2      False\n",
              "3      False\n",
              "4      False\n",
              "       ...  \n",
              "995    False\n",
              "996    False\n",
              "997    False\n",
              "998    False\n",
              "999    False\n",
              "Length: 1000, dtype: bool"
            ]
          },
          "metadata": {},
          "execution_count": 96
        }
      ]
    },
    {
      "cell_type": "code",
      "metadata": {
        "id": "8mgua1_-Mk3Z",
        "colab": {
          "base_uri": "https://localhost:8080/"
        },
        "outputId": "efffb434-bec2-476b-93c5-7127febde665"
      },
      "source": [
        "boston.Name[boston.Name.str.split(expand=True).count(axis=1) == 5]"
      ],
      "execution_count": 97,
      "outputs": [
        {
          "output_type": "execute_result",
          "data": {
            "text/plain": [
              "203    Cifuentes Fetiva, Miguel Angel Sr.\n",
              "467      Martinez Solano, Juan Manuel Jr.\n",
              "678        Melendez, Carlos Manuel M. Sr.\n",
              "733        Castano Gonzalez, Angel U. Sr.\n",
              "Name: Name, dtype: object"
            ]
          },
          "metadata": {},
          "execution_count": 97
        }
      ]
    },
    {
      "cell_type": "code",
      "metadata": {
        "id": "6d5G199tMzKN",
        "colab": {
          "base_uri": "https://localhost:8080/",
          "height": 0
        },
        "outputId": "4dcfede0-9637-42ed-f110-48cf821c9a3c"
      },
      "source": [
        "boston.Name.str.split(expand=True, n=2)"
      ],
      "execution_count": 98,
      "outputs": [
        {
          "output_type": "execute_result",
          "data": {
            "text/html": [
              "\n",
              "  <div id=\"df-1af0e286-42cc-4588-b3c3-194f8b76e16e\">\n",
              "    <div class=\"colab-df-container\">\n",
              "      <div>\n",
              "<style scoped>\n",
              "    .dataframe tbody tr th:only-of-type {\n",
              "        vertical-align: middle;\n",
              "    }\n",
              "\n",
              "    .dataframe tbody tr th {\n",
              "        vertical-align: top;\n",
              "    }\n",
              "\n",
              "    .dataframe thead th {\n",
              "        text-align: right;\n",
              "    }\n",
              "</style>\n",
              "<table border=\"1\" class=\"dataframe\">\n",
              "  <thead>\n",
              "    <tr style=\"text-align: right;\">\n",
              "      <th></th>\n",
              "      <th>0</th>\n",
              "      <th>1</th>\n",
              "      <th>2</th>\n",
              "    </tr>\n",
              "  </thead>\n",
              "  <tbody>\n",
              "    <tr>\n",
              "      <th>0</th>\n",
              "      <td>Kirui,</td>\n",
              "      <td>Geoffrey</td>\n",
              "      <td>None</td>\n",
              "    </tr>\n",
              "    <tr>\n",
              "      <th>1</th>\n",
              "      <td>Rupp,</td>\n",
              "      <td>Galen</td>\n",
              "      <td>None</td>\n",
              "    </tr>\n",
              "    <tr>\n",
              "      <th>2</th>\n",
              "      <td>Osako,</td>\n",
              "      <td>Suguru</td>\n",
              "      <td>None</td>\n",
              "    </tr>\n",
              "    <tr>\n",
              "      <th>3</th>\n",
              "      <td>Biwott,</td>\n",
              "      <td>Shadrack</td>\n",
              "      <td>None</td>\n",
              "    </tr>\n",
              "    <tr>\n",
              "      <th>4</th>\n",
              "      <td>Chebet,</td>\n",
              "      <td>Wilson</td>\n",
              "      <td>None</td>\n",
              "    </tr>\n",
              "    <tr>\n",
              "      <th>...</th>\n",
              "      <td>...</td>\n",
              "      <td>...</td>\n",
              "      <td>...</td>\n",
              "    </tr>\n",
              "    <tr>\n",
              "      <th>995</th>\n",
              "      <td>Larosa,</td>\n",
              "      <td>Mark</td>\n",
              "      <td>None</td>\n",
              "    </tr>\n",
              "    <tr>\n",
              "      <th>996</th>\n",
              "      <td>Williamson,</td>\n",
              "      <td>Jerry</td>\n",
              "      <td>A</td>\n",
              "    </tr>\n",
              "    <tr>\n",
              "      <th>997</th>\n",
              "      <td>Mccue,</td>\n",
              "      <td>Daniel</td>\n",
              "      <td>T</td>\n",
              "    </tr>\n",
              "    <tr>\n",
              "      <th>998</th>\n",
              "      <td>Larosa,</td>\n",
              "      <td>John</td>\n",
              "      <td>None</td>\n",
              "    </tr>\n",
              "    <tr>\n",
              "      <th>999</th>\n",
              "      <td>Sanchez,</td>\n",
              "      <td>Sam</td>\n",
              "      <td>R</td>\n",
              "    </tr>\n",
              "  </tbody>\n",
              "</table>\n",
              "<p>1000 rows × 3 columns</p>\n",
              "</div>\n",
              "      <button class=\"colab-df-convert\" onclick=\"convertToInteractive('df-1af0e286-42cc-4588-b3c3-194f8b76e16e')\"\n",
              "              title=\"Convert this dataframe to an interactive table.\"\n",
              "              style=\"display:none;\">\n",
              "        \n",
              "  <svg xmlns=\"http://www.w3.org/2000/svg\" height=\"24px\"viewBox=\"0 0 24 24\"\n",
              "       width=\"24px\">\n",
              "    <path d=\"M0 0h24v24H0V0z\" fill=\"none\"/>\n",
              "    <path d=\"M18.56 5.44l.94 2.06.94-2.06 2.06-.94-2.06-.94-.94-2.06-.94 2.06-2.06.94zm-11 1L8.5 8.5l.94-2.06 2.06-.94-2.06-.94L8.5 2.5l-.94 2.06-2.06.94zm10 10l.94 2.06.94-2.06 2.06-.94-2.06-.94-.94-2.06-.94 2.06-2.06.94z\"/><path d=\"M17.41 7.96l-1.37-1.37c-.4-.4-.92-.59-1.43-.59-.52 0-1.04.2-1.43.59L10.3 9.45l-7.72 7.72c-.78.78-.78 2.05 0 2.83L4 21.41c.39.39.9.59 1.41.59.51 0 1.02-.2 1.41-.59l7.78-7.78 2.81-2.81c.8-.78.8-2.07 0-2.86zM5.41 20L4 18.59l7.72-7.72 1.47 1.35L5.41 20z\"/>\n",
              "  </svg>\n",
              "      </button>\n",
              "      \n",
              "  <style>\n",
              "    .colab-df-container {\n",
              "      display:flex;\n",
              "      flex-wrap:wrap;\n",
              "      gap: 12px;\n",
              "    }\n",
              "\n",
              "    .colab-df-convert {\n",
              "      background-color: #E8F0FE;\n",
              "      border: none;\n",
              "      border-radius: 50%;\n",
              "      cursor: pointer;\n",
              "      display: none;\n",
              "      fill: #1967D2;\n",
              "      height: 32px;\n",
              "      padding: 0 0 0 0;\n",
              "      width: 32px;\n",
              "    }\n",
              "\n",
              "    .colab-df-convert:hover {\n",
              "      background-color: #E2EBFA;\n",
              "      box-shadow: 0px 1px 2px rgba(60, 64, 67, 0.3), 0px 1px 3px 1px rgba(60, 64, 67, 0.15);\n",
              "      fill: #174EA6;\n",
              "    }\n",
              "\n",
              "    [theme=dark] .colab-df-convert {\n",
              "      background-color: #3B4455;\n",
              "      fill: #D2E3FC;\n",
              "    }\n",
              "\n",
              "    [theme=dark] .colab-df-convert:hover {\n",
              "      background-color: #434B5C;\n",
              "      box-shadow: 0px 1px 3px 1px rgba(0, 0, 0, 0.15);\n",
              "      filter: drop-shadow(0px 1px 2px rgba(0, 0, 0, 0.3));\n",
              "      fill: #FFFFFF;\n",
              "    }\n",
              "  </style>\n",
              "\n",
              "      <script>\n",
              "        const buttonEl =\n",
              "          document.querySelector('#df-1af0e286-42cc-4588-b3c3-194f8b76e16e button.colab-df-convert');\n",
              "        buttonEl.style.display =\n",
              "          google.colab.kernel.accessAllowed ? 'block' : 'none';\n",
              "\n",
              "        async function convertToInteractive(key) {\n",
              "          const element = document.querySelector('#df-1af0e286-42cc-4588-b3c3-194f8b76e16e');\n",
              "          const dataTable =\n",
              "            await google.colab.kernel.invokeFunction('convertToInteractive',\n",
              "                                                     [key], {});\n",
              "          if (!dataTable) return;\n",
              "\n",
              "          const docLinkHtml = 'Like what you see? Visit the ' +\n",
              "            '<a target=\"_blank\" href=https://colab.research.google.com/notebooks/data_table.ipynb>data table notebook</a>'\n",
              "            + ' to learn more about interactive tables.';\n",
              "          element.innerHTML = '';\n",
              "          dataTable['output_type'] = 'display_data';\n",
              "          await google.colab.output.renderOutput(dataTable, element);\n",
              "          const docLink = document.createElement('div');\n",
              "          docLink.innerHTML = docLinkHtml;\n",
              "          element.appendChild(docLink);\n",
              "        }\n",
              "      </script>\n",
              "    </div>\n",
              "  </div>\n",
              "  "
            ],
            "text/plain": [
              "               0         1     2\n",
              "0         Kirui,  Geoffrey  None\n",
              "1          Rupp,     Galen  None\n",
              "2         Osako,    Suguru  None\n",
              "3        Biwott,  Shadrack  None\n",
              "4        Chebet,    Wilson  None\n",
              "..           ...       ...   ...\n",
              "995      Larosa,      Mark  None\n",
              "996  Williamson,     Jerry     A\n",
              "997       Mccue,    Daniel     T\n",
              "998      Larosa,      John  None\n",
              "999     Sanchez,       Sam     R\n",
              "\n",
              "[1000 rows x 3 columns]"
            ]
          },
          "metadata": {},
          "execution_count": 98
        }
      ]
    },
    {
      "cell_type": "code",
      "metadata": {
        "id": "Jl3aS4O6M_Zq",
        "colab": {
          "base_uri": "https://localhost:8080/",
          "height": 0
        },
        "outputId": "ce34f248-c1ba-4bda-f091-934c3beb88ea"
      },
      "source": [
        "boston.Name.str.split(', ', expand=True)"
      ],
      "execution_count": 99,
      "outputs": [
        {
          "output_type": "execute_result",
          "data": {
            "text/html": [
              "\n",
              "  <div id=\"df-fffac3bb-a03a-4b8e-9a73-a22ed3b90831\">\n",
              "    <div class=\"colab-df-container\">\n",
              "      <div>\n",
              "<style scoped>\n",
              "    .dataframe tbody tr th:only-of-type {\n",
              "        vertical-align: middle;\n",
              "    }\n",
              "\n",
              "    .dataframe tbody tr th {\n",
              "        vertical-align: top;\n",
              "    }\n",
              "\n",
              "    .dataframe thead th {\n",
              "        text-align: right;\n",
              "    }\n",
              "</style>\n",
              "<table border=\"1\" class=\"dataframe\">\n",
              "  <thead>\n",
              "    <tr style=\"text-align: right;\">\n",
              "      <th></th>\n",
              "      <th>0</th>\n",
              "      <th>1</th>\n",
              "    </tr>\n",
              "  </thead>\n",
              "  <tbody>\n",
              "    <tr>\n",
              "      <th>0</th>\n",
              "      <td>Kirui</td>\n",
              "      <td>Geoffrey</td>\n",
              "    </tr>\n",
              "    <tr>\n",
              "      <th>1</th>\n",
              "      <td>Rupp</td>\n",
              "      <td>Galen</td>\n",
              "    </tr>\n",
              "    <tr>\n",
              "      <th>2</th>\n",
              "      <td>Osako</td>\n",
              "      <td>Suguru</td>\n",
              "    </tr>\n",
              "    <tr>\n",
              "      <th>3</th>\n",
              "      <td>Biwott</td>\n",
              "      <td>Shadrack</td>\n",
              "    </tr>\n",
              "    <tr>\n",
              "      <th>4</th>\n",
              "      <td>Chebet</td>\n",
              "      <td>Wilson</td>\n",
              "    </tr>\n",
              "    <tr>\n",
              "      <th>...</th>\n",
              "      <td>...</td>\n",
              "      <td>...</td>\n",
              "    </tr>\n",
              "    <tr>\n",
              "      <th>995</th>\n",
              "      <td>Larosa</td>\n",
              "      <td>Mark</td>\n",
              "    </tr>\n",
              "    <tr>\n",
              "      <th>996</th>\n",
              "      <td>Williamson</td>\n",
              "      <td>Jerry A</td>\n",
              "    </tr>\n",
              "    <tr>\n",
              "      <th>997</th>\n",
              "      <td>Mccue</td>\n",
              "      <td>Daniel T</td>\n",
              "    </tr>\n",
              "    <tr>\n",
              "      <th>998</th>\n",
              "      <td>Larosa</td>\n",
              "      <td>John</td>\n",
              "    </tr>\n",
              "    <tr>\n",
              "      <th>999</th>\n",
              "      <td>Sanchez</td>\n",
              "      <td>Sam R</td>\n",
              "    </tr>\n",
              "  </tbody>\n",
              "</table>\n",
              "<p>1000 rows × 2 columns</p>\n",
              "</div>\n",
              "      <button class=\"colab-df-convert\" onclick=\"convertToInteractive('df-fffac3bb-a03a-4b8e-9a73-a22ed3b90831')\"\n",
              "              title=\"Convert this dataframe to an interactive table.\"\n",
              "              style=\"display:none;\">\n",
              "        \n",
              "  <svg xmlns=\"http://www.w3.org/2000/svg\" height=\"24px\"viewBox=\"0 0 24 24\"\n",
              "       width=\"24px\">\n",
              "    <path d=\"M0 0h24v24H0V0z\" fill=\"none\"/>\n",
              "    <path d=\"M18.56 5.44l.94 2.06.94-2.06 2.06-.94-2.06-.94-.94-2.06-.94 2.06-2.06.94zm-11 1L8.5 8.5l.94-2.06 2.06-.94-2.06-.94L8.5 2.5l-.94 2.06-2.06.94zm10 10l.94 2.06.94-2.06 2.06-.94-2.06-.94-.94-2.06-.94 2.06-2.06.94z\"/><path d=\"M17.41 7.96l-1.37-1.37c-.4-.4-.92-.59-1.43-.59-.52 0-1.04.2-1.43.59L10.3 9.45l-7.72 7.72c-.78.78-.78 2.05 0 2.83L4 21.41c.39.39.9.59 1.41.59.51 0 1.02-.2 1.41-.59l7.78-7.78 2.81-2.81c.8-.78.8-2.07 0-2.86zM5.41 20L4 18.59l7.72-7.72 1.47 1.35L5.41 20z\"/>\n",
              "  </svg>\n",
              "      </button>\n",
              "      \n",
              "  <style>\n",
              "    .colab-df-container {\n",
              "      display:flex;\n",
              "      flex-wrap:wrap;\n",
              "      gap: 12px;\n",
              "    }\n",
              "\n",
              "    .colab-df-convert {\n",
              "      background-color: #E8F0FE;\n",
              "      border: none;\n",
              "      border-radius: 50%;\n",
              "      cursor: pointer;\n",
              "      display: none;\n",
              "      fill: #1967D2;\n",
              "      height: 32px;\n",
              "      padding: 0 0 0 0;\n",
              "      width: 32px;\n",
              "    }\n",
              "\n",
              "    .colab-df-convert:hover {\n",
              "      background-color: #E2EBFA;\n",
              "      box-shadow: 0px 1px 2px rgba(60, 64, 67, 0.3), 0px 1px 3px 1px rgba(60, 64, 67, 0.15);\n",
              "      fill: #174EA6;\n",
              "    }\n",
              "\n",
              "    [theme=dark] .colab-df-convert {\n",
              "      background-color: #3B4455;\n",
              "      fill: #D2E3FC;\n",
              "    }\n",
              "\n",
              "    [theme=dark] .colab-df-convert:hover {\n",
              "      background-color: #434B5C;\n",
              "      box-shadow: 0px 1px 3px 1px rgba(0, 0, 0, 0.15);\n",
              "      filter: drop-shadow(0px 1px 2px rgba(0, 0, 0, 0.3));\n",
              "      fill: #FFFFFF;\n",
              "    }\n",
              "  </style>\n",
              "\n",
              "      <script>\n",
              "        const buttonEl =\n",
              "          document.querySelector('#df-fffac3bb-a03a-4b8e-9a73-a22ed3b90831 button.colab-df-convert');\n",
              "        buttonEl.style.display =\n",
              "          google.colab.kernel.accessAllowed ? 'block' : 'none';\n",
              "\n",
              "        async function convertToInteractive(key) {\n",
              "          const element = document.querySelector('#df-fffac3bb-a03a-4b8e-9a73-a22ed3b90831');\n",
              "          const dataTable =\n",
              "            await google.colab.kernel.invokeFunction('convertToInteractive',\n",
              "                                                     [key], {});\n",
              "          if (!dataTable) return;\n",
              "\n",
              "          const docLinkHtml = 'Like what you see? Visit the ' +\n",
              "            '<a target=\"_blank\" href=https://colab.research.google.com/notebooks/data_table.ipynb>data table notebook</a>'\n",
              "            + ' to learn more about interactive tables.';\n",
              "          element.innerHTML = '';\n",
              "          dataTable['output_type'] = 'display_data';\n",
              "          await google.colab.output.renderOutput(dataTable, element);\n",
              "          const docLink = document.createElement('div');\n",
              "          docLink.innerHTML = docLinkHtml;\n",
              "          element.appendChild(docLink);\n",
              "        }\n",
              "      </script>\n",
              "    </div>\n",
              "  </div>\n",
              "  "
            ],
            "text/plain": [
              "              0         1\n",
              "0         Kirui  Geoffrey\n",
              "1          Rupp     Galen\n",
              "2         Osako    Suguru\n",
              "3        Biwott  Shadrack\n",
              "4        Chebet    Wilson\n",
              "..          ...       ...\n",
              "995      Larosa      Mark\n",
              "996  Williamson   Jerry A\n",
              "997       Mccue  Daniel T\n",
              "998      Larosa      John\n",
              "999     Sanchez     Sam R\n",
              "\n",
              "[1000 rows x 2 columns]"
            ]
          },
          "metadata": {},
          "execution_count": 99
        }
      ]
    },
    {
      "cell_type": "code",
      "metadata": {
        "id": "_3lLTxuUNlrv",
        "colab": {
          "base_uri": "https://localhost:8080/",
          "height": 0
        },
        "outputId": "d7fe57fa-68eb-48e4-ee33-90f37f0445d3"
      },
      "source": [
        "boston.head()"
      ],
      "execution_count": 100,
      "outputs": [
        {
          "output_type": "execute_result",
          "data": {
            "text/html": [
              "\n",
              "  <div id=\"df-cd06ea5e-1c0b-48be-a7e5-001d5041bbf2\">\n",
              "    <div class=\"colab-df-container\">\n",
              "      <div>\n",
              "<style scoped>\n",
              "    .dataframe tbody tr th:only-of-type {\n",
              "        vertical-align: middle;\n",
              "    }\n",
              "\n",
              "    .dataframe tbody tr th {\n",
              "        vertical-align: top;\n",
              "    }\n",
              "\n",
              "    .dataframe thead th {\n",
              "        text-align: right;\n",
              "    }\n",
              "</style>\n",
              "<table border=\"1\" class=\"dataframe\">\n",
              "  <thead>\n",
              "    <tr style=\"text-align: right;\">\n",
              "      <th></th>\n",
              "      <th>Name</th>\n",
              "      <th>Age</th>\n",
              "      <th>M/F</th>\n",
              "      <th>City</th>\n",
              "      <th>State</th>\n",
              "      <th>Country</th>\n",
              "      <th>Official Time</th>\n",
              "      <th>Overall</th>\n",
              "      <th>Gender</th>\n",
              "      <th>Years Ran</th>\n",
              "    </tr>\n",
              "  </thead>\n",
              "  <tbody>\n",
              "    <tr>\n",
              "      <th>0</th>\n",
              "      <td>Kirui, Geoffrey</td>\n",
              "      <td>24</td>\n",
              "      <td>M</td>\n",
              "      <td>Keringet</td>\n",
              "      <td>NaN</td>\n",
              "      <td>KEN</td>\n",
              "      <td>2:09:37</td>\n",
              "      <td>1</td>\n",
              "      <td>1</td>\n",
              "      <td>NaN</td>\n",
              "    </tr>\n",
              "    <tr>\n",
              "      <th>1</th>\n",
              "      <td>Rupp, Galen</td>\n",
              "      <td>30</td>\n",
              "      <td>M</td>\n",
              "      <td>Portland</td>\n",
              "      <td>OR</td>\n",
              "      <td>USA</td>\n",
              "      <td>2:09:58</td>\n",
              "      <td>2</td>\n",
              "      <td>2</td>\n",
              "      <td>NaN</td>\n",
              "    </tr>\n",
              "    <tr>\n",
              "      <th>2</th>\n",
              "      <td>Osako, Suguru</td>\n",
              "      <td>25</td>\n",
              "      <td>M</td>\n",
              "      <td>Machida-City</td>\n",
              "      <td>NaN</td>\n",
              "      <td>JPN</td>\n",
              "      <td>2:10:28</td>\n",
              "      <td>3</td>\n",
              "      <td>3</td>\n",
              "      <td>NaN</td>\n",
              "    </tr>\n",
              "    <tr>\n",
              "      <th>3</th>\n",
              "      <td>Biwott, Shadrack</td>\n",
              "      <td>32</td>\n",
              "      <td>M</td>\n",
              "      <td>Mammoth Lakes</td>\n",
              "      <td>CA</td>\n",
              "      <td>USA</td>\n",
              "      <td>2:12:08</td>\n",
              "      <td>4</td>\n",
              "      <td>4</td>\n",
              "      <td>NaN</td>\n",
              "    </tr>\n",
              "    <tr>\n",
              "      <th>4</th>\n",
              "      <td>Chebet, Wilson</td>\n",
              "      <td>31</td>\n",
              "      <td>M</td>\n",
              "      <td>Marakwet</td>\n",
              "      <td>NaN</td>\n",
              "      <td>KEN</td>\n",
              "      <td>2:12:35</td>\n",
              "      <td>5</td>\n",
              "      <td>5</td>\n",
              "      <td>2015</td>\n",
              "    </tr>\n",
              "  </tbody>\n",
              "</table>\n",
              "</div>\n",
              "      <button class=\"colab-df-convert\" onclick=\"convertToInteractive('df-cd06ea5e-1c0b-48be-a7e5-001d5041bbf2')\"\n",
              "              title=\"Convert this dataframe to an interactive table.\"\n",
              "              style=\"display:none;\">\n",
              "        \n",
              "  <svg xmlns=\"http://www.w3.org/2000/svg\" height=\"24px\"viewBox=\"0 0 24 24\"\n",
              "       width=\"24px\">\n",
              "    <path d=\"M0 0h24v24H0V0z\" fill=\"none\"/>\n",
              "    <path d=\"M18.56 5.44l.94 2.06.94-2.06 2.06-.94-2.06-.94-.94-2.06-.94 2.06-2.06.94zm-11 1L8.5 8.5l.94-2.06 2.06-.94-2.06-.94L8.5 2.5l-.94 2.06-2.06.94zm10 10l.94 2.06.94-2.06 2.06-.94-2.06-.94-.94-2.06-.94 2.06-2.06.94z\"/><path d=\"M17.41 7.96l-1.37-1.37c-.4-.4-.92-.59-1.43-.59-.52 0-1.04.2-1.43.59L10.3 9.45l-7.72 7.72c-.78.78-.78 2.05 0 2.83L4 21.41c.39.39.9.59 1.41.59.51 0 1.02-.2 1.41-.59l7.78-7.78 2.81-2.81c.8-.78.8-2.07 0-2.86zM5.41 20L4 18.59l7.72-7.72 1.47 1.35L5.41 20z\"/>\n",
              "  </svg>\n",
              "      </button>\n",
              "      \n",
              "  <style>\n",
              "    .colab-df-container {\n",
              "      display:flex;\n",
              "      flex-wrap:wrap;\n",
              "      gap: 12px;\n",
              "    }\n",
              "\n",
              "    .colab-df-convert {\n",
              "      background-color: #E8F0FE;\n",
              "      border: none;\n",
              "      border-radius: 50%;\n",
              "      cursor: pointer;\n",
              "      display: none;\n",
              "      fill: #1967D2;\n",
              "      height: 32px;\n",
              "      padding: 0 0 0 0;\n",
              "      width: 32px;\n",
              "    }\n",
              "\n",
              "    .colab-df-convert:hover {\n",
              "      background-color: #E2EBFA;\n",
              "      box-shadow: 0px 1px 2px rgba(60, 64, 67, 0.3), 0px 1px 3px 1px rgba(60, 64, 67, 0.15);\n",
              "      fill: #174EA6;\n",
              "    }\n",
              "\n",
              "    [theme=dark] .colab-df-convert {\n",
              "      background-color: #3B4455;\n",
              "      fill: #D2E3FC;\n",
              "    }\n",
              "\n",
              "    [theme=dark] .colab-df-convert:hover {\n",
              "      background-color: #434B5C;\n",
              "      box-shadow: 0px 1px 3px 1px rgba(0, 0, 0, 0.15);\n",
              "      filter: drop-shadow(0px 1px 2px rgba(0, 0, 0, 0.3));\n",
              "      fill: #FFFFFF;\n",
              "    }\n",
              "  </style>\n",
              "\n",
              "      <script>\n",
              "        const buttonEl =\n",
              "          document.querySelector('#df-cd06ea5e-1c0b-48be-a7e5-001d5041bbf2 button.colab-df-convert');\n",
              "        buttonEl.style.display =\n",
              "          google.colab.kernel.accessAllowed ? 'block' : 'none';\n",
              "\n",
              "        async function convertToInteractive(key) {\n",
              "          const element = document.querySelector('#df-cd06ea5e-1c0b-48be-a7e5-001d5041bbf2');\n",
              "          const dataTable =\n",
              "            await google.colab.kernel.invokeFunction('convertToInteractive',\n",
              "                                                     [key], {});\n",
              "          if (!dataTable) return;\n",
              "\n",
              "          const docLinkHtml = 'Like what you see? Visit the ' +\n",
              "            '<a target=\"_blank\" href=https://colab.research.google.com/notebooks/data_table.ipynb>data table notebook</a>'\n",
              "            + ' to learn more about interactive tables.';\n",
              "          element.innerHTML = '';\n",
              "          dataTable['output_type'] = 'display_data';\n",
              "          await google.colab.output.renderOutput(dataTable, element);\n",
              "          const docLink = document.createElement('div');\n",
              "          docLink.innerHTML = docLinkHtml;\n",
              "          element.appendChild(docLink);\n",
              "        }\n",
              "      </script>\n",
              "    </div>\n",
              "  </div>\n",
              "  "
            ],
            "text/plain": [
              "               Name  Age M/F           City State Country Official Time  \\\n",
              "0   Kirui, Geoffrey   24   M       Keringet   NaN     KEN       2:09:37   \n",
              "1       Rupp, Galen   30   M       Portland    OR     USA       2:09:58   \n",
              "2     Osako, Suguru   25   M   Machida-City   NaN     JPN       2:10:28   \n",
              "3  Biwott, Shadrack   32   M  Mammoth Lakes    CA     USA       2:12:08   \n",
              "4    Chebet, Wilson   31   M       Marakwet   NaN     KEN       2:12:35   \n",
              "\n",
              "   Overall  Gender Years Ran  \n",
              "0        1       1       NaN  \n",
              "1        2       2       NaN  \n",
              "2        3       3       NaN  \n",
              "3        4       4       NaN  \n",
              "4        5       5      2015  "
            ]
          },
          "metadata": {},
          "execution_count": 100
        }
      ]
    },
    {
      "cell_type": "code",
      "metadata": {
        "id": "MG6H-dLDNO3b"
      },
      "source": [
        "boston[['First Name', 'Last Name']] = boston.Name.str.split(', ', expand=True)"
      ],
      "execution_count": 101,
      "outputs": []
    },
    {
      "cell_type": "code",
      "metadata": {
        "id": "d4MSn0T7Nr3U",
        "colab": {
          "base_uri": "https://localhost:8080/",
          "height": 0
        },
        "outputId": "839d2e6e-2328-4737-e5d6-c833d0d6fe6a"
      },
      "source": [
        "boston.head()"
      ],
      "execution_count": 102,
      "outputs": [
        {
          "output_type": "execute_result",
          "data": {
            "text/html": [
              "\n",
              "  <div id=\"df-e53bdf03-1b6d-48b0-97a3-a0173c03d7fc\">\n",
              "    <div class=\"colab-df-container\">\n",
              "      <div>\n",
              "<style scoped>\n",
              "    .dataframe tbody tr th:only-of-type {\n",
              "        vertical-align: middle;\n",
              "    }\n",
              "\n",
              "    .dataframe tbody tr th {\n",
              "        vertical-align: top;\n",
              "    }\n",
              "\n",
              "    .dataframe thead th {\n",
              "        text-align: right;\n",
              "    }\n",
              "</style>\n",
              "<table border=\"1\" class=\"dataframe\">\n",
              "  <thead>\n",
              "    <tr style=\"text-align: right;\">\n",
              "      <th></th>\n",
              "      <th>Name</th>\n",
              "      <th>Age</th>\n",
              "      <th>M/F</th>\n",
              "      <th>City</th>\n",
              "      <th>State</th>\n",
              "      <th>Country</th>\n",
              "      <th>Official Time</th>\n",
              "      <th>Overall</th>\n",
              "      <th>Gender</th>\n",
              "      <th>Years Ran</th>\n",
              "      <th>First Name</th>\n",
              "      <th>Last Name</th>\n",
              "    </tr>\n",
              "  </thead>\n",
              "  <tbody>\n",
              "    <tr>\n",
              "      <th>0</th>\n",
              "      <td>Kirui, Geoffrey</td>\n",
              "      <td>24</td>\n",
              "      <td>M</td>\n",
              "      <td>Keringet</td>\n",
              "      <td>NaN</td>\n",
              "      <td>KEN</td>\n",
              "      <td>2:09:37</td>\n",
              "      <td>1</td>\n",
              "      <td>1</td>\n",
              "      <td>NaN</td>\n",
              "      <td>Kirui</td>\n",
              "      <td>Geoffrey</td>\n",
              "    </tr>\n",
              "    <tr>\n",
              "      <th>1</th>\n",
              "      <td>Rupp, Galen</td>\n",
              "      <td>30</td>\n",
              "      <td>M</td>\n",
              "      <td>Portland</td>\n",
              "      <td>OR</td>\n",
              "      <td>USA</td>\n",
              "      <td>2:09:58</td>\n",
              "      <td>2</td>\n",
              "      <td>2</td>\n",
              "      <td>NaN</td>\n",
              "      <td>Rupp</td>\n",
              "      <td>Galen</td>\n",
              "    </tr>\n",
              "    <tr>\n",
              "      <th>2</th>\n",
              "      <td>Osako, Suguru</td>\n",
              "      <td>25</td>\n",
              "      <td>M</td>\n",
              "      <td>Machida-City</td>\n",
              "      <td>NaN</td>\n",
              "      <td>JPN</td>\n",
              "      <td>2:10:28</td>\n",
              "      <td>3</td>\n",
              "      <td>3</td>\n",
              "      <td>NaN</td>\n",
              "      <td>Osako</td>\n",
              "      <td>Suguru</td>\n",
              "    </tr>\n",
              "    <tr>\n",
              "      <th>3</th>\n",
              "      <td>Biwott, Shadrack</td>\n",
              "      <td>32</td>\n",
              "      <td>M</td>\n",
              "      <td>Mammoth Lakes</td>\n",
              "      <td>CA</td>\n",
              "      <td>USA</td>\n",
              "      <td>2:12:08</td>\n",
              "      <td>4</td>\n",
              "      <td>4</td>\n",
              "      <td>NaN</td>\n",
              "      <td>Biwott</td>\n",
              "      <td>Shadrack</td>\n",
              "    </tr>\n",
              "    <tr>\n",
              "      <th>4</th>\n",
              "      <td>Chebet, Wilson</td>\n",
              "      <td>31</td>\n",
              "      <td>M</td>\n",
              "      <td>Marakwet</td>\n",
              "      <td>NaN</td>\n",
              "      <td>KEN</td>\n",
              "      <td>2:12:35</td>\n",
              "      <td>5</td>\n",
              "      <td>5</td>\n",
              "      <td>2015</td>\n",
              "      <td>Chebet</td>\n",
              "      <td>Wilson</td>\n",
              "    </tr>\n",
              "  </tbody>\n",
              "</table>\n",
              "</div>\n",
              "      <button class=\"colab-df-convert\" onclick=\"convertToInteractive('df-e53bdf03-1b6d-48b0-97a3-a0173c03d7fc')\"\n",
              "              title=\"Convert this dataframe to an interactive table.\"\n",
              "              style=\"display:none;\">\n",
              "        \n",
              "  <svg xmlns=\"http://www.w3.org/2000/svg\" height=\"24px\"viewBox=\"0 0 24 24\"\n",
              "       width=\"24px\">\n",
              "    <path d=\"M0 0h24v24H0V0z\" fill=\"none\"/>\n",
              "    <path d=\"M18.56 5.44l.94 2.06.94-2.06 2.06-.94-2.06-.94-.94-2.06-.94 2.06-2.06.94zm-11 1L8.5 8.5l.94-2.06 2.06-.94-2.06-.94L8.5 2.5l-.94 2.06-2.06.94zm10 10l.94 2.06.94-2.06 2.06-.94-2.06-.94-.94-2.06-.94 2.06-2.06.94z\"/><path d=\"M17.41 7.96l-1.37-1.37c-.4-.4-.92-.59-1.43-.59-.52 0-1.04.2-1.43.59L10.3 9.45l-7.72 7.72c-.78.78-.78 2.05 0 2.83L4 21.41c.39.39.9.59 1.41.59.51 0 1.02-.2 1.41-.59l7.78-7.78 2.81-2.81c.8-.78.8-2.07 0-2.86zM5.41 20L4 18.59l7.72-7.72 1.47 1.35L5.41 20z\"/>\n",
              "  </svg>\n",
              "      </button>\n",
              "      \n",
              "  <style>\n",
              "    .colab-df-container {\n",
              "      display:flex;\n",
              "      flex-wrap:wrap;\n",
              "      gap: 12px;\n",
              "    }\n",
              "\n",
              "    .colab-df-convert {\n",
              "      background-color: #E8F0FE;\n",
              "      border: none;\n",
              "      border-radius: 50%;\n",
              "      cursor: pointer;\n",
              "      display: none;\n",
              "      fill: #1967D2;\n",
              "      height: 32px;\n",
              "      padding: 0 0 0 0;\n",
              "      width: 32px;\n",
              "    }\n",
              "\n",
              "    .colab-df-convert:hover {\n",
              "      background-color: #E2EBFA;\n",
              "      box-shadow: 0px 1px 2px rgba(60, 64, 67, 0.3), 0px 1px 3px 1px rgba(60, 64, 67, 0.15);\n",
              "      fill: #174EA6;\n",
              "    }\n",
              "\n",
              "    [theme=dark] .colab-df-convert {\n",
              "      background-color: #3B4455;\n",
              "      fill: #D2E3FC;\n",
              "    }\n",
              "\n",
              "    [theme=dark] .colab-df-convert:hover {\n",
              "      background-color: #434B5C;\n",
              "      box-shadow: 0px 1px 3px 1px rgba(0, 0, 0, 0.15);\n",
              "      filter: drop-shadow(0px 1px 2px rgba(0, 0, 0, 0.3));\n",
              "      fill: #FFFFFF;\n",
              "    }\n",
              "  </style>\n",
              "\n",
              "      <script>\n",
              "        const buttonEl =\n",
              "          document.querySelector('#df-e53bdf03-1b6d-48b0-97a3-a0173c03d7fc button.colab-df-convert');\n",
              "        buttonEl.style.display =\n",
              "          google.colab.kernel.accessAllowed ? 'block' : 'none';\n",
              "\n",
              "        async function convertToInteractive(key) {\n",
              "          const element = document.querySelector('#df-e53bdf03-1b6d-48b0-97a3-a0173c03d7fc');\n",
              "          const dataTable =\n",
              "            await google.colab.kernel.invokeFunction('convertToInteractive',\n",
              "                                                     [key], {});\n",
              "          if (!dataTable) return;\n",
              "\n",
              "          const docLinkHtml = 'Like what you see? Visit the ' +\n",
              "            '<a target=\"_blank\" href=https://colab.research.google.com/notebooks/data_table.ipynb>data table notebook</a>'\n",
              "            + ' to learn more about interactive tables.';\n",
              "          element.innerHTML = '';\n",
              "          dataTable['output_type'] = 'display_data';\n",
              "          await google.colab.output.renderOutput(dataTable, element);\n",
              "          const docLink = document.createElement('div');\n",
              "          docLink.innerHTML = docLinkHtml;\n",
              "          element.appendChild(docLink);\n",
              "        }\n",
              "      </script>\n",
              "    </div>\n",
              "  </div>\n",
              "  "
            ],
            "text/plain": [
              "               Name  Age M/F           City State Country Official Time  \\\n",
              "0   Kirui, Geoffrey   24   M       Keringet   NaN     KEN       2:09:37   \n",
              "1       Rupp, Galen   30   M       Portland    OR     USA       2:09:58   \n",
              "2     Osako, Suguru   25   M   Machida-City   NaN     JPN       2:10:28   \n",
              "3  Biwott, Shadrack   32   M  Mammoth Lakes    CA     USA       2:12:08   \n",
              "4    Chebet, Wilson   31   M       Marakwet   NaN     KEN       2:12:35   \n",
              "\n",
              "   Overall  Gender Years Ran First Name Last Name  \n",
              "0        1       1       NaN      Kirui  Geoffrey  \n",
              "1        2       2       NaN       Rupp     Galen  \n",
              "2        3       3       NaN      Osako    Suguru  \n",
              "3        4       4       NaN     Biwott  Shadrack  \n",
              "4        5       5      2015     Chebet    Wilson  "
            ]
          },
          "metadata": {},
          "execution_count": 102
        }
      ]
    },
    {
      "cell_type": "markdown",
      "metadata": {
        "id": "LsrMPTQ2NtLJ"
      },
      "source": [
        "#### Skill Challenge"
      ]
    },
    {
      "cell_type": "markdown",
      "metadata": {
        "id": "HUWVNVKLOMU8"
      },
      "source": [
        "###### **1.**"
      ]
    },
    {
      "cell_type": "markdown",
      "metadata": {
        "id": "FydSSgqOOe5v"
      },
      "source": [
        "How many runners in our dataset have \"James\" as a *Last Name*."
      ]
    },
    {
      "cell_type": "markdown",
      "metadata": {
        "id": "K_oWyfL3OKcJ"
      },
      "source": [
        "###### **2.**"
      ]
    },
    {
      "cell_type": "markdown",
      "metadata": {
        "id": "zd1HvEXeOkCy"
      },
      "source": [
        "Split all the *City* names in the dataset by the hyphen character \"-\", and create a dataframe containing each split component of the split name.\n",
        "\n",
        "Assign this dataframe to the variable *city_parts*."
      ]
    },
    {
      "cell_type": "markdown",
      "metadata": {
        "id": "rz4EkcI6Omd5"
      },
      "source": [
        "###### **3.**"
      ]
    },
    {
      "cell_type": "markdown",
      "metadata": {
        "id": "7YOhqiKoOpZj"
      },
      "source": [
        "How many cities in the boston dataframe have more than 1 component? Which cities are they?"
      ]
    },
    {
      "cell_type": "markdown",
      "metadata": {
        "id": "KPzZtRO8PqrS"
      },
      "source": [
        "#### Solution"
      ]
    },
    {
      "cell_type": "code",
      "metadata": {
        "id": "f0pxJiSOPrjH"
      },
      "source": [
        "# 1"
      ],
      "execution_count": 103,
      "outputs": []
    },
    {
      "cell_type": "code",
      "metadata": {
        "id": "6GHg1DycQHsc",
        "colab": {
          "base_uri": "https://localhost:8080/",
          "height": 0
        },
        "outputId": "c7b8e1af-e218-4eca-c97a-8c6c0a9b6894"
      },
      "source": [
        "boston.head()"
      ],
      "execution_count": 104,
      "outputs": [
        {
          "output_type": "execute_result",
          "data": {
            "text/html": [
              "\n",
              "  <div id=\"df-1026c9b7-a03e-4b9d-a1f9-a5065a12efc2\">\n",
              "    <div class=\"colab-df-container\">\n",
              "      <div>\n",
              "<style scoped>\n",
              "    .dataframe tbody tr th:only-of-type {\n",
              "        vertical-align: middle;\n",
              "    }\n",
              "\n",
              "    .dataframe tbody tr th {\n",
              "        vertical-align: top;\n",
              "    }\n",
              "\n",
              "    .dataframe thead th {\n",
              "        text-align: right;\n",
              "    }\n",
              "</style>\n",
              "<table border=\"1\" class=\"dataframe\">\n",
              "  <thead>\n",
              "    <tr style=\"text-align: right;\">\n",
              "      <th></th>\n",
              "      <th>Name</th>\n",
              "      <th>Age</th>\n",
              "      <th>M/F</th>\n",
              "      <th>City</th>\n",
              "      <th>State</th>\n",
              "      <th>Country</th>\n",
              "      <th>Official Time</th>\n",
              "      <th>Overall</th>\n",
              "      <th>Gender</th>\n",
              "      <th>Years Ran</th>\n",
              "      <th>First Name</th>\n",
              "      <th>Last Name</th>\n",
              "    </tr>\n",
              "  </thead>\n",
              "  <tbody>\n",
              "    <tr>\n",
              "      <th>0</th>\n",
              "      <td>Kirui, Geoffrey</td>\n",
              "      <td>24</td>\n",
              "      <td>M</td>\n",
              "      <td>Keringet</td>\n",
              "      <td>NaN</td>\n",
              "      <td>KEN</td>\n",
              "      <td>2:09:37</td>\n",
              "      <td>1</td>\n",
              "      <td>1</td>\n",
              "      <td>NaN</td>\n",
              "      <td>Kirui</td>\n",
              "      <td>Geoffrey</td>\n",
              "    </tr>\n",
              "    <tr>\n",
              "      <th>1</th>\n",
              "      <td>Rupp, Galen</td>\n",
              "      <td>30</td>\n",
              "      <td>M</td>\n",
              "      <td>Portland</td>\n",
              "      <td>OR</td>\n",
              "      <td>USA</td>\n",
              "      <td>2:09:58</td>\n",
              "      <td>2</td>\n",
              "      <td>2</td>\n",
              "      <td>NaN</td>\n",
              "      <td>Rupp</td>\n",
              "      <td>Galen</td>\n",
              "    </tr>\n",
              "    <tr>\n",
              "      <th>2</th>\n",
              "      <td>Osako, Suguru</td>\n",
              "      <td>25</td>\n",
              "      <td>M</td>\n",
              "      <td>Machida-City</td>\n",
              "      <td>NaN</td>\n",
              "      <td>JPN</td>\n",
              "      <td>2:10:28</td>\n",
              "      <td>3</td>\n",
              "      <td>3</td>\n",
              "      <td>NaN</td>\n",
              "      <td>Osako</td>\n",
              "      <td>Suguru</td>\n",
              "    </tr>\n",
              "    <tr>\n",
              "      <th>3</th>\n",
              "      <td>Biwott, Shadrack</td>\n",
              "      <td>32</td>\n",
              "      <td>M</td>\n",
              "      <td>Mammoth Lakes</td>\n",
              "      <td>CA</td>\n",
              "      <td>USA</td>\n",
              "      <td>2:12:08</td>\n",
              "      <td>4</td>\n",
              "      <td>4</td>\n",
              "      <td>NaN</td>\n",
              "      <td>Biwott</td>\n",
              "      <td>Shadrack</td>\n",
              "    </tr>\n",
              "    <tr>\n",
              "      <th>4</th>\n",
              "      <td>Chebet, Wilson</td>\n",
              "      <td>31</td>\n",
              "      <td>M</td>\n",
              "      <td>Marakwet</td>\n",
              "      <td>NaN</td>\n",
              "      <td>KEN</td>\n",
              "      <td>2:12:35</td>\n",
              "      <td>5</td>\n",
              "      <td>5</td>\n",
              "      <td>2015</td>\n",
              "      <td>Chebet</td>\n",
              "      <td>Wilson</td>\n",
              "    </tr>\n",
              "  </tbody>\n",
              "</table>\n",
              "</div>\n",
              "      <button class=\"colab-df-convert\" onclick=\"convertToInteractive('df-1026c9b7-a03e-4b9d-a1f9-a5065a12efc2')\"\n",
              "              title=\"Convert this dataframe to an interactive table.\"\n",
              "              style=\"display:none;\">\n",
              "        \n",
              "  <svg xmlns=\"http://www.w3.org/2000/svg\" height=\"24px\"viewBox=\"0 0 24 24\"\n",
              "       width=\"24px\">\n",
              "    <path d=\"M0 0h24v24H0V0z\" fill=\"none\"/>\n",
              "    <path d=\"M18.56 5.44l.94 2.06.94-2.06 2.06-.94-2.06-.94-.94-2.06-.94 2.06-2.06.94zm-11 1L8.5 8.5l.94-2.06 2.06-.94-2.06-.94L8.5 2.5l-.94 2.06-2.06.94zm10 10l.94 2.06.94-2.06 2.06-.94-2.06-.94-.94-2.06-.94 2.06-2.06.94z\"/><path d=\"M17.41 7.96l-1.37-1.37c-.4-.4-.92-.59-1.43-.59-.52 0-1.04.2-1.43.59L10.3 9.45l-7.72 7.72c-.78.78-.78 2.05 0 2.83L4 21.41c.39.39.9.59 1.41.59.51 0 1.02-.2 1.41-.59l7.78-7.78 2.81-2.81c.8-.78.8-2.07 0-2.86zM5.41 20L4 18.59l7.72-7.72 1.47 1.35L5.41 20z\"/>\n",
              "  </svg>\n",
              "      </button>\n",
              "      \n",
              "  <style>\n",
              "    .colab-df-container {\n",
              "      display:flex;\n",
              "      flex-wrap:wrap;\n",
              "      gap: 12px;\n",
              "    }\n",
              "\n",
              "    .colab-df-convert {\n",
              "      background-color: #E8F0FE;\n",
              "      border: none;\n",
              "      border-radius: 50%;\n",
              "      cursor: pointer;\n",
              "      display: none;\n",
              "      fill: #1967D2;\n",
              "      height: 32px;\n",
              "      padding: 0 0 0 0;\n",
              "      width: 32px;\n",
              "    }\n",
              "\n",
              "    .colab-df-convert:hover {\n",
              "      background-color: #E2EBFA;\n",
              "      box-shadow: 0px 1px 2px rgba(60, 64, 67, 0.3), 0px 1px 3px 1px rgba(60, 64, 67, 0.15);\n",
              "      fill: #174EA6;\n",
              "    }\n",
              "\n",
              "    [theme=dark] .colab-df-convert {\n",
              "      background-color: #3B4455;\n",
              "      fill: #D2E3FC;\n",
              "    }\n",
              "\n",
              "    [theme=dark] .colab-df-convert:hover {\n",
              "      background-color: #434B5C;\n",
              "      box-shadow: 0px 1px 3px 1px rgba(0, 0, 0, 0.15);\n",
              "      filter: drop-shadow(0px 1px 2px rgba(0, 0, 0, 0.3));\n",
              "      fill: #FFFFFF;\n",
              "    }\n",
              "  </style>\n",
              "\n",
              "      <script>\n",
              "        const buttonEl =\n",
              "          document.querySelector('#df-1026c9b7-a03e-4b9d-a1f9-a5065a12efc2 button.colab-df-convert');\n",
              "        buttonEl.style.display =\n",
              "          google.colab.kernel.accessAllowed ? 'block' : 'none';\n",
              "\n",
              "        async function convertToInteractive(key) {\n",
              "          const element = document.querySelector('#df-1026c9b7-a03e-4b9d-a1f9-a5065a12efc2');\n",
              "          const dataTable =\n",
              "            await google.colab.kernel.invokeFunction('convertToInteractive',\n",
              "                                                     [key], {});\n",
              "          if (!dataTable) return;\n",
              "\n",
              "          const docLinkHtml = 'Like what you see? Visit the ' +\n",
              "            '<a target=\"_blank\" href=https://colab.research.google.com/notebooks/data_table.ipynb>data table notebook</a>'\n",
              "            + ' to learn more about interactive tables.';\n",
              "          element.innerHTML = '';\n",
              "          dataTable['output_type'] = 'display_data';\n",
              "          await google.colab.output.renderOutput(dataTable, element);\n",
              "          const docLink = document.createElement('div');\n",
              "          docLink.innerHTML = docLinkHtml;\n",
              "          element.appendChild(docLink);\n",
              "        }\n",
              "      </script>\n",
              "    </div>\n",
              "  </div>\n",
              "  "
            ],
            "text/plain": [
              "               Name  Age M/F           City State Country Official Time  \\\n",
              "0   Kirui, Geoffrey   24   M       Keringet   NaN     KEN       2:09:37   \n",
              "1       Rupp, Galen   30   M       Portland    OR     USA       2:09:58   \n",
              "2     Osako, Suguru   25   M   Machida-City   NaN     JPN       2:10:28   \n",
              "3  Biwott, Shadrack   32   M  Mammoth Lakes    CA     USA       2:12:08   \n",
              "4    Chebet, Wilson   31   M       Marakwet   NaN     KEN       2:12:35   \n",
              "\n",
              "   Overall  Gender Years Ran First Name Last Name  \n",
              "0        1       1       NaN      Kirui  Geoffrey  \n",
              "1        2       2       NaN       Rupp     Galen  \n",
              "2        3       3       NaN      Osako    Suguru  \n",
              "3        4       4       NaN     Biwott  Shadrack  \n",
              "4        5       5      2015     Chebet    Wilson  "
            ]
          },
          "metadata": {},
          "execution_count": 104
        }
      ]
    },
    {
      "cell_type": "code",
      "metadata": {
        "id": "lZYU6NBaQIPx",
        "colab": {
          "base_uri": "https://localhost:8080/"
        },
        "outputId": "1ccd451f-fb47-4062-9c69-42d0677df534"
      },
      "source": [
        "boston['Last Name'].str.find('James').value_counts()"
      ],
      "execution_count": 105,
      "outputs": [
        {
          "output_type": "execute_result",
          "data": {
            "text/plain": [
              "-1    988\n",
              " 0     12\n",
              "Name: Last Name, dtype: int64"
            ]
          },
          "metadata": {},
          "execution_count": 105
        }
      ]
    },
    {
      "cell_type": "code",
      "metadata": {
        "id": "dWdwMUGIQLz0"
      },
      "source": [
        "# 2"
      ],
      "execution_count": 106,
      "outputs": []
    },
    {
      "cell_type": "code",
      "metadata": {
        "id": "-dh6NV-cQe1b"
      },
      "source": [
        "city_parts = boston.City.str.split('-', expand=True)"
      ],
      "execution_count": 107,
      "outputs": []
    },
    {
      "cell_type": "code",
      "metadata": {
        "id": "9Bhk1wEHQgXR"
      },
      "source": [
        "# 3"
      ],
      "execution_count": 108,
      "outputs": []
    },
    {
      "cell_type": "code",
      "metadata": {
        "id": "a2ZJ_IZ_QtOD",
        "colab": {
          "base_uri": "https://localhost:8080/"
        },
        "outputId": "5dce250e-5e6f-4a38-8a3e-6b15f2ae1ba8"
      },
      "source": [
        "boston[city_parts.count(axis=1) > 1].City"
      ],
      "execution_count": 109,
      "outputs": [
        {
          "output_type": "execute_result",
          "data": {
            "text/plain": [
              "2                    Machida-City\n",
              "35                 Sao Paulo - Sp\n",
              "188                  Baie-St-Paul\n",
              "201            Houghton-Le-Spring\n",
              "371          Boulogne-Billancourt\n",
              "420                    Mont-Royal\n",
              "585                Gif-Sur-Yvette\n",
              "615        Fossambault-Sur-Le-Lac\n",
              "724         Wiesbaden-Breckenheim\n",
              "727                    Saint-Tite\n",
              "794                   Marica - Rj\n",
              "820    Sainte-Catherine-De-Hatley\n",
              "830                    Pont-Rouge\n",
              "Name: City, dtype: object"
            ]
          },
          "metadata": {},
          "execution_count": 109
        }
      ]
    },
    {
      "cell_type": "code",
      "metadata": {
        "id": "AC9GzIvYQv08"
      },
      "source": [
        "# bonus: which countries such cities hail from"
      ],
      "execution_count": 110,
      "outputs": []
    },
    {
      "cell_type": "code",
      "metadata": {
        "id": "uOWO69B9Q-_B",
        "colab": {
          "base_uri": "https://localhost:8080/"
        },
        "outputId": "454b9c48-4740-4ac7-cef8-e5fbe2e373d9"
      },
      "source": [
        "boston[city_parts.count(axis=1) > 1].Country.value_counts()"
      ],
      "execution_count": 111,
      "outputs": [
        {
          "output_type": "execute_result",
          "data": {
            "text/plain": [
              "CAN    6\n",
              "BRA    2\n",
              "FRA    2\n",
              "JPN    1\n",
              "GBR    1\n",
              "GER    1\n",
              "Name: Country, dtype: int64"
            ]
          },
          "metadata": {},
          "execution_count": 111
        }
      ]
    },
    {
      "cell_type": "markdown",
      "metadata": {
        "id": "tWYVRbrMRBiU"
      },
      "source": [
        "#### Slicing Substrings"
      ]
    },
    {
      "cell_type": "code",
      "metadata": {
        "id": "ClqE92GsoYlx",
        "colab": {
          "base_uri": "https://localhost:8080/",
          "height": 0
        },
        "outputId": "4af487ab-cb68-4f98-f189-74c0bd261541"
      },
      "source": [
        "s"
      ],
      "execution_count": 112,
      "outputs": [
        {
          "output_type": "execute_result",
          "data": {
            "application/vnd.google.colaboratory.intrinsic+json": {
              "type": "string"
            },
            "text/plain": [
              "'Welcome to the text manipulation section'"
            ]
          },
          "metadata": {},
          "execution_count": 112
        }
      ]
    },
    {
      "cell_type": "code",
      "metadata": {
        "id": "8YGTYdT3spct"
      },
      "source": [
        "# slice() + []"
      ],
      "execution_count": 113,
      "outputs": []
    },
    {
      "cell_type": "code",
      "metadata": {
        "id": "YfH8lZKBsq5K",
        "colab": {
          "base_uri": "https://localhost:8080/",
          "height": 0
        },
        "outputId": "8654430c-0581-497c-cafc-1886973ca702"
      },
      "source": [
        "s[slice(0, 7, 1)]"
      ],
      "execution_count": 114,
      "outputs": [
        {
          "output_type": "execute_result",
          "data": {
            "application/vnd.google.colaboratory.intrinsic+json": {
              "type": "string"
            },
            "text/plain": [
              "'Welcome'"
            ]
          },
          "metadata": {},
          "execution_count": 114
        }
      ]
    },
    {
      "cell_type": "code",
      "metadata": {
        "id": "jJ6apDPOs44k",
        "colab": {
          "base_uri": "https://localhost:8080/",
          "height": 0
        },
        "outputId": "7f792740-2c85-4336-e39d-daabfcc567dd"
      },
      "source": [
        "s[slice(7)]"
      ],
      "execution_count": 115,
      "outputs": [
        {
          "output_type": "execute_result",
          "data": {
            "application/vnd.google.colaboratory.intrinsic+json": {
              "type": "string"
            },
            "text/plain": [
              "'Welcome'"
            ]
          },
          "metadata": {},
          "execution_count": 115
        }
      ]
    },
    {
      "cell_type": "code",
      "metadata": {
        "id": "CZibFkU8tHeo",
        "colab": {
          "base_uri": "https://localhost:8080/",
          "height": 0
        },
        "outputId": "35dce8d1-0836-4fbe-9782-953964c12337"
      },
      "source": [
        "s[0:7:1]"
      ],
      "execution_count": 116,
      "outputs": [
        {
          "output_type": "execute_result",
          "data": {
            "application/vnd.google.colaboratory.intrinsic+json": {
              "type": "string"
            },
            "text/plain": [
              "'Welcome'"
            ]
          },
          "metadata": {},
          "execution_count": 116
        }
      ]
    },
    {
      "cell_type": "code",
      "metadata": {
        "id": "L5oj06qEtSDN",
        "colab": {
          "base_uri": "https://localhost:8080/",
          "height": 0
        },
        "outputId": "a1e7316c-cef4-4677-8b8b-f4a14d8e79d9"
      },
      "source": [
        "s[:7:]"
      ],
      "execution_count": 117,
      "outputs": [
        {
          "output_type": "execute_result",
          "data": {
            "application/vnd.google.colaboratory.intrinsic+json": {
              "type": "string"
            },
            "text/plain": [
              "'Welcome'"
            ]
          },
          "metadata": {},
          "execution_count": 117
        }
      ]
    },
    {
      "cell_type": "code",
      "metadata": {
        "id": "-oh4KE2StVU0",
        "colab": {
          "base_uri": "https://localhost:8080/",
          "height": 0
        },
        "outputId": "6bd54925-0c9e-4fb7-b8ad-403176804ac5"
      },
      "source": [
        "boston.head()"
      ],
      "execution_count": 118,
      "outputs": [
        {
          "output_type": "execute_result",
          "data": {
            "text/html": [
              "\n",
              "  <div id=\"df-139409d5-9943-4ce4-a8d3-9a1a957a3d2b\">\n",
              "    <div class=\"colab-df-container\">\n",
              "      <div>\n",
              "<style scoped>\n",
              "    .dataframe tbody tr th:only-of-type {\n",
              "        vertical-align: middle;\n",
              "    }\n",
              "\n",
              "    .dataframe tbody tr th {\n",
              "        vertical-align: top;\n",
              "    }\n",
              "\n",
              "    .dataframe thead th {\n",
              "        text-align: right;\n",
              "    }\n",
              "</style>\n",
              "<table border=\"1\" class=\"dataframe\">\n",
              "  <thead>\n",
              "    <tr style=\"text-align: right;\">\n",
              "      <th></th>\n",
              "      <th>Name</th>\n",
              "      <th>Age</th>\n",
              "      <th>M/F</th>\n",
              "      <th>City</th>\n",
              "      <th>State</th>\n",
              "      <th>Country</th>\n",
              "      <th>Official Time</th>\n",
              "      <th>Overall</th>\n",
              "      <th>Gender</th>\n",
              "      <th>Years Ran</th>\n",
              "      <th>First Name</th>\n",
              "      <th>Last Name</th>\n",
              "    </tr>\n",
              "  </thead>\n",
              "  <tbody>\n",
              "    <tr>\n",
              "      <th>0</th>\n",
              "      <td>Kirui, Geoffrey</td>\n",
              "      <td>24</td>\n",
              "      <td>M</td>\n",
              "      <td>Keringet</td>\n",
              "      <td>NaN</td>\n",
              "      <td>KEN</td>\n",
              "      <td>2:09:37</td>\n",
              "      <td>1</td>\n",
              "      <td>1</td>\n",
              "      <td>NaN</td>\n",
              "      <td>Kirui</td>\n",
              "      <td>Geoffrey</td>\n",
              "    </tr>\n",
              "    <tr>\n",
              "      <th>1</th>\n",
              "      <td>Rupp, Galen</td>\n",
              "      <td>30</td>\n",
              "      <td>M</td>\n",
              "      <td>Portland</td>\n",
              "      <td>OR</td>\n",
              "      <td>USA</td>\n",
              "      <td>2:09:58</td>\n",
              "      <td>2</td>\n",
              "      <td>2</td>\n",
              "      <td>NaN</td>\n",
              "      <td>Rupp</td>\n",
              "      <td>Galen</td>\n",
              "    </tr>\n",
              "    <tr>\n",
              "      <th>2</th>\n",
              "      <td>Osako, Suguru</td>\n",
              "      <td>25</td>\n",
              "      <td>M</td>\n",
              "      <td>Machida-City</td>\n",
              "      <td>NaN</td>\n",
              "      <td>JPN</td>\n",
              "      <td>2:10:28</td>\n",
              "      <td>3</td>\n",
              "      <td>3</td>\n",
              "      <td>NaN</td>\n",
              "      <td>Osako</td>\n",
              "      <td>Suguru</td>\n",
              "    </tr>\n",
              "    <tr>\n",
              "      <th>3</th>\n",
              "      <td>Biwott, Shadrack</td>\n",
              "      <td>32</td>\n",
              "      <td>M</td>\n",
              "      <td>Mammoth Lakes</td>\n",
              "      <td>CA</td>\n",
              "      <td>USA</td>\n",
              "      <td>2:12:08</td>\n",
              "      <td>4</td>\n",
              "      <td>4</td>\n",
              "      <td>NaN</td>\n",
              "      <td>Biwott</td>\n",
              "      <td>Shadrack</td>\n",
              "    </tr>\n",
              "    <tr>\n",
              "      <th>4</th>\n",
              "      <td>Chebet, Wilson</td>\n",
              "      <td>31</td>\n",
              "      <td>M</td>\n",
              "      <td>Marakwet</td>\n",
              "      <td>NaN</td>\n",
              "      <td>KEN</td>\n",
              "      <td>2:12:35</td>\n",
              "      <td>5</td>\n",
              "      <td>5</td>\n",
              "      <td>2015</td>\n",
              "      <td>Chebet</td>\n",
              "      <td>Wilson</td>\n",
              "    </tr>\n",
              "  </tbody>\n",
              "</table>\n",
              "</div>\n",
              "      <button class=\"colab-df-convert\" onclick=\"convertToInteractive('df-139409d5-9943-4ce4-a8d3-9a1a957a3d2b')\"\n",
              "              title=\"Convert this dataframe to an interactive table.\"\n",
              "              style=\"display:none;\">\n",
              "        \n",
              "  <svg xmlns=\"http://www.w3.org/2000/svg\" height=\"24px\"viewBox=\"0 0 24 24\"\n",
              "       width=\"24px\">\n",
              "    <path d=\"M0 0h24v24H0V0z\" fill=\"none\"/>\n",
              "    <path d=\"M18.56 5.44l.94 2.06.94-2.06 2.06-.94-2.06-.94-.94-2.06-.94 2.06-2.06.94zm-11 1L8.5 8.5l.94-2.06 2.06-.94-2.06-.94L8.5 2.5l-.94 2.06-2.06.94zm10 10l.94 2.06.94-2.06 2.06-.94-2.06-.94-.94-2.06-.94 2.06-2.06.94z\"/><path d=\"M17.41 7.96l-1.37-1.37c-.4-.4-.92-.59-1.43-.59-.52 0-1.04.2-1.43.59L10.3 9.45l-7.72 7.72c-.78.78-.78 2.05 0 2.83L4 21.41c.39.39.9.59 1.41.59.51 0 1.02-.2 1.41-.59l7.78-7.78 2.81-2.81c.8-.78.8-2.07 0-2.86zM5.41 20L4 18.59l7.72-7.72 1.47 1.35L5.41 20z\"/>\n",
              "  </svg>\n",
              "      </button>\n",
              "      \n",
              "  <style>\n",
              "    .colab-df-container {\n",
              "      display:flex;\n",
              "      flex-wrap:wrap;\n",
              "      gap: 12px;\n",
              "    }\n",
              "\n",
              "    .colab-df-convert {\n",
              "      background-color: #E8F0FE;\n",
              "      border: none;\n",
              "      border-radius: 50%;\n",
              "      cursor: pointer;\n",
              "      display: none;\n",
              "      fill: #1967D2;\n",
              "      height: 32px;\n",
              "      padding: 0 0 0 0;\n",
              "      width: 32px;\n",
              "    }\n",
              "\n",
              "    .colab-df-convert:hover {\n",
              "      background-color: #E2EBFA;\n",
              "      box-shadow: 0px 1px 2px rgba(60, 64, 67, 0.3), 0px 1px 3px 1px rgba(60, 64, 67, 0.15);\n",
              "      fill: #174EA6;\n",
              "    }\n",
              "\n",
              "    [theme=dark] .colab-df-convert {\n",
              "      background-color: #3B4455;\n",
              "      fill: #D2E3FC;\n",
              "    }\n",
              "\n",
              "    [theme=dark] .colab-df-convert:hover {\n",
              "      background-color: #434B5C;\n",
              "      box-shadow: 0px 1px 3px 1px rgba(0, 0, 0, 0.15);\n",
              "      filter: drop-shadow(0px 1px 2px rgba(0, 0, 0, 0.3));\n",
              "      fill: #FFFFFF;\n",
              "    }\n",
              "  </style>\n",
              "\n",
              "      <script>\n",
              "        const buttonEl =\n",
              "          document.querySelector('#df-139409d5-9943-4ce4-a8d3-9a1a957a3d2b button.colab-df-convert');\n",
              "        buttonEl.style.display =\n",
              "          google.colab.kernel.accessAllowed ? 'block' : 'none';\n",
              "\n",
              "        async function convertToInteractive(key) {\n",
              "          const element = document.querySelector('#df-139409d5-9943-4ce4-a8d3-9a1a957a3d2b');\n",
              "          const dataTable =\n",
              "            await google.colab.kernel.invokeFunction('convertToInteractive',\n",
              "                                                     [key], {});\n",
              "          if (!dataTable) return;\n",
              "\n",
              "          const docLinkHtml = 'Like what you see? Visit the ' +\n",
              "            '<a target=\"_blank\" href=https://colab.research.google.com/notebooks/data_table.ipynb>data table notebook</a>'\n",
              "            + ' to learn more about interactive tables.';\n",
              "          element.innerHTML = '';\n",
              "          dataTable['output_type'] = 'display_data';\n",
              "          await google.colab.output.renderOutput(dataTable, element);\n",
              "          const docLink = document.createElement('div');\n",
              "          docLink.innerHTML = docLinkHtml;\n",
              "          element.appendChild(docLink);\n",
              "        }\n",
              "      </script>\n",
              "    </div>\n",
              "  </div>\n",
              "  "
            ],
            "text/plain": [
              "               Name  Age M/F           City State Country Official Time  \\\n",
              "0   Kirui, Geoffrey   24   M       Keringet   NaN     KEN       2:09:37   \n",
              "1       Rupp, Galen   30   M       Portland    OR     USA       2:09:58   \n",
              "2     Osako, Suguru   25   M   Machida-City   NaN     JPN       2:10:28   \n",
              "3  Biwott, Shadrack   32   M  Mammoth Lakes    CA     USA       2:12:08   \n",
              "4    Chebet, Wilson   31   M       Marakwet   NaN     KEN       2:12:35   \n",
              "\n",
              "   Overall  Gender Years Ran First Name Last Name  \n",
              "0        1       1       NaN      Kirui  Geoffrey  \n",
              "1        2       2       NaN       Rupp     Galen  \n",
              "2        3       3       NaN      Osako    Suguru  \n",
              "3        4       4       NaN     Biwott  Shadrack  \n",
              "4        5       5      2015     Chebet    Wilson  "
            ]
          },
          "metadata": {},
          "execution_count": 118
        }
      ]
    },
    {
      "cell_type": "code",
      "metadata": {
        "id": "6dGm18JItZwy",
        "colab": {
          "base_uri": "https://localhost:8080/"
        },
        "outputId": "86211dfc-71e9-4842-b906-fcaf2bf3184a"
      },
      "source": [
        "boston.Country.str.slice(0, 2, 1)"
      ],
      "execution_count": 119,
      "outputs": [
        {
          "output_type": "execute_result",
          "data": {
            "text/plain": [
              "0      KE\n",
              "1      US\n",
              "2      JP\n",
              "3      US\n",
              "4      KE\n",
              "       ..\n",
              "995    US\n",
              "996    US\n",
              "997    US\n",
              "998    US\n",
              "999    US\n",
              "Name: Country, Length: 1000, dtype: object"
            ]
          },
          "metadata": {},
          "execution_count": 119
        }
      ]
    },
    {
      "cell_type": "code",
      "metadata": {
        "id": "RX-7bCVbtfkk",
        "colab": {
          "base_uri": "https://localhost:8080/"
        },
        "outputId": "3923174f-ca11-4fff-dcba-293e13dd36eb"
      },
      "source": [
        "boston.Country.str.slice(start=-2, step=1, stop=None)"
      ],
      "execution_count": 120,
      "outputs": [
        {
          "output_type": "execute_result",
          "data": {
            "text/plain": [
              "0      EN\n",
              "1      SA\n",
              "2      PN\n",
              "3      SA\n",
              "4      EN\n",
              "       ..\n",
              "995    SA\n",
              "996    SA\n",
              "997    SA\n",
              "998    SA\n",
              "999    SA\n",
              "Name: Country, Length: 1000, dtype: object"
            ]
          },
          "metadata": {},
          "execution_count": 120
        }
      ]
    },
    {
      "cell_type": "markdown",
      "metadata": {
        "id": "Pgspen36ttP0"
      },
      "source": [
        "#### Masking With String Methods"
      ]
    },
    {
      "cell_type": "code",
      "metadata": {
        "id": "WYMgVQ-tuSMI",
        "colab": {
          "base_uri": "https://localhost:8080/",
          "height": 0
        },
        "outputId": "e97c273c-b624-4133-ffcd-74d677c77078"
      },
      "source": [
        "boston.head()"
      ],
      "execution_count": 121,
      "outputs": [
        {
          "output_type": "execute_result",
          "data": {
            "text/html": [
              "\n",
              "  <div id=\"df-8eaa80f7-19bc-4c20-97c5-b3d10f488808\">\n",
              "    <div class=\"colab-df-container\">\n",
              "      <div>\n",
              "<style scoped>\n",
              "    .dataframe tbody tr th:only-of-type {\n",
              "        vertical-align: middle;\n",
              "    }\n",
              "\n",
              "    .dataframe tbody tr th {\n",
              "        vertical-align: top;\n",
              "    }\n",
              "\n",
              "    .dataframe thead th {\n",
              "        text-align: right;\n",
              "    }\n",
              "</style>\n",
              "<table border=\"1\" class=\"dataframe\">\n",
              "  <thead>\n",
              "    <tr style=\"text-align: right;\">\n",
              "      <th></th>\n",
              "      <th>Name</th>\n",
              "      <th>Age</th>\n",
              "      <th>M/F</th>\n",
              "      <th>City</th>\n",
              "      <th>State</th>\n",
              "      <th>Country</th>\n",
              "      <th>Official Time</th>\n",
              "      <th>Overall</th>\n",
              "      <th>Gender</th>\n",
              "      <th>Years Ran</th>\n",
              "      <th>First Name</th>\n",
              "      <th>Last Name</th>\n",
              "    </tr>\n",
              "  </thead>\n",
              "  <tbody>\n",
              "    <tr>\n",
              "      <th>0</th>\n",
              "      <td>Kirui, Geoffrey</td>\n",
              "      <td>24</td>\n",
              "      <td>M</td>\n",
              "      <td>Keringet</td>\n",
              "      <td>NaN</td>\n",
              "      <td>KEN</td>\n",
              "      <td>2:09:37</td>\n",
              "      <td>1</td>\n",
              "      <td>1</td>\n",
              "      <td>NaN</td>\n",
              "      <td>Kirui</td>\n",
              "      <td>Geoffrey</td>\n",
              "    </tr>\n",
              "    <tr>\n",
              "      <th>1</th>\n",
              "      <td>Rupp, Galen</td>\n",
              "      <td>30</td>\n",
              "      <td>M</td>\n",
              "      <td>Portland</td>\n",
              "      <td>OR</td>\n",
              "      <td>USA</td>\n",
              "      <td>2:09:58</td>\n",
              "      <td>2</td>\n",
              "      <td>2</td>\n",
              "      <td>NaN</td>\n",
              "      <td>Rupp</td>\n",
              "      <td>Galen</td>\n",
              "    </tr>\n",
              "    <tr>\n",
              "      <th>2</th>\n",
              "      <td>Osako, Suguru</td>\n",
              "      <td>25</td>\n",
              "      <td>M</td>\n",
              "      <td>Machida-City</td>\n",
              "      <td>NaN</td>\n",
              "      <td>JPN</td>\n",
              "      <td>2:10:28</td>\n",
              "      <td>3</td>\n",
              "      <td>3</td>\n",
              "      <td>NaN</td>\n",
              "      <td>Osako</td>\n",
              "      <td>Suguru</td>\n",
              "    </tr>\n",
              "    <tr>\n",
              "      <th>3</th>\n",
              "      <td>Biwott, Shadrack</td>\n",
              "      <td>32</td>\n",
              "      <td>M</td>\n",
              "      <td>Mammoth Lakes</td>\n",
              "      <td>CA</td>\n",
              "      <td>USA</td>\n",
              "      <td>2:12:08</td>\n",
              "      <td>4</td>\n",
              "      <td>4</td>\n",
              "      <td>NaN</td>\n",
              "      <td>Biwott</td>\n",
              "      <td>Shadrack</td>\n",
              "    </tr>\n",
              "    <tr>\n",
              "      <th>4</th>\n",
              "      <td>Chebet, Wilson</td>\n",
              "      <td>31</td>\n",
              "      <td>M</td>\n",
              "      <td>Marakwet</td>\n",
              "      <td>NaN</td>\n",
              "      <td>KEN</td>\n",
              "      <td>2:12:35</td>\n",
              "      <td>5</td>\n",
              "      <td>5</td>\n",
              "      <td>2015</td>\n",
              "      <td>Chebet</td>\n",
              "      <td>Wilson</td>\n",
              "    </tr>\n",
              "  </tbody>\n",
              "</table>\n",
              "</div>\n",
              "      <button class=\"colab-df-convert\" onclick=\"convertToInteractive('df-8eaa80f7-19bc-4c20-97c5-b3d10f488808')\"\n",
              "              title=\"Convert this dataframe to an interactive table.\"\n",
              "              style=\"display:none;\">\n",
              "        \n",
              "  <svg xmlns=\"http://www.w3.org/2000/svg\" height=\"24px\"viewBox=\"0 0 24 24\"\n",
              "       width=\"24px\">\n",
              "    <path d=\"M0 0h24v24H0V0z\" fill=\"none\"/>\n",
              "    <path d=\"M18.56 5.44l.94 2.06.94-2.06 2.06-.94-2.06-.94-.94-2.06-.94 2.06-2.06.94zm-11 1L8.5 8.5l.94-2.06 2.06-.94-2.06-.94L8.5 2.5l-.94 2.06-2.06.94zm10 10l.94 2.06.94-2.06 2.06-.94-2.06-.94-.94-2.06-.94 2.06-2.06.94z\"/><path d=\"M17.41 7.96l-1.37-1.37c-.4-.4-.92-.59-1.43-.59-.52 0-1.04.2-1.43.59L10.3 9.45l-7.72 7.72c-.78.78-.78 2.05 0 2.83L4 21.41c.39.39.9.59 1.41.59.51 0 1.02-.2 1.41-.59l7.78-7.78 2.81-2.81c.8-.78.8-2.07 0-2.86zM5.41 20L4 18.59l7.72-7.72 1.47 1.35L5.41 20z\"/>\n",
              "  </svg>\n",
              "      </button>\n",
              "      \n",
              "  <style>\n",
              "    .colab-df-container {\n",
              "      display:flex;\n",
              "      flex-wrap:wrap;\n",
              "      gap: 12px;\n",
              "    }\n",
              "\n",
              "    .colab-df-convert {\n",
              "      background-color: #E8F0FE;\n",
              "      border: none;\n",
              "      border-radius: 50%;\n",
              "      cursor: pointer;\n",
              "      display: none;\n",
              "      fill: #1967D2;\n",
              "      height: 32px;\n",
              "      padding: 0 0 0 0;\n",
              "      width: 32px;\n",
              "    }\n",
              "\n",
              "    .colab-df-convert:hover {\n",
              "      background-color: #E2EBFA;\n",
              "      box-shadow: 0px 1px 2px rgba(60, 64, 67, 0.3), 0px 1px 3px 1px rgba(60, 64, 67, 0.15);\n",
              "      fill: #174EA6;\n",
              "    }\n",
              "\n",
              "    [theme=dark] .colab-df-convert {\n",
              "      background-color: #3B4455;\n",
              "      fill: #D2E3FC;\n",
              "    }\n",
              "\n",
              "    [theme=dark] .colab-df-convert:hover {\n",
              "      background-color: #434B5C;\n",
              "      box-shadow: 0px 1px 3px 1px rgba(0, 0, 0, 0.15);\n",
              "      filter: drop-shadow(0px 1px 2px rgba(0, 0, 0, 0.3));\n",
              "      fill: #FFFFFF;\n",
              "    }\n",
              "  </style>\n",
              "\n",
              "      <script>\n",
              "        const buttonEl =\n",
              "          document.querySelector('#df-8eaa80f7-19bc-4c20-97c5-b3d10f488808 button.colab-df-convert');\n",
              "        buttonEl.style.display =\n",
              "          google.colab.kernel.accessAllowed ? 'block' : 'none';\n",
              "\n",
              "        async function convertToInteractive(key) {\n",
              "          const element = document.querySelector('#df-8eaa80f7-19bc-4c20-97c5-b3d10f488808');\n",
              "          const dataTable =\n",
              "            await google.colab.kernel.invokeFunction('convertToInteractive',\n",
              "                                                     [key], {});\n",
              "          if (!dataTable) return;\n",
              "\n",
              "          const docLinkHtml = 'Like what you see? Visit the ' +\n",
              "            '<a target=\"_blank\" href=https://colab.research.google.com/notebooks/data_table.ipynb>data table notebook</a>'\n",
              "            + ' to learn more about interactive tables.';\n",
              "          element.innerHTML = '';\n",
              "          dataTable['output_type'] = 'display_data';\n",
              "          await google.colab.output.renderOutput(dataTable, element);\n",
              "          const docLink = document.createElement('div');\n",
              "          docLink.innerHTML = docLinkHtml;\n",
              "          element.appendChild(docLink);\n",
              "        }\n",
              "      </script>\n",
              "    </div>\n",
              "  </div>\n",
              "  "
            ],
            "text/plain": [
              "               Name  Age M/F           City State Country Official Time  \\\n",
              "0   Kirui, Geoffrey   24   M       Keringet   NaN     KEN       2:09:37   \n",
              "1       Rupp, Galen   30   M       Portland    OR     USA       2:09:58   \n",
              "2     Osako, Suguru   25   M   Machida-City   NaN     JPN       2:10:28   \n",
              "3  Biwott, Shadrack   32   M  Mammoth Lakes    CA     USA       2:12:08   \n",
              "4    Chebet, Wilson   31   M       Marakwet   NaN     KEN       2:12:35   \n",
              "\n",
              "   Overall  Gender Years Ran First Name Last Name  \n",
              "0        1       1       NaN      Kirui  Geoffrey  \n",
              "1        2       2       NaN       Rupp     Galen  \n",
              "2        3       3       NaN      Osako    Suguru  \n",
              "3        4       4       NaN     Biwott  Shadrack  \n",
              "4        5       5      2015     Chebet    Wilson  "
            ]
          },
          "metadata": {},
          "execution_count": 121
        }
      ]
    },
    {
      "cell_type": "code",
      "metadata": {
        "id": "46NZoJnrunhc"
      },
      "source": [
        "# Boolean masking (or indexing):\n",
        "#  - create sequence of booleans\n",
        "#  - use sequence to select from dataframe (or series)"
      ],
      "execution_count": 122,
      "outputs": []
    },
    {
      "cell_type": "code",
      "metadata": {
        "id": "Hyh2fR7wu09t"
      },
      "source": [
        "# Q: select all the Italian runners"
      ],
      "execution_count": 123,
      "outputs": []
    },
    {
      "cell_type": "code",
      "metadata": {
        "id": "hOzNdROSw8wO",
        "colab": {
          "base_uri": "https://localhost:8080/"
        },
        "outputId": "8cc240d7-c512-41d6-82b7-a32f0a3c1ea6"
      },
      "source": [
        "boston.Country == 'ITA'"
      ],
      "execution_count": 124,
      "outputs": [
        {
          "output_type": "execute_result",
          "data": {
            "text/plain": [
              "0      False\n",
              "1      False\n",
              "2      False\n",
              "3      False\n",
              "4      False\n",
              "       ...  \n",
              "995    False\n",
              "996    False\n",
              "997    False\n",
              "998    False\n",
              "999    False\n",
              "Name: Country, Length: 1000, dtype: bool"
            ]
          },
          "metadata": {},
          "execution_count": 124
        }
      ]
    },
    {
      "cell_type": "code",
      "metadata": {
        "id": "wnAr5Qyhw_HE",
        "colab": {
          "base_uri": "https://localhost:8080/"
        },
        "outputId": "b5238e62-1569-455c-969a-b23e6d60f10f"
      },
      "source": [
        "boston.Country.str.match('ITA')"
      ],
      "execution_count": 125,
      "outputs": [
        {
          "output_type": "execute_result",
          "data": {
            "text/plain": [
              "0      False\n",
              "1      False\n",
              "2      False\n",
              "3      False\n",
              "4      False\n",
              "       ...  \n",
              "995    False\n",
              "996    False\n",
              "997    False\n",
              "998    False\n",
              "999    False\n",
              "Name: Country, Length: 1000, dtype: bool"
            ]
          },
          "metadata": {},
          "execution_count": 125
        }
      ]
    },
    {
      "cell_type": "code",
      "metadata": {
        "id": "BuzrKSANxDwc",
        "colab": {
          "base_uri": "https://localhost:8080/",
          "height": 0
        },
        "outputId": "9def2de6-159e-448b-801d-d40fc1df37ec"
      },
      "source": [
        "boston[boston.Country.str.match('ITA')]"
      ],
      "execution_count": 126,
      "outputs": [
        {
          "output_type": "execute_result",
          "data": {
            "text/html": [
              "\n",
              "  <div id=\"df-fb4b09e6-739e-4947-ba3e-62ce7a3bbccd\">\n",
              "    <div class=\"colab-df-container\">\n",
              "      <div>\n",
              "<style scoped>\n",
              "    .dataframe tbody tr th:only-of-type {\n",
              "        vertical-align: middle;\n",
              "    }\n",
              "\n",
              "    .dataframe tbody tr th {\n",
              "        vertical-align: top;\n",
              "    }\n",
              "\n",
              "    .dataframe thead th {\n",
              "        text-align: right;\n",
              "    }\n",
              "</style>\n",
              "<table border=\"1\" class=\"dataframe\">\n",
              "  <thead>\n",
              "    <tr style=\"text-align: right;\">\n",
              "      <th></th>\n",
              "      <th>Name</th>\n",
              "      <th>Age</th>\n",
              "      <th>M/F</th>\n",
              "      <th>City</th>\n",
              "      <th>State</th>\n",
              "      <th>Country</th>\n",
              "      <th>Official Time</th>\n",
              "      <th>Overall</th>\n",
              "      <th>Gender</th>\n",
              "      <th>Years Ran</th>\n",
              "      <th>First Name</th>\n",
              "      <th>Last Name</th>\n",
              "    </tr>\n",
              "  </thead>\n",
              "  <tbody>\n",
              "    <tr>\n",
              "      <th>56</th>\n",
              "      <td>Boudalia, Said Sr.</td>\n",
              "      <td>48</td>\n",
              "      <td>M</td>\n",
              "      <td>Belluno</td>\n",
              "      <td>NaN</td>\n",
              "      <td>ITA</td>\n",
              "      <td>2:30:11</td>\n",
              "      <td>57</td>\n",
              "      <td>51</td>\n",
              "      <td>2015:2016</td>\n",
              "      <td>Boudalia</td>\n",
              "      <td>Said Sr.</td>\n",
              "    </tr>\n",
              "    <tr>\n",
              "      <th>156</th>\n",
              "      <td>Achmuller, Hermann</td>\n",
              "      <td>46</td>\n",
              "      <td>M</td>\n",
              "      <td>Brixen</td>\n",
              "      <td>NaN</td>\n",
              "      <td>ITA</td>\n",
              "      <td>2:38:40</td>\n",
              "      <td>157</td>\n",
              "      <td>139</td>\n",
              "      <td>NaN</td>\n",
              "      <td>Achmuller</td>\n",
              "      <td>Hermann</td>\n",
              "    </tr>\n",
              "    <tr>\n",
              "      <th>792</th>\n",
              "      <td>Consolandi, Paolo Giorgio</td>\n",
              "      <td>39</td>\n",
              "      <td>M</td>\n",
              "      <td>Pessano Con Bornago (mi)</td>\n",
              "      <td>NaN</td>\n",
              "      <td>ITA</td>\n",
              "      <td>2:53:29</td>\n",
              "      <td>793</td>\n",
              "      <td>747</td>\n",
              "      <td>NaN</td>\n",
              "      <td>Consolandi</td>\n",
              "      <td>Paolo Giorgio</td>\n",
              "    </tr>\n",
              "    <tr>\n",
              "      <th>922</th>\n",
              "      <td>Zompanti, Alessandro</td>\n",
              "      <td>48</td>\n",
              "      <td>M</td>\n",
              "      <td>Fiuggi Fr</td>\n",
              "      <td>NaN</td>\n",
              "      <td>ITA</td>\n",
              "      <td>2:55:12</td>\n",
              "      <td>923</td>\n",
              "      <td>872</td>\n",
              "      <td>NaN</td>\n",
              "      <td>Zompanti</td>\n",
              "      <td>Alessandro</td>\n",
              "    </tr>\n",
              "  </tbody>\n",
              "</table>\n",
              "</div>\n",
              "      <button class=\"colab-df-convert\" onclick=\"convertToInteractive('df-fb4b09e6-739e-4947-ba3e-62ce7a3bbccd')\"\n",
              "              title=\"Convert this dataframe to an interactive table.\"\n",
              "              style=\"display:none;\">\n",
              "        \n",
              "  <svg xmlns=\"http://www.w3.org/2000/svg\" height=\"24px\"viewBox=\"0 0 24 24\"\n",
              "       width=\"24px\">\n",
              "    <path d=\"M0 0h24v24H0V0z\" fill=\"none\"/>\n",
              "    <path d=\"M18.56 5.44l.94 2.06.94-2.06 2.06-.94-2.06-.94-.94-2.06-.94 2.06-2.06.94zm-11 1L8.5 8.5l.94-2.06 2.06-.94-2.06-.94L8.5 2.5l-.94 2.06-2.06.94zm10 10l.94 2.06.94-2.06 2.06-.94-2.06-.94-.94-2.06-.94 2.06-2.06.94z\"/><path d=\"M17.41 7.96l-1.37-1.37c-.4-.4-.92-.59-1.43-.59-.52 0-1.04.2-1.43.59L10.3 9.45l-7.72 7.72c-.78.78-.78 2.05 0 2.83L4 21.41c.39.39.9.59 1.41.59.51 0 1.02-.2 1.41-.59l7.78-7.78 2.81-2.81c.8-.78.8-2.07 0-2.86zM5.41 20L4 18.59l7.72-7.72 1.47 1.35L5.41 20z\"/>\n",
              "  </svg>\n",
              "      </button>\n",
              "      \n",
              "  <style>\n",
              "    .colab-df-container {\n",
              "      display:flex;\n",
              "      flex-wrap:wrap;\n",
              "      gap: 12px;\n",
              "    }\n",
              "\n",
              "    .colab-df-convert {\n",
              "      background-color: #E8F0FE;\n",
              "      border: none;\n",
              "      border-radius: 50%;\n",
              "      cursor: pointer;\n",
              "      display: none;\n",
              "      fill: #1967D2;\n",
              "      height: 32px;\n",
              "      padding: 0 0 0 0;\n",
              "      width: 32px;\n",
              "    }\n",
              "\n",
              "    .colab-df-convert:hover {\n",
              "      background-color: #E2EBFA;\n",
              "      box-shadow: 0px 1px 2px rgba(60, 64, 67, 0.3), 0px 1px 3px 1px rgba(60, 64, 67, 0.15);\n",
              "      fill: #174EA6;\n",
              "    }\n",
              "\n",
              "    [theme=dark] .colab-df-convert {\n",
              "      background-color: #3B4455;\n",
              "      fill: #D2E3FC;\n",
              "    }\n",
              "\n",
              "    [theme=dark] .colab-df-convert:hover {\n",
              "      background-color: #434B5C;\n",
              "      box-shadow: 0px 1px 3px 1px rgba(0, 0, 0, 0.15);\n",
              "      filter: drop-shadow(0px 1px 2px rgba(0, 0, 0, 0.3));\n",
              "      fill: #FFFFFF;\n",
              "    }\n",
              "  </style>\n",
              "\n",
              "      <script>\n",
              "        const buttonEl =\n",
              "          document.querySelector('#df-fb4b09e6-739e-4947-ba3e-62ce7a3bbccd button.colab-df-convert');\n",
              "        buttonEl.style.display =\n",
              "          google.colab.kernel.accessAllowed ? 'block' : 'none';\n",
              "\n",
              "        async function convertToInteractive(key) {\n",
              "          const element = document.querySelector('#df-fb4b09e6-739e-4947-ba3e-62ce7a3bbccd');\n",
              "          const dataTable =\n",
              "            await google.colab.kernel.invokeFunction('convertToInteractive',\n",
              "                                                     [key], {});\n",
              "          if (!dataTable) return;\n",
              "\n",
              "          const docLinkHtml = 'Like what you see? Visit the ' +\n",
              "            '<a target=\"_blank\" href=https://colab.research.google.com/notebooks/data_table.ipynb>data table notebook</a>'\n",
              "            + ' to learn more about interactive tables.';\n",
              "          element.innerHTML = '';\n",
              "          dataTable['output_type'] = 'display_data';\n",
              "          await google.colab.output.renderOutput(dataTable, element);\n",
              "          const docLink = document.createElement('div');\n",
              "          docLink.innerHTML = docLinkHtml;\n",
              "          element.appendChild(docLink);\n",
              "        }\n",
              "      </script>\n",
              "    </div>\n",
              "  </div>\n",
              "  "
            ],
            "text/plain": [
              "                          Name  Age M/F                      City State  \\\n",
              "56          Boudalia, Said Sr.   48   M                   Belluno   NaN   \n",
              "156         Achmuller, Hermann   46   M                    Brixen   NaN   \n",
              "792  Consolandi, Paolo Giorgio   39   M  Pessano Con Bornago (mi)   NaN   \n",
              "922       Zompanti, Alessandro   48   M                 Fiuggi Fr   NaN   \n",
              "\n",
              "    Country Official Time  Overall  Gender  Years Ran  First Name  \\\n",
              "56      ITA       2:30:11       57      51  2015:2016    Boudalia   \n",
              "156     ITA       2:38:40      157     139        NaN   Achmuller   \n",
              "792     ITA       2:53:29      793     747        NaN  Consolandi   \n",
              "922     ITA       2:55:12      923     872        NaN    Zompanti   \n",
              "\n",
              "         Last Name  \n",
              "56        Said Sr.  \n",
              "156        Hermann  \n",
              "792  Paolo Giorgio  \n",
              "922     Alessandro  "
            ]
          },
          "metadata": {},
          "execution_count": 126
        }
      ]
    },
    {
      "cell_type": "code",
      "metadata": {
        "id": "0eu-gv4JxJJb"
      },
      "source": [
        "# Q: how about all the \"Will\"s?"
      ],
      "execution_count": 127,
      "outputs": []
    },
    {
      "cell_type": "code",
      "metadata": {
        "id": "XZmqnKJuxdQU"
      },
      "source": [
        "# no contains in python: instead 'Will' in 'Williams'"
      ],
      "execution_count": 128,
      "outputs": []
    },
    {
      "cell_type": "code",
      "metadata": {
        "id": "WmN6WQnTxjer"
      },
      "source": [
        "wills =  boston.Name.str.contains('Will')"
      ],
      "execution_count": 129,
      "outputs": []
    },
    {
      "cell_type": "code",
      "metadata": {
        "id": "MY18IM7VxzEj"
      },
      "source": [
        "forty5_plus = boston.Age >= 45"
      ],
      "execution_count": 130,
      "outputs": []
    },
    {
      "cell_type": "code",
      "metadata": {
        "id": "kEYF1NQYxuHA",
        "colab": {
          "base_uri": "https://localhost:8080/",
          "height": 0
        },
        "outputId": "c5984608-5f59-4067-86be-904e23f5812b"
      },
      "source": [
        "boston[wills & forty5_plus]"
      ],
      "execution_count": 131,
      "outputs": [
        {
          "output_type": "execute_result",
          "data": {
            "text/html": [
              "\n",
              "  <div id=\"df-76bb999a-1278-49fb-a5dc-993771a95e92\">\n",
              "    <div class=\"colab-df-container\">\n",
              "      <div>\n",
              "<style scoped>\n",
              "    .dataframe tbody tr th:only-of-type {\n",
              "        vertical-align: middle;\n",
              "    }\n",
              "\n",
              "    .dataframe tbody tr th {\n",
              "        vertical-align: top;\n",
              "    }\n",
              "\n",
              "    .dataframe thead th {\n",
              "        text-align: right;\n",
              "    }\n",
              "</style>\n",
              "<table border=\"1\" class=\"dataframe\">\n",
              "  <thead>\n",
              "    <tr style=\"text-align: right;\">\n",
              "      <th></th>\n",
              "      <th>Name</th>\n",
              "      <th>Age</th>\n",
              "      <th>M/F</th>\n",
              "      <th>City</th>\n",
              "      <th>State</th>\n",
              "      <th>Country</th>\n",
              "      <th>Official Time</th>\n",
              "      <th>Overall</th>\n",
              "      <th>Gender</th>\n",
              "      <th>Years Ran</th>\n",
              "      <th>First Name</th>\n",
              "      <th>Last Name</th>\n",
              "    </tr>\n",
              "  </thead>\n",
              "  <tbody>\n",
              "    <tr>\n",
              "      <th>93</th>\n",
              "      <td>Vanos, William</td>\n",
              "      <td>45</td>\n",
              "      <td>M</td>\n",
              "      <td>Orlando</td>\n",
              "      <td>FL</td>\n",
              "      <td>USA</td>\n",
              "      <td>2:34:40</td>\n",
              "      <td>94</td>\n",
              "      <td>84</td>\n",
              "      <td>NaN</td>\n",
              "      <td>Vanos</td>\n",
              "      <td>William</td>\n",
              "    </tr>\n",
              "    <tr>\n",
              "      <th>526</th>\n",
              "      <td>Swenson, Will</td>\n",
              "      <td>45</td>\n",
              "      <td>M</td>\n",
              "      <td>Andover</td>\n",
              "      <td>MA</td>\n",
              "      <td>USA</td>\n",
              "      <td>2:49:10</td>\n",
              "      <td>527</td>\n",
              "      <td>490</td>\n",
              "      <td>2015:2016</td>\n",
              "      <td>Swenson</td>\n",
              "      <td>Will</td>\n",
              "    </tr>\n",
              "    <tr>\n",
              "      <th>814</th>\n",
              "      <td>Williamson, David</td>\n",
              "      <td>49</td>\n",
              "      <td>M</td>\n",
              "      <td>Sutton</td>\n",
              "      <td>NaN</td>\n",
              "      <td>GBR</td>\n",
              "      <td>2:53:46</td>\n",
              "      <td>815</td>\n",
              "      <td>768</td>\n",
              "      <td>NaN</td>\n",
              "      <td>Williamson</td>\n",
              "      <td>David</td>\n",
              "    </tr>\n",
              "    <tr>\n",
              "      <th>892</th>\n",
              "      <td>Rivera, Will</td>\n",
              "      <td>46</td>\n",
              "      <td>M</td>\n",
              "      <td>Elizabethtown</td>\n",
              "      <td>KY</td>\n",
              "      <td>USA</td>\n",
              "      <td>2:54:53</td>\n",
              "      <td>893</td>\n",
              "      <td>843</td>\n",
              "      <td>NaN</td>\n",
              "      <td>Rivera</td>\n",
              "      <td>Will</td>\n",
              "    </tr>\n",
              "  </tbody>\n",
              "</table>\n",
              "</div>\n",
              "      <button class=\"colab-df-convert\" onclick=\"convertToInteractive('df-76bb999a-1278-49fb-a5dc-993771a95e92')\"\n",
              "              title=\"Convert this dataframe to an interactive table.\"\n",
              "              style=\"display:none;\">\n",
              "        \n",
              "  <svg xmlns=\"http://www.w3.org/2000/svg\" height=\"24px\"viewBox=\"0 0 24 24\"\n",
              "       width=\"24px\">\n",
              "    <path d=\"M0 0h24v24H0V0z\" fill=\"none\"/>\n",
              "    <path d=\"M18.56 5.44l.94 2.06.94-2.06 2.06-.94-2.06-.94-.94-2.06-.94 2.06-2.06.94zm-11 1L8.5 8.5l.94-2.06 2.06-.94-2.06-.94L8.5 2.5l-.94 2.06-2.06.94zm10 10l.94 2.06.94-2.06 2.06-.94-2.06-.94-.94-2.06-.94 2.06-2.06.94z\"/><path d=\"M17.41 7.96l-1.37-1.37c-.4-.4-.92-.59-1.43-.59-.52 0-1.04.2-1.43.59L10.3 9.45l-7.72 7.72c-.78.78-.78 2.05 0 2.83L4 21.41c.39.39.9.59 1.41.59.51 0 1.02-.2 1.41-.59l7.78-7.78 2.81-2.81c.8-.78.8-2.07 0-2.86zM5.41 20L4 18.59l7.72-7.72 1.47 1.35L5.41 20z\"/>\n",
              "  </svg>\n",
              "      </button>\n",
              "      \n",
              "  <style>\n",
              "    .colab-df-container {\n",
              "      display:flex;\n",
              "      flex-wrap:wrap;\n",
              "      gap: 12px;\n",
              "    }\n",
              "\n",
              "    .colab-df-convert {\n",
              "      background-color: #E8F0FE;\n",
              "      border: none;\n",
              "      border-radius: 50%;\n",
              "      cursor: pointer;\n",
              "      display: none;\n",
              "      fill: #1967D2;\n",
              "      height: 32px;\n",
              "      padding: 0 0 0 0;\n",
              "      width: 32px;\n",
              "    }\n",
              "\n",
              "    .colab-df-convert:hover {\n",
              "      background-color: #E2EBFA;\n",
              "      box-shadow: 0px 1px 2px rgba(60, 64, 67, 0.3), 0px 1px 3px 1px rgba(60, 64, 67, 0.15);\n",
              "      fill: #174EA6;\n",
              "    }\n",
              "\n",
              "    [theme=dark] .colab-df-convert {\n",
              "      background-color: #3B4455;\n",
              "      fill: #D2E3FC;\n",
              "    }\n",
              "\n",
              "    [theme=dark] .colab-df-convert:hover {\n",
              "      background-color: #434B5C;\n",
              "      box-shadow: 0px 1px 3px 1px rgba(0, 0, 0, 0.15);\n",
              "      filter: drop-shadow(0px 1px 2px rgba(0, 0, 0, 0.3));\n",
              "      fill: #FFFFFF;\n",
              "    }\n",
              "  </style>\n",
              "\n",
              "      <script>\n",
              "        const buttonEl =\n",
              "          document.querySelector('#df-76bb999a-1278-49fb-a5dc-993771a95e92 button.colab-df-convert');\n",
              "        buttonEl.style.display =\n",
              "          google.colab.kernel.accessAllowed ? 'block' : 'none';\n",
              "\n",
              "        async function convertToInteractive(key) {\n",
              "          const element = document.querySelector('#df-76bb999a-1278-49fb-a5dc-993771a95e92');\n",
              "          const dataTable =\n",
              "            await google.colab.kernel.invokeFunction('convertToInteractive',\n",
              "                                                     [key], {});\n",
              "          if (!dataTable) return;\n",
              "\n",
              "          const docLinkHtml = 'Like what you see? Visit the ' +\n",
              "            '<a target=\"_blank\" href=https://colab.research.google.com/notebooks/data_table.ipynb>data table notebook</a>'\n",
              "            + ' to learn more about interactive tables.';\n",
              "          element.innerHTML = '';\n",
              "          dataTable['output_type'] = 'display_data';\n",
              "          await google.colab.output.renderOutput(dataTable, element);\n",
              "          const docLink = document.createElement('div');\n",
              "          docLink.innerHTML = docLinkHtml;\n",
              "          element.appendChild(docLink);\n",
              "        }\n",
              "      </script>\n",
              "    </div>\n",
              "  </div>\n",
              "  "
            ],
            "text/plain": [
              "                  Name  Age M/F           City State Country Official Time  \\\n",
              "93      Vanos, William   45   M        Orlando    FL     USA       2:34:40   \n",
              "526      Swenson, Will   45   M        Andover    MA     USA       2:49:10   \n",
              "814  Williamson, David   49   M         Sutton   NaN     GBR       2:53:46   \n",
              "892       Rivera, Will   46   M  Elizabethtown    KY     USA       2:54:53   \n",
              "\n",
              "     Overall  Gender  Years Ran  First Name Last Name  \n",
              "93        94      84        NaN       Vanos   William  \n",
              "526      527     490  2015:2016     Swenson      Will  \n",
              "814      815     768        NaN  Williamson     David  \n",
              "892      893     843        NaN      Rivera      Will  "
            ]
          },
          "metadata": {},
          "execution_count": 131
        }
      ]
    },
    {
      "cell_type": "code",
      "metadata": {
        "id": "Bhc2gLD9xvfe",
        "colab": {
          "base_uri": "https://localhost:8080/"
        },
        "outputId": "f654d9f6-afb3-4824-cdd3-5c747553d1ac"
      },
      "source": [
        "boston.Age.nlargest(10)"
      ],
      "execution_count": 132,
      "outputs": [
        {
          "output_type": "execute_result",
          "data": {
            "text/plain": [
              "704    59\n",
              "648    57\n",
              "326    56\n",
              "370    56\n",
              "563    55\n",
              "864    55\n",
              "325    53\n",
              "394    53\n",
              "486    53\n",
              "579    53\n",
              "Name: Age, dtype: int64"
            ]
          },
          "metadata": {},
          "execution_count": 132
        }
      ]
    },
    {
      "cell_type": "code",
      "metadata": {
        "id": "Yj50nkB9x_Vj",
        "colab": {
          "base_uri": "https://localhost:8080/",
          "height": 0
        },
        "outputId": "34783b62-d511-4dad-a2e8-636e4bc193ae"
      },
      "source": [
        "boston.Age.hist();"
      ],
      "execution_count": 133,
      "outputs": [
        {
          "output_type": "display_data",
          "data": {
            "image/png": "[encoded data removed]",
            "text/plain": [
              "<Figure size 432x288 with 1 Axes>"
            ]
          },
          "metadata": {
            "needs_background": "light"
          }
        }
      ]
    },
    {
      "cell_type": "markdown",
      "metadata": {
        "id": "9nfR81-nyFNG"
      },
      "source": [
        "#### BONUS: Parsing Indicators With get_dummies()"
      ]
    },
    {
      "cell_type": "code",
      "metadata": {
        "id": "tIDmH8U3zWr7",
        "colab": {
          "base_uri": "https://localhost:8080/",
          "height": 0
        },
        "outputId": "11fc8766-1b4e-4126-9454-c7743452b3e8"
      },
      "source": [
        "boston.head()"
      ],
      "execution_count": 134,
      "outputs": [
        {
          "output_type": "execute_result",
          "data": {
            "text/html": [
              "\n",
              "  <div id=\"df-ca9d2c69-2f0b-4336-9e2c-4e6e80d23608\">\n",
              "    <div class=\"colab-df-container\">\n",
              "      <div>\n",
              "<style scoped>\n",
              "    .dataframe tbody tr th:only-of-type {\n",
              "        vertical-align: middle;\n",
              "    }\n",
              "\n",
              "    .dataframe tbody tr th {\n",
              "        vertical-align: top;\n",
              "    }\n",
              "\n",
              "    .dataframe thead th {\n",
              "        text-align: right;\n",
              "    }\n",
              "</style>\n",
              "<table border=\"1\" class=\"dataframe\">\n",
              "  <thead>\n",
              "    <tr style=\"text-align: right;\">\n",
              "      <th></th>\n",
              "      <th>Name</th>\n",
              "      <th>Age</th>\n",
              "      <th>M/F</th>\n",
              "      <th>City</th>\n",
              "      <th>State</th>\n",
              "      <th>Country</th>\n",
              "      <th>Official Time</th>\n",
              "      <th>Overall</th>\n",
              "      <th>Gender</th>\n",
              "      <th>Years Ran</th>\n",
              "      <th>First Name</th>\n",
              "      <th>Last Name</th>\n",
              "    </tr>\n",
              "  </thead>\n",
              "  <tbody>\n",
              "    <tr>\n",
              "      <th>0</th>\n",
              "      <td>Kirui, Geoffrey</td>\n",
              "      <td>24</td>\n",
              "      <td>M</td>\n",
              "      <td>Keringet</td>\n",
              "      <td>NaN</td>\n",
              "      <td>KEN</td>\n",
              "      <td>2:09:37</td>\n",
              "      <td>1</td>\n",
              "      <td>1</td>\n",
              "      <td>NaN</td>\n",
              "      <td>Kirui</td>\n",
              "      <td>Geoffrey</td>\n",
              "    </tr>\n",
              "    <tr>\n",
              "      <th>1</th>\n",
              "      <td>Rupp, Galen</td>\n",
              "      <td>30</td>\n",
              "      <td>M</td>\n",
              "      <td>Portland</td>\n",
              "      <td>OR</td>\n",
              "      <td>USA</td>\n",
              "      <td>2:09:58</td>\n",
              "      <td>2</td>\n",
              "      <td>2</td>\n",
              "      <td>NaN</td>\n",
              "      <td>Rupp</td>\n",
              "      <td>Galen</td>\n",
              "    </tr>\n",
              "    <tr>\n",
              "      <th>2</th>\n",
              "      <td>Osako, Suguru</td>\n",
              "      <td>25</td>\n",
              "      <td>M</td>\n",
              "      <td>Machida-City</td>\n",
              "      <td>NaN</td>\n",
              "      <td>JPN</td>\n",
              "      <td>2:10:28</td>\n",
              "      <td>3</td>\n",
              "      <td>3</td>\n",
              "      <td>NaN</td>\n",
              "      <td>Osako</td>\n",
              "      <td>Suguru</td>\n",
              "    </tr>\n",
              "    <tr>\n",
              "      <th>3</th>\n",
              "      <td>Biwott, Shadrack</td>\n",
              "      <td>32</td>\n",
              "      <td>M</td>\n",
              "      <td>Mammoth Lakes</td>\n",
              "      <td>CA</td>\n",
              "      <td>USA</td>\n",
              "      <td>2:12:08</td>\n",
              "      <td>4</td>\n",
              "      <td>4</td>\n",
              "      <td>NaN</td>\n",
              "      <td>Biwott</td>\n",
              "      <td>Shadrack</td>\n",
              "    </tr>\n",
              "    <tr>\n",
              "      <th>4</th>\n",
              "      <td>Chebet, Wilson</td>\n",
              "      <td>31</td>\n",
              "      <td>M</td>\n",
              "      <td>Marakwet</td>\n",
              "      <td>NaN</td>\n",
              "      <td>KEN</td>\n",
              "      <td>2:12:35</td>\n",
              "      <td>5</td>\n",
              "      <td>5</td>\n",
              "      <td>2015</td>\n",
              "      <td>Chebet</td>\n",
              "      <td>Wilson</td>\n",
              "    </tr>\n",
              "  </tbody>\n",
              "</table>\n",
              "</div>\n",
              "      <button class=\"colab-df-convert\" onclick=\"convertToInteractive('df-ca9d2c69-2f0b-4336-9e2c-4e6e80d23608')\"\n",
              "              title=\"Convert this dataframe to an interactive table.\"\n",
              "              style=\"display:none;\">\n",
              "        \n",
              "  <svg xmlns=\"http://www.w3.org/2000/svg\" height=\"24px\"viewBox=\"0 0 24 24\"\n",
              "       width=\"24px\">\n",
              "    <path d=\"M0 0h24v24H0V0z\" fill=\"none\"/>\n",
              "    <path d=\"M18.56 5.44l.94 2.06.94-2.06 2.06-.94-2.06-.94-.94-2.06-.94 2.06-2.06.94zm-11 1L8.5 8.5l.94-2.06 2.06-.94-2.06-.94L8.5 2.5l-.94 2.06-2.06.94zm10 10l.94 2.06.94-2.06 2.06-.94-2.06-.94-.94-2.06-.94 2.06-2.06.94z\"/><path d=\"M17.41 7.96l-1.37-1.37c-.4-.4-.92-.59-1.43-.59-.52 0-1.04.2-1.43.59L10.3 9.45l-7.72 7.72c-.78.78-.78 2.05 0 2.83L4 21.41c.39.39.9.59 1.41.59.51 0 1.02-.2 1.41-.59l7.78-7.78 2.81-2.81c.8-.78.8-2.07 0-2.86zM5.41 20L4 18.59l7.72-7.72 1.47 1.35L5.41 20z\"/>\n",
              "  </svg>\n",
              "      </button>\n",
              "      \n",
              "  <style>\n",
              "    .colab-df-container {\n",
              "      display:flex;\n",
              "      flex-wrap:wrap;\n",
              "      gap: 12px;\n",
              "    }\n",
              "\n",
              "    .colab-df-convert {\n",
              "      background-color: #E8F0FE;\n",
              "      border: none;\n",
              "      border-radius: 50%;\n",
              "      cursor: pointer;\n",
              "      display: none;\n",
              "      fill: #1967D2;\n",
              "      height: 32px;\n",
              "      padding: 0 0 0 0;\n",
              "      width: 32px;\n",
              "    }\n",
              "\n",
              "    .colab-df-convert:hover {\n",
              "      background-color: #E2EBFA;\n",
              "      box-shadow: 0px 1px 2px rgba(60, 64, 67, 0.3), 0px 1px 3px 1px rgba(60, 64, 67, 0.15);\n",
              "      fill: #174EA6;\n",
              "    }\n",
              "\n",
              "    [theme=dark] .colab-df-convert {\n",
              "      background-color: #3B4455;\n",
              "      fill: #D2E3FC;\n",
              "    }\n",
              "\n",
              "    [theme=dark] .colab-df-convert:hover {\n",
              "      background-color: #434B5C;\n",
              "      box-shadow: 0px 1px 3px 1px rgba(0, 0, 0, 0.15);\n",
              "      filter: drop-shadow(0px 1px 2px rgba(0, 0, 0, 0.3));\n",
              "      fill: #FFFFFF;\n",
              "    }\n",
              "  </style>\n",
              "\n",
              "      <script>\n",
              "        const buttonEl =\n",
              "          document.querySelector('#df-ca9d2c69-2f0b-4336-9e2c-4e6e80d23608 button.colab-df-convert');\n",
              "        buttonEl.style.display =\n",
              "          google.colab.kernel.accessAllowed ? 'block' : 'none';\n",
              "\n",
              "        async function convertToInteractive(key) {\n",
              "          const element = document.querySelector('#df-ca9d2c69-2f0b-4336-9e2c-4e6e80d23608');\n",
              "          const dataTable =\n",
              "            await google.colab.kernel.invokeFunction('convertToInteractive',\n",
              "                                                     [key], {});\n",
              "          if (!dataTable) return;\n",
              "\n",
              "          const docLinkHtml = 'Like what you see? Visit the ' +\n",
              "            '<a target=\"_blank\" href=https://colab.research.google.com/notebooks/data_table.ipynb>data table notebook</a>'\n",
              "            + ' to learn more about interactive tables.';\n",
              "          element.innerHTML = '';\n",
              "          dataTable['output_type'] = 'display_data';\n",
              "          await google.colab.output.renderOutput(dataTable, element);\n",
              "          const docLink = document.createElement('div');\n",
              "          docLink.innerHTML = docLinkHtml;\n",
              "          element.appendChild(docLink);\n",
              "        }\n",
              "      </script>\n",
              "    </div>\n",
              "  </div>\n",
              "  "
            ],
            "text/plain": [
              "               Name  Age M/F           City State Country Official Time  \\\n",
              "0   Kirui, Geoffrey   24   M       Keringet   NaN     KEN       2:09:37   \n",
              "1       Rupp, Galen   30   M       Portland    OR     USA       2:09:58   \n",
              "2     Osako, Suguru   25   M   Machida-City   NaN     JPN       2:10:28   \n",
              "3  Biwott, Shadrack   32   M  Mammoth Lakes    CA     USA       2:12:08   \n",
              "4    Chebet, Wilson   31   M       Marakwet   NaN     KEN       2:12:35   \n",
              "\n",
              "   Overall  Gender Years Ran First Name Last Name  \n",
              "0        1       1       NaN      Kirui  Geoffrey  \n",
              "1        2       2       NaN       Rupp     Galen  \n",
              "2        3       3       NaN      Osako    Suguru  \n",
              "3        4       4       NaN     Biwott  Shadrack  \n",
              "4        5       5      2015     Chebet    Wilson  "
            ]
          },
          "metadata": {},
          "execution_count": 134
        }
      ]
    },
    {
      "cell_type": "code",
      "metadata": {
        "id": "vGXdAzZC2ioy",
        "colab": {
          "base_uri": "https://localhost:8080/",
          "height": 0
        },
        "outputId": "a9270de0-e8fb-45b5-bbc7-11919735a2c3"
      },
      "source": [
        "boston[boston['Years Ran'].notnull()]"
      ],
      "execution_count": 135,
      "outputs": [
        {
          "output_type": "execute_result",
          "data": {
            "text/html": [
              "\n",
              "  <div id=\"df-345e5592-39fd-40f0-bde6-1dab510c1651\">\n",
              "    <div class=\"colab-df-container\">\n",
              "      <div>\n",
              "<style scoped>\n",
              "    .dataframe tbody tr th:only-of-type {\n",
              "        vertical-align: middle;\n",
              "    }\n",
              "\n",
              "    .dataframe tbody tr th {\n",
              "        vertical-align: top;\n",
              "    }\n",
              "\n",
              "    .dataframe thead th {\n",
              "        text-align: right;\n",
              "    }\n",
              "</style>\n",
              "<table border=\"1\" class=\"dataframe\">\n",
              "  <thead>\n",
              "    <tr style=\"text-align: right;\">\n",
              "      <th></th>\n",
              "      <th>Name</th>\n",
              "      <th>Age</th>\n",
              "      <th>M/F</th>\n",
              "      <th>City</th>\n",
              "      <th>State</th>\n",
              "      <th>Country</th>\n",
              "      <th>Official Time</th>\n",
              "      <th>Overall</th>\n",
              "      <th>Gender</th>\n",
              "      <th>Years Ran</th>\n",
              "      <th>First Name</th>\n",
              "      <th>Last Name</th>\n",
              "    </tr>\n",
              "  </thead>\n",
              "  <tbody>\n",
              "    <tr>\n",
              "      <th>4</th>\n",
              "      <td>Chebet, Wilson</td>\n",
              "      <td>31</td>\n",
              "      <td>M</td>\n",
              "      <td>Marakwet</td>\n",
              "      <td>NaN</td>\n",
              "      <td>KEN</td>\n",
              "      <td>2:12:35</td>\n",
              "      <td>5</td>\n",
              "      <td>5</td>\n",
              "      <td>2015</td>\n",
              "      <td>Chebet</td>\n",
              "      <td>Wilson</td>\n",
              "    </tr>\n",
              "    <tr>\n",
              "      <th>12</th>\n",
              "      <td>Keflezighi, Meb</td>\n",
              "      <td>41</td>\n",
              "      <td>M</td>\n",
              "      <td>San Diego</td>\n",
              "      <td>CA</td>\n",
              "      <td>USA</td>\n",
              "      <td>2:17:00</td>\n",
              "      <td>13</td>\n",
              "      <td>13</td>\n",
              "      <td>2015</td>\n",
              "      <td>Keflezighi</td>\n",
              "      <td>Meb</td>\n",
              "    </tr>\n",
              "    <tr>\n",
              "      <th>13</th>\n",
              "      <td>Nyasango, Cutbert</td>\n",
              "      <td>34</td>\n",
              "      <td>M</td>\n",
              "      <td>Harara</td>\n",
              "      <td>NaN</td>\n",
              "      <td>ZIM</td>\n",
              "      <td>2:17:40</td>\n",
              "      <td>14</td>\n",
              "      <td>14</td>\n",
              "      <td>2016</td>\n",
              "      <td>Nyasango</td>\n",
              "      <td>Cutbert</td>\n",
              "    </tr>\n",
              "    <tr>\n",
              "      <th>14</th>\n",
              "      <td>Korir, Wesley</td>\n",
              "      <td>34</td>\n",
              "      <td>M</td>\n",
              "      <td>Kitale</td>\n",
              "      <td>NaN</td>\n",
              "      <td>KEN</td>\n",
              "      <td>2:18:14</td>\n",
              "      <td>15</td>\n",
              "      <td>15</td>\n",
              "      <td>2015:2016</td>\n",
              "      <td>Korir</td>\n",
              "      <td>Wesley</td>\n",
              "    </tr>\n",
              "    <tr>\n",
              "      <th>29</th>\n",
              "      <td>Maravilla, Jorge</td>\n",
              "      <td>39</td>\n",
              "      <td>M</td>\n",
              "      <td>Mill Valley</td>\n",
              "      <td>CA</td>\n",
              "      <td>USA</td>\n",
              "      <td>2:24:27</td>\n",
              "      <td>30</td>\n",
              "      <td>27</td>\n",
              "      <td>2016</td>\n",
              "      <td>Maravilla</td>\n",
              "      <td>Jorge</td>\n",
              "    </tr>\n",
              "    <tr>\n",
              "      <th>...</th>\n",
              "      <td>...</td>\n",
              "      <td>...</td>\n",
              "      <td>...</td>\n",
              "      <td>...</td>\n",
              "      <td>...</td>\n",
              "      <td>...</td>\n",
              "      <td>...</td>\n",
              "      <td>...</td>\n",
              "      <td>...</td>\n",
              "      <td>...</td>\n",
              "      <td>...</td>\n",
              "      <td>...</td>\n",
              "    </tr>\n",
              "    <tr>\n",
              "      <th>986</th>\n",
              "      <td>Bretz, Virgil</td>\n",
              "      <td>44</td>\n",
              "      <td>M</td>\n",
              "      <td>Mt. Kisco</td>\n",
              "      <td>NY</td>\n",
              "      <td>USA</td>\n",
              "      <td>2:56:02</td>\n",
              "      <td>987</td>\n",
              "      <td>931</td>\n",
              "      <td>2015:2016</td>\n",
              "      <td>Bretz</td>\n",
              "      <td>Virgil</td>\n",
              "    </tr>\n",
              "    <tr>\n",
              "      <th>987</th>\n",
              "      <td>Cucuzzella, Mark</td>\n",
              "      <td>50</td>\n",
              "      <td>M</td>\n",
              "      <td>Shepherdstown</td>\n",
              "      <td>WV</td>\n",
              "      <td>USA</td>\n",
              "      <td>2:56:03</td>\n",
              "      <td>988</td>\n",
              "      <td>932</td>\n",
              "      <td>2016</td>\n",
              "      <td>Cucuzzella</td>\n",
              "      <td>Mark</td>\n",
              "    </tr>\n",
              "    <tr>\n",
              "      <th>988</th>\n",
              "      <td>Carron, John B</td>\n",
              "      <td>46</td>\n",
              "      <td>M</td>\n",
              "      <td>Irvington</td>\n",
              "      <td>NY</td>\n",
              "      <td>USA</td>\n",
              "      <td>2:56:03</td>\n",
              "      <td>989</td>\n",
              "      <td>933</td>\n",
              "      <td>2016</td>\n",
              "      <td>Carron</td>\n",
              "      <td>John B</td>\n",
              "    </tr>\n",
              "    <tr>\n",
              "      <th>995</th>\n",
              "      <td>Larosa, Mark</td>\n",
              "      <td>38</td>\n",
              "      <td>M</td>\n",
              "      <td>North Andover</td>\n",
              "      <td>MA</td>\n",
              "      <td>USA</td>\n",
              "      <td>2:56:06</td>\n",
              "      <td>996</td>\n",
              "      <td>940</td>\n",
              "      <td>2015:2016</td>\n",
              "      <td>Larosa</td>\n",
              "      <td>Mark</td>\n",
              "    </tr>\n",
              "    <tr>\n",
              "      <th>996</th>\n",
              "      <td>Williamson, Jerry A</td>\n",
              "      <td>43</td>\n",
              "      <td>M</td>\n",
              "      <td>Raleigh</td>\n",
              "      <td>NC</td>\n",
              "      <td>USA</td>\n",
              "      <td>2:56:06</td>\n",
              "      <td>997</td>\n",
              "      <td>941</td>\n",
              "      <td>2015</td>\n",
              "      <td>Williamson</td>\n",
              "      <td>Jerry A</td>\n",
              "    </tr>\n",
              "  </tbody>\n",
              "</table>\n",
              "<p>315 rows × 12 columns</p>\n",
              "</div>\n",
              "      <button class=\"colab-df-convert\" onclick=\"convertToInteractive('df-345e5592-39fd-40f0-bde6-1dab510c1651')\"\n",
              "              title=\"Convert this dataframe to an interactive table.\"\n",
              "              style=\"display:none;\">\n",
              "        \n",
              "  <svg xmlns=\"http://www.w3.org/2000/svg\" height=\"24px\"viewBox=\"0 0 24 24\"\n",
              "       width=\"24px\">\n",
              "    <path d=\"M0 0h24v24H0V0z\" fill=\"none\"/>\n",
              "    <path d=\"M18.56 5.44l.94 2.06.94-2.06 2.06-.94-2.06-.94-.94-2.06-.94 2.06-2.06.94zm-11 1L8.5 8.5l.94-2.06 2.06-.94-2.06-.94L8.5 2.5l-.94 2.06-2.06.94zm10 10l.94 2.06.94-2.06 2.06-.94-2.06-.94-.94-2.06-.94 2.06-2.06.94z\"/><path d=\"M17.41 7.96l-1.37-1.37c-.4-.4-.92-.59-1.43-.59-.52 0-1.04.2-1.43.59L10.3 9.45l-7.72 7.72c-.78.78-.78 2.05 0 2.83L4 21.41c.39.39.9.59 1.41.59.51 0 1.02-.2 1.41-.59l7.78-7.78 2.81-2.81c.8-.78.8-2.07 0-2.86zM5.41 20L4 18.59l7.72-7.72 1.47 1.35L5.41 20z\"/>\n",
              "  </svg>\n",
              "      </button>\n",
              "      \n",
              "  <style>\n",
              "    .colab-df-container {\n",
              "      display:flex;\n",
              "      flex-wrap:wrap;\n",
              "      gap: 12px;\n",
              "    }\n",
              "\n",
              "    .colab-df-convert {\n",
              "      background-color: #E8F0FE;\n",
              "      border: none;\n",
              "      border-radius: 50%;\n",
              "      cursor: pointer;\n",
              "      display: none;\n",
              "      fill: #1967D2;\n",
              "      height: 32px;\n",
              "      padding: 0 0 0 0;\n",
              "      width: 32px;\n",
              "    }\n",
              "\n",
              "    .colab-df-convert:hover {\n",
              "      background-color: #E2EBFA;\n",
              "      box-shadow: 0px 1px 2px rgba(60, 64, 67, 0.3), 0px 1px 3px 1px rgba(60, 64, 67, 0.15);\n",
              "      fill: #174EA6;\n",
              "    }\n",
              "\n",
              "    [theme=dark] .colab-df-convert {\n",
              "      background-color: #3B4455;\n",
              "      fill: #D2E3FC;\n",
              "    }\n",
              "\n",
              "    [theme=dark] .colab-df-convert:hover {\n",
              "      background-color: #434B5C;\n",
              "      box-shadow: 0px 1px 3px 1px rgba(0, 0, 0, 0.15);\n",
              "      filter: drop-shadow(0px 1px 2px rgba(0, 0, 0, 0.3));\n",
              "      fill: #FFFFFF;\n",
              "    }\n",
              "  </style>\n",
              "\n",
              "      <script>\n",
              "        const buttonEl =\n",
              "          document.querySelector('#df-345e5592-39fd-40f0-bde6-1dab510c1651 button.colab-df-convert');\n",
              "        buttonEl.style.display =\n",
              "          google.colab.kernel.accessAllowed ? 'block' : 'none';\n",
              "\n",
              "        async function convertToInteractive(key) {\n",
              "          const element = document.querySelector('#df-345e5592-39fd-40f0-bde6-1dab510c1651');\n",
              "          const dataTable =\n",
              "            await google.colab.kernel.invokeFunction('convertToInteractive',\n",
              "                                                     [key], {});\n",
              "          if (!dataTable) return;\n",
              "\n",
              "          const docLinkHtml = 'Like what you see? Visit the ' +\n",
              "            '<a target=\"_blank\" href=https://colab.research.google.com/notebooks/data_table.ipynb>data table notebook</a>'\n",
              "            + ' to learn more about interactive tables.';\n",
              "          element.innerHTML = '';\n",
              "          dataTable['output_type'] = 'display_data';\n",
              "          await google.colab.output.renderOutput(dataTable, element);\n",
              "          const docLink = document.createElement('div');\n",
              "          docLink.innerHTML = docLinkHtml;\n",
              "          element.appendChild(docLink);\n",
              "        }\n",
              "      </script>\n",
              "    </div>\n",
              "  </div>\n",
              "  "
            ],
            "text/plain": [
              "                    Name  Age M/F           City State Country Official Time  \\\n",
              "4         Chebet, Wilson   31   M       Marakwet   NaN     KEN       2:12:35   \n",
              "12       Keflezighi, Meb   41   M      San Diego    CA     USA       2:17:00   \n",
              "13     Nyasango, Cutbert   34   M         Harara   NaN     ZIM       2:17:40   \n",
              "14         Korir, Wesley   34   M         Kitale   NaN     KEN       2:18:14   \n",
              "29      Maravilla, Jorge   39   M    Mill Valley    CA     USA       2:24:27   \n",
              "..                   ...  ...  ..            ...   ...     ...           ...   \n",
              "986        Bretz, Virgil   44   M      Mt. Kisco    NY     USA       2:56:02   \n",
              "987     Cucuzzella, Mark   50   M  Shepherdstown    WV     USA       2:56:03   \n",
              "988       Carron, John B   46   M      Irvington    NY     USA       2:56:03   \n",
              "995         Larosa, Mark   38   M  North Andover    MA     USA       2:56:06   \n",
              "996  Williamson, Jerry A   43   M        Raleigh    NC     USA       2:56:06   \n",
              "\n",
              "     Overall  Gender  Years Ran  First Name Last Name  \n",
              "4          5       5       2015      Chebet    Wilson  \n",
              "12        13      13       2015  Keflezighi       Meb  \n",
              "13        14      14       2016    Nyasango   Cutbert  \n",
              "14        15      15  2015:2016       Korir    Wesley  \n",
              "29        30      27       2016   Maravilla     Jorge  \n",
              "..       ...     ...        ...         ...       ...  \n",
              "986      987     931  2015:2016       Bretz    Virgil  \n",
              "987      988     932       2016  Cucuzzella      Mark  \n",
              "988      989     933       2016      Carron    John B  \n",
              "995      996     940  2015:2016      Larosa      Mark  \n",
              "996      997     941       2015  Williamson   Jerry A  \n",
              "\n",
              "[315 rows x 12 columns]"
            ]
          },
          "metadata": {},
          "execution_count": 135
        }
      ]
    },
    {
      "cell_type": "code",
      "metadata": {
        "id": "zHVGdKIi-IV3",
        "colab": {
          "base_uri": "https://localhost:8080/"
        },
        "outputId": "46a23336-61e3-4fca-b0bd-ae6ea005107c"
      },
      "source": [
        "boston['Years Ran'].unique()"
      ],
      "execution_count": 136,
      "outputs": [
        {
          "output_type": "execute_result",
          "data": {
            "text/plain": [
              "array([nan, '2015', '2016', '2015:2016'], dtype=object)"
            ]
          },
          "metadata": {},
          "execution_count": 136
        }
      ]
    },
    {
      "cell_type": "code",
      "metadata": {
        "id": "kXhr3xUm-Pz1"
      },
      "source": [
        "dummies = boston['Years Ran'].str.get_dummies(sep=':')"
      ],
      "execution_count": 137,
      "outputs": []
    },
    {
      "cell_type": "code",
      "metadata": {
        "id": "sf_8Bv1j_eTN",
        "colab": {
          "base_uri": "https://localhost:8080/",
          "height": 0
        },
        "outputId": "7181f689-a331-41b0-f73f-498a808f5a4e"
      },
      "source": [
        "dummies.head()"
      ],
      "execution_count": 138,
      "outputs": [
        {
          "output_type": "execute_result",
          "data": {
            "text/html": [
              "\n",
              "  <div id=\"df-342070b7-ed35-4a0c-b3b1-8c2c2fb9370e\">\n",
              "    <div class=\"colab-df-container\">\n",
              "      <div>\n",
              "<style scoped>\n",
              "    .dataframe tbody tr th:only-of-type {\n",
              "        vertical-align: middle;\n",
              "    }\n",
              "\n",
              "    .dataframe tbody tr th {\n",
              "        vertical-align: top;\n",
              "    }\n",
              "\n",
              "    .dataframe thead th {\n",
              "        text-align: right;\n",
              "    }\n",
              "</style>\n",
              "<table border=\"1\" class=\"dataframe\">\n",
              "  <thead>\n",
              "    <tr style=\"text-align: right;\">\n",
              "      <th></th>\n",
              "      <th>2015</th>\n",
              "      <th>2016</th>\n",
              "    </tr>\n",
              "  </thead>\n",
              "  <tbody>\n",
              "    <tr>\n",
              "      <th>0</th>\n",
              "      <td>0</td>\n",
              "      <td>0</td>\n",
              "    </tr>\n",
              "    <tr>\n",
              "      <th>1</th>\n",
              "      <td>0</td>\n",
              "      <td>0</td>\n",
              "    </tr>\n",
              "    <tr>\n",
              "      <th>2</th>\n",
              "      <td>0</td>\n",
              "      <td>0</td>\n",
              "    </tr>\n",
              "    <tr>\n",
              "      <th>3</th>\n",
              "      <td>0</td>\n",
              "      <td>0</td>\n",
              "    </tr>\n",
              "    <tr>\n",
              "      <th>4</th>\n",
              "      <td>1</td>\n",
              "      <td>0</td>\n",
              "    </tr>\n",
              "  </tbody>\n",
              "</table>\n",
              "</div>\n",
              "      <button class=\"colab-df-convert\" onclick=\"convertToInteractive('df-342070b7-ed35-4a0c-b3b1-8c2c2fb9370e')\"\n",
              "              title=\"Convert this dataframe to an interactive table.\"\n",
              "              style=\"display:none;\">\n",
              "        \n",
              "  <svg xmlns=\"http://www.w3.org/2000/svg\" height=\"24px\"viewBox=\"0 0 24 24\"\n",
              "       width=\"24px\">\n",
              "    <path d=\"M0 0h24v24H0V0z\" fill=\"none\"/>\n",
              "    <path d=\"M18.56 5.44l.94 2.06.94-2.06 2.06-.94-2.06-.94-.94-2.06-.94 2.06-2.06.94zm-11 1L8.5 8.5l.94-2.06 2.06-.94-2.06-.94L8.5 2.5l-.94 2.06-2.06.94zm10 10l.94 2.06.94-2.06 2.06-.94-2.06-.94-.94-2.06-.94 2.06-2.06.94z\"/><path d=\"M17.41 7.96l-1.37-1.37c-.4-.4-.92-.59-1.43-.59-.52 0-1.04.2-1.43.59L10.3 9.45l-7.72 7.72c-.78.78-.78 2.05 0 2.83L4 21.41c.39.39.9.59 1.41.59.51 0 1.02-.2 1.41-.59l7.78-7.78 2.81-2.81c.8-.78.8-2.07 0-2.86zM5.41 20L4 18.59l7.72-7.72 1.47 1.35L5.41 20z\"/>\n",
              "  </svg>\n",
              "      </button>\n",
              "      \n",
              "  <style>\n",
              "    .colab-df-container {\n",
              "      display:flex;\n",
              "      flex-wrap:wrap;\n",
              "      gap: 12px;\n",
              "    }\n",
              "\n",
              "    .colab-df-convert {\n",
              "      background-color: #E8F0FE;\n",
              "      border: none;\n",
              "      border-radius: 50%;\n",
              "      cursor: pointer;\n",
              "      display: none;\n",
              "      fill: #1967D2;\n",
              "      height: 32px;\n",
              "      padding: 0 0 0 0;\n",
              "      width: 32px;\n",
              "    }\n",
              "\n",
              "    .colab-df-convert:hover {\n",
              "      background-color: #E2EBFA;\n",
              "      box-shadow: 0px 1px 2px rgba(60, 64, 67, 0.3), 0px 1px 3px 1px rgba(60, 64, 67, 0.15);\n",
              "      fill: #174EA6;\n",
              "    }\n",
              "\n",
              "    [theme=dark] .colab-df-convert {\n",
              "      background-color: #3B4455;\n",
              "      fill: #D2E3FC;\n",
              "    }\n",
              "\n",
              "    [theme=dark] .colab-df-convert:hover {\n",
              "      background-color: #434B5C;\n",
              "      box-shadow: 0px 1px 3px 1px rgba(0, 0, 0, 0.15);\n",
              "      filter: drop-shadow(0px 1px 2px rgba(0, 0, 0, 0.3));\n",
              "      fill: #FFFFFF;\n",
              "    }\n",
              "  </style>\n",
              "\n",
              "      <script>\n",
              "        const buttonEl =\n",
              "          document.querySelector('#df-342070b7-ed35-4a0c-b3b1-8c2c2fb9370e button.colab-df-convert');\n",
              "        buttonEl.style.display =\n",
              "          google.colab.kernel.accessAllowed ? 'block' : 'none';\n",
              "\n",
              "        async function convertToInteractive(key) {\n",
              "          const element = document.querySelector('#df-342070b7-ed35-4a0c-b3b1-8c2c2fb9370e');\n",
              "          const dataTable =\n",
              "            await google.colab.kernel.invokeFunction('convertToInteractive',\n",
              "                                                     [key], {});\n",
              "          if (!dataTable) return;\n",
              "\n",
              "          const docLinkHtml = 'Like what you see? Visit the ' +\n",
              "            '<a target=\"_blank\" href=https://colab.research.google.com/notebooks/data_table.ipynb>data table notebook</a>'\n",
              "            + ' to learn more about interactive tables.';\n",
              "          element.innerHTML = '';\n",
              "          dataTable['output_type'] = 'display_data';\n",
              "          await google.colab.output.renderOutput(dataTable, element);\n",
              "          const docLink = document.createElement('div');\n",
              "          docLink.innerHTML = docLinkHtml;\n",
              "          element.appendChild(docLink);\n",
              "        }\n",
              "      </script>\n",
              "    </div>\n",
              "  </div>\n",
              "  "
            ],
            "text/plain": [
              "   2015  2016\n",
              "0     0     0\n",
              "1     0     0\n",
              "2     0     0\n",
              "3     0     0\n",
              "4     1     0"
            ]
          },
          "metadata": {},
          "execution_count": 138
        }
      ]
    },
    {
      "cell_type": "code",
      "metadata": {
        "id": "6pSemQwK-wax"
      },
      "source": [
        "# the df.insert()"
      ],
      "execution_count": 139,
      "outputs": []
    },
    {
      "cell_type": "code",
      "metadata": {
        "id": "QbxX61cc---E"
      },
      "source": [
        "boston.insert(boston.columns.get_loc('Years Ran'), 'Ran 2015', dummies['2015'])\n",
        "boston.insert(boston.columns.get_loc('Years Ran'), 'Ran 2016', dummies['2016'])"
      ],
      "execution_count": 140,
      "outputs": []
    },
    {
      "cell_type": "code",
      "metadata": {
        "id": "bcd2hrMv_lTd",
        "colab": {
          "base_uri": "https://localhost:8080/",
          "height": 0
        },
        "outputId": "06326b9a-5fee-4fc3-f89f-572dfd3f0c3c"
      },
      "source": [
        "boston.head(10)"
      ],
      "execution_count": 141,
      "outputs": [
        {
          "output_type": "execute_result",
          "data": {
            "text/html": [
              "\n",
              "  <div id=\"df-d9b57f7a-ba11-4709-89eb-110bd1d5906b\">\n",
              "    <div class=\"colab-df-container\">\n",
              "      <div>\n",
              "<style scoped>\n",
              "    .dataframe tbody tr th:only-of-type {\n",
              "        vertical-align: middle;\n",
              "    }\n",
              "\n",
              "    .dataframe tbody tr th {\n",
              "        vertical-align: top;\n",
              "    }\n",
              "\n",
              "    .dataframe thead th {\n",
              "        text-align: right;\n",
              "    }\n",
              "</style>\n",
              "<table border=\"1\" class=\"dataframe\">\n",
              "  <thead>\n",
              "    <tr style=\"text-align: right;\">\n",
              "      <th></th>\n",
              "      <th>Name</th>\n",
              "      <th>Age</th>\n",
              "      <th>M/F</th>\n",
              "      <th>City</th>\n",
              "      <th>State</th>\n",
              "      <th>Country</th>\n",
              "      <th>Official Time</th>\n",
              "      <th>Overall</th>\n",
              "      <th>Gender</th>\n",
              "      <th>Ran 2015</th>\n",
              "      <th>Ran 2016</th>\n",
              "      <th>Years Ran</th>\n",
              "      <th>First Name</th>\n",
              "      <th>Last Name</th>\n",
              "    </tr>\n",
              "  </thead>\n",
              "  <tbody>\n",
              "    <tr>\n",
              "      <th>0</th>\n",
              "      <td>Kirui, Geoffrey</td>\n",
              "      <td>24</td>\n",
              "      <td>M</td>\n",
              "      <td>Keringet</td>\n",
              "      <td>NaN</td>\n",
              "      <td>KEN</td>\n",
              "      <td>2:09:37</td>\n",
              "      <td>1</td>\n",
              "      <td>1</td>\n",
              "      <td>0</td>\n",
              "      <td>0</td>\n",
              "      <td>NaN</td>\n",
              "      <td>Kirui</td>\n",
              "      <td>Geoffrey</td>\n",
              "    </tr>\n",
              "    <tr>\n",
              "      <th>1</th>\n",
              "      <td>Rupp, Galen</td>\n",
              "      <td>30</td>\n",
              "      <td>M</td>\n",
              "      <td>Portland</td>\n",
              "      <td>OR</td>\n",
              "      <td>USA</td>\n",
              "      <td>2:09:58</td>\n",
              "      <td>2</td>\n",
              "      <td>2</td>\n",
              "      <td>0</td>\n",
              "      <td>0</td>\n",
              "      <td>NaN</td>\n",
              "      <td>Rupp</td>\n",
              "      <td>Galen</td>\n",
              "    </tr>\n",
              "    <tr>\n",
              "      <th>2</th>\n",
              "      <td>Osako, Suguru</td>\n",
              "      <td>25</td>\n",
              "      <td>M</td>\n",
              "      <td>Machida-City</td>\n",
              "      <td>NaN</td>\n",
              "      <td>JPN</td>\n",
              "      <td>2:10:28</td>\n",
              "      <td>3</td>\n",
              "      <td>3</td>\n",
              "      <td>0</td>\n",
              "      <td>0</td>\n",
              "      <td>NaN</td>\n",
              "      <td>Osako</td>\n",
              "      <td>Suguru</td>\n",
              "    </tr>\n",
              "    <tr>\n",
              "      <th>3</th>\n",
              "      <td>Biwott, Shadrack</td>\n",
              "      <td>32</td>\n",
              "      <td>M</td>\n",
              "      <td>Mammoth Lakes</td>\n",
              "      <td>CA</td>\n",
              "      <td>USA</td>\n",
              "      <td>2:12:08</td>\n",
              "      <td>4</td>\n",
              "      <td>4</td>\n",
              "      <td>0</td>\n",
              "      <td>0</td>\n",
              "      <td>NaN</td>\n",
              "      <td>Biwott</td>\n",
              "      <td>Shadrack</td>\n",
              "    </tr>\n",
              "    <tr>\n",
              "      <th>4</th>\n",
              "      <td>Chebet, Wilson</td>\n",
              "      <td>31</td>\n",
              "      <td>M</td>\n",
              "      <td>Marakwet</td>\n",
              "      <td>NaN</td>\n",
              "      <td>KEN</td>\n",
              "      <td>2:12:35</td>\n",
              "      <td>5</td>\n",
              "      <td>5</td>\n",
              "      <td>1</td>\n",
              "      <td>0</td>\n",
              "      <td>2015</td>\n",
              "      <td>Chebet</td>\n",
              "      <td>Wilson</td>\n",
              "    </tr>\n",
              "    <tr>\n",
              "      <th>5</th>\n",
              "      <td>Abdirahman, Abdi</td>\n",
              "      <td>40</td>\n",
              "      <td>M</td>\n",
              "      <td>Phoenix</td>\n",
              "      <td>AZ</td>\n",
              "      <td>USA</td>\n",
              "      <td>2:12:45</td>\n",
              "      <td>6</td>\n",
              "      <td>6</td>\n",
              "      <td>0</td>\n",
              "      <td>0</td>\n",
              "      <td>NaN</td>\n",
              "      <td>Abdirahman</td>\n",
              "      <td>Abdi</td>\n",
              "    </tr>\n",
              "    <tr>\n",
              "      <th>6</th>\n",
              "      <td>Maiyo, Augustus K.</td>\n",
              "      <td>33</td>\n",
              "      <td>M</td>\n",
              "      <td>Colorado Springs</td>\n",
              "      <td>CO</td>\n",
              "      <td>USA</td>\n",
              "      <td>2:13:16</td>\n",
              "      <td>7</td>\n",
              "      <td>7</td>\n",
              "      <td>0</td>\n",
              "      <td>0</td>\n",
              "      <td>NaN</td>\n",
              "      <td>Maiyo</td>\n",
              "      <td>Augustus K.</td>\n",
              "    </tr>\n",
              "    <tr>\n",
              "      <th>7</th>\n",
              "      <td>Sefir, Dino</td>\n",
              "      <td>28</td>\n",
              "      <td>M</td>\n",
              "      <td>Addis Ababa</td>\n",
              "      <td>NaN</td>\n",
              "      <td>ETH</td>\n",
              "      <td>2:14:26</td>\n",
              "      <td>8</td>\n",
              "      <td>8</td>\n",
              "      <td>0</td>\n",
              "      <td>0</td>\n",
              "      <td>NaN</td>\n",
              "      <td>Sefir</td>\n",
              "      <td>Dino</td>\n",
              "    </tr>\n",
              "    <tr>\n",
              "      <th>8</th>\n",
              "      <td>Puskedra, Luke</td>\n",
              "      <td>27</td>\n",
              "      <td>M</td>\n",
              "      <td>Eugene</td>\n",
              "      <td>OR</td>\n",
              "      <td>USA</td>\n",
              "      <td>2:14:45</td>\n",
              "      <td>9</td>\n",
              "      <td>9</td>\n",
              "      <td>0</td>\n",
              "      <td>0</td>\n",
              "      <td>NaN</td>\n",
              "      <td>Puskedra</td>\n",
              "      <td>Luke</td>\n",
              "    </tr>\n",
              "    <tr>\n",
              "      <th>9</th>\n",
              "      <td>Ward, Jared</td>\n",
              "      <td>28</td>\n",
              "      <td>M</td>\n",
              "      <td>Kaysville</td>\n",
              "      <td>UT</td>\n",
              "      <td>USA</td>\n",
              "      <td>2:15:28</td>\n",
              "      <td>10</td>\n",
              "      <td>10</td>\n",
              "      <td>0</td>\n",
              "      <td>0</td>\n",
              "      <td>NaN</td>\n",
              "      <td>Ward</td>\n",
              "      <td>Jared</td>\n",
              "    </tr>\n",
              "  </tbody>\n",
              "</table>\n",
              "</div>\n",
              "      <button class=\"colab-df-convert\" onclick=\"convertToInteractive('df-d9b57f7a-ba11-4709-89eb-110bd1d5906b')\"\n",
              "              title=\"Convert this dataframe to an interactive table.\"\n",
              "              style=\"display:none;\">\n",
              "        \n",
              "  <svg xmlns=\"http://www.w3.org/2000/svg\" height=\"24px\"viewBox=\"0 0 24 24\"\n",
              "       width=\"24px\">\n",
              "    <path d=\"M0 0h24v24H0V0z\" fill=\"none\"/>\n",
              "    <path d=\"M18.56 5.44l.94 2.06.94-2.06 2.06-.94-2.06-.94-.94-2.06-.94 2.06-2.06.94zm-11 1L8.5 8.5l.94-2.06 2.06-.94-2.06-.94L8.5 2.5l-.94 2.06-2.06.94zm10 10l.94 2.06.94-2.06 2.06-.94-2.06-.94-.94-2.06-.94 2.06-2.06.94z\"/><path d=\"M17.41 7.96l-1.37-1.37c-.4-.4-.92-.59-1.43-.59-.52 0-1.04.2-1.43.59L10.3 9.45l-7.72 7.72c-.78.78-.78 2.05 0 2.83L4 21.41c.39.39.9.59 1.41.59.51 0 1.02-.2 1.41-.59l7.78-7.78 2.81-2.81c.8-.78.8-2.07 0-2.86zM5.41 20L4 18.59l7.72-7.72 1.47 1.35L5.41 20z\"/>\n",
              "  </svg>\n",
              "      </button>\n",
              "      \n",
              "  <style>\n",
              "    .colab-df-container {\n",
              "      display:flex;\n",
              "      flex-wrap:wrap;\n",
              "      gap: 12px;\n",
              "    }\n",
              "\n",
              "    .colab-df-convert {\n",
              "      background-color: #E8F0FE;\n",
              "      border: none;\n",
              "      border-radius: 50%;\n",
              "      cursor: pointer;\n",
              "      display: none;\n",
              "      fill: #1967D2;\n",
              "      height: 32px;\n",
              "      padding: 0 0 0 0;\n",
              "      width: 32px;\n",
              "    }\n",
              "\n",
              "    .colab-df-convert:hover {\n",
              "      background-color: #E2EBFA;\n",
              "      box-shadow: 0px 1px 2px rgba(60, 64, 67, 0.3), 0px 1px 3px 1px rgba(60, 64, 67, 0.15);\n",
              "      fill: #174EA6;\n",
              "    }\n",
              "\n",
              "    [theme=dark] .colab-df-convert {\n",
              "      background-color: #3B4455;\n",
              "      fill: #D2E3FC;\n",
              "    }\n",
              "\n",
              "    [theme=dark] .colab-df-convert:hover {\n",
              "      background-color: #434B5C;\n",
              "      box-shadow: 0px 1px 3px 1px rgba(0, 0, 0, 0.15);\n",
              "      filter: drop-shadow(0px 1px 2px rgba(0, 0, 0, 0.3));\n",
              "      fill: #FFFFFF;\n",
              "    }\n",
              "  </style>\n",
              "\n",
              "      <script>\n",
              "        const buttonEl =\n",
              "          document.querySelector('#df-d9b57f7a-ba11-4709-89eb-110bd1d5906b button.colab-df-convert');\n",
              "        buttonEl.style.display =\n",
              "          google.colab.kernel.accessAllowed ? 'block' : 'none';\n",
              "\n",
              "        async function convertToInteractive(key) {\n",
              "          const element = document.querySelector('#df-d9b57f7a-ba11-4709-89eb-110bd1d5906b');\n",
              "          const dataTable =\n",
              "            await google.colab.kernel.invokeFunction('convertToInteractive',\n",
              "                                                     [key], {});\n",
              "          if (!dataTable) return;\n",
              "\n",
              "          const docLinkHtml = 'Like what you see? Visit the ' +\n",
              "            '<a target=\"_blank\" href=https://colab.research.google.com/notebooks/data_table.ipynb>data table notebook</a>'\n",
              "            + ' to learn more about interactive tables.';\n",
              "          element.innerHTML = '';\n",
              "          dataTable['output_type'] = 'display_data';\n",
              "          await google.colab.output.renderOutput(dataTable, element);\n",
              "          const docLink = document.createElement('div');\n",
              "          docLink.innerHTML = docLinkHtml;\n",
              "          element.appendChild(docLink);\n",
              "        }\n",
              "      </script>\n",
              "    </div>\n",
              "  </div>\n",
              "  "
            ],
            "text/plain": [
              "                 Name  Age M/F              City State Country Official Time  \\\n",
              "0     Kirui, Geoffrey   24   M          Keringet   NaN     KEN       2:09:37   \n",
              "1         Rupp, Galen   30   M          Portland    OR     USA       2:09:58   \n",
              "2       Osako, Suguru   25   M      Machida-City   NaN     JPN       2:10:28   \n",
              "3    Biwott, Shadrack   32   M     Mammoth Lakes    CA     USA       2:12:08   \n",
              "4      Chebet, Wilson   31   M          Marakwet   NaN     KEN       2:12:35   \n",
              "5    Abdirahman, Abdi   40   M           Phoenix    AZ     USA       2:12:45   \n",
              "6  Maiyo, Augustus K.   33   M  Colorado Springs    CO     USA       2:13:16   \n",
              "7         Sefir, Dino   28   M       Addis Ababa   NaN     ETH       2:14:26   \n",
              "8      Puskedra, Luke   27   M            Eugene    OR     USA       2:14:45   \n",
              "9         Ward, Jared   28   M         Kaysville    UT     USA       2:15:28   \n",
              "\n",
              "   Overall  Gender  Ran 2015  Ran 2016 Years Ran  First Name    Last Name  \n",
              "0        1       1         0         0       NaN       Kirui     Geoffrey  \n",
              "1        2       2         0         0       NaN        Rupp        Galen  \n",
              "2        3       3         0         0       NaN       Osako       Suguru  \n",
              "3        4       4         0         0       NaN      Biwott     Shadrack  \n",
              "4        5       5         1         0      2015      Chebet       Wilson  \n",
              "5        6       6         0         0       NaN  Abdirahman         Abdi  \n",
              "6        7       7         0         0       NaN       Maiyo  Augustus K.  \n",
              "7        8       8         0         0       NaN       Sefir         Dino  \n",
              "8        9       9         0         0       NaN    Puskedra         Luke  \n",
              "9       10      10         0         0       NaN        Ward        Jared  "
            ]
          },
          "metadata": {},
          "execution_count": 141
        }
      ]
    },
    {
      "cell_type": "code",
      "metadata": {
        "id": "T6W0Kp3o_mdA"
      },
      "source": [
        "# Q: which top runners from 2017 also ran in the previous two Boston marthons"
      ],
      "execution_count": 142,
      "outputs": []
    },
    {
      "cell_type": "code",
      "metadata": {
        "id": "6z7e_KSI_x-2",
        "colab": {
          "base_uri": "https://localhost:8080/",
          "height": 0
        },
        "outputId": "1e7c087a-17e0-49a8-f661-cda6a0e633c8"
      },
      "source": [
        "boston[(boston['Ran 2015']==1) & (boston['Ran 2016']==1)]"
      ],
      "execution_count": 143,
      "outputs": [
        {
          "output_type": "execute_result",
          "data": {
            "text/html": [
              "\n",
              "  <div id=\"df-864b1c42-027f-4e18-9650-43fb857efdbc\">\n",
              "    <div class=\"colab-df-container\">\n",
              "      <div>\n",
              "<style scoped>\n",
              "    .dataframe tbody tr th:only-of-type {\n",
              "        vertical-align: middle;\n",
              "    }\n",
              "\n",
              "    .dataframe tbody tr th {\n",
              "        vertical-align: top;\n",
              "    }\n",
              "\n",
              "    .dataframe thead th {\n",
              "        text-align: right;\n",
              "    }\n",
              "</style>\n",
              "<table border=\"1\" class=\"dataframe\">\n",
              "  <thead>\n",
              "    <tr style=\"text-align: right;\">\n",
              "      <th></th>\n",
              "      <th>Name</th>\n",
              "      <th>Age</th>\n",
              "      <th>M/F</th>\n",
              "      <th>City</th>\n",
              "      <th>State</th>\n",
              "      <th>Country</th>\n",
              "      <th>Official Time</th>\n",
              "      <th>Overall</th>\n",
              "      <th>Gender</th>\n",
              "      <th>Ran 2015</th>\n",
              "      <th>Ran 2016</th>\n",
              "      <th>Years Ran</th>\n",
              "      <th>First Name</th>\n",
              "      <th>Last Name</th>\n",
              "    </tr>\n",
              "  </thead>\n",
              "  <tbody>\n",
              "    <tr>\n",
              "      <th>14</th>\n",
              "      <td>Korir, Wesley</td>\n",
              "      <td>34</td>\n",
              "      <td>M</td>\n",
              "      <td>Kitale</td>\n",
              "      <td>NaN</td>\n",
              "      <td>KEN</td>\n",
              "      <td>2:18:14</td>\n",
              "      <td>15</td>\n",
              "      <td>15</td>\n",
              "      <td>1</td>\n",
              "      <td>1</td>\n",
              "      <td>2015:2016</td>\n",
              "      <td>Korir</td>\n",
              "      <td>Wesley</td>\n",
              "    </tr>\n",
              "    <tr>\n",
              "      <th>30</th>\n",
              "      <td>Ornelas, Zachary</td>\n",
              "      <td>25</td>\n",
              "      <td>M</td>\n",
              "      <td>Ann Arbor</td>\n",
              "      <td>MI</td>\n",
              "      <td>USA</td>\n",
              "      <td>2:24:40</td>\n",
              "      <td>31</td>\n",
              "      <td>28</td>\n",
              "      <td>1</td>\n",
              "      <td>1</td>\n",
              "      <td>2015:2016</td>\n",
              "      <td>Ornelas</td>\n",
              "      <td>Zachary</td>\n",
              "    </tr>\n",
              "    <tr>\n",
              "      <th>31</th>\n",
              "      <td>Ayr, Jason M.</td>\n",
              "      <td>29</td>\n",
              "      <td>M</td>\n",
              "      <td>Allston</td>\n",
              "      <td>MA</td>\n",
              "      <td>USA</td>\n",
              "      <td>2:24:49</td>\n",
              "      <td>32</td>\n",
              "      <td>29</td>\n",
              "      <td>1</td>\n",
              "      <td>1</td>\n",
              "      <td>2015:2016</td>\n",
              "      <td>Ayr</td>\n",
              "      <td>Jason M.</td>\n",
              "    </tr>\n",
              "    <tr>\n",
              "      <th>36</th>\n",
              "      <td>Vangampleare, Stephen</td>\n",
              "      <td>26</td>\n",
              "      <td>M</td>\n",
              "      <td>Colorado Springs</td>\n",
              "      <td>CO</td>\n",
              "      <td>USA</td>\n",
              "      <td>2:25:35</td>\n",
              "      <td>37</td>\n",
              "      <td>33</td>\n",
              "      <td>1</td>\n",
              "      <td>1</td>\n",
              "      <td>2015:2016</td>\n",
              "      <td>Vangampleare</td>\n",
              "      <td>Stephen</td>\n",
              "    </tr>\n",
              "    <tr>\n",
              "      <th>56</th>\n",
              "      <td>Boudalia, Said Sr.</td>\n",
              "      <td>48</td>\n",
              "      <td>M</td>\n",
              "      <td>Belluno</td>\n",
              "      <td>NaN</td>\n",
              "      <td>ITA</td>\n",
              "      <td>2:30:11</td>\n",
              "      <td>57</td>\n",
              "      <td>51</td>\n",
              "      <td>1</td>\n",
              "      <td>1</td>\n",
              "      <td>2015:2016</td>\n",
              "      <td>Boudalia</td>\n",
              "      <td>Said Sr.</td>\n",
              "    </tr>\n",
              "    <tr>\n",
              "      <th>...</th>\n",
              "      <td>...</td>\n",
              "      <td>...</td>\n",
              "      <td>...</td>\n",
              "      <td>...</td>\n",
              "      <td>...</td>\n",
              "      <td>...</td>\n",
              "      <td>...</td>\n",
              "      <td>...</td>\n",
              "      <td>...</td>\n",
              "      <td>...</td>\n",
              "      <td>...</td>\n",
              "      <td>...</td>\n",
              "      <td>...</td>\n",
              "      <td>...</td>\n",
              "    </tr>\n",
              "    <tr>\n",
              "      <th>959</th>\n",
              "      <td>Yu, Michael</td>\n",
              "      <td>45</td>\n",
              "      <td>M</td>\n",
              "      <td>Zhubei City, Hsinchu County</td>\n",
              "      <td>NaN</td>\n",
              "      <td>TWN</td>\n",
              "      <td>2:55:40</td>\n",
              "      <td>960</td>\n",
              "      <td>907</td>\n",
              "      <td>1</td>\n",
              "      <td>1</td>\n",
              "      <td>2015:2016</td>\n",
              "      <td>Yu</td>\n",
              "      <td>Michael</td>\n",
              "    </tr>\n",
              "    <tr>\n",
              "      <th>962</th>\n",
              "      <td>Husak, Tyler</td>\n",
              "      <td>30</td>\n",
              "      <td>M</td>\n",
              "      <td>Marion</td>\n",
              "      <td>IA</td>\n",
              "      <td>USA</td>\n",
              "      <td>2:55:42</td>\n",
              "      <td>963</td>\n",
              "      <td>910</td>\n",
              "      <td>1</td>\n",
              "      <td>1</td>\n",
              "      <td>2015:2016</td>\n",
              "      <td>Husak</td>\n",
              "      <td>Tyler</td>\n",
              "    </tr>\n",
              "    <tr>\n",
              "      <th>977</th>\n",
              "      <td>Guthals, Nathaniel</td>\n",
              "      <td>26</td>\n",
              "      <td>M</td>\n",
              "      <td>Overland Park</td>\n",
              "      <td>KS</td>\n",
              "      <td>USA</td>\n",
              "      <td>2:55:57</td>\n",
              "      <td>978</td>\n",
              "      <td>923</td>\n",
              "      <td>1</td>\n",
              "      <td>1</td>\n",
              "      <td>2015:2016</td>\n",
              "      <td>Guthals</td>\n",
              "      <td>Nathaniel</td>\n",
              "    </tr>\n",
              "    <tr>\n",
              "      <th>986</th>\n",
              "      <td>Bretz, Virgil</td>\n",
              "      <td>44</td>\n",
              "      <td>M</td>\n",
              "      <td>Mt. Kisco</td>\n",
              "      <td>NY</td>\n",
              "      <td>USA</td>\n",
              "      <td>2:56:02</td>\n",
              "      <td>987</td>\n",
              "      <td>931</td>\n",
              "      <td>1</td>\n",
              "      <td>1</td>\n",
              "      <td>2015:2016</td>\n",
              "      <td>Bretz</td>\n",
              "      <td>Virgil</td>\n",
              "    </tr>\n",
              "    <tr>\n",
              "      <th>995</th>\n",
              "      <td>Larosa, Mark</td>\n",
              "      <td>38</td>\n",
              "      <td>M</td>\n",
              "      <td>North Andover</td>\n",
              "      <td>MA</td>\n",
              "      <td>USA</td>\n",
              "      <td>2:56:06</td>\n",
              "      <td>996</td>\n",
              "      <td>940</td>\n",
              "      <td>1</td>\n",
              "      <td>1</td>\n",
              "      <td>2015:2016</td>\n",
              "      <td>Larosa</td>\n",
              "      <td>Mark</td>\n",
              "    </tr>\n",
              "  </tbody>\n",
              "</table>\n",
              "<p>124 rows × 14 columns</p>\n",
              "</div>\n",
              "      <button class=\"colab-df-convert\" onclick=\"convertToInteractive('df-864b1c42-027f-4e18-9650-43fb857efdbc')\"\n",
              "              title=\"Convert this dataframe to an interactive table.\"\n",
              "              style=\"display:none;\">\n",
              "        \n",
              "  <svg xmlns=\"http://www.w3.org/2000/svg\" height=\"24px\"viewBox=\"0 0 24 24\"\n",
              "       width=\"24px\">\n",
              "    <path d=\"M0 0h24v24H0V0z\" fill=\"none\"/>\n",
              "    <path d=\"M18.56 5.44l.94 2.06.94-2.06 2.06-.94-2.06-.94-.94-2.06-.94 2.06-2.06.94zm-11 1L8.5 8.5l.94-2.06 2.06-.94-2.06-.94L8.5 2.5l-.94 2.06-2.06.94zm10 10l.94 2.06.94-2.06 2.06-.94-2.06-.94-.94-2.06-.94 2.06-2.06.94z\"/><path d=\"M17.41 7.96l-1.37-1.37c-.4-.4-.92-.59-1.43-.59-.52 0-1.04.2-1.43.59L10.3 9.45l-7.72 7.72c-.78.78-.78 2.05 0 2.83L4 21.41c.39.39.9.59 1.41.59.51 0 1.02-.2 1.41-.59l7.78-7.78 2.81-2.81c.8-.78.8-2.07 0-2.86zM5.41 20L4 18.59l7.72-7.72 1.47 1.35L5.41 20z\"/>\n",
              "  </svg>\n",
              "      </button>\n",
              "      \n",
              "  <style>\n",
              "    .colab-df-container {\n",
              "      display:flex;\n",
              "      flex-wrap:wrap;\n",
              "      gap: 12px;\n",
              "    }\n",
              "\n",
              "    .colab-df-convert {\n",
              "      background-color: #E8F0FE;\n",
              "      border: none;\n",
              "      border-radius: 50%;\n",
              "      cursor: pointer;\n",
              "      display: none;\n",
              "      fill: #1967D2;\n",
              "      height: 32px;\n",
              "      padding: 0 0 0 0;\n",
              "      width: 32px;\n",
              "    }\n",
              "\n",
              "    .colab-df-convert:hover {\n",
              "      background-color: #E2EBFA;\n",
              "      box-shadow: 0px 1px 2px rgba(60, 64, 67, 0.3), 0px 1px 3px 1px rgba(60, 64, 67, 0.15);\n",
              "      fill: #174EA6;\n",
              "    }\n",
              "\n",
              "    [theme=dark] .colab-df-convert {\n",
              "      background-color: #3B4455;\n",
              "      fill: #D2E3FC;\n",
              "    }\n",
              "\n",
              "    [theme=dark] .colab-df-convert:hover {\n",
              "      background-color: #434B5C;\n",
              "      box-shadow: 0px 1px 3px 1px rgba(0, 0, 0, 0.15);\n",
              "      filter: drop-shadow(0px 1px 2px rgba(0, 0, 0, 0.3));\n",
              "      fill: #FFFFFF;\n",
              "    }\n",
              "  </style>\n",
              "\n",
              "      <script>\n",
              "        const buttonEl =\n",
              "          document.querySelector('#df-864b1c42-027f-4e18-9650-43fb857efdbc button.colab-df-convert');\n",
              "        buttonEl.style.display =\n",
              "          google.colab.kernel.accessAllowed ? 'block' : 'none';\n",
              "\n",
              "        async function convertToInteractive(key) {\n",
              "          const element = document.querySelector('#df-864b1c42-027f-4e18-9650-43fb857efdbc');\n",
              "          const dataTable =\n",
              "            await google.colab.kernel.invokeFunction('convertToInteractive',\n",
              "                                                     [key], {});\n",
              "          if (!dataTable) return;\n",
              "\n",
              "          const docLinkHtml = 'Like what you see? Visit the ' +\n",
              "            '<a target=\"_blank\" href=https://colab.research.google.com/notebooks/data_table.ipynb>data table notebook</a>'\n",
              "            + ' to learn more about interactive tables.';\n",
              "          element.innerHTML = '';\n",
              "          dataTable['output_type'] = 'display_data';\n",
              "          await google.colab.output.renderOutput(dataTable, element);\n",
              "          const docLink = document.createElement('div');\n",
              "          docLink.innerHTML = docLinkHtml;\n",
              "          element.appendChild(docLink);\n",
              "        }\n",
              "      </script>\n",
              "    </div>\n",
              "  </div>\n",
              "  "
            ],
            "text/plain": [
              "                      Name  Age M/F                         City State  \\\n",
              "14           Korir, Wesley   34   M                       Kitale   NaN   \n",
              "30        Ornelas, Zachary   25   M                    Ann Arbor    MI   \n",
              "31           Ayr, Jason M.   29   M                      Allston    MA   \n",
              "36   Vangampleare, Stephen   26   M             Colorado Springs    CO   \n",
              "56      Boudalia, Said Sr.   48   M                      Belluno   NaN   \n",
              "..                     ...  ...  ..                          ...   ...   \n",
              "959            Yu, Michael   45   M  Zhubei City, Hsinchu County   NaN   \n",
              "962           Husak, Tyler   30   M                       Marion    IA   \n",
              "977     Guthals, Nathaniel   26   M                Overland Park    KS   \n",
              "986          Bretz, Virgil   44   M                    Mt. Kisco    NY   \n",
              "995           Larosa, Mark   38   M                North Andover    MA   \n",
              "\n",
              "    Country Official Time  Overall  Gender  Ran 2015  Ran 2016  Years Ran  \\\n",
              "14      KEN       2:18:14       15      15         1         1  2015:2016   \n",
              "30      USA       2:24:40       31      28         1         1  2015:2016   \n",
              "31      USA       2:24:49       32      29         1         1  2015:2016   \n",
              "36      USA       2:25:35       37      33         1         1  2015:2016   \n",
              "56      ITA       2:30:11       57      51         1         1  2015:2016   \n",
              "..      ...           ...      ...     ...       ...       ...        ...   \n",
              "959     TWN       2:55:40      960     907         1         1  2015:2016   \n",
              "962     USA       2:55:42      963     910         1         1  2015:2016   \n",
              "977     USA       2:55:57      978     923         1         1  2015:2016   \n",
              "986     USA       2:56:02      987     931         1         1  2015:2016   \n",
              "995     USA       2:56:06      996     940         1         1  2015:2016   \n",
              "\n",
              "       First Name  Last Name  \n",
              "14          Korir     Wesley  \n",
              "30        Ornelas    Zachary  \n",
              "31            Ayr   Jason M.  \n",
              "36   Vangampleare    Stephen  \n",
              "56       Boudalia   Said Sr.  \n",
              "..            ...        ...  \n",
              "959            Yu    Michael  \n",
              "962         Husak      Tyler  \n",
              "977       Guthals  Nathaniel  \n",
              "986         Bretz     Virgil  \n",
              "995        Larosa       Mark  \n",
              "\n",
              "[124 rows x 14 columns]"
            ]
          },
          "metadata": {},
          "execution_count": 143
        }
      ]
    },
    {
      "cell_type": "code",
      "metadata": {
        "id": "x0IpvS25_4mh"
      },
      "source": [
        "# Q: how many top runners from 2017 also ran in 2015"
      ],
      "execution_count": 144,
      "outputs": []
    },
    {
      "cell_type": "code",
      "metadata": {
        "id": "q3R8MNtp__H9",
        "colab": {
          "base_uri": "https://localhost:8080/"
        },
        "outputId": "2f318d98-3234-4779-ab13-e8453e8af726"
      },
      "source": [
        "boston['Ran 2015'].sum()"
      ],
      "execution_count": 145,
      "outputs": [
        {
          "output_type": "execute_result",
          "data": {
            "text/plain": [
              "190"
            ]
          },
          "metadata": {},
          "execution_count": 145
        }
      ]
    },
    {
      "cell_type": "markdown",
      "metadata": {
        "id": "sc3LGLCAAA_j"
      },
      "source": [
        "#### Text Replacement"
      ]
    },
    {
      "cell_type": "code",
      "metadata": {
        "id": "pxT498MkEfbn"
      },
      "source": [
        "# Agenda:\n",
        "#  - exact char sequence replacements in python and pandas\n",
        "#  - in a couple of lectures: regex"
      ],
      "execution_count": 146,
      "outputs": []
    },
    {
      "cell_type": "code",
      "metadata": {
        "id": "ERrlgq_UAlXB",
        "colab": {
          "base_uri": "https://localhost:8080/",
          "height": 0
        },
        "outputId": "b49e91cc-399a-43ae-b934-aa13dc52d00b"
      },
      "source": [
        "s"
      ],
      "execution_count": 147,
      "outputs": [
        {
          "output_type": "execute_result",
          "data": {
            "application/vnd.google.colaboratory.intrinsic+json": {
              "type": "string"
            },
            "text/plain": [
              "'Welcome to the text manipulation section'"
            ]
          },
          "metadata": {},
          "execution_count": 147
        }
      ]
    },
    {
      "cell_type": "code",
      "metadata": {
        "id": "0i-lUM6qFDLn"
      },
      "source": [
        "s += '. This section is about text.'"
      ],
      "execution_count": 148,
      "outputs": []
    },
    {
      "cell_type": "code",
      "metadata": {
        "id": "AMHcC8JFFWh4",
        "colab": {
          "base_uri": "https://localhost:8080/",
          "height": 0
        },
        "outputId": "7fe600ba-ae91-4134-fe81-15abdbfa44bc"
      },
      "source": [
        "s"
      ],
      "execution_count": 149,
      "outputs": [
        {
          "output_type": "execute_result",
          "data": {
            "application/vnd.google.colaboratory.intrinsic+json": {
              "type": "string"
            },
            "text/plain": [
              "'Welcome to the text manipulation section. This section is about text.'"
            ]
          },
          "metadata": {},
          "execution_count": 149
        }
      ]
    },
    {
      "cell_type": "code",
      "metadata": {
        "id": "FP69NFbUFW5K",
        "colab": {
          "base_uri": "https://localhost:8080/",
          "height": 0
        },
        "outputId": "fe5e0c32-989e-41b9-8542-443a7ebb239e"
      },
      "source": [
        "s.replace('text', 'string')"
      ],
      "execution_count": 150,
      "outputs": [
        {
          "output_type": "execute_result",
          "data": {
            "application/vnd.google.colaboratory.intrinsic+json": {
              "type": "string"
            },
            "text/plain": [
              "'Welcome to the string manipulation section. This section is about string.'"
            ]
          },
          "metadata": {},
          "execution_count": 150
        }
      ]
    },
    {
      "cell_type": "code",
      "metadata": {
        "id": "tCo4044TFgsq",
        "colab": {
          "base_uri": "https://localhost:8080/",
          "height": 0
        },
        "outputId": "bb0bed8c-7f65-4815-973d-3729cd572360"
      },
      "source": [
        "s.replace('text', 'string', 1)"
      ],
      "execution_count": 151,
      "outputs": [
        {
          "output_type": "execute_result",
          "data": {
            "application/vnd.google.colaboratory.intrinsic+json": {
              "type": "string"
            },
            "text/plain": [
              "'Welcome to the string manipulation section. This section is about text.'"
            ]
          },
          "metadata": {},
          "execution_count": 151
        }
      ]
    },
    {
      "cell_type": "code",
      "metadata": {
        "id": "XMjsvS41FnyF",
        "colab": {
          "base_uri": "https://localhost:8080/",
          "height": 0
        },
        "outputId": "3dfb3127-0bb6-4b2d-b750-e84858782d1d"
      },
      "source": [
        "boston.sample(10)"
      ],
      "execution_count": 152,
      "outputs": [
        {
          "output_type": "execute_result",
          "data": {
            "text/html": [
              "\n",
              "  <div id=\"df-011ddba5-5d69-4e70-867a-4505d782cdc1\">\n",
              "    <div class=\"colab-df-container\">\n",
              "      <div>\n",
              "<style scoped>\n",
              "    .dataframe tbody tr th:only-of-type {\n",
              "        vertical-align: middle;\n",
              "    }\n",
              "\n",
              "    .dataframe tbody tr th {\n",
              "        vertical-align: top;\n",
              "    }\n",
              "\n",
              "    .dataframe thead th {\n",
              "        text-align: right;\n",
              "    }\n",
              "</style>\n",
              "<table border=\"1\" class=\"dataframe\">\n",
              "  <thead>\n",
              "    <tr style=\"text-align: right;\">\n",
              "      <th></th>\n",
              "      <th>Name</th>\n",
              "      <th>Age</th>\n",
              "      <th>M/F</th>\n",
              "      <th>City</th>\n",
              "      <th>State</th>\n",
              "      <th>Country</th>\n",
              "      <th>Official Time</th>\n",
              "      <th>Overall</th>\n",
              "      <th>Gender</th>\n",
              "      <th>Ran 2015</th>\n",
              "      <th>Ran 2016</th>\n",
              "      <th>Years Ran</th>\n",
              "      <th>First Name</th>\n",
              "      <th>Last Name</th>\n",
              "    </tr>\n",
              "  </thead>\n",
              "  <tbody>\n",
              "    <tr>\n",
              "      <th>614</th>\n",
              "      <td>Bonvillain, Frederic X</td>\n",
              "      <td>44</td>\n",
              "      <td>M</td>\n",
              "      <td>Lafayette</td>\n",
              "      <td>LA</td>\n",
              "      <td>USA</td>\n",
              "      <td>2:50:37</td>\n",
              "      <td>615</td>\n",
              "      <td>575</td>\n",
              "      <td>1</td>\n",
              "      <td>1</td>\n",
              "      <td>2015:2016</td>\n",
              "      <td>Bonvillain</td>\n",
              "      <td>Frederic X</td>\n",
              "    </tr>\n",
              "    <tr>\n",
              "      <th>109</th>\n",
              "      <td>Atkins, Esther</td>\n",
              "      <td>30</td>\n",
              "      <td>F</td>\n",
              "      <td>Greenville</td>\n",
              "      <td>SC</td>\n",
              "      <td>USA</td>\n",
              "      <td>2:36:11</td>\n",
              "      <td>110</td>\n",
              "      <td>13</td>\n",
              "      <td>0</td>\n",
              "      <td>0</td>\n",
              "      <td>NaN</td>\n",
              "      <td>Atkins</td>\n",
              "      <td>Esther</td>\n",
              "    </tr>\n",
              "    <tr>\n",
              "      <th>887</th>\n",
              "      <td>Hoerger, Jacob</td>\n",
              "      <td>24</td>\n",
              "      <td>M</td>\n",
              "      <td>Somerville</td>\n",
              "      <td>MA</td>\n",
              "      <td>USA</td>\n",
              "      <td>2:54:50</td>\n",
              "      <td>888</td>\n",
              "      <td>838</td>\n",
              "      <td>0</td>\n",
              "      <td>0</td>\n",
              "      <td>NaN</td>\n",
              "      <td>Hoerger</td>\n",
              "      <td>Jacob</td>\n",
              "    </tr>\n",
              "    <tr>\n",
              "      <th>351</th>\n",
              "      <td>Preslar, Matt L</td>\n",
              "      <td>44</td>\n",
              "      <td>M</td>\n",
              "      <td>Cloudcroft</td>\n",
              "      <td>NM</td>\n",
              "      <td>USA</td>\n",
              "      <td>2:45:33</td>\n",
              "      <td>352</td>\n",
              "      <td>325</td>\n",
              "      <td>0</td>\n",
              "      <td>0</td>\n",
              "      <td>NaN</td>\n",
              "      <td>Preslar</td>\n",
              "      <td>Matt L</td>\n",
              "    </tr>\n",
              "    <tr>\n",
              "      <th>874</th>\n",
              "      <td>Bardey, Jonathan A</td>\n",
              "      <td>36</td>\n",
              "      <td>M</td>\n",
              "      <td>New York City</td>\n",
              "      <td>NY</td>\n",
              "      <td>USA</td>\n",
              "      <td>2:54:39</td>\n",
              "      <td>875</td>\n",
              "      <td>826</td>\n",
              "      <td>0</td>\n",
              "      <td>0</td>\n",
              "      <td>NaN</td>\n",
              "      <td>Bardey</td>\n",
              "      <td>Jonathan A</td>\n",
              "    </tr>\n",
              "    <tr>\n",
              "      <th>324</th>\n",
              "      <td>Calavan, Brian</td>\n",
              "      <td>32</td>\n",
              "      <td>M</td>\n",
              "      <td>San Francisco</td>\n",
              "      <td>CA</td>\n",
              "      <td>USA</td>\n",
              "      <td>2:44:44</td>\n",
              "      <td>325</td>\n",
              "      <td>298</td>\n",
              "      <td>0</td>\n",
              "      <td>0</td>\n",
              "      <td>NaN</td>\n",
              "      <td>Calavan</td>\n",
              "      <td>Brian</td>\n",
              "    </tr>\n",
              "    <tr>\n",
              "      <th>535</th>\n",
              "      <td>Baasch, Douglas</td>\n",
              "      <td>30</td>\n",
              "      <td>M</td>\n",
              "      <td>Jacksonville</td>\n",
              "      <td>FL</td>\n",
              "      <td>USA</td>\n",
              "      <td>2:49:21</td>\n",
              "      <td>536</td>\n",
              "      <td>499</td>\n",
              "      <td>0</td>\n",
              "      <td>0</td>\n",
              "      <td>NaN</td>\n",
              "      <td>Baasch</td>\n",
              "      <td>Douglas</td>\n",
              "    </tr>\n",
              "    <tr>\n",
              "      <th>884</th>\n",
              "      <td>Sorenson, Erik J</td>\n",
              "      <td>30</td>\n",
              "      <td>M</td>\n",
              "      <td>Pebble Beach</td>\n",
              "      <td>CA</td>\n",
              "      <td>USA</td>\n",
              "      <td>2:54:49</td>\n",
              "      <td>885</td>\n",
              "      <td>836</td>\n",
              "      <td>0</td>\n",
              "      <td>0</td>\n",
              "      <td>NaN</td>\n",
              "      <td>Sorenson</td>\n",
              "      <td>Erik J</td>\n",
              "    </tr>\n",
              "    <tr>\n",
              "      <th>945</th>\n",
              "      <td>Gil Zaragoza, Pablo Sr.</td>\n",
              "      <td>26</td>\n",
              "      <td>M</td>\n",
              "      <td>Puebla</td>\n",
              "      <td>NaN</td>\n",
              "      <td>MEX</td>\n",
              "      <td>2:55:30</td>\n",
              "      <td>946</td>\n",
              "      <td>893</td>\n",
              "      <td>0</td>\n",
              "      <td>0</td>\n",
              "      <td>NaN</td>\n",
              "      <td>Gil Zaragoza</td>\n",
              "      <td>Pablo Sr.</td>\n",
              "    </tr>\n",
              "    <tr>\n",
              "      <th>89</th>\n",
              "      <td>Metzger, David W</td>\n",
              "      <td>30</td>\n",
              "      <td>M</td>\n",
              "      <td>Roslindale</td>\n",
              "      <td>MA</td>\n",
              "      <td>USA</td>\n",
              "      <td>2:34:01</td>\n",
              "      <td>90</td>\n",
              "      <td>80</td>\n",
              "      <td>0</td>\n",
              "      <td>0</td>\n",
              "      <td>NaN</td>\n",
              "      <td>Metzger</td>\n",
              "      <td>David W</td>\n",
              "    </tr>\n",
              "  </tbody>\n",
              "</table>\n",
              "</div>\n",
              "      <button class=\"colab-df-convert\" onclick=\"convertToInteractive('df-011ddba5-5d69-4e70-867a-4505d782cdc1')\"\n",
              "              title=\"Convert this dataframe to an interactive table.\"\n",
              "              style=\"display:none;\">\n",
              "        \n",
              "  <svg xmlns=\"http://www.w3.org/2000/svg\" height=\"24px\"viewBox=\"0 0 24 24\"\n",
              "       width=\"24px\">\n",
              "    <path d=\"M0 0h24v24H0V0z\" fill=\"none\"/>\n",
              "    <path d=\"M18.56 5.44l.94 2.06.94-2.06 2.06-.94-2.06-.94-.94-2.06-.94 2.06-2.06.94zm-11 1L8.5 8.5l.94-2.06 2.06-.94-2.06-.94L8.5 2.5l-.94 2.06-2.06.94zm10 10l.94 2.06.94-2.06 2.06-.94-2.06-.94-.94-2.06-.94 2.06-2.06.94z\"/><path d=\"M17.41 7.96l-1.37-1.37c-.4-.4-.92-.59-1.43-.59-.52 0-1.04.2-1.43.59L10.3 9.45l-7.72 7.72c-.78.78-.78 2.05 0 2.83L4 21.41c.39.39.9.59 1.41.59.51 0 1.02-.2 1.41-.59l7.78-7.78 2.81-2.81c.8-.78.8-2.07 0-2.86zM5.41 20L4 18.59l7.72-7.72 1.47 1.35L5.41 20z\"/>\n",
              "  </svg>\n",
              "      </button>\n",
              "      \n",
              "  <style>\n",
              "    .colab-df-container {\n",
              "      display:flex;\n",
              "      flex-wrap:wrap;\n",
              "      gap: 12px;\n",
              "    }\n",
              "\n",
              "    .colab-df-convert {\n",
              "      background-color: #E8F0FE;\n",
              "      border: none;\n",
              "      border-radius: 50%;\n",
              "      cursor: pointer;\n",
              "      display: none;\n",
              "      fill: #1967D2;\n",
              "      height: 32px;\n",
              "      padding: 0 0 0 0;\n",
              "      width: 32px;\n",
              "    }\n",
              "\n",
              "    .colab-df-convert:hover {\n",
              "      background-color: #E2EBFA;\n",
              "      box-shadow: 0px 1px 2px rgba(60, 64, 67, 0.3), 0px 1px 3px 1px rgba(60, 64, 67, 0.15);\n",
              "      fill: #174EA6;\n",
              "    }\n",
              "\n",
              "    [theme=dark] .colab-df-convert {\n",
              "      background-color: #3B4455;\n",
              "      fill: #D2E3FC;\n",
              "    }\n",
              "\n",
              "    [theme=dark] .colab-df-convert:hover {\n",
              "      background-color: #434B5C;\n",
              "      box-shadow: 0px 1px 3px 1px rgba(0, 0, 0, 0.15);\n",
              "      filter: drop-shadow(0px 1px 2px rgba(0, 0, 0, 0.3));\n",
              "      fill: #FFFFFF;\n",
              "    }\n",
              "  </style>\n",
              "\n",
              "      <script>\n",
              "        const buttonEl =\n",
              "          document.querySelector('#df-011ddba5-5d69-4e70-867a-4505d782cdc1 button.colab-df-convert');\n",
              "        buttonEl.style.display =\n",
              "          google.colab.kernel.accessAllowed ? 'block' : 'none';\n",
              "\n",
              "        async function convertToInteractive(key) {\n",
              "          const element = document.querySelector('#df-011ddba5-5d69-4e70-867a-4505d782cdc1');\n",
              "          const dataTable =\n",
              "            await google.colab.kernel.invokeFunction('convertToInteractive',\n",
              "                                                     [key], {});\n",
              "          if (!dataTable) return;\n",
              "\n",
              "          const docLinkHtml = 'Like what you see? Visit the ' +\n",
              "            '<a target=\"_blank\" href=https://colab.research.google.com/notebooks/data_table.ipynb>data table notebook</a>'\n",
              "            + ' to learn more about interactive tables.';\n",
              "          element.innerHTML = '';\n",
              "          dataTable['output_type'] = 'display_data';\n",
              "          await google.colab.output.renderOutput(dataTable, element);\n",
              "          const docLink = document.createElement('div');\n",
              "          docLink.innerHTML = docLinkHtml;\n",
              "          element.appendChild(docLink);\n",
              "        }\n",
              "      </script>\n",
              "    </div>\n",
              "  </div>\n",
              "  "
            ],
            "text/plain": [
              "                        Name  Age M/F           City State Country  \\\n",
              "614   Bonvillain, Frederic X   44   M      Lafayette    LA     USA   \n",
              "109           Atkins, Esther   30   F     Greenville    SC     USA   \n",
              "887           Hoerger, Jacob   24   M     Somerville    MA     USA   \n",
              "351          Preslar, Matt L   44   M     Cloudcroft    NM     USA   \n",
              "874       Bardey, Jonathan A   36   M  New York City    NY     USA   \n",
              "324           Calavan, Brian   32   M  San Francisco    CA     USA   \n",
              "535          Baasch, Douglas   30   M   Jacksonville    FL     USA   \n",
              "884         Sorenson, Erik J   30   M   Pebble Beach    CA     USA   \n",
              "945  Gil Zaragoza, Pablo Sr.   26   M         Puebla   NaN     MEX   \n",
              "89          Metzger, David W   30   M     Roslindale    MA     USA   \n",
              "\n",
              "    Official Time  Overall  Gender  Ran 2015  Ran 2016  Years Ran  \\\n",
              "614       2:50:37      615     575         1         1  2015:2016   \n",
              "109       2:36:11      110      13         0         0        NaN   \n",
              "887       2:54:50      888     838         0         0        NaN   \n",
              "351       2:45:33      352     325         0         0        NaN   \n",
              "874       2:54:39      875     826         0         0        NaN   \n",
              "324       2:44:44      325     298         0         0        NaN   \n",
              "535       2:49:21      536     499         0         0        NaN   \n",
              "884       2:54:49      885     836         0         0        NaN   \n",
              "945       2:55:30      946     893         0         0        NaN   \n",
              "89        2:34:01       90      80         0         0        NaN   \n",
              "\n",
              "       First Name   Last Name  \n",
              "614    Bonvillain  Frederic X  \n",
              "109        Atkins      Esther  \n",
              "887       Hoerger       Jacob  \n",
              "351       Preslar      Matt L  \n",
              "874        Bardey  Jonathan A  \n",
              "324       Calavan       Brian  \n",
              "535        Baasch     Douglas  \n",
              "884      Sorenson      Erik J  \n",
              "945  Gil Zaragoza   Pablo Sr.  \n",
              "89        Metzger     David W  "
            ]
          },
          "metadata": {},
          "execution_count": 152
        }
      ]
    },
    {
      "cell_type": "code",
      "metadata": {
        "id": "f7wz3o0yF0WG"
      },
      "source": [
        "boston['M/F'] = boston['M/F']\\\n",
        "                  .str.replace('F', 'Female')\\\n",
        "                  .str.replace('M', 'Male')"
      ],
      "execution_count": 153,
      "outputs": []
    },
    {
      "cell_type": "code",
      "metadata": {
        "id": "RUIlUeRIF_Ps",
        "colab": {
          "base_uri": "https://localhost:8080/",
          "height": 0
        },
        "outputId": "88075a7d-9761-4e16-8c9a-70d171fadfee"
      },
      "source": [
        "boston.head()"
      ],
      "execution_count": 154,
      "outputs": [
        {
          "output_type": "execute_result",
          "data": {
            "text/html": [
              "\n",
              "  <div id=\"df-f5390441-ffa9-4229-8709-7ac3b1561bfd\">\n",
              "    <div class=\"colab-df-container\">\n",
              "      <div>\n",
              "<style scoped>\n",
              "    .dataframe tbody tr th:only-of-type {\n",
              "        vertical-align: middle;\n",
              "    }\n",
              "\n",
              "    .dataframe tbody tr th {\n",
              "        vertical-align: top;\n",
              "    }\n",
              "\n",
              "    .dataframe thead th {\n",
              "        text-align: right;\n",
              "    }\n",
              "</style>\n",
              "<table border=\"1\" class=\"dataframe\">\n",
              "  <thead>\n",
              "    <tr style=\"text-align: right;\">\n",
              "      <th></th>\n",
              "      <th>Name</th>\n",
              "      <th>Age</th>\n",
              "      <th>M/F</th>\n",
              "      <th>City</th>\n",
              "      <th>State</th>\n",
              "      <th>Country</th>\n",
              "      <th>Official Time</th>\n",
              "      <th>Overall</th>\n",
              "      <th>Gender</th>\n",
              "      <th>Ran 2015</th>\n",
              "      <th>Ran 2016</th>\n",
              "      <th>Years Ran</th>\n",
              "      <th>First Name</th>\n",
              "      <th>Last Name</th>\n",
              "    </tr>\n",
              "  </thead>\n",
              "  <tbody>\n",
              "    <tr>\n",
              "      <th>0</th>\n",
              "      <td>Kirui, Geoffrey</td>\n",
              "      <td>24</td>\n",
              "      <td>Male</td>\n",
              "      <td>Keringet</td>\n",
              "      <td>NaN</td>\n",
              "      <td>KEN</td>\n",
              "      <td>2:09:37</td>\n",
              "      <td>1</td>\n",
              "      <td>1</td>\n",
              "      <td>0</td>\n",
              "      <td>0</td>\n",
              "      <td>NaN</td>\n",
              "      <td>Kirui</td>\n",
              "      <td>Geoffrey</td>\n",
              "    </tr>\n",
              "    <tr>\n",
              "      <th>1</th>\n",
              "      <td>Rupp, Galen</td>\n",
              "      <td>30</td>\n",
              "      <td>Male</td>\n",
              "      <td>Portland</td>\n",
              "      <td>OR</td>\n",
              "      <td>USA</td>\n",
              "      <td>2:09:58</td>\n",
              "      <td>2</td>\n",
              "      <td>2</td>\n",
              "      <td>0</td>\n",
              "      <td>0</td>\n",
              "      <td>NaN</td>\n",
              "      <td>Rupp</td>\n",
              "      <td>Galen</td>\n",
              "    </tr>\n",
              "    <tr>\n",
              "      <th>2</th>\n",
              "      <td>Osako, Suguru</td>\n",
              "      <td>25</td>\n",
              "      <td>Male</td>\n",
              "      <td>Machida-City</td>\n",
              "      <td>NaN</td>\n",
              "      <td>JPN</td>\n",
              "      <td>2:10:28</td>\n",
              "      <td>3</td>\n",
              "      <td>3</td>\n",
              "      <td>0</td>\n",
              "      <td>0</td>\n",
              "      <td>NaN</td>\n",
              "      <td>Osako</td>\n",
              "      <td>Suguru</td>\n",
              "    </tr>\n",
              "    <tr>\n",
              "      <th>3</th>\n",
              "      <td>Biwott, Shadrack</td>\n",
              "      <td>32</td>\n",
              "      <td>Male</td>\n",
              "      <td>Mammoth Lakes</td>\n",
              "      <td>CA</td>\n",
              "      <td>USA</td>\n",
              "      <td>2:12:08</td>\n",
              "      <td>4</td>\n",
              "      <td>4</td>\n",
              "      <td>0</td>\n",
              "      <td>0</td>\n",
              "      <td>NaN</td>\n",
              "      <td>Biwott</td>\n",
              "      <td>Shadrack</td>\n",
              "    </tr>\n",
              "    <tr>\n",
              "      <th>4</th>\n",
              "      <td>Chebet, Wilson</td>\n",
              "      <td>31</td>\n",
              "      <td>Male</td>\n",
              "      <td>Marakwet</td>\n",
              "      <td>NaN</td>\n",
              "      <td>KEN</td>\n",
              "      <td>2:12:35</td>\n",
              "      <td>5</td>\n",
              "      <td>5</td>\n",
              "      <td>1</td>\n",
              "      <td>0</td>\n",
              "      <td>2015</td>\n",
              "      <td>Chebet</td>\n",
              "      <td>Wilson</td>\n",
              "    </tr>\n",
              "  </tbody>\n",
              "</table>\n",
              "</div>\n",
              "      <button class=\"colab-df-convert\" onclick=\"convertToInteractive('df-f5390441-ffa9-4229-8709-7ac3b1561bfd')\"\n",
              "              title=\"Convert this dataframe to an interactive table.\"\n",
              "              style=\"display:none;\">\n",
              "        \n",
              "  <svg xmlns=\"http://www.w3.org/2000/svg\" height=\"24px\"viewBox=\"0 0 24 24\"\n",
              "       width=\"24px\">\n",
              "    <path d=\"M0 0h24v24H0V0z\" fill=\"none\"/>\n",
              "    <path d=\"M18.56 5.44l.94 2.06.94-2.06 2.06-.94-2.06-.94-.94-2.06-.94 2.06-2.06.94zm-11 1L8.5 8.5l.94-2.06 2.06-.94-2.06-.94L8.5 2.5l-.94 2.06-2.06.94zm10 10l.94 2.06.94-2.06 2.06-.94-2.06-.94-.94-2.06-.94 2.06-2.06.94z\"/><path d=\"M17.41 7.96l-1.37-1.37c-.4-.4-.92-.59-1.43-.59-.52 0-1.04.2-1.43.59L10.3 9.45l-7.72 7.72c-.78.78-.78 2.05 0 2.83L4 21.41c.39.39.9.59 1.41.59.51 0 1.02-.2 1.41-.59l7.78-7.78 2.81-2.81c.8-.78.8-2.07 0-2.86zM5.41 20L4 18.59l7.72-7.72 1.47 1.35L5.41 20z\"/>\n",
              "  </svg>\n",
              "      </button>\n",
              "      \n",
              "  <style>\n",
              "    .colab-df-container {\n",
              "      display:flex;\n",
              "      flex-wrap:wrap;\n",
              "      gap: 12px;\n",
              "    }\n",
              "\n",
              "    .colab-df-convert {\n",
              "      background-color: #E8F0FE;\n",
              "      border: none;\n",
              "      border-radius: 50%;\n",
              "      cursor: pointer;\n",
              "      display: none;\n",
              "      fill: #1967D2;\n",
              "      height: 32px;\n",
              "      padding: 0 0 0 0;\n",
              "      width: 32px;\n",
              "    }\n",
              "\n",
              "    .colab-df-convert:hover {\n",
              "      background-color: #E2EBFA;\n",
              "      box-shadow: 0px 1px 2px rgba(60, 64, 67, 0.3), 0px 1px 3px 1px rgba(60, 64, 67, 0.15);\n",
              "      fill: #174EA6;\n",
              "    }\n",
              "\n",
              "    [theme=dark] .colab-df-convert {\n",
              "      background-color: #3B4455;\n",
              "      fill: #D2E3FC;\n",
              "    }\n",
              "\n",
              "    [theme=dark] .colab-df-convert:hover {\n",
              "      background-color: #434B5C;\n",
              "      box-shadow: 0px 1px 3px 1px rgba(0, 0, 0, 0.15);\n",
              "      filter: drop-shadow(0px 1px 2px rgba(0, 0, 0, 0.3));\n",
              "      fill: #FFFFFF;\n",
              "    }\n",
              "  </style>\n",
              "\n",
              "      <script>\n",
              "        const buttonEl =\n",
              "          document.querySelector('#df-f5390441-ffa9-4229-8709-7ac3b1561bfd button.colab-df-convert');\n",
              "        buttonEl.style.display =\n",
              "          google.colab.kernel.accessAllowed ? 'block' : 'none';\n",
              "\n",
              "        async function convertToInteractive(key) {\n",
              "          const element = document.querySelector('#df-f5390441-ffa9-4229-8709-7ac3b1561bfd');\n",
              "          const dataTable =\n",
              "            await google.colab.kernel.invokeFunction('convertToInteractive',\n",
              "                                                     [key], {});\n",
              "          if (!dataTable) return;\n",
              "\n",
              "          const docLinkHtml = 'Like what you see? Visit the ' +\n",
              "            '<a target=\"_blank\" href=https://colab.research.google.com/notebooks/data_table.ipynb>data table notebook</a>'\n",
              "            + ' to learn more about interactive tables.';\n",
              "          element.innerHTML = '';\n",
              "          dataTable['output_type'] = 'display_data';\n",
              "          await google.colab.output.renderOutput(dataTable, element);\n",
              "          const docLink = document.createElement('div');\n",
              "          docLink.innerHTML = docLinkHtml;\n",
              "          element.appendChild(docLink);\n",
              "        }\n",
              "      </script>\n",
              "    </div>\n",
              "  </div>\n",
              "  "
            ],
            "text/plain": [
              "               Name  Age   M/F           City State Country Official Time  \\\n",
              "0   Kirui, Geoffrey   24  Male       Keringet   NaN     KEN       2:09:37   \n",
              "1       Rupp, Galen   30  Male       Portland    OR     USA       2:09:58   \n",
              "2     Osako, Suguru   25  Male   Machida-City   NaN     JPN       2:10:28   \n",
              "3  Biwott, Shadrack   32  Male  Mammoth Lakes    CA     USA       2:12:08   \n",
              "4    Chebet, Wilson   31  Male       Marakwet   NaN     KEN       2:12:35   \n",
              "\n",
              "   Overall  Gender  Ran 2015  Ran 2016 Years Ran First Name Last Name  \n",
              "0        1       1         0         0       NaN      Kirui  Geoffrey  \n",
              "1        2       2         0         0       NaN       Rupp     Galen  \n",
              "2        3       3         0         0       NaN      Osako    Suguru  \n",
              "3        4       4         0         0       NaN     Biwott  Shadrack  \n",
              "4        5       5         1         0      2015     Chebet    Wilson  "
            ]
          },
          "metadata": {},
          "execution_count": 154
        }
      ]
    },
    {
      "cell_type": "code",
      "metadata": {
        "id": "ElTHA1vIGW-h"
      },
      "source": [
        "# case-insensitive replacements"
      ],
      "execution_count": 155,
      "outputs": []
    },
    {
      "cell_type": "code",
      "metadata": {
        "id": "jgXpJl47GexK",
        "colab": {
          "base_uri": "https://localhost:8080/"
        },
        "outputId": "299403d7-cdbd-4469-a358-1886ba1d9d99"
      },
      "source": [
        "boston.Country.str.replace('UsA', 'United States', case=False)"
      ],
      "execution_count": 156,
      "outputs": [
        {
          "output_type": "execute_result",
          "data": {
            "text/plain": [
              "0                KEN\n",
              "1      United States\n",
              "2                JPN\n",
              "3      United States\n",
              "4                KEN\n",
              "           ...      \n",
              "995    United States\n",
              "996    United States\n",
              "997    United States\n",
              "998    United States\n",
              "999    United States\n",
              "Name: Country, Length: 1000, dtype: object"
            ]
          },
          "metadata": {},
          "execution_count": 156
        }
      ]
    },
    {
      "cell_type": "markdown",
      "metadata": {
        "id": "sQeZ04RBGk0S"
      },
      "source": [
        "#### Introduction To Regular Expressions"
      ]
    },
    {
      "cell_type": "code",
      "metadata": {
        "id": "2F8fW8_tWzKL"
      },
      "source": [
        "# Regular expressions (regex) help us define highly complex text patterns."
      ],
      "execution_count": 157,
      "outputs": []
    },
    {
      "cell_type": "code",
      "metadata": {
        "id": "IHul-74cW-nk"
      },
      "source": [
        "# Regular expressions are not exlusive to python; they are supported by many programming languages."
      ],
      "execution_count": 158,
      "outputs": []
    },
    {
      "cell_type": "markdown",
      "metadata": {
        "id": "lZuLLkOeXGhD"
      },
      "source": [
        "Our regex playground:\n",
        "> https://regex101.com\n"
      ]
    },
    {
      "cell_type": "markdown",
      "metadata": {
        "id": "GluFA6hVxWNO"
      },
      "source": [
        "#### More Regex Concepts"
      ]
    },
    {
      "cell_type": "code",
      "metadata": {
        "id": "XgHy3jnyxY4t"
      },
      "source": [
        ""
      ],
      "execution_count": 158,
      "outputs": []
    },
    {
      "cell_type": "markdown",
      "metadata": {
        "id": "KXnVpvGYxZSA"
      },
      "source": [
        "#### How To Approach Regex? "
      ]
    },
    {
      "cell_type": "code",
      "metadata": {
        "id": "s3tWAgp6xciQ"
      },
      "source": [
        ""
      ],
      "execution_count": 158,
      "outputs": []
    },
    {
      "cell_type": "markdown",
      "metadata": {
        "id": "9rCekfEsEhBz"
      },
      "source": [
        "#### Is This A Valid Email?"
      ]
    },
    {
      "cell_type": "code",
      "metadata": {
        "id": "XnfhaaOUI_1N"
      },
      "source": [
        "# Agenda:\n",
        "#   - the re module\n",
        "#   - email regex\n",
        "#   - pitfalls\n",
        "#   - additional resources: https://emailregex.com/"
      ],
      "execution_count": 159,
      "outputs": []
    },
    {
      "cell_type": "code",
      "metadata": {
        "id": "63Gdl5TWJkJ6"
      },
      "source": [
        "import re"
      ],
      "execution_count": 160,
      "outputs": []
    },
    {
      "cell_type": "code",
      "metadata": {
        "id": "Mf_9bBAejiME"
      },
      "source": [
        "pattern = r'w\\s'"
      ],
      "execution_count": 161,
      "outputs": []
    },
    {
      "cell_type": "code",
      "metadata": {
        "id": "uwSzMDTtJ2Qs"
      },
      "source": [
        "pattern_original = r\"\\w\\S*@.*\\w\""
      ],
      "execution_count": 162,
      "outputs": []
    },
    {
      "cell_type": "code",
      "metadata": {
        "id": "vt9inDbrMK3g",
        "colab": {
          "base_uri": "https://localhost:8080/"
        },
        "outputId": "5bd9b674-c895-48bf-bcaf-f5728a9a382a"
      },
      "source": [
        "re.findall(pattern, 'andy@howtopandas.com')"
      ],
      "execution_count": 163,
      "outputs": [
        {
          "output_type": "execute_result",
          "data": {
            "text/plain": [
              "[]"
            ]
          },
          "metadata": {},
          "execution_count": 163
        }
      ]
    },
    {
      "cell_type": "code",
      "metadata": {
        "id": "Exuf8dHUMbBc",
        "colab": {
          "base_uri": "https://localhost:8080/"
        },
        "outputId": "916ada7d-d8fd-4d66-b0d5-39b4c6bb6180"
      },
      "source": [
        "re.findall(pattern, 'howtopandas.com')"
      ],
      "execution_count": 164,
      "outputs": [
        {
          "output_type": "execute_result",
          "data": {
            "text/plain": [
              "[]"
            ]
          },
          "metadata": {},
          "execution_count": 164
        }
      ]
    },
    {
      "cell_type": "code",
      "metadata": {
        "id": "TOEQV35nMiHU"
      },
      "source": [
        "# \"andy@gmail.com\" => \"*****@gmail.com\""
      ],
      "execution_count": 165,
      "outputs": []
    },
    {
      "cell_type": "code",
      "metadata": {
        "id": "MTnzIrxVMs_s"
      },
      "source": [
        "# - start with an actually valid email\n",
        "# - capture the domain part of the email\n",
        "# - replace everything except the captured group"
      ],
      "execution_count": 166,
      "outputs": []
    },
    {
      "cell_type": "code",
      "metadata": {
        "id": "jAqIz2BfM96R"
      },
      "source": [
        "email = 'andy@howtopandas.com'"
      ],
      "execution_count": 167,
      "outputs": []
    },
    {
      "cell_type": "code",
      "metadata": {
        "id": "23YXDVB2NGrp"
      },
      "source": [
        "pattern = r'\\w\\S*(@.*\\w)'"
      ],
      "execution_count": 168,
      "outputs": []
    },
    {
      "cell_type": "code",
      "metadata": {
        "id": "jk8y9-0YNfNF",
        "colab": {
          "base_uri": "https://localhost:8080/",
          "height": 0
        },
        "outputId": "1a082f71-88aa-4e54-ca1d-70b2c087284b"
      },
      "source": [
        "re.sub(pattern, r'******\\1', email)"
      ],
      "execution_count": 169,
      "outputs": [
        {
          "output_type": "execute_result",
          "data": {
            "application/vnd.google.colaboratory.intrinsic+json": {
              "type": "string"
            },
            "text/plain": [
              "'******@howtopandas.com'"
            ]
          },
          "metadata": {},
          "execution_count": 169
        }
      ]
    },
    {
      "cell_type": "code",
      "metadata": {
        "id": "OjtbXcCSN17J"
      },
      "source": [
        "robust_pattern = re.compile(r\"(^[a-zA-Z0-9_.+-]+@[a-zA-Z0-9-]+\\.[a-zA-Z0-9-.]+$)\")"
      ],
      "execution_count": 170,
      "outputs": []
    },
    {
      "cell_type": "code",
      "metadata": {
        "id": "7TqNT3dJOibC",
        "colab": {
          "base_uri": "https://localhost:8080/"
        },
        "outputId": "dfed6871-b817-4722-907b-a23a84dfc190"
      },
      "source": [
        "robust_pattern"
      ],
      "execution_count": 171,
      "outputs": [
        {
          "output_type": "execute_result",
          "data": {
            "text/plain": [
              "re.compile(r'(^[a-zA-Z0-9_.+-]+@[a-zA-Z0-9-]+\\.[a-zA-Z0-9-.]+$)', re.UNICODE)"
            ]
          },
          "metadata": {},
          "execution_count": 171
        }
      ]
    },
    {
      "cell_type": "code",
      "metadata": {
        "id": "peSifu44OjCp"
      },
      "source": [
        "email2 = \"andy@andy@andy.com\""
      ],
      "execution_count": 172,
      "outputs": []
    },
    {
      "cell_type": "code",
      "metadata": {
        "id": "6op6tZWcOp1u",
        "colab": {
          "base_uri": "https://localhost:8080/"
        },
        "outputId": "d48d45d0-6107-4a6c-a534-e6e45e9f3fd8"
      },
      "source": [
        "re.findall(pattern_original, email2)"
      ],
      "execution_count": 173,
      "outputs": [
        {
          "output_type": "execute_result",
          "data": {
            "text/plain": [
              "['andy@andy@andy.com']"
            ]
          },
          "metadata": {},
          "execution_count": 173
        }
      ]
    },
    {
      "cell_type": "code",
      "metadata": {
        "id": "G8hyi-PNOy9w",
        "colab": {
          "base_uri": "https://localhost:8080/"
        },
        "outputId": "b427b734-8fca-4ad9-c7f3-fb7aef5861a8"
      },
      "source": [
        "re.findall(robust_pattern, email2)"
      ],
      "execution_count": 174,
      "outputs": [
        {
          "output_type": "execute_result",
          "data": {
            "text/plain": [
              "[]"
            ]
          },
          "metadata": {},
          "execution_count": 174
        }
      ]
    },
    {
      "cell_type": "markdown",
      "metadata": {
        "id": "ioe_Fpr8QcTq"
      },
      "source": [
        "#### BONUS: What's The Point Of re.compile()?"
      ]
    },
    {
      "cell_type": "code",
      "metadata": {
        "id": "UL-fG4kUQhgY"
      },
      "source": [
        "compiled_pattern = re.compile(r\"(^[a-zA-Z0-9_.+-]+@[a-zA-Z0-9-]+\\.[a-zA-Z0-9-.]+$)\")"
      ],
      "execution_count": 175,
      "outputs": []
    },
    {
      "cell_type": "code",
      "metadata": {
        "id": "hX62w5X3Qhpz"
      },
      "source": [
        "raw_pattern =                 r\"(^[a-zA-Z0-9_.+-]+@[a-zA-Z0-9-]+\\.[a-zA-Z0-9-.]+$)\""
      ],
      "execution_count": 176,
      "outputs": []
    },
    {
      "cell_type": "code",
      "metadata": {
        "id": "U3-gM8aTQmYy"
      },
      "source": [
        "emails = [\"andy@andy@andy.com\", \"andy@howtopandas.com\", \"superinvalid|ha.com\", \"hey@andybek.com\"]"
      ],
      "execution_count": 177,
      "outputs": []
    },
    {
      "cell_type": "code",
      "metadata": {
        "id": "TJkrtWaeQtmI",
        "colab": {
          "base_uri": "https://localhost:8080/"
        },
        "outputId": "b5db6b78-79c1-48b3-812d-5ce016cb3048"
      },
      "source": [
        "[re.match(raw_pattern, email) for email in emails]"
      ],
      "execution_count": 178,
      "outputs": [
        {
          "output_type": "execute_result",
          "data": {
            "text/plain": [
              "[None,\n",
              " <re.Match object; span=(0, 20), match='andy@howtopandas.com'>,\n",
              " None,\n",
              " <re.Match object; span=(0, 15), match='hey@andybek.com'>]"
            ]
          },
          "metadata": {},
          "execution_count": 178
        }
      ]
    },
    {
      "cell_type": "code",
      "metadata": {
        "id": "CG0vmItBRDft",
        "colab": {
          "base_uri": "https://localhost:8080/"
        },
        "outputId": "cc17e79a-0f7f-479d-c840-d86fb9de0e77"
      },
      "source": [
        "[re.match(compiled_pattern, email) for email in emails]"
      ],
      "execution_count": 179,
      "outputs": [
        {
          "output_type": "execute_result",
          "data": {
            "text/plain": [
              "[None,\n",
              " <re.Match object; span=(0, 20), match='andy@howtopandas.com'>,\n",
              " None,\n",
              " <re.Match object; span=(0, 15), match='hey@andybek.com'>]"
            ]
          },
          "metadata": {},
          "execution_count": 179
        }
      ]
    },
    {
      "cell_type": "code",
      "metadata": {
        "id": "zThNKCdWRg1w"
      },
      "source": [
        "# The crux:\n",
        "#  - The difference used to be that re.compile cached the regex\n",
        "#  - Since Python 2+, the pattern is compiled and cached automatically\n",
        "#  - ...for a maximum of 100 regexes, by default\n",
        "#  - If you're working with more than 100 regexes, and accessing them frequently, please compile!"
      ],
      "execution_count": 180,
      "outputs": []
    },
    {
      "cell_type": "markdown",
      "metadata": {
        "id": "XdhlA8A5SRhp"
      },
      "source": [
        "#### Pandas str contains(), split() And replace() With Regex"
      ]
    },
    {
      "cell_type": "code",
      "metadata": {
        "id": "2OqwCQ8CmFCi"
      },
      "source": [
        "# Agenda:\n",
        "#  - pandas str methods with regex\n",
        "#     * .contains()\n",
        "#     * .split()\n",
        "#     * .replace()"
      ],
      "execution_count": 181,
      "outputs": []
    },
    {
      "cell_type": "code",
      "metadata": {
        "id": "h5MEluwglJLN",
        "colab": {
          "base_uri": "https://localhost:8080/",
          "height": 0
        },
        "outputId": "a87f871c-2727-445a-9322-9d41b47c1f63"
      },
      "source": [
        "boston.head()"
      ],
      "execution_count": 182,
      "outputs": [
        {
          "output_type": "execute_result",
          "data": {
            "text/html": [
              "\n",
              "  <div id=\"df-c3dc605e-3809-478d-9086-f9a3796f4d16\">\n",
              "    <div class=\"colab-df-container\">\n",
              "      <div>\n",
              "<style scoped>\n",
              "    .dataframe tbody tr th:only-of-type {\n",
              "        vertical-align: middle;\n",
              "    }\n",
              "\n",
              "    .dataframe tbody tr th {\n",
              "        vertical-align: top;\n",
              "    }\n",
              "\n",
              "    .dataframe thead th {\n",
              "        text-align: right;\n",
              "    }\n",
              "</style>\n",
              "<table border=\"1\" class=\"dataframe\">\n",
              "  <thead>\n",
              "    <tr style=\"text-align: right;\">\n",
              "      <th></th>\n",
              "      <th>Name</th>\n",
              "      <th>Age</th>\n",
              "      <th>M/F</th>\n",
              "      <th>City</th>\n",
              "      <th>State</th>\n",
              "      <th>Country</th>\n",
              "      <th>Official Time</th>\n",
              "      <th>Overall</th>\n",
              "      <th>Gender</th>\n",
              "      <th>Ran 2015</th>\n",
              "      <th>Ran 2016</th>\n",
              "      <th>Years Ran</th>\n",
              "      <th>First Name</th>\n",
              "      <th>Last Name</th>\n",
              "    </tr>\n",
              "  </thead>\n",
              "  <tbody>\n",
              "    <tr>\n",
              "      <th>0</th>\n",
              "      <td>Kirui, Geoffrey</td>\n",
              "      <td>24</td>\n",
              "      <td>Male</td>\n",
              "      <td>Keringet</td>\n",
              "      <td>NaN</td>\n",
              "      <td>KEN</td>\n",
              "      <td>2:09:37</td>\n",
              "      <td>1</td>\n",
              "      <td>1</td>\n",
              "      <td>0</td>\n",
              "      <td>0</td>\n",
              "      <td>NaN</td>\n",
              "      <td>Kirui</td>\n",
              "      <td>Geoffrey</td>\n",
              "    </tr>\n",
              "    <tr>\n",
              "      <th>1</th>\n",
              "      <td>Rupp, Galen</td>\n",
              "      <td>30</td>\n",
              "      <td>Male</td>\n",
              "      <td>Portland</td>\n",
              "      <td>OR</td>\n",
              "      <td>USA</td>\n",
              "      <td>2:09:58</td>\n",
              "      <td>2</td>\n",
              "      <td>2</td>\n",
              "      <td>0</td>\n",
              "      <td>0</td>\n",
              "      <td>NaN</td>\n",
              "      <td>Rupp</td>\n",
              "      <td>Galen</td>\n",
              "    </tr>\n",
              "    <tr>\n",
              "      <th>2</th>\n",
              "      <td>Osako, Suguru</td>\n",
              "      <td>25</td>\n",
              "      <td>Male</td>\n",
              "      <td>Machida-City</td>\n",
              "      <td>NaN</td>\n",
              "      <td>JPN</td>\n",
              "      <td>2:10:28</td>\n",
              "      <td>3</td>\n",
              "      <td>3</td>\n",
              "      <td>0</td>\n",
              "      <td>0</td>\n",
              "      <td>NaN</td>\n",
              "      <td>Osako</td>\n",
              "      <td>Suguru</td>\n",
              "    </tr>\n",
              "    <tr>\n",
              "      <th>3</th>\n",
              "      <td>Biwott, Shadrack</td>\n",
              "      <td>32</td>\n",
              "      <td>Male</td>\n",
              "      <td>Mammoth Lakes</td>\n",
              "      <td>CA</td>\n",
              "      <td>USA</td>\n",
              "      <td>2:12:08</td>\n",
              "      <td>4</td>\n",
              "      <td>4</td>\n",
              "      <td>0</td>\n",
              "      <td>0</td>\n",
              "      <td>NaN</td>\n",
              "      <td>Biwott</td>\n",
              "      <td>Shadrack</td>\n",
              "    </tr>\n",
              "    <tr>\n",
              "      <th>4</th>\n",
              "      <td>Chebet, Wilson</td>\n",
              "      <td>31</td>\n",
              "      <td>Male</td>\n",
              "      <td>Marakwet</td>\n",
              "      <td>NaN</td>\n",
              "      <td>KEN</td>\n",
              "      <td>2:12:35</td>\n",
              "      <td>5</td>\n",
              "      <td>5</td>\n",
              "      <td>1</td>\n",
              "      <td>0</td>\n",
              "      <td>2015</td>\n",
              "      <td>Chebet</td>\n",
              "      <td>Wilson</td>\n",
              "    </tr>\n",
              "  </tbody>\n",
              "</table>\n",
              "</div>\n",
              "      <button class=\"colab-df-convert\" onclick=\"convertToInteractive('df-c3dc605e-3809-478d-9086-f9a3796f4d16')\"\n",
              "              title=\"Convert this dataframe to an interactive table.\"\n",
              "              style=\"display:none;\">\n",
              "        \n",
              "  <svg xmlns=\"http://www.w3.org/2000/svg\" height=\"24px\"viewBox=\"0 0 24 24\"\n",
              "       width=\"24px\">\n",
              "    <path d=\"M0 0h24v24H0V0z\" fill=\"none\"/>\n",
              "    <path d=\"M18.56 5.44l.94 2.06.94-2.06 2.06-.94-2.06-.94-.94-2.06-.94 2.06-2.06.94zm-11 1L8.5 8.5l.94-2.06 2.06-.94-2.06-.94L8.5 2.5l-.94 2.06-2.06.94zm10 10l.94 2.06.94-2.06 2.06-.94-2.06-.94-.94-2.06-.94 2.06-2.06.94z\"/><path d=\"M17.41 7.96l-1.37-1.37c-.4-.4-.92-.59-1.43-.59-.52 0-1.04.2-1.43.59L10.3 9.45l-7.72 7.72c-.78.78-.78 2.05 0 2.83L4 21.41c.39.39.9.59 1.41.59.51 0 1.02-.2 1.41-.59l7.78-7.78 2.81-2.81c.8-.78.8-2.07 0-2.86zM5.41 20L4 18.59l7.72-7.72 1.47 1.35L5.41 20z\"/>\n",
              "  </svg>\n",
              "      </button>\n",
              "      \n",
              "  <style>\n",
              "    .colab-df-container {\n",
              "      display:flex;\n",
              "      flex-wrap:wrap;\n",
              "      gap: 12px;\n",
              "    }\n",
              "\n",
              "    .colab-df-convert {\n",
              "      background-color: #E8F0FE;\n",
              "      border: none;\n",
              "      border-radius: 50%;\n",
              "      cursor: pointer;\n",
              "      display: none;\n",
              "      fill: #1967D2;\n",
              "      height: 32px;\n",
              "      padding: 0 0 0 0;\n",
              "      width: 32px;\n",
              "    }\n",
              "\n",
              "    .colab-df-convert:hover {\n",
              "      background-color: #E2EBFA;\n",
              "      box-shadow: 0px 1px 2px rgba(60, 64, 67, 0.3), 0px 1px 3px 1px rgba(60, 64, 67, 0.15);\n",
              "      fill: #174EA6;\n",
              "    }\n",
              "\n",
              "    [theme=dark] .colab-df-convert {\n",
              "      background-color: #3B4455;\n",
              "      fill: #D2E3FC;\n",
              "    }\n",
              "\n",
              "    [theme=dark] .colab-df-convert:hover {\n",
              "      background-color: #434B5C;\n",
              "      box-shadow: 0px 1px 3px 1px rgba(0, 0, 0, 0.15);\n",
              "      filter: drop-shadow(0px 1px 2px rgba(0, 0, 0, 0.3));\n",
              "      fill: #FFFFFF;\n",
              "    }\n",
              "  </style>\n",
              "\n",
              "      <script>\n",
              "        const buttonEl =\n",
              "          document.querySelector('#df-c3dc605e-3809-478d-9086-f9a3796f4d16 button.colab-df-convert');\n",
              "        buttonEl.style.display =\n",
              "          google.colab.kernel.accessAllowed ? 'block' : 'none';\n",
              "\n",
              "        async function convertToInteractive(key) {\n",
              "          const element = document.querySelector('#df-c3dc605e-3809-478d-9086-f9a3796f4d16');\n",
              "          const dataTable =\n",
              "            await google.colab.kernel.invokeFunction('convertToInteractive',\n",
              "                                                     [key], {});\n",
              "          if (!dataTable) return;\n",
              "\n",
              "          const docLinkHtml = 'Like what you see? Visit the ' +\n",
              "            '<a target=\"_blank\" href=https://colab.research.google.com/notebooks/data_table.ipynb>data table notebook</a>'\n",
              "            + ' to learn more about interactive tables.';\n",
              "          element.innerHTML = '';\n",
              "          dataTable['output_type'] = 'display_data';\n",
              "          await google.colab.output.renderOutput(dataTable, element);\n",
              "          const docLink = document.createElement('div');\n",
              "          docLink.innerHTML = docLinkHtml;\n",
              "          element.appendChild(docLink);\n",
              "        }\n",
              "      </script>\n",
              "    </div>\n",
              "  </div>\n",
              "  "
            ],
            "text/plain": [
              "               Name  Age   M/F           City State Country Official Time  \\\n",
              "0   Kirui, Geoffrey   24  Male       Keringet   NaN     KEN       2:09:37   \n",
              "1       Rupp, Galen   30  Male       Portland    OR     USA       2:09:58   \n",
              "2     Osako, Suguru   25  Male   Machida-City   NaN     JPN       2:10:28   \n",
              "3  Biwott, Shadrack   32  Male  Mammoth Lakes    CA     USA       2:12:08   \n",
              "4    Chebet, Wilson   31  Male       Marakwet   NaN     KEN       2:12:35   \n",
              "\n",
              "   Overall  Gender  Ran 2015  Ran 2016 Years Ran First Name Last Name  \n",
              "0        1       1         0         0       NaN      Kirui  Geoffrey  \n",
              "1        2       2         0         0       NaN       Rupp     Galen  \n",
              "2        3       3         0         0       NaN      Osako    Suguru  \n",
              "3        4       4         0         0       NaN     Biwott  Shadrack  \n",
              "4        5       5         1         0      2015     Chebet    Wilson  "
            ]
          },
          "metadata": {},
          "execution_count": 182
        }
      ]
    },
    {
      "cell_type": "code",
      "metadata": {
        "id": "viZzHvUvtcF7",
        "colab": {
          "base_uri": "https://localhost:8080/"
        },
        "outputId": "84d1c54d-d130-4331-a7a2-ca04939f18c7"
      },
      "source": [
        "boston.Name[boston.Name.str.contains('Will')]"
      ],
      "execution_count": 183,
      "outputs": [
        {
          "output_type": "execute_result",
          "data": {
            "text/plain": [
              "93            Vanos, William\n",
              "199        Guzick, William F\n",
              "415          Hartje, William\n",
              "429         Adams, William C\n",
              "456              Cunha, Will\n",
              "526            Swenson, Will\n",
              "571    Gates, William E. Jr.\n",
              "711       Swanson, William G\n",
              "814        Williamson, David\n",
              "835             Vargas, Will\n",
              "892             Rivera, Will\n",
              "897      Feldman, William P.\n",
              "936      Decamps, William M.\n",
              "939        Versen, William R\n",
              "996      Williamson, Jerry A\n",
              "Name: Name, dtype: object"
            ]
          },
          "metadata": {},
          "execution_count": 183
        }
      ]
    },
    {
      "cell_type": "code",
      "metadata": {
        "id": "jXSxJT5fvy45",
        "colab": {
          "base_uri": "https://localhost:8080/"
        },
        "outputId": "3e90dc3c-9511-4d85-f03c-7958b6d9e228"
      },
      "source": [
        "boston.Name[boston.Name.str.contains(r'[wW]ill', regex=True)]"
      ],
      "execution_count": 184,
      "outputs": [
        {
          "output_type": "execute_result",
          "data": {
            "text/plain": [
              "93            Vanos, William\n",
              "199        Guzick, William F\n",
              "415          Hartje, William\n",
              "429         Adams, William C\n",
              "456              Cunha, Will\n",
              "526            Swenson, Will\n",
              "571    Gates, William E. Jr.\n",
              "711       Swanson, William G\n",
              "814        Williamson, David\n",
              "835             Vargas, Will\n",
              "892             Rivera, Will\n",
              "897      Feldman, William P.\n",
              "936      Decamps, William M.\n",
              "939        Versen, William R\n",
              "996      Williamson, Jerry A\n",
              "Name: Name, dtype: object"
            ]
          },
          "metadata": {},
          "execution_count": 184
        }
      ]
    },
    {
      "cell_type": "code",
      "metadata": {
        "id": "1Yrta58xwBH5",
        "colab": {
          "base_uri": "https://localhost:8080/"
        },
        "outputId": "1e43f416-599f-451d-afd5-b0a179f4e9f7"
      },
      "source": [
        "# isolate first name Will\n",
        "boston.Name[boston.Name.str.contains(r',\\s[wW]ill$', regex=True)]"
      ],
      "execution_count": 185,
      "outputs": [
        {
          "output_type": "execute_result",
          "data": {
            "text/plain": [
              "456      Cunha, Will\n",
              "526    Swenson, Will\n",
              "835     Vargas, Will\n",
              "892     Rivera, Will\n",
              "Name: Name, dtype: object"
            ]
          },
          "metadata": {},
          "execution_count": 185
        }
      ]
    },
    {
      "cell_type": "code",
      "metadata": {
        "id": "fV87NJnawfE8",
        "colab": {
          "base_uri": "https://localhost:8080/"
        },
        "outputId": "5439fbae-0f9b-44d9-9c80-e94d34eea990"
      },
      "source": [
        "boston.Name[boston.Name.str.contains(r',\\s[wW]ill\\b', regex=True)]"
      ],
      "execution_count": 186,
      "outputs": [
        {
          "output_type": "execute_result",
          "data": {
            "text/plain": [
              "456      Cunha, Will\n",
              "526    Swenson, Will\n",
              "835     Vargas, Will\n",
              "892     Rivera, Will\n",
              "Name: Name, dtype: object"
            ]
          },
          "metadata": {},
          "execution_count": 186
        }
      ]
    },
    {
      "cell_type": "code",
      "metadata": {
        "id": "Gpcc8jYAxQg_"
      },
      "source": [
        "boston.iat[835, 0] += ' J.'"
      ],
      "execution_count": 187,
      "outputs": []
    },
    {
      "cell_type": "code",
      "metadata": {
        "id": "PFG4IepGxZi0"
      },
      "source": [
        "# split()"
      ],
      "execution_count": 188,
      "outputs": []
    },
    {
      "cell_type": "code",
      "metadata": {
        "id": "Qx2jPh49xp1T",
        "colab": {
          "base_uri": "https://localhost:8080/",
          "height": 0
        },
        "outputId": "17a21673-a11f-4076-f5e1-78d53cc9a339"
      },
      "source": [
        "boston.Name.str.split(expand=True)"
      ],
      "execution_count": 189,
      "outputs": [
        {
          "output_type": "execute_result",
          "data": {
            "text/html": [
              "\n",
              "  <div id=\"df-38793428-8755-43a4-96c8-394777f49e0a\">\n",
              "    <div class=\"colab-df-container\">\n",
              "      <div>\n",
              "<style scoped>\n",
              "    .dataframe tbody tr th:only-of-type {\n",
              "        vertical-align: middle;\n",
              "    }\n",
              "\n",
              "    .dataframe tbody tr th {\n",
              "        vertical-align: top;\n",
              "    }\n",
              "\n",
              "    .dataframe thead th {\n",
              "        text-align: right;\n",
              "    }\n",
              "</style>\n",
              "<table border=\"1\" class=\"dataframe\">\n",
              "  <thead>\n",
              "    <tr style=\"text-align: right;\">\n",
              "      <th></th>\n",
              "      <th>0</th>\n",
              "      <th>1</th>\n",
              "      <th>2</th>\n",
              "      <th>3</th>\n",
              "      <th>4</th>\n",
              "    </tr>\n",
              "  </thead>\n",
              "  <tbody>\n",
              "    <tr>\n",
              "      <th>0</th>\n",
              "      <td>Kirui,</td>\n",
              "      <td>Geoffrey</td>\n",
              "      <td>None</td>\n",
              "      <td>None</td>\n",
              "      <td>None</td>\n",
              "    </tr>\n",
              "    <tr>\n",
              "      <th>1</th>\n",
              "      <td>Rupp,</td>\n",
              "      <td>Galen</td>\n",
              "      <td>None</td>\n",
              "      <td>None</td>\n",
              "      <td>None</td>\n",
              "    </tr>\n",
              "    <tr>\n",
              "      <th>2</th>\n",
              "      <td>Osako,</td>\n",
              "      <td>Suguru</td>\n",
              "      <td>None</td>\n",
              "      <td>None</td>\n",
              "      <td>None</td>\n",
              "    </tr>\n",
              "    <tr>\n",
              "      <th>3</th>\n",
              "      <td>Biwott,</td>\n",
              "      <td>Shadrack</td>\n",
              "      <td>None</td>\n",
              "      <td>None</td>\n",
              "      <td>None</td>\n",
              "    </tr>\n",
              "    <tr>\n",
              "      <th>4</th>\n",
              "      <td>Chebet,</td>\n",
              "      <td>Wilson</td>\n",
              "      <td>None</td>\n",
              "      <td>None</td>\n",
              "      <td>None</td>\n",
              "    </tr>\n",
              "    <tr>\n",
              "      <th>...</th>\n",
              "      <td>...</td>\n",
              "      <td>...</td>\n",
              "      <td>...</td>\n",
              "      <td>...</td>\n",
              "      <td>...</td>\n",
              "    </tr>\n",
              "    <tr>\n",
              "      <th>995</th>\n",
              "      <td>Larosa,</td>\n",
              "      <td>Mark</td>\n",
              "      <td>None</td>\n",
              "      <td>None</td>\n",
              "      <td>None</td>\n",
              "    </tr>\n",
              "    <tr>\n",
              "      <th>996</th>\n",
              "      <td>Williamson,</td>\n",
              "      <td>Jerry</td>\n",
              "      <td>A</td>\n",
              "      <td>None</td>\n",
              "      <td>None</td>\n",
              "    </tr>\n",
              "    <tr>\n",
              "      <th>997</th>\n",
              "      <td>Mccue,</td>\n",
              "      <td>Daniel</td>\n",
              "      <td>T</td>\n",
              "      <td>None</td>\n",
              "      <td>None</td>\n",
              "    </tr>\n",
              "    <tr>\n",
              "      <th>998</th>\n",
              "      <td>Larosa,</td>\n",
              "      <td>John</td>\n",
              "      <td>None</td>\n",
              "      <td>None</td>\n",
              "      <td>None</td>\n",
              "    </tr>\n",
              "    <tr>\n",
              "      <th>999</th>\n",
              "      <td>Sanchez,</td>\n",
              "      <td>Sam</td>\n",
              "      <td>R</td>\n",
              "      <td>None</td>\n",
              "      <td>None</td>\n",
              "    </tr>\n",
              "  </tbody>\n",
              "</table>\n",
              "<p>1000 rows × 5 columns</p>\n",
              "</div>\n",
              "      <button class=\"colab-df-convert\" onclick=\"convertToInteractive('df-38793428-8755-43a4-96c8-394777f49e0a')\"\n",
              "              title=\"Convert this dataframe to an interactive table.\"\n",
              "              style=\"display:none;\">\n",
              "        \n",
              "  <svg xmlns=\"http://www.w3.org/2000/svg\" height=\"24px\"viewBox=\"0 0 24 24\"\n",
              "       width=\"24px\">\n",
              "    <path d=\"M0 0h24v24H0V0z\" fill=\"none\"/>\n",
              "    <path d=\"M18.56 5.44l.94 2.06.94-2.06 2.06-.94-2.06-.94-.94-2.06-.94 2.06-2.06.94zm-11 1L8.5 8.5l.94-2.06 2.06-.94-2.06-.94L8.5 2.5l-.94 2.06-2.06.94zm10 10l.94 2.06.94-2.06 2.06-.94-2.06-.94-.94-2.06-.94 2.06-2.06.94z\"/><path d=\"M17.41 7.96l-1.37-1.37c-.4-.4-.92-.59-1.43-.59-.52 0-1.04.2-1.43.59L10.3 9.45l-7.72 7.72c-.78.78-.78 2.05 0 2.83L4 21.41c.39.39.9.59 1.41.59.51 0 1.02-.2 1.41-.59l7.78-7.78 2.81-2.81c.8-.78.8-2.07 0-2.86zM5.41 20L4 18.59l7.72-7.72 1.47 1.35L5.41 20z\"/>\n",
              "  </svg>\n",
              "      </button>\n",
              "      \n",
              "  <style>\n",
              "    .colab-df-container {\n",
              "      display:flex;\n",
              "      flex-wrap:wrap;\n",
              "      gap: 12px;\n",
              "    }\n",
              "\n",
              "    .colab-df-convert {\n",
              "      background-color: #E8F0FE;\n",
              "      border: none;\n",
              "      border-radius: 50%;\n",
              "      cursor: pointer;\n",
              "      display: none;\n",
              "      fill: #1967D2;\n",
              "      height: 32px;\n",
              "      padding: 0 0 0 0;\n",
              "      width: 32px;\n",
              "    }\n",
              "\n",
              "    .colab-df-convert:hover {\n",
              "      background-color: #E2EBFA;\n",
              "      box-shadow: 0px 1px 2px rgba(60, 64, 67, 0.3), 0px 1px 3px 1px rgba(60, 64, 67, 0.15);\n",
              "      fill: #174EA6;\n",
              "    }\n",
              "\n",
              "    [theme=dark] .colab-df-convert {\n",
              "      background-color: #3B4455;\n",
              "      fill: #D2E3FC;\n",
              "    }\n",
              "\n",
              "    [theme=dark] .colab-df-convert:hover {\n",
              "      background-color: #434B5C;\n",
              "      box-shadow: 0px 1px 3px 1px rgba(0, 0, 0, 0.15);\n",
              "      filter: drop-shadow(0px 1px 2px rgba(0, 0, 0, 0.3));\n",
              "      fill: #FFFFFF;\n",
              "    }\n",
              "  </style>\n",
              "\n",
              "      <script>\n",
              "        const buttonEl =\n",
              "          document.querySelector('#df-38793428-8755-43a4-96c8-394777f49e0a button.colab-df-convert');\n",
              "        buttonEl.style.display =\n",
              "          google.colab.kernel.accessAllowed ? 'block' : 'none';\n",
              "\n",
              "        async function convertToInteractive(key) {\n",
              "          const element = document.querySelector('#df-38793428-8755-43a4-96c8-394777f49e0a');\n",
              "          const dataTable =\n",
              "            await google.colab.kernel.invokeFunction('convertToInteractive',\n",
              "                                                     [key], {});\n",
              "          if (!dataTable) return;\n",
              "\n",
              "          const docLinkHtml = 'Like what you see? Visit the ' +\n",
              "            '<a target=\"_blank\" href=https://colab.research.google.com/notebooks/data_table.ipynb>data table notebook</a>'\n",
              "            + ' to learn more about interactive tables.';\n",
              "          element.innerHTML = '';\n",
              "          dataTable['output_type'] = 'display_data';\n",
              "          await google.colab.output.renderOutput(dataTable, element);\n",
              "          const docLink = document.createElement('div');\n",
              "          docLink.innerHTML = docLinkHtml;\n",
              "          element.appendChild(docLink);\n",
              "        }\n",
              "      </script>\n",
              "    </div>\n",
              "  </div>\n",
              "  "
            ],
            "text/plain": [
              "               0         1     2     3     4\n",
              "0         Kirui,  Geoffrey  None  None  None\n",
              "1          Rupp,     Galen  None  None  None\n",
              "2         Osako,    Suguru  None  None  None\n",
              "3        Biwott,  Shadrack  None  None  None\n",
              "4        Chebet,    Wilson  None  None  None\n",
              "..           ...       ...   ...   ...   ...\n",
              "995      Larosa,      Mark  None  None  None\n",
              "996  Williamson,     Jerry     A  None  None\n",
              "997       Mccue,    Daniel     T  None  None\n",
              "998      Larosa,      John  None  None  None\n",
              "999     Sanchez,       Sam     R  None  None\n",
              "\n",
              "[1000 rows x 5 columns]"
            ]
          },
          "metadata": {},
          "execution_count": 189
        }
      ]
    },
    {
      "cell_type": "code",
      "metadata": {
        "id": "jzHgxy_7xroG",
        "colab": {
          "base_uri": "https://localhost:8080/",
          "height": 0
        },
        "outputId": "1b883ded-1099-48c8-a32a-b4d6946f492d"
      },
      "source": [
        "boston.Name.str.split(r'\\s' ,expand=True)"
      ],
      "execution_count": 190,
      "outputs": [
        {
          "output_type": "execute_result",
          "data": {
            "text/html": [
              "\n",
              "  <div id=\"df-df8faea9-d9ca-429f-a9b8-1dd3583bc026\">\n",
              "    <div class=\"colab-df-container\">\n",
              "      <div>\n",
              "<style scoped>\n",
              "    .dataframe tbody tr th:only-of-type {\n",
              "        vertical-align: middle;\n",
              "    }\n",
              "\n",
              "    .dataframe tbody tr th {\n",
              "        vertical-align: top;\n",
              "    }\n",
              "\n",
              "    .dataframe thead th {\n",
              "        text-align: right;\n",
              "    }\n",
              "</style>\n",
              "<table border=\"1\" class=\"dataframe\">\n",
              "  <thead>\n",
              "    <tr style=\"text-align: right;\">\n",
              "      <th></th>\n",
              "      <th>0</th>\n",
              "      <th>1</th>\n",
              "      <th>2</th>\n",
              "      <th>3</th>\n",
              "      <th>4</th>\n",
              "    </tr>\n",
              "  </thead>\n",
              "  <tbody>\n",
              "    <tr>\n",
              "      <th>0</th>\n",
              "      <td>Kirui,</td>\n",
              "      <td>Geoffrey</td>\n",
              "      <td>None</td>\n",
              "      <td>None</td>\n",
              "      <td>None</td>\n",
              "    </tr>\n",
              "    <tr>\n",
              "      <th>1</th>\n",
              "      <td>Rupp,</td>\n",
              "      <td>Galen</td>\n",
              "      <td>None</td>\n",
              "      <td>None</td>\n",
              "      <td>None</td>\n",
              "    </tr>\n",
              "    <tr>\n",
              "      <th>2</th>\n",
              "      <td>Osako,</td>\n",
              "      <td>Suguru</td>\n",
              "      <td>None</td>\n",
              "      <td>None</td>\n",
              "      <td>None</td>\n",
              "    </tr>\n",
              "    <tr>\n",
              "      <th>3</th>\n",
              "      <td>Biwott,</td>\n",
              "      <td>Shadrack</td>\n",
              "      <td>None</td>\n",
              "      <td>None</td>\n",
              "      <td>None</td>\n",
              "    </tr>\n",
              "    <tr>\n",
              "      <th>4</th>\n",
              "      <td>Chebet,</td>\n",
              "      <td>Wilson</td>\n",
              "      <td>None</td>\n",
              "      <td>None</td>\n",
              "      <td>None</td>\n",
              "    </tr>\n",
              "    <tr>\n",
              "      <th>...</th>\n",
              "      <td>...</td>\n",
              "      <td>...</td>\n",
              "      <td>...</td>\n",
              "      <td>...</td>\n",
              "      <td>...</td>\n",
              "    </tr>\n",
              "    <tr>\n",
              "      <th>995</th>\n",
              "      <td>Larosa,</td>\n",
              "      <td>Mark</td>\n",
              "      <td>None</td>\n",
              "      <td>None</td>\n",
              "      <td>None</td>\n",
              "    </tr>\n",
              "    <tr>\n",
              "      <th>996</th>\n",
              "      <td>Williamson,</td>\n",
              "      <td>Jerry</td>\n",
              "      <td>A</td>\n",
              "      <td>None</td>\n",
              "      <td>None</td>\n",
              "    </tr>\n",
              "    <tr>\n",
              "      <th>997</th>\n",
              "      <td>Mccue,</td>\n",
              "      <td>Daniel</td>\n",
              "      <td>T</td>\n",
              "      <td>None</td>\n",
              "      <td>None</td>\n",
              "    </tr>\n",
              "    <tr>\n",
              "      <th>998</th>\n",
              "      <td>Larosa,</td>\n",
              "      <td>John</td>\n",
              "      <td>None</td>\n",
              "      <td>None</td>\n",
              "      <td>None</td>\n",
              "    </tr>\n",
              "    <tr>\n",
              "      <th>999</th>\n",
              "      <td>Sanchez,</td>\n",
              "      <td>Sam</td>\n",
              "      <td>R</td>\n",
              "      <td>None</td>\n",
              "      <td>None</td>\n",
              "    </tr>\n",
              "  </tbody>\n",
              "</table>\n",
              "<p>1000 rows × 5 columns</p>\n",
              "</div>\n",
              "      <button class=\"colab-df-convert\" onclick=\"convertToInteractive('df-df8faea9-d9ca-429f-a9b8-1dd3583bc026')\"\n",
              "              title=\"Convert this dataframe to an interactive table.\"\n",
              "              style=\"display:none;\">\n",
              "        \n",
              "  <svg xmlns=\"http://www.w3.org/2000/svg\" height=\"24px\"viewBox=\"0 0 24 24\"\n",
              "       width=\"24px\">\n",
              "    <path d=\"M0 0h24v24H0V0z\" fill=\"none\"/>\n",
              "    <path d=\"M18.56 5.44l.94 2.06.94-2.06 2.06-.94-2.06-.94-.94-2.06-.94 2.06-2.06.94zm-11 1L8.5 8.5l.94-2.06 2.06-.94-2.06-.94L8.5 2.5l-.94 2.06-2.06.94zm10 10l.94 2.06.94-2.06 2.06-.94-2.06-.94-.94-2.06-.94 2.06-2.06.94z\"/><path d=\"M17.41 7.96l-1.37-1.37c-.4-.4-.92-.59-1.43-.59-.52 0-1.04.2-1.43.59L10.3 9.45l-7.72 7.72c-.78.78-.78 2.05 0 2.83L4 21.41c.39.39.9.59 1.41.59.51 0 1.02-.2 1.41-.59l7.78-7.78 2.81-2.81c.8-.78.8-2.07 0-2.86zM5.41 20L4 18.59l7.72-7.72 1.47 1.35L5.41 20z\"/>\n",
              "  </svg>\n",
              "      </button>\n",
              "      \n",
              "  <style>\n",
              "    .colab-df-container {\n",
              "      display:flex;\n",
              "      flex-wrap:wrap;\n",
              "      gap: 12px;\n",
              "    }\n",
              "\n",
              "    .colab-df-convert {\n",
              "      background-color: #E8F0FE;\n",
              "      border: none;\n",
              "      border-radius: 50%;\n",
              "      cursor: pointer;\n",
              "      display: none;\n",
              "      fill: #1967D2;\n",
              "      height: 32px;\n",
              "      padding: 0 0 0 0;\n",
              "      width: 32px;\n",
              "    }\n",
              "\n",
              "    .colab-df-convert:hover {\n",
              "      background-color: #E2EBFA;\n",
              "      box-shadow: 0px 1px 2px rgba(60, 64, 67, 0.3), 0px 1px 3px 1px rgba(60, 64, 67, 0.15);\n",
              "      fill: #174EA6;\n",
              "    }\n",
              "\n",
              "    [theme=dark] .colab-df-convert {\n",
              "      background-color: #3B4455;\n",
              "      fill: #D2E3FC;\n",
              "    }\n",
              "\n",
              "    [theme=dark] .colab-df-convert:hover {\n",
              "      background-color: #434B5C;\n",
              "      box-shadow: 0px 1px 3px 1px rgba(0, 0, 0, 0.15);\n",
              "      filter: drop-shadow(0px 1px 2px rgba(0, 0, 0, 0.3));\n",
              "      fill: #FFFFFF;\n",
              "    }\n",
              "  </style>\n",
              "\n",
              "      <script>\n",
              "        const buttonEl =\n",
              "          document.querySelector('#df-df8faea9-d9ca-429f-a9b8-1dd3583bc026 button.colab-df-convert');\n",
              "        buttonEl.style.display =\n",
              "          google.colab.kernel.accessAllowed ? 'block' : 'none';\n",
              "\n",
              "        async function convertToInteractive(key) {\n",
              "          const element = document.querySelector('#df-df8faea9-d9ca-429f-a9b8-1dd3583bc026');\n",
              "          const dataTable =\n",
              "            await google.colab.kernel.invokeFunction('convertToInteractive',\n",
              "                                                     [key], {});\n",
              "          if (!dataTable) return;\n",
              "\n",
              "          const docLinkHtml = 'Like what you see? Visit the ' +\n",
              "            '<a target=\"_blank\" href=https://colab.research.google.com/notebooks/data_table.ipynb>data table notebook</a>'\n",
              "            + ' to learn more about interactive tables.';\n",
              "          element.innerHTML = '';\n",
              "          dataTable['output_type'] = 'display_data';\n",
              "          await google.colab.output.renderOutput(dataTable, element);\n",
              "          const docLink = document.createElement('div');\n",
              "          docLink.innerHTML = docLinkHtml;\n",
              "          element.appendChild(docLink);\n",
              "        }\n",
              "      </script>\n",
              "    </div>\n",
              "  </div>\n",
              "  "
            ],
            "text/plain": [
              "               0         1     2     3     4\n",
              "0         Kirui,  Geoffrey  None  None  None\n",
              "1          Rupp,     Galen  None  None  None\n",
              "2         Osako,    Suguru  None  None  None\n",
              "3        Biwott,  Shadrack  None  None  None\n",
              "4        Chebet,    Wilson  None  None  None\n",
              "..           ...       ...   ...   ...   ...\n",
              "995      Larosa,      Mark  None  None  None\n",
              "996  Williamson,     Jerry     A  None  None\n",
              "997       Mccue,    Daniel     T  None  None\n",
              "998      Larosa,      John  None  None  None\n",
              "999     Sanchez,       Sam     R  None  None\n",
              "\n",
              "[1000 rows x 5 columns]"
            ]
          },
          "metadata": {},
          "execution_count": 190
        }
      ]
    },
    {
      "cell_type": "code",
      "metadata": {
        "id": "TPYd5OVpxxe-"
      },
      "source": [
        "# replace()"
      ],
      "execution_count": 191,
      "outputs": []
    },
    {
      "cell_type": "code",
      "metadata": {
        "id": "y_nBrpe7x7BX",
        "colab": {
          "base_uri": "https://localhost:8080/",
          "height": 0
        },
        "outputId": "89f4d72f-eca5-497b-cdd4-99da6bcdedc0"
      },
      "source": [
        "boston.head()"
      ],
      "execution_count": 192,
      "outputs": [
        {
          "output_type": "execute_result",
          "data": {
            "text/html": [
              "\n",
              "  <div id=\"df-e0e0ceb2-bbe8-49bd-9ee9-667f31c4b740\">\n",
              "    <div class=\"colab-df-container\">\n",
              "      <div>\n",
              "<style scoped>\n",
              "    .dataframe tbody tr th:only-of-type {\n",
              "        vertical-align: middle;\n",
              "    }\n",
              "\n",
              "    .dataframe tbody tr th {\n",
              "        vertical-align: top;\n",
              "    }\n",
              "\n",
              "    .dataframe thead th {\n",
              "        text-align: right;\n",
              "    }\n",
              "</style>\n",
              "<table border=\"1\" class=\"dataframe\">\n",
              "  <thead>\n",
              "    <tr style=\"text-align: right;\">\n",
              "      <th></th>\n",
              "      <th>Name</th>\n",
              "      <th>Age</th>\n",
              "      <th>M/F</th>\n",
              "      <th>City</th>\n",
              "      <th>State</th>\n",
              "      <th>Country</th>\n",
              "      <th>Official Time</th>\n",
              "      <th>Overall</th>\n",
              "      <th>Gender</th>\n",
              "      <th>Ran 2015</th>\n",
              "      <th>Ran 2016</th>\n",
              "      <th>Years Ran</th>\n",
              "      <th>First Name</th>\n",
              "      <th>Last Name</th>\n",
              "    </tr>\n",
              "  </thead>\n",
              "  <tbody>\n",
              "    <tr>\n",
              "      <th>0</th>\n",
              "      <td>Kirui, Geoffrey</td>\n",
              "      <td>24</td>\n",
              "      <td>Male</td>\n",
              "      <td>Keringet</td>\n",
              "      <td>NaN</td>\n",
              "      <td>KEN</td>\n",
              "      <td>2:09:37</td>\n",
              "      <td>1</td>\n",
              "      <td>1</td>\n",
              "      <td>0</td>\n",
              "      <td>0</td>\n",
              "      <td>NaN</td>\n",
              "      <td>Kirui</td>\n",
              "      <td>Geoffrey</td>\n",
              "    </tr>\n",
              "    <tr>\n",
              "      <th>1</th>\n",
              "      <td>Rupp, Galen</td>\n",
              "      <td>30</td>\n",
              "      <td>Male</td>\n",
              "      <td>Portland</td>\n",
              "      <td>OR</td>\n",
              "      <td>USA</td>\n",
              "      <td>2:09:58</td>\n",
              "      <td>2</td>\n",
              "      <td>2</td>\n",
              "      <td>0</td>\n",
              "      <td>0</td>\n",
              "      <td>NaN</td>\n",
              "      <td>Rupp</td>\n",
              "      <td>Galen</td>\n",
              "    </tr>\n",
              "    <tr>\n",
              "      <th>2</th>\n",
              "      <td>Osako, Suguru</td>\n",
              "      <td>25</td>\n",
              "      <td>Male</td>\n",
              "      <td>Machida-City</td>\n",
              "      <td>NaN</td>\n",
              "      <td>JPN</td>\n",
              "      <td>2:10:28</td>\n",
              "      <td>3</td>\n",
              "      <td>3</td>\n",
              "      <td>0</td>\n",
              "      <td>0</td>\n",
              "      <td>NaN</td>\n",
              "      <td>Osako</td>\n",
              "      <td>Suguru</td>\n",
              "    </tr>\n",
              "    <tr>\n",
              "      <th>3</th>\n",
              "      <td>Biwott, Shadrack</td>\n",
              "      <td>32</td>\n",
              "      <td>Male</td>\n",
              "      <td>Mammoth Lakes</td>\n",
              "      <td>CA</td>\n",
              "      <td>USA</td>\n",
              "      <td>2:12:08</td>\n",
              "      <td>4</td>\n",
              "      <td>4</td>\n",
              "      <td>0</td>\n",
              "      <td>0</td>\n",
              "      <td>NaN</td>\n",
              "      <td>Biwott</td>\n",
              "      <td>Shadrack</td>\n",
              "    </tr>\n",
              "    <tr>\n",
              "      <th>4</th>\n",
              "      <td>Chebet, Wilson</td>\n",
              "      <td>31</td>\n",
              "      <td>Male</td>\n",
              "      <td>Marakwet</td>\n",
              "      <td>NaN</td>\n",
              "      <td>KEN</td>\n",
              "      <td>2:12:35</td>\n",
              "      <td>5</td>\n",
              "      <td>5</td>\n",
              "      <td>1</td>\n",
              "      <td>0</td>\n",
              "      <td>2015</td>\n",
              "      <td>Chebet</td>\n",
              "      <td>Wilson</td>\n",
              "    </tr>\n",
              "  </tbody>\n",
              "</table>\n",
              "</div>\n",
              "      <button class=\"colab-df-convert\" onclick=\"convertToInteractive('df-e0e0ceb2-bbe8-49bd-9ee9-667f31c4b740')\"\n",
              "              title=\"Convert this dataframe to an interactive table.\"\n",
              "              style=\"display:none;\">\n",
              "        \n",
              "  <svg xmlns=\"http://www.w3.org/2000/svg\" height=\"24px\"viewBox=\"0 0 24 24\"\n",
              "       width=\"24px\">\n",
              "    <path d=\"M0 0h24v24H0V0z\" fill=\"none\"/>\n",
              "    <path d=\"M18.56 5.44l.94 2.06.94-2.06 2.06-.94-2.06-.94-.94-2.06-.94 2.06-2.06.94zm-11 1L8.5 8.5l.94-2.06 2.06-.94-2.06-.94L8.5 2.5l-.94 2.06-2.06.94zm10 10l.94 2.06.94-2.06 2.06-.94-2.06-.94-.94-2.06-.94 2.06-2.06.94z\"/><path d=\"M17.41 7.96l-1.37-1.37c-.4-.4-.92-.59-1.43-.59-.52 0-1.04.2-1.43.59L10.3 9.45l-7.72 7.72c-.78.78-.78 2.05 0 2.83L4 21.41c.39.39.9.59 1.41.59.51 0 1.02-.2 1.41-.59l7.78-7.78 2.81-2.81c.8-.78.8-2.07 0-2.86zM5.41 20L4 18.59l7.72-7.72 1.47 1.35L5.41 20z\"/>\n",
              "  </svg>\n",
              "      </button>\n",
              "      \n",
              "  <style>\n",
              "    .colab-df-container {\n",
              "      display:flex;\n",
              "      flex-wrap:wrap;\n",
              "      gap: 12px;\n",
              "    }\n",
              "\n",
              "    .colab-df-convert {\n",
              "      background-color: #E8F0FE;\n",
              "      border: none;\n",
              "      border-radius: 50%;\n",
              "      cursor: pointer;\n",
              "      display: none;\n",
              "      fill: #1967D2;\n",
              "      height: 32px;\n",
              "      padding: 0 0 0 0;\n",
              "      width: 32px;\n",
              "    }\n",
              "\n",
              "    .colab-df-convert:hover {\n",
              "      background-color: #E2EBFA;\n",
              "      box-shadow: 0px 1px 2px rgba(60, 64, 67, 0.3), 0px 1px 3px 1px rgba(60, 64, 67, 0.15);\n",
              "      fill: #174EA6;\n",
              "    }\n",
              "\n",
              "    [theme=dark] .colab-df-convert {\n",
              "      background-color: #3B4455;\n",
              "      fill: #D2E3FC;\n",
              "    }\n",
              "\n",
              "    [theme=dark] .colab-df-convert:hover {\n",
              "      background-color: #434B5C;\n",
              "      box-shadow: 0px 1px 3px 1px rgba(0, 0, 0, 0.15);\n",
              "      filter: drop-shadow(0px 1px 2px rgba(0, 0, 0, 0.3));\n",
              "      fill: #FFFFFF;\n",
              "    }\n",
              "  </style>\n",
              "\n",
              "      <script>\n",
              "        const buttonEl =\n",
              "          document.querySelector('#df-e0e0ceb2-bbe8-49bd-9ee9-667f31c4b740 button.colab-df-convert');\n",
              "        buttonEl.style.display =\n",
              "          google.colab.kernel.accessAllowed ? 'block' : 'none';\n",
              "\n",
              "        async function convertToInteractive(key) {\n",
              "          const element = document.querySelector('#df-e0e0ceb2-bbe8-49bd-9ee9-667f31c4b740');\n",
              "          const dataTable =\n",
              "            await google.colab.kernel.invokeFunction('convertToInteractive',\n",
              "                                                     [key], {});\n",
              "          if (!dataTable) return;\n",
              "\n",
              "          const docLinkHtml = 'Like what you see? Visit the ' +\n",
              "            '<a target=\"_blank\" href=https://colab.research.google.com/notebooks/data_table.ipynb>data table notebook</a>'\n",
              "            + ' to learn more about interactive tables.';\n",
              "          element.innerHTML = '';\n",
              "          dataTable['output_type'] = 'display_data';\n",
              "          await google.colab.output.renderOutput(dataTable, element);\n",
              "          const docLink = document.createElement('div');\n",
              "          docLink.innerHTML = docLinkHtml;\n",
              "          element.appendChild(docLink);\n",
              "        }\n",
              "      </script>\n",
              "    </div>\n",
              "  </div>\n",
              "  "
            ],
            "text/plain": [
              "               Name  Age   M/F           City State Country Official Time  \\\n",
              "0   Kirui, Geoffrey   24  Male       Keringet   NaN     KEN       2:09:37   \n",
              "1       Rupp, Galen   30  Male       Portland    OR     USA       2:09:58   \n",
              "2     Osako, Suguru   25  Male   Machida-City   NaN     JPN       2:10:28   \n",
              "3  Biwott, Shadrack   32  Male  Mammoth Lakes    CA     USA       2:12:08   \n",
              "4    Chebet, Wilson   31  Male       Marakwet   NaN     KEN       2:12:35   \n",
              "\n",
              "   Overall  Gender  Ran 2015  Ran 2016 Years Ran First Name Last Name  \n",
              "0        1       1         0         0       NaN      Kirui  Geoffrey  \n",
              "1        2       2         0         0       NaN       Rupp     Galen  \n",
              "2        3       3         0         0       NaN      Osako    Suguru  \n",
              "3        4       4         0         0       NaN     Biwott  Shadrack  \n",
              "4        5       5         1         0      2015     Chebet    Wilson  "
            ]
          },
          "metadata": {},
          "execution_count": 192
        }
      ]
    },
    {
      "cell_type": "code",
      "metadata": {
        "id": "grXTASAJx9Pq",
        "colab": {
          "base_uri": "https://localhost:8080/"
        },
        "outputId": "0f9cd164-a5b3-46fe-e417-c6b4be39c199"
      },
      "source": [
        "boston['Official Time'].head()"
      ],
      "execution_count": 193,
      "outputs": [
        {
          "output_type": "execute_result",
          "data": {
            "text/plain": [
              "0    2:09:37\n",
              "1    2:09:58\n",
              "2    2:10:28\n",
              "3    2:12:08\n",
              "4    2:12:35\n",
              "Name: Official Time, dtype: object"
            ]
          },
          "metadata": {},
          "execution_count": 193
        }
      ]
    },
    {
      "cell_type": "code",
      "metadata": {
        "id": "CfhN-SThyGhk"
      },
      "source": [
        "# 2:09:37 -> '2 hours, 9 minutes, and 37 second'"
      ],
      "execution_count": 194,
      "outputs": []
    },
    {
      "cell_type": "code",
      "metadata": {
        "id": "nG4Yhy7zyLhP"
      },
      "source": [
        "# previously: andy@howtopandas.com -> ****@howtopandas.com"
      ],
      "execution_count": 195,
      "outputs": []
    },
    {
      "cell_type": "code",
      "metadata": {
        "id": "80hhFe2NyR6t",
        "colab": {
          "base_uri": "https://localhost:8080/"
        },
        "outputId": "67cae269-6c34-4f89-def7-9f1aa0a97b71"
      },
      "source": [
        "boston['Official Time'].str.replace(r'(\\d+):(\\d+):(\\d+)', r'\\1 hours, \\2 minutes, and \\3 seconds')"
      ],
      "execution_count": 196,
      "outputs": [
        {
          "output_type": "stream",
          "name": "stderr",
          "text": [
            "/usr/local/lib/python3.7/dist-packages/ipykernel_launcher.py:1: FutureWarning: The default value of regex will change from True to False in a future version.\n",
            "  \"\"\"Entry point for launching an IPython kernel.\n"
          ]
        },
        {
          "output_type": "execute_result",
          "data": {
            "text/plain": [
              "0      2 hours, 09 minutes, and 37 seconds\n",
              "1      2 hours, 09 minutes, and 58 seconds\n",
              "2      2 hours, 10 minutes, and 28 seconds\n",
              "3      2 hours, 12 minutes, and 08 seconds\n",
              "4      2 hours, 12 minutes, and 35 seconds\n",
              "                      ...                 \n",
              "995    2 hours, 56 minutes, and 06 seconds\n",
              "996    2 hours, 56 minutes, and 06 seconds\n",
              "997    2 hours, 56 minutes, and 06 seconds\n",
              "998    2 hours, 56 minutes, and 07 seconds\n",
              "999    2 hours, 56 minutes, and 08 seconds\n",
              "Name: Official Time, Length: 1000, dtype: object"
            ]
          },
          "metadata": {},
          "execution_count": 196
        }
      ]
    },
    {
      "cell_type": "code",
      "metadata": {
        "id": "MKnxbQ2Uyax4"
      },
      "source": [
        "# boston['Official Time'] = .... ^"
      ],
      "execution_count": 197,
      "outputs": []
    },
    {
      "cell_type": "markdown",
      "metadata": {
        "id": "67GbzHgjy3oF"
      },
      "source": [
        "#### Skill Challenge"
      ]
    },
    {
      "cell_type": "markdown",
      "metadata": {
        "id": "QbBht_oHzyao"
      },
      "source": [
        "###### **1.**"
      ]
    },
    {
      "cell_type": "markdown",
      "metadata": {
        "id": "87AP0YXf0fsI"
      },
      "source": [
        "Split the *Official Time* into three separate columns; one each for hours, minutes, and seconds. Store this dataframe in a variable called *final_times*."
      ]
    },
    {
      "cell_type": "markdown",
      "metadata": {
        "id": "M8HLGj8w0gM1"
      },
      "source": [
        "###### **2.**"
      ]
    },
    {
      "cell_type": "markdown",
      "metadata": {
        "id": "GiUNG_bo0iQp"
      },
      "source": [
        "In the *final_times* dataframe, create a new column called total that contains the total time in seconds.\n",
        "\n",
        "Add the *total* column to the *boston* dataframe.\n",
        "\n",
        "For example: a run time of 2:09:37 would be shown on the total column as 7777.\n",
        "\n",
        "    2 hours x 60 minutes x 60 seconds\n",
        "    +9 minutes x 60 seconds\n",
        "    +37 seconds\n",
        "\n",
        "7,777 seconds"
      ]
    },
    {
      "cell_type": "markdown",
      "metadata": {
        "id": "-y9OInX80mqn"
      },
      "source": [
        "###### **3.**"
      ]
    },
    {
      "cell_type": "markdown",
      "metadata": {
        "id": "tsKQ-yJv0oeo"
      },
      "source": [
        "Do the runners in the *boston* dataset who also ran in 2016 have a higher or lower average time?"
      ]
    },
    {
      "cell_type": "markdown",
      "metadata": {
        "id": "MaEu7dEr4cmK"
      },
      "source": [
        "#### Solution"
      ]
    },
    {
      "cell_type": "code",
      "metadata": {
        "id": "ZmiVCMhh6RG2",
        "colab": {
          "base_uri": "https://localhost:8080/",
          "height": 143
        },
        "outputId": "6ea7d33f-74c7-4010-ce0c-60b9fcd3c65c"
      },
      "source": [
        "boston.head(3)"
      ],
      "execution_count": 198,
      "outputs": [
        {
          "output_type": "execute_result",
          "data": {
            "text/html": [
              "\n",
              "  <div id=\"df-995fe2b8-3bae-4ea3-ad72-ae299f9f037a\">\n",
              "    <div class=\"colab-df-container\">\n",
              "      <div>\n",
              "<style scoped>\n",
              "    .dataframe tbody tr th:only-of-type {\n",
              "        vertical-align: middle;\n",
              "    }\n",
              "\n",
              "    .dataframe tbody tr th {\n",
              "        vertical-align: top;\n",
              "    }\n",
              "\n",
              "    .dataframe thead th {\n",
              "        text-align: right;\n",
              "    }\n",
              "</style>\n",
              "<table border=\"1\" class=\"dataframe\">\n",
              "  <thead>\n",
              "    <tr style=\"text-align: right;\">\n",
              "      <th></th>\n",
              "      <th>Name</th>\n",
              "      <th>Age</th>\n",
              "      <th>M/F</th>\n",
              "      <th>City</th>\n",
              "      <th>State</th>\n",
              "      <th>Country</th>\n",
              "      <th>Official Time</th>\n",
              "      <th>Overall</th>\n",
              "      <th>Gender</th>\n",
              "      <th>Ran 2015</th>\n",
              "      <th>Ran 2016</th>\n",
              "      <th>Years Ran</th>\n",
              "      <th>First Name</th>\n",
              "      <th>Last Name</th>\n",
              "    </tr>\n",
              "  </thead>\n",
              "  <tbody>\n",
              "    <tr>\n",
              "      <th>0</th>\n",
              "      <td>Kirui, Geoffrey</td>\n",
              "      <td>24</td>\n",
              "      <td>Male</td>\n",
              "      <td>Keringet</td>\n",
              "      <td>NaN</td>\n",
              "      <td>KEN</td>\n",
              "      <td>2:09:37</td>\n",
              "      <td>1</td>\n",
              "      <td>1</td>\n",
              "      <td>0</td>\n",
              "      <td>0</td>\n",
              "      <td>NaN</td>\n",
              "      <td>Kirui</td>\n",
              "      <td>Geoffrey</td>\n",
              "    </tr>\n",
              "    <tr>\n",
              "      <th>1</th>\n",
              "      <td>Rupp, Galen</td>\n",
              "      <td>30</td>\n",
              "      <td>Male</td>\n",
              "      <td>Portland</td>\n",
              "      <td>OR</td>\n",
              "      <td>USA</td>\n",
              "      <td>2:09:58</td>\n",
              "      <td>2</td>\n",
              "      <td>2</td>\n",
              "      <td>0</td>\n",
              "      <td>0</td>\n",
              "      <td>NaN</td>\n",
              "      <td>Rupp</td>\n",
              "      <td>Galen</td>\n",
              "    </tr>\n",
              "    <tr>\n",
              "      <th>2</th>\n",
              "      <td>Osako, Suguru</td>\n",
              "      <td>25</td>\n",
              "      <td>Male</td>\n",
              "      <td>Machida-City</td>\n",
              "      <td>NaN</td>\n",
              "      <td>JPN</td>\n",
              "      <td>2:10:28</td>\n",
              "      <td>3</td>\n",
              "      <td>3</td>\n",
              "      <td>0</td>\n",
              "      <td>0</td>\n",
              "      <td>NaN</td>\n",
              "      <td>Osako</td>\n",
              "      <td>Suguru</td>\n",
              "    </tr>\n",
              "  </tbody>\n",
              "</table>\n",
              "</div>\n",
              "      <button class=\"colab-df-convert\" onclick=\"convertToInteractive('df-995fe2b8-3bae-4ea3-ad72-ae299f9f037a')\"\n",
              "              title=\"Convert this dataframe to an interactive table.\"\n",
              "              style=\"display:none;\">\n",
              "        \n",
              "  <svg xmlns=\"http://www.w3.org/2000/svg\" height=\"24px\"viewBox=\"0 0 24 24\"\n",
              "       width=\"24px\">\n",
              "    <path d=\"M0 0h24v24H0V0z\" fill=\"none\"/>\n",
              "    <path d=\"M18.56 5.44l.94 2.06.94-2.06 2.06-.94-2.06-.94-.94-2.06-.94 2.06-2.06.94zm-11 1L8.5 8.5l.94-2.06 2.06-.94-2.06-.94L8.5 2.5l-.94 2.06-2.06.94zm10 10l.94 2.06.94-2.06 2.06-.94-2.06-.94-.94-2.06-.94 2.06-2.06.94z\"/><path d=\"M17.41 7.96l-1.37-1.37c-.4-.4-.92-.59-1.43-.59-.52 0-1.04.2-1.43.59L10.3 9.45l-7.72 7.72c-.78.78-.78 2.05 0 2.83L4 21.41c.39.39.9.59 1.41.59.51 0 1.02-.2 1.41-.59l7.78-7.78 2.81-2.81c.8-.78.8-2.07 0-2.86zM5.41 20L4 18.59l7.72-7.72 1.47 1.35L5.41 20z\"/>\n",
              "  </svg>\n",
              "      </button>\n",
              "      \n",
              "  <style>\n",
              "    .colab-df-container {\n",
              "      display:flex;\n",
              "      flex-wrap:wrap;\n",
              "      gap: 12px;\n",
              "    }\n",
              "\n",
              "    .colab-df-convert {\n",
              "      background-color: #E8F0FE;\n",
              "      border: none;\n",
              "      border-radius: 50%;\n",
              "      cursor: pointer;\n",
              "      display: none;\n",
              "      fill: #1967D2;\n",
              "      height: 32px;\n",
              "      padding: 0 0 0 0;\n",
              "      width: 32px;\n",
              "    }\n",
              "\n",
              "    .colab-df-convert:hover {\n",
              "      background-color: #E2EBFA;\n",
              "      box-shadow: 0px 1px 2px rgba(60, 64, 67, 0.3), 0px 1px 3px 1px rgba(60, 64, 67, 0.15);\n",
              "      fill: #174EA6;\n",
              "    }\n",
              "\n",
              "    [theme=dark] .colab-df-convert {\n",
              "      background-color: #3B4455;\n",
              "      fill: #D2E3FC;\n",
              "    }\n",
              "\n",
              "    [theme=dark] .colab-df-convert:hover {\n",
              "      background-color: #434B5C;\n",
              "      box-shadow: 0px 1px 3px 1px rgba(0, 0, 0, 0.15);\n",
              "      filter: drop-shadow(0px 1px 2px rgba(0, 0, 0, 0.3));\n",
              "      fill: #FFFFFF;\n",
              "    }\n",
              "  </style>\n",
              "\n",
              "      <script>\n",
              "        const buttonEl =\n",
              "          document.querySelector('#df-995fe2b8-3bae-4ea3-ad72-ae299f9f037a button.colab-df-convert');\n",
              "        buttonEl.style.display =\n",
              "          google.colab.kernel.accessAllowed ? 'block' : 'none';\n",
              "\n",
              "        async function convertToInteractive(key) {\n",
              "          const element = document.querySelector('#df-995fe2b8-3bae-4ea3-ad72-ae299f9f037a');\n",
              "          const dataTable =\n",
              "            await google.colab.kernel.invokeFunction('convertToInteractive',\n",
              "                                                     [key], {});\n",
              "          if (!dataTable) return;\n",
              "\n",
              "          const docLinkHtml = 'Like what you see? Visit the ' +\n",
              "            '<a target=\"_blank\" href=https://colab.research.google.com/notebooks/data_table.ipynb>data table notebook</a>'\n",
              "            + ' to learn more about interactive tables.';\n",
              "          element.innerHTML = '';\n",
              "          dataTable['output_type'] = 'display_data';\n",
              "          await google.colab.output.renderOutput(dataTable, element);\n",
              "          const docLink = document.createElement('div');\n",
              "          docLink.innerHTML = docLinkHtml;\n",
              "          element.appendChild(docLink);\n",
              "        }\n",
              "      </script>\n",
              "    </div>\n",
              "  </div>\n",
              "  "
            ],
            "text/plain": [
              "              Name  Age   M/F          City State Country Official Time  \\\n",
              "0  Kirui, Geoffrey   24  Male      Keringet   NaN     KEN       2:09:37   \n",
              "1      Rupp, Galen   30  Male      Portland    OR     USA       2:09:58   \n",
              "2    Osako, Suguru   25  Male  Machida-City   NaN     JPN       2:10:28   \n",
              "\n",
              "   Overall  Gender  Ran 2015  Ran 2016 Years Ran First Name Last Name  \n",
              "0        1       1         0         0       NaN      Kirui  Geoffrey  \n",
              "1        2       2         0         0       NaN       Rupp     Galen  \n",
              "2        3       3         0         0       NaN      Osako    Suguru  "
            ]
          },
          "metadata": {},
          "execution_count": 198
        }
      ]
    },
    {
      "cell_type": "code",
      "metadata": {
        "id": "hYuER0ba4eGw"
      },
      "source": [
        "# 1\n",
        "\n",
        "final_times = boston['Official Time'].str.split(':', expand=True)"
      ],
      "execution_count": 199,
      "outputs": []
    },
    {
      "cell_type": "code",
      "metadata": {
        "id": "dosLXI3e6Lu-",
        "colab": {
          "base_uri": "https://localhost:8080/",
          "height": 206
        },
        "outputId": "0761bcb3-1d75-4977-c870-c6221cc7868e"
      },
      "source": [
        "final_times.head()"
      ],
      "execution_count": 200,
      "outputs": [
        {
          "output_type": "execute_result",
          "data": {
            "text/html": [
              "\n",
              "  <div id=\"df-188a48cd-3ff2-4e89-8c89-7f64ff1341ad\">\n",
              "    <div class=\"colab-df-container\">\n",
              "      <div>\n",
              "<style scoped>\n",
              "    .dataframe tbody tr th:only-of-type {\n",
              "        vertical-align: middle;\n",
              "    }\n",
              "\n",
              "    .dataframe tbody tr th {\n",
              "        vertical-align: top;\n",
              "    }\n",
              "\n",
              "    .dataframe thead th {\n",
              "        text-align: right;\n",
              "    }\n",
              "</style>\n",
              "<table border=\"1\" class=\"dataframe\">\n",
              "  <thead>\n",
              "    <tr style=\"text-align: right;\">\n",
              "      <th></th>\n",
              "      <th>0</th>\n",
              "      <th>1</th>\n",
              "      <th>2</th>\n",
              "    </tr>\n",
              "  </thead>\n",
              "  <tbody>\n",
              "    <tr>\n",
              "      <th>0</th>\n",
              "      <td>2</td>\n",
              "      <td>09</td>\n",
              "      <td>37</td>\n",
              "    </tr>\n",
              "    <tr>\n",
              "      <th>1</th>\n",
              "      <td>2</td>\n",
              "      <td>09</td>\n",
              "      <td>58</td>\n",
              "    </tr>\n",
              "    <tr>\n",
              "      <th>2</th>\n",
              "      <td>2</td>\n",
              "      <td>10</td>\n",
              "      <td>28</td>\n",
              "    </tr>\n",
              "    <tr>\n",
              "      <th>3</th>\n",
              "      <td>2</td>\n",
              "      <td>12</td>\n",
              "      <td>08</td>\n",
              "    </tr>\n",
              "    <tr>\n",
              "      <th>4</th>\n",
              "      <td>2</td>\n",
              "      <td>12</td>\n",
              "      <td>35</td>\n",
              "    </tr>\n",
              "  </tbody>\n",
              "</table>\n",
              "</div>\n",
              "      <button class=\"colab-df-convert\" onclick=\"convertToInteractive('df-188a48cd-3ff2-4e89-8c89-7f64ff1341ad')\"\n",
              "              title=\"Convert this dataframe to an interactive table.\"\n",
              "              style=\"display:none;\">\n",
              "        \n",
              "  <svg xmlns=\"http://www.w3.org/2000/svg\" height=\"24px\"viewBox=\"0 0 24 24\"\n",
              "       width=\"24px\">\n",
              "    <path d=\"M0 0h24v24H0V0z\" fill=\"none\"/>\n",
              "    <path d=\"M18.56 5.44l.94 2.06.94-2.06 2.06-.94-2.06-.94-.94-2.06-.94 2.06-2.06.94zm-11 1L8.5 8.5l.94-2.06 2.06-.94-2.06-.94L8.5 2.5l-.94 2.06-2.06.94zm10 10l.94 2.06.94-2.06 2.06-.94-2.06-.94-.94-2.06-.94 2.06-2.06.94z\"/><path d=\"M17.41 7.96l-1.37-1.37c-.4-.4-.92-.59-1.43-.59-.52 0-1.04.2-1.43.59L10.3 9.45l-7.72 7.72c-.78.78-.78 2.05 0 2.83L4 21.41c.39.39.9.59 1.41.59.51 0 1.02-.2 1.41-.59l7.78-7.78 2.81-2.81c.8-.78.8-2.07 0-2.86zM5.41 20L4 18.59l7.72-7.72 1.47 1.35L5.41 20z\"/>\n",
              "  </svg>\n",
              "      </button>\n",
              "      \n",
              "  <style>\n",
              "    .colab-df-container {\n",
              "      display:flex;\n",
              "      flex-wrap:wrap;\n",
              "      gap: 12px;\n",
              "    }\n",
              "\n",
              "    .colab-df-convert {\n",
              "      background-color: #E8F0FE;\n",
              "      border: none;\n",
              "      border-radius: 50%;\n",
              "      cursor: pointer;\n",
              "      display: none;\n",
              "      fill: #1967D2;\n",
              "      height: 32px;\n",
              "      padding: 0 0 0 0;\n",
              "      width: 32px;\n",
              "    }\n",
              "\n",
              "    .colab-df-convert:hover {\n",
              "      background-color: #E2EBFA;\n",
              "      box-shadow: 0px 1px 2px rgba(60, 64, 67, 0.3), 0px 1px 3px 1px rgba(60, 64, 67, 0.15);\n",
              "      fill: #174EA6;\n",
              "    }\n",
              "\n",
              "    [theme=dark] .colab-df-convert {\n",
              "      background-color: #3B4455;\n",
              "      fill: #D2E3FC;\n",
              "    }\n",
              "\n",
              "    [theme=dark] .colab-df-convert:hover {\n",
              "      background-color: #434B5C;\n",
              "      box-shadow: 0px 1px 3px 1px rgba(0, 0, 0, 0.15);\n",
              "      filter: drop-shadow(0px 1px 2px rgba(0, 0, 0, 0.3));\n",
              "      fill: #FFFFFF;\n",
              "    }\n",
              "  </style>\n",
              "\n",
              "      <script>\n",
              "        const buttonEl =\n",
              "          document.querySelector('#df-188a48cd-3ff2-4e89-8c89-7f64ff1341ad button.colab-df-convert');\n",
              "        buttonEl.style.display =\n",
              "          google.colab.kernel.accessAllowed ? 'block' : 'none';\n",
              "\n",
              "        async function convertToInteractive(key) {\n",
              "          const element = document.querySelector('#df-188a48cd-3ff2-4e89-8c89-7f64ff1341ad');\n",
              "          const dataTable =\n",
              "            await google.colab.kernel.invokeFunction('convertToInteractive',\n",
              "                                                     [key], {});\n",
              "          if (!dataTable) return;\n",
              "\n",
              "          const docLinkHtml = 'Like what you see? Visit the ' +\n",
              "            '<a target=\"_blank\" href=https://colab.research.google.com/notebooks/data_table.ipynb>data table notebook</a>'\n",
              "            + ' to learn more about interactive tables.';\n",
              "          element.innerHTML = '';\n",
              "          dataTable['output_type'] = 'display_data';\n",
              "          await google.colab.output.renderOutput(dataTable, element);\n",
              "          const docLink = document.createElement('div');\n",
              "          docLink.innerHTML = docLinkHtml;\n",
              "          element.appendChild(docLink);\n",
              "        }\n",
              "      </script>\n",
              "    </div>\n",
              "  </div>\n",
              "  "
            ],
            "text/plain": [
              "   0   1   2\n",
              "0  2  09  37\n",
              "1  2  09  58\n",
              "2  2  10  28\n",
              "3  2  12  08\n",
              "4  2  12  35"
            ]
          },
          "metadata": {},
          "execution_count": 200
        }
      ]
    },
    {
      "cell_type": "code",
      "metadata": {
        "id": "-dyfj2ls6VO6"
      },
      "source": [
        "# 2"
      ],
      "execution_count": 201,
      "outputs": []
    },
    {
      "cell_type": "code",
      "metadata": {
        "id": "bg6XXZjJ6bZY",
        "colab": {
          "base_uri": "https://localhost:8080/"
        },
        "outputId": "d880103b-3981-471f-ae69-b68dd952023e"
      },
      "source": [
        "final_times.info()"
      ],
      "execution_count": 202,
      "outputs": [
        {
          "output_type": "stream",
          "name": "stdout",
          "text": [
            "<class 'pandas.core.frame.DataFrame'>\n",
            "RangeIndex: 1000 entries, 0 to 999\n",
            "Data columns (total 3 columns):\n",
            " #   Column  Non-Null Count  Dtype \n",
            "---  ------  --------------  ----- \n",
            " 0   0       1000 non-null   object\n",
            " 1   1       1000 non-null   object\n",
            " 2   2       1000 non-null   object\n",
            "dtypes: object(3)\n",
            "memory usage: 23.6+ KB\n"
          ]
        }
      ]
    },
    {
      "cell_type": "code",
      "metadata": {
        "id": "tnuUQAGZ6f9e",
        "colab": {
          "base_uri": "https://localhost:8080/"
        },
        "outputId": "107d3fc7-f031-4903-ed3a-4b1176913b62"
      },
      "source": [
        "final_times[0].astype(int) * 60"
      ],
      "execution_count": 203,
      "outputs": [
        {
          "output_type": "execute_result",
          "data": {
            "text/plain": [
              "0      120\n",
              "1      120\n",
              "2      120\n",
              "3      120\n",
              "4      120\n",
              "      ... \n",
              "995    120\n",
              "996    120\n",
              "997    120\n",
              "998    120\n",
              "999    120\n",
              "Name: 0, Length: 1000, dtype: int64"
            ]
          },
          "metadata": {},
          "execution_count": 203
        }
      ]
    },
    {
      "cell_type": "code",
      "metadata": {
        "id": "m0Dkt1Gl6ign",
        "colab": {
          "base_uri": "https://localhost:8080/",
          "height": 35
        },
        "outputId": "74983da6-18f4-4047-9638-d81cbb2f47d8"
      },
      "source": [
        "'Andy' * 9"
      ],
      "execution_count": 204,
      "outputs": [
        {
          "output_type": "execute_result",
          "data": {
            "application/vnd.google.colaboratory.intrinsic+json": {
              "type": "string"
            },
            "text/plain": [
              "'AndyAndyAndyAndyAndyAndyAndyAndyAndy'"
            ]
          },
          "metadata": {},
          "execution_count": 204
        }
      ]
    },
    {
      "cell_type": "code",
      "metadata": {
        "id": "YYbeWcn46_U6",
        "colab": {
          "base_uri": "https://localhost:8080/",
          "height": 143
        },
        "outputId": "d98cb266-cc3b-44ac-d559-e2d069c5877c"
      },
      "source": [
        "boston.head(3)"
      ],
      "execution_count": 205,
      "outputs": [
        {
          "output_type": "execute_result",
          "data": {
            "text/html": [
              "\n",
              "  <div id=\"df-5b576c53-30bf-4d59-ad34-cf0231c0c9f3\">\n",
              "    <div class=\"colab-df-container\">\n",
              "      <div>\n",
              "<style scoped>\n",
              "    .dataframe tbody tr th:only-of-type {\n",
              "        vertical-align: middle;\n",
              "    }\n",
              "\n",
              "    .dataframe tbody tr th {\n",
              "        vertical-align: top;\n",
              "    }\n",
              "\n",
              "    .dataframe thead th {\n",
              "        text-align: right;\n",
              "    }\n",
              "</style>\n",
              "<table border=\"1\" class=\"dataframe\">\n",
              "  <thead>\n",
              "    <tr style=\"text-align: right;\">\n",
              "      <th></th>\n",
              "      <th>Name</th>\n",
              "      <th>Age</th>\n",
              "      <th>M/F</th>\n",
              "      <th>City</th>\n",
              "      <th>State</th>\n",
              "      <th>Country</th>\n",
              "      <th>Official Time</th>\n",
              "      <th>Overall</th>\n",
              "      <th>Gender</th>\n",
              "      <th>Ran 2015</th>\n",
              "      <th>Ran 2016</th>\n",
              "      <th>Years Ran</th>\n",
              "      <th>First Name</th>\n",
              "      <th>Last Name</th>\n",
              "    </tr>\n",
              "  </thead>\n",
              "  <tbody>\n",
              "    <tr>\n",
              "      <th>0</th>\n",
              "      <td>Kirui, Geoffrey</td>\n",
              "      <td>24</td>\n",
              "      <td>Male</td>\n",
              "      <td>Keringet</td>\n",
              "      <td>NaN</td>\n",
              "      <td>KEN</td>\n",
              "      <td>2:09:37</td>\n",
              "      <td>1</td>\n",
              "      <td>1</td>\n",
              "      <td>0</td>\n",
              "      <td>0</td>\n",
              "      <td>NaN</td>\n",
              "      <td>Kirui</td>\n",
              "      <td>Geoffrey</td>\n",
              "    </tr>\n",
              "    <tr>\n",
              "      <th>1</th>\n",
              "      <td>Rupp, Galen</td>\n",
              "      <td>30</td>\n",
              "      <td>Male</td>\n",
              "      <td>Portland</td>\n",
              "      <td>OR</td>\n",
              "      <td>USA</td>\n",
              "      <td>2:09:58</td>\n",
              "      <td>2</td>\n",
              "      <td>2</td>\n",
              "      <td>0</td>\n",
              "      <td>0</td>\n",
              "      <td>NaN</td>\n",
              "      <td>Rupp</td>\n",
              "      <td>Galen</td>\n",
              "    </tr>\n",
              "    <tr>\n",
              "      <th>2</th>\n",
              "      <td>Osako, Suguru</td>\n",
              "      <td>25</td>\n",
              "      <td>Male</td>\n",
              "      <td>Machida-City</td>\n",
              "      <td>NaN</td>\n",
              "      <td>JPN</td>\n",
              "      <td>2:10:28</td>\n",
              "      <td>3</td>\n",
              "      <td>3</td>\n",
              "      <td>0</td>\n",
              "      <td>0</td>\n",
              "      <td>NaN</td>\n",
              "      <td>Osako</td>\n",
              "      <td>Suguru</td>\n",
              "    </tr>\n",
              "  </tbody>\n",
              "</table>\n",
              "</div>\n",
              "      <button class=\"colab-df-convert\" onclick=\"convertToInteractive('df-5b576c53-30bf-4d59-ad34-cf0231c0c9f3')\"\n",
              "              title=\"Convert this dataframe to an interactive table.\"\n",
              "              style=\"display:none;\">\n",
              "        \n",
              "  <svg xmlns=\"http://www.w3.org/2000/svg\" height=\"24px\"viewBox=\"0 0 24 24\"\n",
              "       width=\"24px\">\n",
              "    <path d=\"M0 0h24v24H0V0z\" fill=\"none\"/>\n",
              "    <path d=\"M18.56 5.44l.94 2.06.94-2.06 2.06-.94-2.06-.94-.94-2.06-.94 2.06-2.06.94zm-11 1L8.5 8.5l.94-2.06 2.06-.94-2.06-.94L8.5 2.5l-.94 2.06-2.06.94zm10 10l.94 2.06.94-2.06 2.06-.94-2.06-.94-.94-2.06-.94 2.06-2.06.94z\"/><path d=\"M17.41 7.96l-1.37-1.37c-.4-.4-.92-.59-1.43-.59-.52 0-1.04.2-1.43.59L10.3 9.45l-7.72 7.72c-.78.78-.78 2.05 0 2.83L4 21.41c.39.39.9.59 1.41.59.51 0 1.02-.2 1.41-.59l7.78-7.78 2.81-2.81c.8-.78.8-2.07 0-2.86zM5.41 20L4 18.59l7.72-7.72 1.47 1.35L5.41 20z\"/>\n",
              "  </svg>\n",
              "      </button>\n",
              "      \n",
              "  <style>\n",
              "    .colab-df-container {\n",
              "      display:flex;\n",
              "      flex-wrap:wrap;\n",
              "      gap: 12px;\n",
              "    }\n",
              "\n",
              "    .colab-df-convert {\n",
              "      background-color: #E8F0FE;\n",
              "      border: none;\n",
              "      border-radius: 50%;\n",
              "      cursor: pointer;\n",
              "      display: none;\n",
              "      fill: #1967D2;\n",
              "      height: 32px;\n",
              "      padding: 0 0 0 0;\n",
              "      width: 32px;\n",
              "    }\n",
              "\n",
              "    .colab-df-convert:hover {\n",
              "      background-color: #E2EBFA;\n",
              "      box-shadow: 0px 1px 2px rgba(60, 64, 67, 0.3), 0px 1px 3px 1px rgba(60, 64, 67, 0.15);\n",
              "      fill: #174EA6;\n",
              "    }\n",
              "\n",
              "    [theme=dark] .colab-df-convert {\n",
              "      background-color: #3B4455;\n",
              "      fill: #D2E3FC;\n",
              "    }\n",
              "\n",
              "    [theme=dark] .colab-df-convert:hover {\n",
              "      background-color: #434B5C;\n",
              "      box-shadow: 0px 1px 3px 1px rgba(0, 0, 0, 0.15);\n",
              "      filter: drop-shadow(0px 1px 2px rgba(0, 0, 0, 0.3));\n",
              "      fill: #FFFFFF;\n",
              "    }\n",
              "  </style>\n",
              "\n",
              "      <script>\n",
              "        const buttonEl =\n",
              "          document.querySelector('#df-5b576c53-30bf-4d59-ad34-cf0231c0c9f3 button.colab-df-convert');\n",
              "        buttonEl.style.display =\n",
              "          google.colab.kernel.accessAllowed ? 'block' : 'none';\n",
              "\n",
              "        async function convertToInteractive(key) {\n",
              "          const element = document.querySelector('#df-5b576c53-30bf-4d59-ad34-cf0231c0c9f3');\n",
              "          const dataTable =\n",
              "            await google.colab.kernel.invokeFunction('convertToInteractive',\n",
              "                                                     [key], {});\n",
              "          if (!dataTable) return;\n",
              "\n",
              "          const docLinkHtml = 'Like what you see? Visit the ' +\n",
              "            '<a target=\"_blank\" href=https://colab.research.google.com/notebooks/data_table.ipynb>data table notebook</a>'\n",
              "            + ' to learn more about interactive tables.';\n",
              "          element.innerHTML = '';\n",
              "          dataTable['output_type'] = 'display_data';\n",
              "          await google.colab.output.renderOutput(dataTable, element);\n",
              "          const docLink = document.createElement('div');\n",
              "          docLink.innerHTML = docLinkHtml;\n",
              "          element.appendChild(docLink);\n",
              "        }\n",
              "      </script>\n",
              "    </div>\n",
              "  </div>\n",
              "  "
            ],
            "text/plain": [
              "              Name  Age   M/F          City State Country Official Time  \\\n",
              "0  Kirui, Geoffrey   24  Male      Keringet   NaN     KEN       2:09:37   \n",
              "1      Rupp, Galen   30  Male      Portland    OR     USA       2:09:58   \n",
              "2    Osako, Suguru   25  Male  Machida-City   NaN     JPN       2:10:28   \n",
              "\n",
              "   Overall  Gender  Ran 2015  Ran 2016 Years Ran First Name Last Name  \n",
              "0        1       1         0         0       NaN      Kirui  Geoffrey  \n",
              "1        2       2         0         0       NaN       Rupp     Galen  \n",
              "2        3       3         0         0       NaN      Osako    Suguru  "
            ]
          },
          "metadata": {},
          "execution_count": 205
        }
      ]
    },
    {
      "cell_type": "code",
      "metadata": {
        "id": "NFp5UtuQ6mRX",
        "colab": {
          "base_uri": "https://localhost:8080/"
        },
        "outputId": "8470dec6-2379-4e04-f186-d8c6fa36ea95"
      },
      "source": [
        "# approach 1\n",
        "final_times[0].astype(int) * 3600 + final_times[1].astype(int) * 60 + final_times[2].astype(int)"
      ],
      "execution_count": 206,
      "outputs": [
        {
          "output_type": "execute_result",
          "data": {
            "text/plain": [
              "0       7777\n",
              "1       7798\n",
              "2       7828\n",
              "3       7928\n",
              "4       7955\n",
              "       ...  \n",
              "995    10566\n",
              "996    10566\n",
              "997    10566\n",
              "998    10567\n",
              "999    10568\n",
              "Length: 1000, dtype: int64"
            ]
          },
          "metadata": {},
          "execution_count": 206
        }
      ]
    },
    {
      "cell_type": "code",
      "metadata": {
        "id": "K9PykeGS7Fuo",
        "colab": {
          "base_uri": "https://localhost:8080/",
          "height": 206
        },
        "outputId": "34c1bcb1-47ea-431e-ef70-f1233fb4a8b2"
      },
      "source": [
        "final_times.head()"
      ],
      "execution_count": 207,
      "outputs": [
        {
          "output_type": "execute_result",
          "data": {
            "text/html": [
              "\n",
              "  <div id=\"df-7954e9ab-70bb-4121-91fc-b72efea035c6\">\n",
              "    <div class=\"colab-df-container\">\n",
              "      <div>\n",
              "<style scoped>\n",
              "    .dataframe tbody tr th:only-of-type {\n",
              "        vertical-align: middle;\n",
              "    }\n",
              "\n",
              "    .dataframe tbody tr th {\n",
              "        vertical-align: top;\n",
              "    }\n",
              "\n",
              "    .dataframe thead th {\n",
              "        text-align: right;\n",
              "    }\n",
              "</style>\n",
              "<table border=\"1\" class=\"dataframe\">\n",
              "  <thead>\n",
              "    <tr style=\"text-align: right;\">\n",
              "      <th></th>\n",
              "      <th>0</th>\n",
              "      <th>1</th>\n",
              "      <th>2</th>\n",
              "    </tr>\n",
              "  </thead>\n",
              "  <tbody>\n",
              "    <tr>\n",
              "      <th>0</th>\n",
              "      <td>2</td>\n",
              "      <td>09</td>\n",
              "      <td>37</td>\n",
              "    </tr>\n",
              "    <tr>\n",
              "      <th>1</th>\n",
              "      <td>2</td>\n",
              "      <td>09</td>\n",
              "      <td>58</td>\n",
              "    </tr>\n",
              "    <tr>\n",
              "      <th>2</th>\n",
              "      <td>2</td>\n",
              "      <td>10</td>\n",
              "      <td>28</td>\n",
              "    </tr>\n",
              "    <tr>\n",
              "      <th>3</th>\n",
              "      <td>2</td>\n",
              "      <td>12</td>\n",
              "      <td>08</td>\n",
              "    </tr>\n",
              "    <tr>\n",
              "      <th>4</th>\n",
              "      <td>2</td>\n",
              "      <td>12</td>\n",
              "      <td>35</td>\n",
              "    </tr>\n",
              "  </tbody>\n",
              "</table>\n",
              "</div>\n",
              "      <button class=\"colab-df-convert\" onclick=\"convertToInteractive('df-7954e9ab-70bb-4121-91fc-b72efea035c6')\"\n",
              "              title=\"Convert this dataframe to an interactive table.\"\n",
              "              style=\"display:none;\">\n",
              "        \n",
              "  <svg xmlns=\"http://www.w3.org/2000/svg\" height=\"24px\"viewBox=\"0 0 24 24\"\n",
              "       width=\"24px\">\n",
              "    <path d=\"M0 0h24v24H0V0z\" fill=\"none\"/>\n",
              "    <path d=\"M18.56 5.44l.94 2.06.94-2.06 2.06-.94-2.06-.94-.94-2.06-.94 2.06-2.06.94zm-11 1L8.5 8.5l.94-2.06 2.06-.94-2.06-.94L8.5 2.5l-.94 2.06-2.06.94zm10 10l.94 2.06.94-2.06 2.06-.94-2.06-.94-.94-2.06-.94 2.06-2.06.94z\"/><path d=\"M17.41 7.96l-1.37-1.37c-.4-.4-.92-.59-1.43-.59-.52 0-1.04.2-1.43.59L10.3 9.45l-7.72 7.72c-.78.78-.78 2.05 0 2.83L4 21.41c.39.39.9.59 1.41.59.51 0 1.02-.2 1.41-.59l7.78-7.78 2.81-2.81c.8-.78.8-2.07 0-2.86zM5.41 20L4 18.59l7.72-7.72 1.47 1.35L5.41 20z\"/>\n",
              "  </svg>\n",
              "      </button>\n",
              "      \n",
              "  <style>\n",
              "    .colab-df-container {\n",
              "      display:flex;\n",
              "      flex-wrap:wrap;\n",
              "      gap: 12px;\n",
              "    }\n",
              "\n",
              "    .colab-df-convert {\n",
              "      background-color: #E8F0FE;\n",
              "      border: none;\n",
              "      border-radius: 50%;\n",
              "      cursor: pointer;\n",
              "      display: none;\n",
              "      fill: #1967D2;\n",
              "      height: 32px;\n",
              "      padding: 0 0 0 0;\n",
              "      width: 32px;\n",
              "    }\n",
              "\n",
              "    .colab-df-convert:hover {\n",
              "      background-color: #E2EBFA;\n",
              "      box-shadow: 0px 1px 2px rgba(60, 64, 67, 0.3), 0px 1px 3px 1px rgba(60, 64, 67, 0.15);\n",
              "      fill: #174EA6;\n",
              "    }\n",
              "\n",
              "    [theme=dark] .colab-df-convert {\n",
              "      background-color: #3B4455;\n",
              "      fill: #D2E3FC;\n",
              "    }\n",
              "\n",
              "    [theme=dark] .colab-df-convert:hover {\n",
              "      background-color: #434B5C;\n",
              "      box-shadow: 0px 1px 3px 1px rgba(0, 0, 0, 0.15);\n",
              "      filter: drop-shadow(0px 1px 2px rgba(0, 0, 0, 0.3));\n",
              "      fill: #FFFFFF;\n",
              "    }\n",
              "  </style>\n",
              "\n",
              "      <script>\n",
              "        const buttonEl =\n",
              "          document.querySelector('#df-7954e9ab-70bb-4121-91fc-b72efea035c6 button.colab-df-convert');\n",
              "        buttonEl.style.display =\n",
              "          google.colab.kernel.accessAllowed ? 'block' : 'none';\n",
              "\n",
              "        async function convertToInteractive(key) {\n",
              "          const element = document.querySelector('#df-7954e9ab-70bb-4121-91fc-b72efea035c6');\n",
              "          const dataTable =\n",
              "            await google.colab.kernel.invokeFunction('convertToInteractive',\n",
              "                                                     [key], {});\n",
              "          if (!dataTable) return;\n",
              "\n",
              "          const docLinkHtml = 'Like what you see? Visit the ' +\n",
              "            '<a target=\"_blank\" href=https://colab.research.google.com/notebooks/data_table.ipynb>data table notebook</a>'\n",
              "            + ' to learn more about interactive tables.';\n",
              "          element.innerHTML = '';\n",
              "          dataTable['output_type'] = 'display_data';\n",
              "          await google.colab.output.renderOutput(dataTable, element);\n",
              "          const docLink = document.createElement('div');\n",
              "          docLink.innerHTML = docLinkHtml;\n",
              "          element.appendChild(docLink);\n",
              "        }\n",
              "      </script>\n",
              "    </div>\n",
              "  </div>\n",
              "  "
            ],
            "text/plain": [
              "   0   1   2\n",
              "0  2  09  37\n",
              "1  2  09  58\n",
              "2  2  10  28\n",
              "3  2  12  08\n",
              "4  2  12  35"
            ]
          },
          "metadata": {},
          "execution_count": 207
        }
      ]
    },
    {
      "cell_type": "code",
      "metadata": {
        "id": "olJknGEq66g5"
      },
      "source": [
        "# approach 2\n",
        "\n",
        "final_times = final_times.astype(int)"
      ],
      "execution_count": 208,
      "outputs": []
    },
    {
      "cell_type": "code",
      "metadata": {
        "id": "rn41OuTg7KM6",
        "colab": {
          "base_uri": "https://localhost:8080/"
        },
        "outputId": "288468dd-2638-4cd7-befa-1c2ff5c43aaa"
      },
      "source": [
        "final_times.info()"
      ],
      "execution_count": 209,
      "outputs": [
        {
          "output_type": "stream",
          "name": "stdout",
          "text": [
            "<class 'pandas.core.frame.DataFrame'>\n",
            "RangeIndex: 1000 entries, 0 to 999\n",
            "Data columns (total 3 columns):\n",
            " #   Column  Non-Null Count  Dtype\n",
            "---  ------  --------------  -----\n",
            " 0   0       1000 non-null   int64\n",
            " 1   1       1000 non-null   int64\n",
            " 2   2       1000 non-null   int64\n",
            "dtypes: int64(3)\n",
            "memory usage: 23.6 KB\n"
          ]
        }
      ]
    },
    {
      "cell_type": "code",
      "metadata": {
        "id": "ZcijhA4h7MCm"
      },
      "source": [
        "final_times['total'] = final_times.apply(lambda t: t.iat[0] * 3600 + t.iat[1] * 60 + t.iat[2], axis=1)"
      ],
      "execution_count": 210,
      "outputs": []
    },
    {
      "cell_type": "code",
      "metadata": {
        "id": "cbRfEe0P7WNR",
        "colab": {
          "base_uri": "https://localhost:8080/",
          "height": 206
        },
        "outputId": "cdb790e5-4d75-4558-de63-0fc2d79e768b"
      },
      "source": [
        "final_times.head()"
      ],
      "execution_count": 211,
      "outputs": [
        {
          "output_type": "execute_result",
          "data": {
            "text/html": [
              "\n",
              "  <div id=\"df-379d2f74-526a-4252-afb7-07d44e85c624\">\n",
              "    <div class=\"colab-df-container\">\n",
              "      <div>\n",
              "<style scoped>\n",
              "    .dataframe tbody tr th:only-of-type {\n",
              "        vertical-align: middle;\n",
              "    }\n",
              "\n",
              "    .dataframe tbody tr th {\n",
              "        vertical-align: top;\n",
              "    }\n",
              "\n",
              "    .dataframe thead th {\n",
              "        text-align: right;\n",
              "    }\n",
              "</style>\n",
              "<table border=\"1\" class=\"dataframe\">\n",
              "  <thead>\n",
              "    <tr style=\"text-align: right;\">\n",
              "      <th></th>\n",
              "      <th>0</th>\n",
              "      <th>1</th>\n",
              "      <th>2</th>\n",
              "      <th>total</th>\n",
              "    </tr>\n",
              "  </thead>\n",
              "  <tbody>\n",
              "    <tr>\n",
              "      <th>0</th>\n",
              "      <td>2</td>\n",
              "      <td>9</td>\n",
              "      <td>37</td>\n",
              "      <td>7777</td>\n",
              "    </tr>\n",
              "    <tr>\n",
              "      <th>1</th>\n",
              "      <td>2</td>\n",
              "      <td>9</td>\n",
              "      <td>58</td>\n",
              "      <td>7798</td>\n",
              "    </tr>\n",
              "    <tr>\n",
              "      <th>2</th>\n",
              "      <td>2</td>\n",
              "      <td>10</td>\n",
              "      <td>28</td>\n",
              "      <td>7828</td>\n",
              "    </tr>\n",
              "    <tr>\n",
              "      <th>3</th>\n",
              "      <td>2</td>\n",
              "      <td>12</td>\n",
              "      <td>8</td>\n",
              "      <td>7928</td>\n",
              "    </tr>\n",
              "    <tr>\n",
              "      <th>4</th>\n",
              "      <td>2</td>\n",
              "      <td>12</td>\n",
              "      <td>35</td>\n",
              "      <td>7955</td>\n",
              "    </tr>\n",
              "  </tbody>\n",
              "</table>\n",
              "</div>\n",
              "      <button class=\"colab-df-convert\" onclick=\"convertToInteractive('df-379d2f74-526a-4252-afb7-07d44e85c624')\"\n",
              "              title=\"Convert this dataframe to an interactive table.\"\n",
              "              style=\"display:none;\">\n",
              "        \n",
              "  <svg xmlns=\"http://www.w3.org/2000/svg\" height=\"24px\"viewBox=\"0 0 24 24\"\n",
              "       width=\"24px\">\n",
              "    <path d=\"M0 0h24v24H0V0z\" fill=\"none\"/>\n",
              "    <path d=\"M18.56 5.44l.94 2.06.94-2.06 2.06-.94-2.06-.94-.94-2.06-.94 2.06-2.06.94zm-11 1L8.5 8.5l.94-2.06 2.06-.94-2.06-.94L8.5 2.5l-.94 2.06-2.06.94zm10 10l.94 2.06.94-2.06 2.06-.94-2.06-.94-.94-2.06-.94 2.06-2.06.94z\"/><path d=\"M17.41 7.96l-1.37-1.37c-.4-.4-.92-.59-1.43-.59-.52 0-1.04.2-1.43.59L10.3 9.45l-7.72 7.72c-.78.78-.78 2.05 0 2.83L4 21.41c.39.39.9.59 1.41.59.51 0 1.02-.2 1.41-.59l7.78-7.78 2.81-2.81c.8-.78.8-2.07 0-2.86zM5.41 20L4 18.59l7.72-7.72 1.47 1.35L5.41 20z\"/>\n",
              "  </svg>\n",
              "      </button>\n",
              "      \n",
              "  <style>\n",
              "    .colab-df-container {\n",
              "      display:flex;\n",
              "      flex-wrap:wrap;\n",
              "      gap: 12px;\n",
              "    }\n",
              "\n",
              "    .colab-df-convert {\n",
              "      background-color: #E8F0FE;\n",
              "      border: none;\n",
              "      border-radius: 50%;\n",
              "      cursor: pointer;\n",
              "      display: none;\n",
              "      fill: #1967D2;\n",
              "      height: 32px;\n",
              "      padding: 0 0 0 0;\n",
              "      width: 32px;\n",
              "    }\n",
              "\n",
              "    .colab-df-convert:hover {\n",
              "      background-color: #E2EBFA;\n",
              "      box-shadow: 0px 1px 2px rgba(60, 64, 67, 0.3), 0px 1px 3px 1px rgba(60, 64, 67, 0.15);\n",
              "      fill: #174EA6;\n",
              "    }\n",
              "\n",
              "    [theme=dark] .colab-df-convert {\n",
              "      background-color: #3B4455;\n",
              "      fill: #D2E3FC;\n",
              "    }\n",
              "\n",
              "    [theme=dark] .colab-df-convert:hover {\n",
              "      background-color: #434B5C;\n",
              "      box-shadow: 0px 1px 3px 1px rgba(0, 0, 0, 0.15);\n",
              "      filter: drop-shadow(0px 1px 2px rgba(0, 0, 0, 0.3));\n",
              "      fill: #FFFFFF;\n",
              "    }\n",
              "  </style>\n",
              "\n",
              "      <script>\n",
              "        const buttonEl =\n",
              "          document.querySelector('#df-379d2f74-526a-4252-afb7-07d44e85c624 button.colab-df-convert');\n",
              "        buttonEl.style.display =\n",
              "          google.colab.kernel.accessAllowed ? 'block' : 'none';\n",
              "\n",
              "        async function convertToInteractive(key) {\n",
              "          const element = document.querySelector('#df-379d2f74-526a-4252-afb7-07d44e85c624');\n",
              "          const dataTable =\n",
              "            await google.colab.kernel.invokeFunction('convertToInteractive',\n",
              "                                                     [key], {});\n",
              "          if (!dataTable) return;\n",
              "\n",
              "          const docLinkHtml = 'Like what you see? Visit the ' +\n",
              "            '<a target=\"_blank\" href=https://colab.research.google.com/notebooks/data_table.ipynb>data table notebook</a>'\n",
              "            + ' to learn more about interactive tables.';\n",
              "          element.innerHTML = '';\n",
              "          dataTable['output_type'] = 'display_data';\n",
              "          await google.colab.output.renderOutput(dataTable, element);\n",
              "          const docLink = document.createElement('div');\n",
              "          docLink.innerHTML = docLinkHtml;\n",
              "          element.appendChild(docLink);\n",
              "        }\n",
              "      </script>\n",
              "    </div>\n",
              "  </div>\n",
              "  "
            ],
            "text/plain": [
              "   0   1   2  total\n",
              "0  2   9  37   7777\n",
              "1  2   9  58   7798\n",
              "2  2  10  28   7828\n",
              "3  2  12   8   7928\n",
              "4  2  12  35   7955"
            ]
          },
          "metadata": {},
          "execution_count": 211
        }
      ]
    },
    {
      "cell_type": "code",
      "metadata": {
        "id": "tscgQZ887imU",
        "colab": {
          "base_uri": "https://localhost:8080/",
          "height": 206
        },
        "outputId": "c9155ccf-66db-435f-ccd5-e5db8d5564dd"
      },
      "source": [
        "boston.head()"
      ],
      "execution_count": 212,
      "outputs": [
        {
          "output_type": "execute_result",
          "data": {
            "text/html": [
              "\n",
              "  <div id=\"df-1d1a99d8-5625-4c64-9c46-77e5ee9be5e1\">\n",
              "    <div class=\"colab-df-container\">\n",
              "      <div>\n",
              "<style scoped>\n",
              "    .dataframe tbody tr th:only-of-type {\n",
              "        vertical-align: middle;\n",
              "    }\n",
              "\n",
              "    .dataframe tbody tr th {\n",
              "        vertical-align: top;\n",
              "    }\n",
              "\n",
              "    .dataframe thead th {\n",
              "        text-align: right;\n",
              "    }\n",
              "</style>\n",
              "<table border=\"1\" class=\"dataframe\">\n",
              "  <thead>\n",
              "    <tr style=\"text-align: right;\">\n",
              "      <th></th>\n",
              "      <th>Name</th>\n",
              "      <th>Age</th>\n",
              "      <th>M/F</th>\n",
              "      <th>City</th>\n",
              "      <th>State</th>\n",
              "      <th>Country</th>\n",
              "      <th>Official Time</th>\n",
              "      <th>Overall</th>\n",
              "      <th>Gender</th>\n",
              "      <th>Ran 2015</th>\n",
              "      <th>Ran 2016</th>\n",
              "      <th>Years Ran</th>\n",
              "      <th>First Name</th>\n",
              "      <th>Last Name</th>\n",
              "    </tr>\n",
              "  </thead>\n",
              "  <tbody>\n",
              "    <tr>\n",
              "      <th>0</th>\n",
              "      <td>Kirui, Geoffrey</td>\n",
              "      <td>24</td>\n",
              "      <td>Male</td>\n",
              "      <td>Keringet</td>\n",
              "      <td>NaN</td>\n",
              "      <td>KEN</td>\n",
              "      <td>2:09:37</td>\n",
              "      <td>1</td>\n",
              "      <td>1</td>\n",
              "      <td>0</td>\n",
              "      <td>0</td>\n",
              "      <td>NaN</td>\n",
              "      <td>Kirui</td>\n",
              "      <td>Geoffrey</td>\n",
              "    </tr>\n",
              "    <tr>\n",
              "      <th>1</th>\n",
              "      <td>Rupp, Galen</td>\n",
              "      <td>30</td>\n",
              "      <td>Male</td>\n",
              "      <td>Portland</td>\n",
              "      <td>OR</td>\n",
              "      <td>USA</td>\n",
              "      <td>2:09:58</td>\n",
              "      <td>2</td>\n",
              "      <td>2</td>\n",
              "      <td>0</td>\n",
              "      <td>0</td>\n",
              "      <td>NaN</td>\n",
              "      <td>Rupp</td>\n",
              "      <td>Galen</td>\n",
              "    </tr>\n",
              "    <tr>\n",
              "      <th>2</th>\n",
              "      <td>Osako, Suguru</td>\n",
              "      <td>25</td>\n",
              "      <td>Male</td>\n",
              "      <td>Machida-City</td>\n",
              "      <td>NaN</td>\n",
              "      <td>JPN</td>\n",
              "      <td>2:10:28</td>\n",
              "      <td>3</td>\n",
              "      <td>3</td>\n",
              "      <td>0</td>\n",
              "      <td>0</td>\n",
              "      <td>NaN</td>\n",
              "      <td>Osako</td>\n",
              "      <td>Suguru</td>\n",
              "    </tr>\n",
              "    <tr>\n",
              "      <th>3</th>\n",
              "      <td>Biwott, Shadrack</td>\n",
              "      <td>32</td>\n",
              "      <td>Male</td>\n",
              "      <td>Mammoth Lakes</td>\n",
              "      <td>CA</td>\n",
              "      <td>USA</td>\n",
              "      <td>2:12:08</td>\n",
              "      <td>4</td>\n",
              "      <td>4</td>\n",
              "      <td>0</td>\n",
              "      <td>0</td>\n",
              "      <td>NaN</td>\n",
              "      <td>Biwott</td>\n",
              "      <td>Shadrack</td>\n",
              "    </tr>\n",
              "    <tr>\n",
              "      <th>4</th>\n",
              "      <td>Chebet, Wilson</td>\n",
              "      <td>31</td>\n",
              "      <td>Male</td>\n",
              "      <td>Marakwet</td>\n",
              "      <td>NaN</td>\n",
              "      <td>KEN</td>\n",
              "      <td>2:12:35</td>\n",
              "      <td>5</td>\n",
              "      <td>5</td>\n",
              "      <td>1</td>\n",
              "      <td>0</td>\n",
              "      <td>2015</td>\n",
              "      <td>Chebet</td>\n",
              "      <td>Wilson</td>\n",
              "    </tr>\n",
              "  </tbody>\n",
              "</table>\n",
              "</div>\n",
              "      <button class=\"colab-df-convert\" onclick=\"convertToInteractive('df-1d1a99d8-5625-4c64-9c46-77e5ee9be5e1')\"\n",
              "              title=\"Convert this dataframe to an interactive table.\"\n",
              "              style=\"display:none;\">\n",
              "        \n",
              "  <svg xmlns=\"http://www.w3.org/2000/svg\" height=\"24px\"viewBox=\"0 0 24 24\"\n",
              "       width=\"24px\">\n",
              "    <path d=\"M0 0h24v24H0V0z\" fill=\"none\"/>\n",
              "    <path d=\"M18.56 5.44l.94 2.06.94-2.06 2.06-.94-2.06-.94-.94-2.06-.94 2.06-2.06.94zm-11 1L8.5 8.5l.94-2.06 2.06-.94-2.06-.94L8.5 2.5l-.94 2.06-2.06.94zm10 10l.94 2.06.94-2.06 2.06-.94-2.06-.94-.94-2.06-.94 2.06-2.06.94z\"/><path d=\"M17.41 7.96l-1.37-1.37c-.4-.4-.92-.59-1.43-.59-.52 0-1.04.2-1.43.59L10.3 9.45l-7.72 7.72c-.78.78-.78 2.05 0 2.83L4 21.41c.39.39.9.59 1.41.59.51 0 1.02-.2 1.41-.59l7.78-7.78 2.81-2.81c.8-.78.8-2.07 0-2.86zM5.41 20L4 18.59l7.72-7.72 1.47 1.35L5.41 20z\"/>\n",
              "  </svg>\n",
              "      </button>\n",
              "      \n",
              "  <style>\n",
              "    .colab-df-container {\n",
              "      display:flex;\n",
              "      flex-wrap:wrap;\n",
              "      gap: 12px;\n",
              "    }\n",
              "\n",
              "    .colab-df-convert {\n",
              "      background-color: #E8F0FE;\n",
              "      border: none;\n",
              "      border-radius: 50%;\n",
              "      cursor: pointer;\n",
              "      display: none;\n",
              "      fill: #1967D2;\n",
              "      height: 32px;\n",
              "      padding: 0 0 0 0;\n",
              "      width: 32px;\n",
              "    }\n",
              "\n",
              "    .colab-df-convert:hover {\n",
              "      background-color: #E2EBFA;\n",
              "      box-shadow: 0px 1px 2px rgba(60, 64, 67, 0.3), 0px 1px 3px 1px rgba(60, 64, 67, 0.15);\n",
              "      fill: #174EA6;\n",
              "    }\n",
              "\n",
              "    [theme=dark] .colab-df-convert {\n",
              "      background-color: #3B4455;\n",
              "      fill: #D2E3FC;\n",
              "    }\n",
              "\n",
              "    [theme=dark] .colab-df-convert:hover {\n",
              "      background-color: #434B5C;\n",
              "      box-shadow: 0px 1px 3px 1px rgba(0, 0, 0, 0.15);\n",
              "      filter: drop-shadow(0px 1px 2px rgba(0, 0, 0, 0.3));\n",
              "      fill: #FFFFFF;\n",
              "    }\n",
              "  </style>\n",
              "\n",
              "      <script>\n",
              "        const buttonEl =\n",
              "          document.querySelector('#df-1d1a99d8-5625-4c64-9c46-77e5ee9be5e1 button.colab-df-convert');\n",
              "        buttonEl.style.display =\n",
              "          google.colab.kernel.accessAllowed ? 'block' : 'none';\n",
              "\n",
              "        async function convertToInteractive(key) {\n",
              "          const element = document.querySelector('#df-1d1a99d8-5625-4c64-9c46-77e5ee9be5e1');\n",
              "          const dataTable =\n",
              "            await google.colab.kernel.invokeFunction('convertToInteractive',\n",
              "                                                     [key], {});\n",
              "          if (!dataTable) return;\n",
              "\n",
              "          const docLinkHtml = 'Like what you see? Visit the ' +\n",
              "            '<a target=\"_blank\" href=https://colab.research.google.com/notebooks/data_table.ipynb>data table notebook</a>'\n",
              "            + ' to learn more about interactive tables.';\n",
              "          element.innerHTML = '';\n",
              "          dataTable['output_type'] = 'display_data';\n",
              "          await google.colab.output.renderOutput(dataTable, element);\n",
              "          const docLink = document.createElement('div');\n",
              "          docLink.innerHTML = docLinkHtml;\n",
              "          element.appendChild(docLink);\n",
              "        }\n",
              "      </script>\n",
              "    </div>\n",
              "  </div>\n",
              "  "
            ],
            "text/plain": [
              "               Name  Age   M/F           City State Country Official Time  \\\n",
              "0   Kirui, Geoffrey   24  Male       Keringet   NaN     KEN       2:09:37   \n",
              "1       Rupp, Galen   30  Male       Portland    OR     USA       2:09:58   \n",
              "2     Osako, Suguru   25  Male   Machida-City   NaN     JPN       2:10:28   \n",
              "3  Biwott, Shadrack   32  Male  Mammoth Lakes    CA     USA       2:12:08   \n",
              "4    Chebet, Wilson   31  Male       Marakwet   NaN     KEN       2:12:35   \n",
              "\n",
              "   Overall  Gender  Ran 2015  Ran 2016 Years Ran First Name Last Name  \n",
              "0        1       1         0         0       NaN      Kirui  Geoffrey  \n",
              "1        2       2         0         0       NaN       Rupp     Galen  \n",
              "2        3       3         0         0       NaN      Osako    Suguru  \n",
              "3        4       4         0         0       NaN     Biwott  Shadrack  \n",
              "4        5       5         1         0      2015     Chebet    Wilson  "
            ]
          },
          "metadata": {},
          "execution_count": 212
        }
      ]
    },
    {
      "cell_type": "code",
      "metadata": {
        "id": "Hf0JDfFt7n-W"
      },
      "source": [
        "# inserting into boston"
      ],
      "execution_count": 213,
      "outputs": []
    },
    {
      "cell_type": "code",
      "metadata": {
        "id": "NnejHcm_7sXh"
      },
      "source": [
        "boston.insert(boston.columns.get_loc('Official Time')+1, 'Total Time', final_times.total)"
      ],
      "execution_count": 214,
      "outputs": []
    },
    {
      "cell_type": "code",
      "metadata": {
        "id": "QJPxK0dE76NG"
      },
      "source": [
        "# 3"
      ],
      "execution_count": 215,
      "outputs": []
    },
    {
      "cell_type": "code",
      "metadata": {
        "id": "07I6EPub79KA"
      },
      "source": [
        "# hypothesis: if you run many marathons, you're probably good at this (faster)"
      ],
      "execution_count": 216,
      "outputs": []
    },
    {
      "cell_type": "code",
      "metadata": {
        "id": "mn1ujokH8LQT"
      },
      "source": [
        "ran_2016 = boston['Ran 2016'] == 1"
      ],
      "execution_count": 217,
      "outputs": []
    },
    {
      "cell_type": "code",
      "metadata": {
        "id": "VkTMoRxH8Zkb",
        "colab": {
          "base_uri": "https://localhost:8080/"
        },
        "outputId": "5072ed50-46cd-439b-b151-84ba817024d7"
      },
      "source": [
        "ran_2016"
      ],
      "execution_count": 218,
      "outputs": [
        {
          "output_type": "execute_result",
          "data": {
            "text/plain": [
              "0      False\n",
              "1      False\n",
              "2      False\n",
              "3      False\n",
              "4      False\n",
              "       ...  \n",
              "995     True\n",
              "996    False\n",
              "997    False\n",
              "998    False\n",
              "999    False\n",
              "Name: Ran 2016, Length: 1000, dtype: bool"
            ]
          },
          "metadata": {},
          "execution_count": 218
        }
      ]
    },
    {
      "cell_type": "code",
      "metadata": {
        "id": "-TvD_IDn8bv3",
        "colab": {
          "base_uri": "https://localhost:8080/"
        },
        "outputId": "b920d7d7-a8ba-435e-fc4e-3664980eeefe"
      },
      "source": [
        "# average 2017 boston marathon time for those who ran in 2016 as well\n",
        "boston.loc[ran_2016, 'Total Time'].mean()"
      ],
      "execution_count": 219,
      "outputs": [
        {
          "output_type": "execute_result",
          "data": {
            "text/plain": [
              "10043.12048192771"
            ]
          },
          "metadata": {},
          "execution_count": 219
        }
      ]
    },
    {
      "cell_type": "code",
      "metadata": {
        "id": "KCDRRu-l8gB7",
        "colab": {
          "base_uri": "https://localhost:8080/"
        },
        "outputId": "1ab75844-6804-46ef-a7fb-6c69df778fee"
      },
      "source": [
        "# everyone else\n",
        "boston.loc[~ran_2016, 'Total Time'].mean()"
      ],
      "execution_count": 220,
      "outputs": [
        {
          "output_type": "execute_result",
          "data": {
            "text/plain": [
              "9966.195739014647"
            ]
          },
          "metadata": {},
          "execution_count": 220
        }
      ]
    },
    {
      "cell_type": "code",
      "metadata": {
        "id": "B-x15Zjq8wul"
      },
      "source": [
        ""
      ],
      "execution_count": 220,
      "outputs": []
    }
  ]
}