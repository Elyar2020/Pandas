{
  "nbformat": 4,
  "nbformat_minor": 0,
  "metadata": {
    "colab": {
      "name": "Section3_Series_Methods_&Handling_Elyar.ipynb",
      "provenance": [],
      "collapsed_sections": []
    },
    "kernelspec": {
      "name": "python3",
      "display_name": "Python 3"
    },
    "language_info": {
      "name": "python"
    }
  },
  "cells": [
    {
      "cell_type": "code",
      "source": [
        "import pandas as pd\n",
        "#list(range(100))"
      ],
      "metadata": {
        "id": "vJejEMdh9l6-"
      },
      "execution_count": 351,
      "outputs": []
    },
    {
      "cell_type": "code",
      "source": [
        "squares = pd.Series([i**2 for i in range(100)]) # Creating square pandas Series in range of 100 "
      ],
      "metadata": {
        "id": "1C2gFn2f92Sg"
      },
      "execution_count": 352,
      "outputs": []
    },
    {
      "cell_type": "code",
      "source": [
        "squares.head(7)"
      ],
      "metadata": {
        "colab": {
          "base_uri": "https://localhost:8080/"
        },
        "id": "KcRbOGRG-ILQ",
        "outputId": "912e4817-628b-44d6-89f3-bedf6db2a30a"
      },
      "execution_count": 353,
      "outputs": [
        {
          "output_type": "execute_result",
          "data": {
            "text/plain": [
              "0     0\n",
              "1     1\n",
              "2     4\n",
              "3     9\n",
              "4    16\n",
              "5    25\n",
              "6    36\n",
              "dtype: int64"
            ]
          },
          "metadata": {},
          "execution_count": 353
        }
      ]
    },
    {
      "cell_type": "code",
      "source": [
        "squares.sample(3)"
      ],
      "metadata": {
        "colab": {
          "base_uri": "https://localhost:8080/"
        },
        "id": "uvt3kq5dHJIV",
        "outputId": "b3040945-2924-4430-b2e7-ff9d5b481eaf"
      },
      "execution_count": 354,
      "outputs": [
        {
          "output_type": "execute_result",
          "data": {
            "text/plain": [
              "61    3721\n",
              "17     289\n",
              "81    6561\n",
              "dtype: int64"
            ]
          },
          "metadata": {},
          "execution_count": 354
        }
      ]
    },
    {
      "cell_type": "code",
      "source": [
        "squares.size"
      ],
      "metadata": {
        "colab": {
          "base_uri": "https://localhost:8080/"
        },
        "id": "tMFh06MYHMJs",
        "outputId": "cf1e6aaf-7ca0-4efd-e5c9-ded03281f2d2"
      },
      "execution_count": 355,
      "outputs": [
        {
          "output_type": "execute_result",
          "data": {
            "text/plain": [
              "100"
            ]
          },
          "metadata": {},
          "execution_count": 355
        }
      ]
    },
    {
      "cell_type": "code",
      "source": [
        "len(squares)"
      ],
      "metadata": {
        "colab": {
          "base_uri": "https://localhost:8080/"
        },
        "id": "Si_G6qDmHPA5",
        "outputId": "f1ecf811-8f8f-4c35-c356-677a4c4a073e"
      },
      "execution_count": 356,
      "outputs": [
        {
          "output_type": "execute_result",
          "data": {
            "text/plain": [
              "100"
            ]
          },
          "metadata": {},
          "execution_count": 356
        }
      ]
    },
    {
      "cell_type": "code",
      "source": [
        "squares.tail(3)"
      ],
      "metadata": {
        "colab": {
          "base_uri": "https://localhost:8080/"
        },
        "id": "ssQ8nGE7-MXd",
        "outputId": "8df63049-d3b9-4b9b-ce5b-f6715dff3e40"
      },
      "execution_count": 357,
      "outputs": [
        {
          "output_type": "execute_result",
          "data": {
            "text/plain": [
              "97    9409\n",
              "98    9604\n",
              "99    9801\n",
              "dtype: int64"
            ]
          },
          "metadata": {},
          "execution_count": 357
        }
      ]
    },
    {
      "cell_type": "code",
      "source": [
        "squares[-3:]"
      ],
      "metadata": {
        "colab": {
          "base_uri": "https://localhost:8080/"
        },
        "id": "slFpVMhI-njQ",
        "outputId": "d706f029-5488-44e3-ee19-b859244dcc69"
      },
      "execution_count": 358,
      "outputs": [
        {
          "output_type": "execute_result",
          "data": {
            "text/plain": [
              "97    9409\n",
              "98    9604\n",
              "99    9801\n",
              "dtype: int64"
            ]
          },
          "metadata": {},
          "execution_count": 358
        }
      ]
    },
    {
      "cell_type": "code",
      "source": [
        "squares.iloc[-3:]"
      ],
      "metadata": {
        "colab": {
          "base_uri": "https://localhost:8080/"
        },
        "id": "OlDqdUkO-uih",
        "outputId": "b5254b97-1709-40c5-d5f3-335799a5a87f"
      },
      "execution_count": 359,
      "outputs": [
        {
          "output_type": "execute_result",
          "data": {
            "text/plain": [
              "97    9409\n",
              "98    9604\n",
              "99    9801\n",
              "dtype: int64"
            ]
          },
          "metadata": {},
          "execution_count": 359
        }
      ]
    },
    {
      "cell_type": "code",
      "source": [
        "squares[-3:].equals(squares.tail(3))"
      ],
      "metadata": {
        "colab": {
          "base_uri": "https://localhost:8080/"
        },
        "id": "HUZ04aIG-u4W",
        "outputId": "9f72b0b8-458c-4339-cab7-bb3cab39f5fa"
      },
      "execution_count": 360,
      "outputs": [
        {
          "output_type": "execute_result",
          "data": {
            "text/plain": [
              "True"
            ]
          },
          "metadata": {},
          "execution_count": 360
        }
      ]
    },
    {
      "cell_type": "code",
      "source": [
        "squares[-10:].equals(squares.tail(8)) # "
      ],
      "metadata": {
        "colab": {
          "base_uri": "https://localhost:8080/"
        },
        "id": "GiYICv5WHm_8",
        "outputId": "fbf45efc-b21a-4961-fcac-af85597c944a"
      },
      "execution_count": 361,
      "outputs": [
        {
          "output_type": "execute_result",
          "data": {
            "text/plain": [
              "False"
            ]
          },
          "metadata": {},
          "execution_count": 361
        }
      ]
    },
    {
      "cell_type": "code",
      "source": [
        "my_s = [i**2 for i in range(30)] # list comprehencive of numbers in range 30 "
      ],
      "metadata": {
        "id": "VAkSOQlI-u9q"
      },
      "execution_count": 362,
      "outputs": []
    },
    {
      "cell_type": "code",
      "source": [
        "new_list = [i**3 for i in range(20)]"
      ],
      "metadata": {
        "id": "lDt1clbPIRct"
      },
      "execution_count": 363,
      "outputs": []
    },
    {
      "cell_type": "code",
      "source": [
        "print(new_list)"
      ],
      "metadata": {
        "colab": {
          "base_uri": "https://localhost:8080/"
        },
        "id": "FR3sGVKyI_mw",
        "outputId": "9206645b-1a32-4866-f6f6-8971a44ac258"
      },
      "execution_count": 364,
      "outputs": [
        {
          "output_type": "stream",
          "name": "stdout",
          "text": [
            "[0, 1, 8, 27, 64, 125, 216, 343, 512, 729, 1000, 1331, 1728, 2197, 2744, 3375, 4096, 4913, 5832, 6859]\n"
          ]
        }
      ]
    },
    {
      "cell_type": "code",
      "source": [
        "cube = pd.Series(new_list)"
      ],
      "metadata": {
        "id": "wrAMBB0WJB3U"
      },
      "execution_count": 365,
      "outputs": []
    },
    {
      "cell_type": "code",
      "source": [
        "cube.size"
      ],
      "metadata": {
        "colab": {
          "base_uri": "https://localhost:8080/"
        },
        "id": "LPEkaii4JRov",
        "outputId": "dd263795-1962-45c7-eac6-4d0b6168b0c3"
      },
      "execution_count": 366,
      "outputs": [
        {
          "output_type": "execute_result",
          "data": {
            "text/plain": [
              "20"
            ]
          },
          "metadata": {},
          "execution_count": 366
        }
      ]
    },
    {
      "cell_type": "code",
      "source": [
        "cube.head()"
      ],
      "metadata": {
        "colab": {
          "base_uri": "https://localhost:8080/"
        },
        "id": "SVCtWdKDJTCR",
        "outputId": "bc3e4781-bd56-464c-ebc7-51cbf6b04053"
      },
      "execution_count": 367,
      "outputs": [
        {
          "output_type": "execute_result",
          "data": {
            "text/plain": [
              "0     0\n",
              "1     1\n",
              "2     8\n",
              "3    27\n",
              "4    64\n",
              "dtype: int64"
            ]
          },
          "metadata": {},
          "execution_count": 367
        }
      ]
    },
    {
      "cell_type": "code",
      "source": [
        "cube.sample(3)"
      ],
      "metadata": {
        "colab": {
          "base_uri": "https://localhost:8080/"
        },
        "id": "uXq47ZcYJZKS",
        "outputId": "24fd3606-30a1-40c8-f393-357dac1471dd"
      },
      "execution_count": 368,
      "outputs": [
        {
          "output_type": "execute_result",
          "data": {
            "text/plain": [
              "17    4913\n",
              "0        0\n",
              "14    2744\n",
              "dtype: int64"
            ]
          },
          "metadata": {},
          "execution_count": 368
        }
      ]
    },
    {
      "cell_type": "code",
      "source": [
        "my_list = [i*10 for i in range(3,20,1)] # Create new list."
      ],
      "metadata": {
        "id": "_5K2DZlhJdng"
      },
      "execution_count": 369,
      "outputs": []
    },
    {
      "cell_type": "code",
      "source": [
        "print(my_list)"
      ],
      "metadata": {
        "colab": {
          "base_uri": "https://localhost:8080/"
        },
        "id": "SI3hFN5FJcB-",
        "outputId": "0d73af67-bd06-4794-b158-466f3d5648c3"
      },
      "execution_count": 370,
      "outputs": [
        {
          "output_type": "stream",
          "name": "stdout",
          "text": [
            "[30, 40, 50, 60, 70, 80, 90, 100, 110, 120, 130, 140, 150, 160, 170, 180, 190]\n"
          ]
        }
      ]
    },
    {
      "cell_type": "code",
      "source": [
        "new_nums = pd.Series(my_list) # Create pandas series from my_list"
      ],
      "metadata": {
        "id": "vJqEcW4JKT0c"
      },
      "execution_count": 371,
      "outputs": []
    },
    {
      "cell_type": "code",
      "source": [
        "new_nums.abs"
      ],
      "metadata": {
        "colab": {
          "base_uri": "https://localhost:8080/"
        },
        "id": "JBFnG7HhK4FV",
        "outputId": "2ba53889-91f0-45f0-8252-0b6ffa3276b1"
      },
      "execution_count": 372,
      "outputs": [
        {
          "output_type": "execute_result",
          "data": {
            "text/plain": [
              "<bound method NDFrame.abs of 0      30\n",
              "1      40\n",
              "2      50\n",
              "3      60\n",
              "4      70\n",
              "5      80\n",
              "6      90\n",
              "7     100\n",
              "8     110\n",
              "9     120\n",
              "10    130\n",
              "11    140\n",
              "12    150\n",
              "13    160\n",
              "14    170\n",
              "15    180\n",
              "16    190\n",
              "dtype: int64>"
            ]
          },
          "metadata": {},
          "execution_count": 372
        }
      ]
    },
    {
      "cell_type": "code",
      "source": [
        "new_nums.head()"
      ],
      "metadata": {
        "colab": {
          "base_uri": "https://localhost:8080/"
        },
        "id": "-4sQZX7zJWO8",
        "outputId": "d408969a-c5b5-4e70-93f9-e31bdb1a5219"
      },
      "execution_count": 373,
      "outputs": [
        {
          "output_type": "execute_result",
          "data": {
            "text/plain": [
              "0    30\n",
              "1    40\n",
              "2    50\n",
              "3    60\n",
              "4    70\n",
              "dtype: int64"
            ]
          },
          "metadata": {},
          "execution_count": 373
        }
      ]
    },
    {
      "cell_type": "code",
      "source": [
        "new_nums.sample(3)"
      ],
      "metadata": {
        "colab": {
          "base_uri": "https://localhost:8080/"
        },
        "id": "OosYvvvPLAYg",
        "outputId": "ea4d9eb1-5da0-4dea-9a5e-8e54f270ab73"
      },
      "execution_count": 374,
      "outputs": [
        {
          "output_type": "execute_result",
          "data": {
            "text/plain": [
              "8     110\n",
              "4      70\n",
              "12    150\n",
              "dtype: int64"
            ]
          },
          "metadata": {},
          "execution_count": 374
        }
      ]
    },
    {
      "cell_type": "code",
      "source": [
        "squares = pd.Series(my_s)"
      ],
      "metadata": {
        "id": "L3S_ej64AL-7"
      },
      "execution_count": 375,
      "outputs": []
    },
    {
      "cell_type": "code",
      "source": [
        "squares.size"
      ],
      "metadata": {
        "colab": {
          "base_uri": "https://localhost:8080/"
        },
        "id": "uMrSmCjqAqpc",
        "outputId": "0b0c6ea2-c46a-4dfc-9cdb-db5738581e49"
      },
      "execution_count": 376,
      "outputs": [
        {
          "output_type": "execute_result",
          "data": {
            "text/plain": [
              "30"
            ]
          },
          "metadata": {},
          "execution_count": 376
        }
      ]
    },
    {
      "cell_type": "code",
      "source": [
        "squares.head(7)"
      ],
      "metadata": {
        "colab": {
          "base_uri": "https://localhost:8080/"
        },
        "id": "miUuy9lFAv4a",
        "outputId": "9d7c2200-d3e1-4856-84b4-5f6a4f147bfa"
      },
      "execution_count": 377,
      "outputs": [
        {
          "output_type": "execute_result",
          "data": {
            "text/plain": [
              "0     0\n",
              "1     1\n",
              "2     4\n",
              "3     9\n",
              "4    16\n",
              "5    25\n",
              "6    36\n",
              "dtype: int64"
            ]
          },
          "metadata": {},
          "execution_count": 377
        }
      ]
    },
    {
      "cell_type": "code",
      "source": [
        "squares.tail(3)"
      ],
      "metadata": {
        "colab": {
          "base_uri": "https://localhost:8080/"
        },
        "id": "qCYAMW_CA0CO",
        "outputId": "9093ef4f-e593-46a0-d2a4-1f430d1ba198"
      },
      "execution_count": 378,
      "outputs": [
        {
          "output_type": "execute_result",
          "data": {
            "text/plain": [
              "27    729\n",
              "28    784\n",
              "29    841\n",
              "dtype: int64"
            ]
          },
          "metadata": {},
          "execution_count": 378
        }
      ]
    },
    {
      "cell_type": "code",
      "source": [
        "squares.iloc[-5:]"
      ],
      "metadata": {
        "colab": {
          "base_uri": "https://localhost:8080/"
        },
        "id": "NaexAgsnA4z9",
        "outputId": "eb5495ad-a46d-4be3-b7ff-56afea932e39"
      },
      "execution_count": 379,
      "outputs": [
        {
          "output_type": "execute_result",
          "data": {
            "text/plain": [
              "25    625\n",
              "26    676\n",
              "27    729\n",
              "28    784\n",
              "29    841\n",
              "dtype: int64"
            ]
          },
          "metadata": {},
          "execution_count": 379
        }
      ]
    },
    {
      "cell_type": "code",
      "source": [
        "squares.loc[7]"
      ],
      "metadata": {
        "colab": {
          "base_uri": "https://localhost:8080/"
        },
        "id": "GMn4fhBvA99Y",
        "outputId": "98426289-8e1c-49a6-848e-46e8f17fb062"
      },
      "execution_count": 380,
      "outputs": [
        {
          "output_type": "execute_result",
          "data": {
            "text/plain": [
              "49"
            ]
          },
          "metadata": {},
          "execution_count": 380
        }
      ]
    },
    {
      "cell_type": "code",
      "source": [
        "squares[-5:]"
      ],
      "metadata": {
        "colab": {
          "base_uri": "https://localhost:8080/"
        },
        "id": "c1RbK0knBEMZ",
        "outputId": "b717b936-37d1-40f1-f9d2-f7469dca6065"
      },
      "execution_count": 381,
      "outputs": [
        {
          "output_type": "execute_result",
          "data": {
            "text/plain": [
              "25    625\n",
              "26    676\n",
              "27    729\n",
              "28    784\n",
              "29    841\n",
              "dtype: int64"
            ]
          },
          "metadata": {},
          "execution_count": 381
        }
      ]
    },
    {
      "cell_type": "code",
      "source": [
        "squares.tail(5)"
      ],
      "metadata": {
        "colab": {
          "base_uri": "https://localhost:8080/"
        },
        "id": "0M8dkJe6BKkm",
        "outputId": "f4ed9ed7-ec77-49a6-f14a-839eb9e22122"
      },
      "execution_count": 382,
      "outputs": [
        {
          "output_type": "execute_result",
          "data": {
            "text/plain": [
              "25    625\n",
              "26    676\n",
              "27    729\n",
              "28    784\n",
              "29    841\n",
              "dtype: int64"
            ]
          },
          "metadata": {},
          "execution_count": 382
        }
      ]
    },
    {
      "cell_type": "code",
      "source": [
        "squares.tail(5).equals(squares[-5:]) # Comparing out put of the 2 diffrent methods .. tail() and negative indexing"
      ],
      "metadata": {
        "colab": {
          "base_uri": "https://localhost:8080/"
        },
        "id": "wKocWJryBaDL",
        "outputId": "3fd91035-a5b2-4204-b899-e69bb0661422"
      },
      "execution_count": 383,
      "outputs": [
        {
          "output_type": "execute_result",
          "data": {
            "text/plain": [
              "True"
            ]
          },
          "metadata": {},
          "execution_count": 383
        }
      ]
    },
    {
      "cell_type": "markdown",
      "source": [
        "# Reading In Data With read_csv().  OR Reading CSV Files"
      ],
      "metadata": {
        "id": "hMMMILqkE0BE"
      }
    },
    {
      "cell_type": "code",
      "source": [
        "import pandas as pd "
      ],
      "metadata": {
        "id": "NL73XMdgFBgF"
      },
      "execution_count": 384,
      "outputs": []
    },
    {
      "cell_type": "code",
      "source": [
        "#http://andybek.com/pandas-drinks. # This is the link to data set "
      ],
      "metadata": {
        "id": "J8LwvwqDFEYF"
      },
      "execution_count": 385,
      "outputs": []
    },
    {
      "cell_type": "code",
      "source": [
        "alcohol=pd.read_csv('http://andybek.com/pandas-drinks')\n",
        "alcohol.head(2)"
      ],
      "metadata": {
        "colab": {
          "base_uri": "https://localhost:8080/",
          "height": 112
        },
        "id": "lkwqNIZRFVzP",
        "outputId": "af4faf6a-03e5-4729-bac8-ca7071c032a9"
      },
      "execution_count": 386,
      "outputs": [
        {
          "output_type": "execute_result",
          "data": {
            "text/plain": [
              "       country  beer_servings  spirit_servings  wine_servings  \\\n",
              "0  Afghanistan            NaN              NaN            NaN   \n",
              "1      Albania           89.0            132.0           54.0   \n",
              "\n",
              "   total_litres_of_pure_alcohol  \n",
              "0                           NaN  \n",
              "1                           4.9  "
            ],
            "text/html": [
              "\n",
              "  <div id=\"df-aa8f3a8f-cff6-462c-828e-177afdb2ff22\">\n",
              "    <div class=\"colab-df-container\">\n",
              "      <div>\n",
              "<style scoped>\n",
              "    .dataframe tbody tr th:only-of-type {\n",
              "        vertical-align: middle;\n",
              "    }\n",
              "\n",
              "    .dataframe tbody tr th {\n",
              "        vertical-align: top;\n",
              "    }\n",
              "\n",
              "    .dataframe thead th {\n",
              "        text-align: right;\n",
              "    }\n",
              "</style>\n",
              "<table border=\"1\" class=\"dataframe\">\n",
              "  <thead>\n",
              "    <tr style=\"text-align: right;\">\n",
              "      <th></th>\n",
              "      <th>country</th>\n",
              "      <th>beer_servings</th>\n",
              "      <th>spirit_servings</th>\n",
              "      <th>wine_servings</th>\n",
              "      <th>total_litres_of_pure_alcohol</th>\n",
              "    </tr>\n",
              "  </thead>\n",
              "  <tbody>\n",
              "    <tr>\n",
              "      <th>0</th>\n",
              "      <td>Afghanistan</td>\n",
              "      <td>NaN</td>\n",
              "      <td>NaN</td>\n",
              "      <td>NaN</td>\n",
              "      <td>NaN</td>\n",
              "    </tr>\n",
              "    <tr>\n",
              "      <th>1</th>\n",
              "      <td>Albania</td>\n",
              "      <td>89.0</td>\n",
              "      <td>132.0</td>\n",
              "      <td>54.0</td>\n",
              "      <td>4.9</td>\n",
              "    </tr>\n",
              "  </tbody>\n",
              "</table>\n",
              "</div>\n",
              "      <button class=\"colab-df-convert\" onclick=\"convertToInteractive('df-aa8f3a8f-cff6-462c-828e-177afdb2ff22')\"\n",
              "              title=\"Convert this dataframe to an interactive table.\"\n",
              "              style=\"display:none;\">\n",
              "        \n",
              "  <svg xmlns=\"http://www.w3.org/2000/svg\" height=\"24px\"viewBox=\"0 0 24 24\"\n",
              "       width=\"24px\">\n",
              "    <path d=\"M0 0h24v24H0V0z\" fill=\"none\"/>\n",
              "    <path d=\"M18.56 5.44l.94 2.06.94-2.06 2.06-.94-2.06-.94-.94-2.06-.94 2.06-2.06.94zm-11 1L8.5 8.5l.94-2.06 2.06-.94-2.06-.94L8.5 2.5l-.94 2.06-2.06.94zm10 10l.94 2.06.94-2.06 2.06-.94-2.06-.94-.94-2.06-.94 2.06-2.06.94z\"/><path d=\"M17.41 7.96l-1.37-1.37c-.4-.4-.92-.59-1.43-.59-.52 0-1.04.2-1.43.59L10.3 9.45l-7.72 7.72c-.78.78-.78 2.05 0 2.83L4 21.41c.39.39.9.59 1.41.59.51 0 1.02-.2 1.41-.59l7.78-7.78 2.81-2.81c.8-.78.8-2.07 0-2.86zM5.41 20L4 18.59l7.72-7.72 1.47 1.35L5.41 20z\"/>\n",
              "  </svg>\n",
              "      </button>\n",
              "      \n",
              "  <style>\n",
              "    .colab-df-container {\n",
              "      display:flex;\n",
              "      flex-wrap:wrap;\n",
              "      gap: 12px;\n",
              "    }\n",
              "\n",
              "    .colab-df-convert {\n",
              "      background-color: #E8F0FE;\n",
              "      border: none;\n",
              "      border-radius: 50%;\n",
              "      cursor: pointer;\n",
              "      display: none;\n",
              "      fill: #1967D2;\n",
              "      height: 32px;\n",
              "      padding: 0 0 0 0;\n",
              "      width: 32px;\n",
              "    }\n",
              "\n",
              "    .colab-df-convert:hover {\n",
              "      background-color: #E2EBFA;\n",
              "      box-shadow: 0px 1px 2px rgba(60, 64, 67, 0.3), 0px 1px 3px 1px rgba(60, 64, 67, 0.15);\n",
              "      fill: #174EA6;\n",
              "    }\n",
              "\n",
              "    [theme=dark] .colab-df-convert {\n",
              "      background-color: #3B4455;\n",
              "      fill: #D2E3FC;\n",
              "    }\n",
              "\n",
              "    [theme=dark] .colab-df-convert:hover {\n",
              "      background-color: #434B5C;\n",
              "      box-shadow: 0px 1px 3px 1px rgba(0, 0, 0, 0.15);\n",
              "      filter: drop-shadow(0px 1px 2px rgba(0, 0, 0, 0.3));\n",
              "      fill: #FFFFFF;\n",
              "    }\n",
              "  </style>\n",
              "\n",
              "      <script>\n",
              "        const buttonEl =\n",
              "          document.querySelector('#df-aa8f3a8f-cff6-462c-828e-177afdb2ff22 button.colab-df-convert');\n",
              "        buttonEl.style.display =\n",
              "          google.colab.kernel.accessAllowed ? 'block' : 'none';\n",
              "\n",
              "        async function convertToInteractive(key) {\n",
              "          const element = document.querySelector('#df-aa8f3a8f-cff6-462c-828e-177afdb2ff22');\n",
              "          const dataTable =\n",
              "            await google.colab.kernel.invokeFunction('convertToInteractive',\n",
              "                                                     [key], {});\n",
              "          if (!dataTable) return;\n",
              "\n",
              "          const docLinkHtml = 'Like what you see? Visit the ' +\n",
              "            '<a target=\"_blank\" href=https://colab.research.google.com/notebooks/data_table.ipynb>data table notebook</a>'\n",
              "            + ' to learn more about interactive tables.';\n",
              "          element.innerHTML = '';\n",
              "          dataTable['output_type'] = 'display_data';\n",
              "          await google.colab.output.renderOutput(dataTable, element);\n",
              "          const docLink = document.createElement('div');\n",
              "          docLink.innerHTML = docLinkHtml;\n",
              "          element.appendChild(docLink);\n",
              "        }\n",
              "      </script>\n",
              "    </div>\n",
              "  </div>\n",
              "  "
            ]
          },
          "metadata": {},
          "execution_count": 386
        }
      ]
    },
    {
      "cell_type": "code",
      "source": [
        "# Here we just chose 2 columns form dataframe and use country as index \n",
        "alcohol=pd.read_csv('http://andybek.com/pandas-drinks',usecols=[\"country\",\"wine_servings\"],index_col=\"country\")"
      ],
      "metadata": {
        "id": "hhdQ583lQLkJ"
      },
      "execution_count": 387,
      "outputs": []
    },
    {
      "cell_type": "code",
      "source": [
        "alcohol.head(7)"
      ],
      "metadata": {
        "colab": {
          "base_uri": "https://localhost:8080/",
          "height": 300
        },
        "id": "cMuMAdo_E7XS",
        "outputId": "acd189fc-7258-4c37-e148-db91b955ca11"
      },
      "execution_count": 388,
      "outputs": [
        {
          "output_type": "execute_result",
          "data": {
            "text/plain": [
              "                   wine_servings\n",
              "country                         \n",
              "Afghanistan                  NaN\n",
              "Albania                     54.0\n",
              "Algeria                     14.0\n",
              "Andorra                    312.0\n",
              "Angola                      45.0\n",
              "Antigua & Barbuda           45.0\n",
              "Argentina                  221.0"
            ],
            "text/html": [
              "\n",
              "  <div id=\"df-ff0386f5-eb5e-42eb-9c98-11d5865fb300\">\n",
              "    <div class=\"colab-df-container\">\n",
              "      <div>\n",
              "<style scoped>\n",
              "    .dataframe tbody tr th:only-of-type {\n",
              "        vertical-align: middle;\n",
              "    }\n",
              "\n",
              "    .dataframe tbody tr th {\n",
              "        vertical-align: top;\n",
              "    }\n",
              "\n",
              "    .dataframe thead th {\n",
              "        text-align: right;\n",
              "    }\n",
              "</style>\n",
              "<table border=\"1\" class=\"dataframe\">\n",
              "  <thead>\n",
              "    <tr style=\"text-align: right;\">\n",
              "      <th></th>\n",
              "      <th>wine_servings</th>\n",
              "    </tr>\n",
              "    <tr>\n",
              "      <th>country</th>\n",
              "      <th></th>\n",
              "    </tr>\n",
              "  </thead>\n",
              "  <tbody>\n",
              "    <tr>\n",
              "      <th>Afghanistan</th>\n",
              "      <td>NaN</td>\n",
              "    </tr>\n",
              "    <tr>\n",
              "      <th>Albania</th>\n",
              "      <td>54.0</td>\n",
              "    </tr>\n",
              "    <tr>\n",
              "      <th>Algeria</th>\n",
              "      <td>14.0</td>\n",
              "    </tr>\n",
              "    <tr>\n",
              "      <th>Andorra</th>\n",
              "      <td>312.0</td>\n",
              "    </tr>\n",
              "    <tr>\n",
              "      <th>Angola</th>\n",
              "      <td>45.0</td>\n",
              "    </tr>\n",
              "    <tr>\n",
              "      <th>Antigua &amp; Barbuda</th>\n",
              "      <td>45.0</td>\n",
              "    </tr>\n",
              "    <tr>\n",
              "      <th>Argentina</th>\n",
              "      <td>221.0</td>\n",
              "    </tr>\n",
              "  </tbody>\n",
              "</table>\n",
              "</div>\n",
              "      <button class=\"colab-df-convert\" onclick=\"convertToInteractive('df-ff0386f5-eb5e-42eb-9c98-11d5865fb300')\"\n",
              "              title=\"Convert this dataframe to an interactive table.\"\n",
              "              style=\"display:none;\">\n",
              "        \n",
              "  <svg xmlns=\"http://www.w3.org/2000/svg\" height=\"24px\"viewBox=\"0 0 24 24\"\n",
              "       width=\"24px\">\n",
              "    <path d=\"M0 0h24v24H0V0z\" fill=\"none\"/>\n",
              "    <path d=\"M18.56 5.44l.94 2.06.94-2.06 2.06-.94-2.06-.94-.94-2.06-.94 2.06-2.06.94zm-11 1L8.5 8.5l.94-2.06 2.06-.94-2.06-.94L8.5 2.5l-.94 2.06-2.06.94zm10 10l.94 2.06.94-2.06 2.06-.94-2.06-.94-.94-2.06-.94 2.06-2.06.94z\"/><path d=\"M17.41 7.96l-1.37-1.37c-.4-.4-.92-.59-1.43-.59-.52 0-1.04.2-1.43.59L10.3 9.45l-7.72 7.72c-.78.78-.78 2.05 0 2.83L4 21.41c.39.39.9.59 1.41.59.51 0 1.02-.2 1.41-.59l7.78-7.78 2.81-2.81c.8-.78.8-2.07 0-2.86zM5.41 20L4 18.59l7.72-7.72 1.47 1.35L5.41 20z\"/>\n",
              "  </svg>\n",
              "      </button>\n",
              "      \n",
              "  <style>\n",
              "    .colab-df-container {\n",
              "      display:flex;\n",
              "      flex-wrap:wrap;\n",
              "      gap: 12px;\n",
              "    }\n",
              "\n",
              "    .colab-df-convert {\n",
              "      background-color: #E8F0FE;\n",
              "      border: none;\n",
              "      border-radius: 50%;\n",
              "      cursor: pointer;\n",
              "      display: none;\n",
              "      fill: #1967D2;\n",
              "      height: 32px;\n",
              "      padding: 0 0 0 0;\n",
              "      width: 32px;\n",
              "    }\n",
              "\n",
              "    .colab-df-convert:hover {\n",
              "      background-color: #E2EBFA;\n",
              "      box-shadow: 0px 1px 2px rgba(60, 64, 67, 0.3), 0px 1px 3px 1px rgba(60, 64, 67, 0.15);\n",
              "      fill: #174EA6;\n",
              "    }\n",
              "\n",
              "    [theme=dark] .colab-df-convert {\n",
              "      background-color: #3B4455;\n",
              "      fill: #D2E3FC;\n",
              "    }\n",
              "\n",
              "    [theme=dark] .colab-df-convert:hover {\n",
              "      background-color: #434B5C;\n",
              "      box-shadow: 0px 1px 3px 1px rgba(0, 0, 0, 0.15);\n",
              "      filter: drop-shadow(0px 1px 2px rgba(0, 0, 0, 0.3));\n",
              "      fill: #FFFFFF;\n",
              "    }\n",
              "  </style>\n",
              "\n",
              "      <script>\n",
              "        const buttonEl =\n",
              "          document.querySelector('#df-ff0386f5-eb5e-42eb-9c98-11d5865fb300 button.colab-df-convert');\n",
              "        buttonEl.style.display =\n",
              "          google.colab.kernel.accessAllowed ? 'block' : 'none';\n",
              "\n",
              "        async function convertToInteractive(key) {\n",
              "          const element = document.querySelector('#df-ff0386f5-eb5e-42eb-9c98-11d5865fb300');\n",
              "          const dataTable =\n",
              "            await google.colab.kernel.invokeFunction('convertToInteractive',\n",
              "                                                     [key], {});\n",
              "          if (!dataTable) return;\n",
              "\n",
              "          const docLinkHtml = 'Like what you see? Visit the ' +\n",
              "            '<a target=\"_blank\" href=https://colab.research.google.com/notebooks/data_table.ipynb>data table notebook</a>'\n",
              "            + ' to learn more about interactive tables.';\n",
              "          element.innerHTML = '';\n",
              "          dataTable['output_type'] = 'display_data';\n",
              "          await google.colab.output.renderOutput(dataTable, element);\n",
              "          const docLink = document.createElement('div');\n",
              "          docLink.innerHTML = docLinkHtml;\n",
              "          element.appendChild(docLink);\n",
              "        }\n",
              "      </script>\n",
              "    </div>\n",
              "  </div>\n",
              "  "
            ]
          },
          "metadata": {},
          "execution_count": 388
        }
      ]
    },
    {
      "cell_type": "code",
      "source": [
        "type(alcohol)"
      ],
      "metadata": {
        "colab": {
          "base_uri": "https://localhost:8080/"
        },
        "id": "gIMk62CfRwNm",
        "outputId": "18b9b8d8-e589-4c6d-da99-504f0c23c88f"
      },
      "execution_count": 389,
      "outputs": [
        {
          "output_type": "execute_result",
          "data": {
            "text/plain": [
              "pandas.core.frame.DataFrame"
            ]
          },
          "metadata": {},
          "execution_count": 389
        }
      ]
    },
    {
      "cell_type": "code",
      "source": [
        "# **squeeze parameter: some times you need to work in one colum and becuae that one column is part of datafram when we check \n",
        "# **for type it return dataframe same as code in line above but if we add squees parameter of the dataframe we can \n",
        "# **convert singl column to Series and that is very helpful.**"
      ],
      "metadata": {
        "id": "CLv1zcGXSY9Z"
      },
      "execution_count": 390,
      "outputs": []
    },
    {
      "cell_type": "code",
      "source": [
        "alcohol=pd.read_csv('http://andybek.com/pandas-drinks',usecols=[\"country\",\"wine_servings\"],index_col=\"country\",squeeze= True)"
      ],
      "metadata": {
        "id": "IUta666OTOjO"
      },
      "execution_count": 391,
      "outputs": []
    },
    {
      "cell_type": "code",
      "source": [
        "alcohol.head()"
      ],
      "metadata": {
        "colab": {
          "base_uri": "https://localhost:8080/"
        },
        "id": "s0Q-Wm60UE-L",
        "outputId": "e991fa75-d1d2-4089-a0bd-5bc467fac336"
      },
      "execution_count": 392,
      "outputs": [
        {
          "output_type": "execute_result",
          "data": {
            "text/plain": [
              "country\n",
              "Afghanistan      NaN\n",
              "Albania         54.0\n",
              "Algeria         14.0\n",
              "Andorra        312.0\n",
              "Angola          45.0\n",
              "Name: wine_servings, dtype: float64"
            ]
          },
          "metadata": {},
          "execution_count": 392
        }
      ]
    },
    {
      "cell_type": "code",
      "source": [
        "# let's check type of the alcohol datafram with singl column now  which is series\n",
        "type(alcohol)"
      ],
      "metadata": {
        "colab": {
          "base_uri": "https://localhost:8080/"
        },
        "id": "NSS3eQWDTXqw",
        "outputId": "219dedc0-8a77-4be7-e262-b17e3a084d1a"
      },
      "execution_count": 393,
      "outputs": [
        {
          "output_type": "execute_result",
          "data": {
            "text/plain": [
              "pandas.core.series.Series"
            ]
          },
          "metadata": {},
          "execution_count": 393
        }
      ]
    },
    {
      "cell_type": "markdown",
      "source": [
        "# **34. Series Sizing with .size, .shape, And len(:\\**\n",
        "\n",
        "\n",
        "\n"
      ],
      "metadata": {
        "id": "a7VA8hcyT4SR"
      }
    },
    {
      "cell_type": "code",
      "source": [
        "alcohol.size"
      ],
      "metadata": {
        "colab": {
          "base_uri": "https://localhost:8080/"
        },
        "id": "BqKQkzaBUSc9",
        "outputId": "a806f8ed-c65a-4445-c33e-0fdec952777b"
      },
      "execution_count": 394,
      "outputs": [
        {
          "output_type": "execute_result",
          "data": {
            "text/plain": [
              "193"
            ]
          },
          "metadata": {},
          "execution_count": 394
        }
      ]
    },
    {
      "cell_type": "code",
      "source": [
        "alcohol.values"
      ],
      "metadata": {
        "colab": {
          "base_uri": "https://localhost:8080/"
        },
        "id": "EETdQDMVUuzd",
        "outputId": "0659dbdf-a1c2-4cff-a531-4b07035adb50"
      },
      "execution_count": 395,
      "outputs": [
        {
          "output_type": "execute_result",
          "data": {
            "text/plain": [
              "array([ nan,  54.,  14., 312.,  45.,  45., 221.,  11., 212., 191.,   5.,\n",
              "        51.,   7.,  nan,  36.,  42., 212.,   8.,  13.,  nan,   8.,   8.,\n",
              "        35.,  16.,   1.,  94.,   7.,  nan,   7.,  16.,   1.,   4.,   1.,\n",
              "         1.,   1., 172.,   8.,   3.,   1.,   9.,  74.,  11., 254.,   5.,\n",
              "       113., 134.,  nan,   1., 278.,   3.,  26.,   9.,   3.,   1.,   2.,\n",
              "       233.,  nan,  59.,  nan,   1.,  97.,  37.,  59.,   1., 149., 175.,\n",
              "         1., 218.,  28.,   2.,   2.,  21.,   1.,   1.,   2., 185.,  78.,\n",
              "        nan,  nan,  nan,  nan, 165.,   9., 237.,   9.,  16.,   1.,  12.,\n",
              "         2.,   1.,  nan,   6., 123.,  62.,  31.,  nan,   2.,  nan,  56.,\n",
              "       271.,   4.,   1.,  nan,  nan,   1.,  12.,  nan,  nan,  18.,   5.,\n",
              "        18.,  nan,   8., 128.,   1.,   5.,  nan,   1.,   8.,  nan,  19.,\n",
              "       175.,   1.,   1.,   2.,   7., 129.,   1.,  nan,  23.,  18.,   1.,\n",
              "        74.,  21.,   1.,  56., 339.,   7.,   9.,  18., 167.,  73.,  nan,\n",
              "        32.,  71.,  11.,  24.,  nan,  14.,  nan,   7., 127.,  51.,   2.,\n",
              "        11., 116., 276.,   1.,  nan,  81., 112.,  nan,  nan,   7.,   2.,\n",
              "       186.,  28.,  16.,  nan,   1.,  86.,   4.,  19.,   5.,   7.,   2.,\n",
              "         7.,  32.,   9.,  nan,  45.,   5., 195.,   1.,  84.,  22.,   8.,\n",
              "        11.,   3.,   1.,  nan,   4.,   4.])"
            ]
          },
          "metadata": {},
          "execution_count": 395
        }
      ]
    },
    {
      "cell_type": "code",
      "source": [
        "alcohol.index"
      ],
      "metadata": {
        "colab": {
          "base_uri": "https://localhost:8080/"
        },
        "id": "mGVRoL4yUzAK",
        "outputId": "ded9e041-6519-4228-90cd-8ee555ff78ef"
      },
      "execution_count": 396,
      "outputs": [
        {
          "output_type": "execute_result",
          "data": {
            "text/plain": [
              "Index(['Afghanistan', 'Albania', 'Algeria', 'Andorra', 'Angola',\n",
              "       'Antigua & Barbuda', 'Argentina', 'Armenia', 'Australia', 'Austria',\n",
              "       ...\n",
              "       'Tanzania', 'USA', 'Uruguay', 'Uzbekistan', 'Vanuatu', 'Venezuela',\n",
              "       'Vietnam', 'Yemen', 'Zambia', 'Zimbabwe'],\n",
              "      dtype='object', name='country', length=193)"
            ]
          },
          "metadata": {},
          "execution_count": 396
        }
      ]
    },
    {
      "cell_type": "code",
      "source": [
        "# ????\n",
        "alcohol.values == alcohol.index"
      ],
      "metadata": {
        "colab": {
          "base_uri": "https://localhost:8080/"
        },
        "id": "F7GUUqq1U3Pc",
        "outputId": "c95b1691-f2bb-4d2b-d987-0686bc4a04c2"
      },
      "execution_count": 397,
      "outputs": [
        {
          "output_type": "execute_result",
          "data": {
            "text/plain": [
              "array([False, False, False, False, False, False, False, False, False,\n",
              "       False, False, False, False, False, False, False, False, False,\n",
              "       False, False, False, False, False, False, False, False, False,\n",
              "       False, False, False, False, False, False, False, False, False,\n",
              "       False, False, False, False, False, False, False, False, False,\n",
              "       False, False, False, False, False, False, False, False, False,\n",
              "       False, False, False, False, False, False, False, False, False,\n",
              "       False, False, False, False, False, False, False, False, False,\n",
              "       False, False, False, False, False, False, False, False, False,\n",
              "       False, False, False, False, False, False, False, False, False,\n",
              "       False, False, False, False, False, False, False, False, False,\n",
              "       False, False, False, False, False, False, False, False, False,\n",
              "       False, False, False, False, False, False, False, False, False,\n",
              "       False, False, False, False, False, False, False, False, False,\n",
              "       False, False, False, False, False, False, False, False, False,\n",
              "       False, False, False, False, False, False, False, False, False,\n",
              "       False, False, False, False, False, False, False, False, False,\n",
              "       False, False, False, False, False, False, False, False, False,\n",
              "       False, False, False, False, False, False, False, False, False,\n",
              "       False, False, False, False, False, False, False, False, False,\n",
              "       False, False, False, False, False, False, False, False, False,\n",
              "       False, False, False, False])"
            ]
          },
          "metadata": {},
          "execution_count": 397
        }
      ]
    },
    {
      "cell_type": "code",
      "source": [
        "# Check to see number of the values and index is equal \n",
        "alcohol.values.size == alcohol.index.size"
      ],
      "metadata": {
        "colab": {
          "base_uri": "https://localhost:8080/"
        },
        "id": "kHvzYC0GVAvk",
        "outputId": "a6b43c56-9b4c-4e4b-a732-00bee8ba281e"
      },
      "execution_count": 398,
      "outputs": [
        {
          "output_type": "execute_result",
          "data": {
            "text/plain": [
              "True"
            ]
          },
          "metadata": {},
          "execution_count": 398
        }
      ]
    },
    {
      "cell_type": "code",
      "source": [
        "alcohol.shape"
      ],
      "metadata": {
        "colab": {
          "base_uri": "https://localhost:8080/"
        },
        "id": "GXYtDt_LVK_z",
        "outputId": "05787497-de11-4891-9cea-6369b29378af"
      },
      "execution_count": 399,
      "outputs": [
        {
          "output_type": "execute_result",
          "data": {
            "text/plain": [
              "(193,)"
            ]
          },
          "metadata": {},
          "execution_count": 399
        }
      ]
    },
    {
      "cell_type": "code",
      "source": [
        "alcohol.shape[0]"
      ],
      "metadata": {
        "colab": {
          "base_uri": "https://localhost:8080/"
        },
        "id": "pq7KySQbVZ3G",
        "outputId": "7799ea91-54ed-486e-b897-7e29720c22d5"
      },
      "execution_count": 400,
      "outputs": [
        {
          "output_type": "execute_result",
          "data": {
            "text/plain": [
              "193"
            ]
          },
          "metadata": {},
          "execution_count": 400
        }
      ]
    },
    {
      "cell_type": "code",
      "source": [
        "alcohol.size == alcohol.shape[0]"
      ],
      "metadata": {
        "colab": {
          "base_uri": "https://localhost:8080/"
        },
        "id": "mTzh1Qq8VgZB",
        "outputId": "c0c5b661-53d8-4f2a-f671-11a930803c54"
      },
      "execution_count": 401,
      "outputs": [
        {
          "output_type": "execute_result",
          "data": {
            "text/plain": [
              "True"
            ]
          },
          "metadata": {},
          "execution_count": 401
        }
      ]
    },
    {
      "cell_type": "code",
      "source": [
        "alcohol.size == alcohol.shape\n",
        "# Big note :"
      ],
      "metadata": {
        "colab": {
          "base_uri": "https://localhost:8080/"
        },
        "id": "Af8Zqg3bUNir",
        "outputId": "6e24c24c-490e-4d03-e88c-a82c884994f0"
      },
      "execution_count": 402,
      "outputs": [
        {
          "output_type": "execute_result",
          "data": {
            "text/plain": [
              "False"
            ]
          },
          "metadata": {},
          "execution_count": 402
        }
      ]
    },
    {
      "cell_type": "code",
      "source": [
        "len(alcohol)"
      ],
      "metadata": {
        "colab": {
          "base_uri": "https://localhost:8080/"
        },
        "id": "INhITnDbTYCe",
        "outputId": "3416cf68-9217-4a1e-ee84-3df93be2a5b7"
      },
      "execution_count": 403,
      "outputs": [
        {
          "output_type": "execute_result",
          "data": {
            "text/plain": [
              "193"
            ]
          },
          "metadata": {},
          "execution_count": 403
        }
      ]
    },
    {
      "cell_type": "code",
      "source": [
        "len(alcohol) == alcohol.shape[0]"
      ],
      "metadata": {
        "colab": {
          "base_uri": "https://localhost:8080/"
        },
        "id": "eUAQ6izpTYE4",
        "outputId": "727b617b-d598-4f63-e7bd-d5f2d44992c7"
      },
      "execution_count": 404,
      "outputs": [
        {
          "output_type": "execute_result",
          "data": {
            "text/plain": [
              "True"
            ]
          },
          "metadata": {},
          "execution_count": 404
        }
      ]
    },
    {
      "cell_type": "markdown",
      "source": [
        "## 35:**Unique Values And  Series MOnotonicity**"
      ],
      "metadata": {
        "id": "-hyRAsdTWJEe"
      }
    },
    {
      "cell_type": "code",
      "source": [
        "alcohol.is_unique"
      ],
      "metadata": {
        "colab": {
          "base_uri": "https://localhost:8080/"
        },
        "id": "oVO8mhVnWZox",
        "outputId": "4c9977ad-06a2-4c8f-dcc7-f49be6dfb010"
      },
      "execution_count": 405,
      "outputs": [
        {
          "output_type": "execute_result",
          "data": {
            "text/plain": [
              "False"
            ]
          },
          "metadata": {},
          "execution_count": 405
        }
      ]
    },
    {
      "cell_type": "code",
      "source": [
        "alcohol.head()"
      ],
      "metadata": {
        "colab": {
          "base_uri": "https://localhost:8080/"
        },
        "id": "0RO7xDLMW3AM",
        "outputId": "f3d018c0-0437-4702-a62c-769978c9774e"
      },
      "execution_count": 406,
      "outputs": [
        {
          "output_type": "execute_result",
          "data": {
            "text/plain": [
              "country\n",
              "Afghanistan      NaN\n",
              "Albania         54.0\n",
              "Algeria         14.0\n",
              "Andorra        312.0\n",
              "Angola          45.0\n",
              "Name: wine_servings, dtype: float64"
            ]
          },
          "metadata": {},
          "execution_count": 406
        }
      ]
    },
    {
      "cell_type": "code",
      "source": [
        "alcohol.head().is_unique"
      ],
      "metadata": {
        "colab": {
          "base_uri": "https://localhost:8080/"
        },
        "id": "SD2bHZOCW5hD",
        "outputId": "b7f7dbce-1b20-443b-c139-f3f0b90f80d6"
      },
      "execution_count": 407,
      "outputs": [
        {
          "output_type": "execute_result",
          "data": {
            "text/plain": [
              "True"
            ]
          },
          "metadata": {},
          "execution_count": 407
        }
      ]
    },
    {
      "cell_type": "code",
      "source": [
        "# it show number of the unique values in Series. which is always 1 less then real number becuae excloudes NaN values. \n",
        "alcohol.nunique()"
      ],
      "metadata": {
        "colab": {
          "base_uri": "https://localhost:8080/"
        },
        "id": "85yte_Y0W_fW",
        "outputId": "73c702ce-1c0a-42b6-ad96-38f71dc2b252"
      },
      "execution_count": 408,
      "outputs": [
        {
          "output_type": "execute_result",
          "data": {
            "text/plain": [
              "71"
            ]
          },
          "metadata": {},
          "execution_count": 408
        }
      ]
    },
    {
      "cell_type": "code",
      "source": [
        "# number of the unique values inclosive of NaN values.\n",
        "alcohol.nunique(dropna = False)"
      ],
      "metadata": {
        "colab": {
          "base_uri": "https://localhost:8080/"
        },
        "id": "_XhpwG1rXFq6",
        "outputId": "77e322b5-61ac-415b-e0a1-cd345ae4e7a4"
      },
      "execution_count": 409,
      "outputs": [
        {
          "output_type": "execute_result",
          "data": {
            "text/plain": [
              "72"
            ]
          },
          "metadata": {},
          "execution_count": 409
        }
      ]
    },
    {
      "cell_type": "markdown",
      "source": [
        "# what is the Concept of Monotonic or Monotonicity in pandas series or dataframe?"
      ],
      "metadata": {
        "id": "3EC3f4i3YPfM"
      }
    },
    {
      "cell_type": "code",
      "source": [
        "pd.Series([1,2,3,4])"
      ],
      "metadata": {
        "colab": {
          "base_uri": "https://localhost:8080/"
        },
        "id": "QjLDHUIVYffH",
        "outputId": "179c8fbe-f8e1-4998-a7fd-277bb01bace6"
      },
      "execution_count": 410,
      "outputs": [
        {
          "output_type": "execute_result",
          "data": {
            "text/plain": [
              "0    1\n",
              "1    2\n",
              "2    3\n",
              "3    4\n",
              "dtype: int64"
            ]
          },
          "metadata": {},
          "execution_count": 410
        }
      ]
    },
    {
      "cell_type": "code",
      "source": [
        "# monotonic means series or list is in order like increasing or decriseing \n",
        "pd.Series([1,2,3,4]).is_monotonic"
      ],
      "metadata": {
        "colab": {
          "base_uri": "https://localhost:8080/"
        },
        "id": "OeVdLOPRWXjY",
        "outputId": "f079ed17-819a-4718-9d14-13c4340c4ef9"
      },
      "execution_count": 411,
      "outputs": [
        {
          "output_type": "execute_result",
          "data": {
            "text/plain": [
              "True"
            ]
          },
          "metadata": {},
          "execution_count": 411
        }
      ]
    },
    {
      "cell_type": "code",
      "source": [
        "pd.Series([1,2,3,4,4,4,4,4]).is_monotonic"
      ],
      "metadata": {
        "colab": {
          "base_uri": "https://localhost:8080/"
        },
        "id": "lDcBD-0yWFOw",
        "outputId": "348e22a4-19c0-49f2-a0d4-d753f64ea23e"
      },
      "execution_count": 412,
      "outputs": [
        {
          "output_type": "execute_result",
          "data": {
            "text/plain": [
              "True"
            ]
          },
          "metadata": {},
          "execution_count": 412
        }
      ]
    },
    {
      "cell_type": "code",
      "source": [
        "pd.Series([1,2,3,4,5,5,5,7,9,3,5]).is_monotonic"
      ],
      "metadata": {
        "colab": {
          "base_uri": "https://localhost:8080/"
        },
        "id": "KexpEUhBnxYQ",
        "outputId": "96c1be38-bfcd-4eb1-c067-f7bf452b9902"
      },
      "execution_count": 413,
      "outputs": [
        {
          "output_type": "execute_result",
          "data": {
            "text/plain": [
              "False"
            ]
          },
          "metadata": {},
          "execution_count": 413
        }
      ]
    },
    {
      "cell_type": "code",
      "source": [
        "pd.Series([1,2,3,4,4,4,5,6,7]).is_monotonic"
      ],
      "metadata": {
        "colab": {
          "base_uri": "https://localhost:8080/"
        },
        "id": "0BiO_ZEfZAJ6",
        "outputId": "6bb3f036-237f-4595-b810-3434dfc35a17"
      },
      "execution_count": 414,
      "outputs": [
        {
          "output_type": "execute_result",
          "data": {
            "text/plain": [
              "True"
            ]
          },
          "metadata": {},
          "execution_count": 414
        }
      ]
    },
    {
      "cell_type": "code",
      "source": [
        "# But what about this? the answer is false becuase after nubmer 9 we get number 3 and 5 \n",
        "pd.Series([1,2,3,4,5,5,5,7,9,3,5]).is_monotonic"
      ],
      "metadata": {
        "colab": {
          "base_uri": "https://localhost:8080/"
        },
        "id": "wL-MLkraZATw",
        "outputId": "8cc5acbc-72c6-475f-8929-efc98d48f467"
      },
      "execution_count": 415,
      "outputs": [
        {
          "output_type": "execute_result",
          "data": {
            "text/plain": [
              "False"
            ]
          },
          "metadata": {},
          "execution_count": 415
        }
      ]
    },
    {
      "cell_type": "markdown",
      "source": [
        "## 36: Count() Method in pandas"
      ],
      "metadata": {
        "id": "n7WaDYPcbSSS"
      }
    },
    {
      "cell_type": "code",
      "source": [
        "# It just retunr not none values \n",
        "alcohol.count()"
      ],
      "metadata": {
        "colab": {
          "base_uri": "https://localhost:8080/"
        },
        "id": "MTSIRO3mbdhy",
        "outputId": "eedf3be3-926e-4734-a6af-0de4270f464e"
      },
      "execution_count": 416,
      "outputs": [
        {
          "output_type": "execute_result",
          "data": {
            "text/plain": [
              "162"
            ]
          },
          "metadata": {},
          "execution_count": 416
        }
      ]
    },
    {
      "cell_type": "code",
      "source": [
        "# it returne all the values incloding NaN values. that is the main diffrence between count() and size() method.\n",
        "alcohol.size"
      ],
      "metadata": {
        "colab": {
          "base_uri": "https://localhost:8080/"
        },
        "id": "KB2Th3VVbvPa",
        "outputId": "50753f41-e300-4b3b-a967-6238b6abea72"
      },
      "execution_count": 417,
      "outputs": [
        {
          "output_type": "execute_result",
          "data": {
            "text/plain": [
              "193"
            ]
          },
          "metadata": {},
          "execution_count": 417
        }
      ]
    },
    {
      "cell_type": "code",
      "source": [
        "# it retunrs True if there is any Null values in alcohol colum or Series \n",
        "alcohol .hasnans"
      ],
      "metadata": {
        "colab": {
          "base_uri": "https://localhost:8080/"
        },
        "id": "Wm0syUA-b3RH",
        "outputId": "63592766-7af3-498a-c9f2-28f898c3aa49"
      },
      "execution_count": 418,
      "outputs": [
        {
          "output_type": "execute_result",
          "data": {
            "text/plain": [
              "True"
            ]
          },
          "metadata": {},
          "execution_count": 418
        }
      ]
    },
    {
      "cell_type": "markdown",
      "source": [
        "#Booleans Are Literally Numbers in Python. \n",
        "# ** what does it mean**"
      ],
      "metadata": {
        "id": "zgCfCri9yzew"
      }
    },
    {
      "cell_type": "code",
      "source": [
        "# in python True == 1 and False == 0  and bolean is subclass of int class. \n",
        "True +2 \n"
      ],
      "metadata": {
        "colab": {
          "base_uri": "https://localhost:8080/"
        },
        "id": "6mxqSc5FzBRj",
        "outputId": "9c3fe463-52cd-4275-b1e8-ac9225b47166"
      },
      "execution_count": 419,
      "outputs": [
        {
          "output_type": "execute_result",
          "data": {
            "text/plain": [
              "3"
            ]
          },
          "metadata": {},
          "execution_count": 419
        }
      ]
    },
    {
      "cell_type": "code",
      "source": [
        "True + True + 4 +False"
      ],
      "metadata": {
        "colab": {
          "base_uri": "https://localhost:8080/"
        },
        "id": "m_WqPOm4yVo8",
        "outputId": "3904b283-443c-4453-8aac-2223f19fbeb3"
      },
      "execution_count": 420,
      "outputs": [
        {
          "output_type": "execute_result",
          "data": {
            "text/plain": [
              "6"
            ]
          },
          "metadata": {},
          "execution_count": 420
        }
      ]
    },
    {
      "cell_type": "code",
      "source": [
        "True + True +3 -False"
      ],
      "metadata": {
        "colab": {
          "base_uri": "https://localhost:8080/"
        },
        "id": "S-blp-gNzlPZ",
        "outputId": "9a2a83e6-b585-4974-9bef-805b4450200b"
      },
      "execution_count": 421,
      "outputs": [
        {
          "output_type": "execute_result",
          "data": {
            "text/plain": [
              "5"
            ]
          },
          "metadata": {},
          "execution_count": 421
        }
      ]
    },
    {
      "cell_type": "code",
      "source": [
        "# let's check type of the boolean \n",
        "type(True)"
      ],
      "metadata": {
        "colab": {
          "base_uri": "https://localhost:8080/"
        },
        "id": "3rhto-qozuNU",
        "outputId": "ba24e53d-4ed6-4dbb-e12c-608e4764a6a2"
      },
      "execution_count": 422,
      "outputs": [
        {
          "output_type": "execute_result",
          "data": {
            "text/plain": [
              "bool"
            ]
          },
          "metadata": {},
          "execution_count": 422
        }
      ]
    },
    {
      "cell_type": "code",
      "source": [
        "type(False)"
      ],
      "metadata": {
        "colab": {
          "base_uri": "https://localhost:8080/"
        },
        "id": "Ij_zZHK20iZJ",
        "outputId": "fe2858bd-7dd6-4c64-f5af-b85e1f1f0d48"
      },
      "execution_count": 423,
      "outputs": [
        {
          "output_type": "execute_result",
          "data": {
            "text/plain": [
              "bool"
            ]
          },
          "metadata": {},
          "execution_count": 423
        }
      ]
    },
    {
      "cell_type": "code",
      "source": [
        "# NOTE: bool, int,object ;;;;>>> this line of code means bool clase is sub class of int and int class is sub class of \n",
        "# object class. and we know every things in Python is Object. so statemet is Correct!\n",
        "bool.__mro__"
      ],
      "metadata": {
        "colab": {
          "base_uri": "https://localhost:8080/"
        },
        "id": "CnJfGN8i0kt0",
        "outputId": "f641b93c-0c05-4963-bb21-422fe24bdce0"
      },
      "execution_count": 424,
      "outputs": [
        {
          "output_type": "execute_result",
          "data": {
            "text/plain": [
              "(bool, int, object)"
            ]
          },
          "metadata": {},
          "execution_count": 424
        }
      ]
    },
    {
      "cell_type": "code",
      "source": [
        "alcohol.notnull().sum()"
      ],
      "metadata": {
        "colab": {
          "base_uri": "https://localhost:8080/"
        },
        "id": "9dAbVejw1LNP",
        "outputId": "ec1722a8-7503-429b-864b-ef7c6d7ba765"
      },
      "execution_count": 425,
      "outputs": [
        {
          "output_type": "execute_result",
          "data": {
            "text/plain": [
              "162"
            ]
          },
          "metadata": {},
          "execution_count": 425
        }
      ]
    },
    {
      "cell_type": "code",
      "source": [
        "# find countries which alcohol consumption is not null and put in variable called wine_servings.\n",
        "wine_servings =alcohol[alcohol.notnull()]"
      ],
      "metadata": {
        "id": "KfxSnpbT2g0Q"
      },
      "execution_count": 426,
      "outputs": []
    },
    {
      "cell_type": "code",
      "source": [
        "wine_servings"
      ],
      "metadata": {
        "colab": {
          "base_uri": "https://localhost:8080/"
        },
        "id": "O8aKfYsY4DVx",
        "outputId": "37b5b738-adfc-4e43-999c-ead998477058"
      },
      "execution_count": 427,
      "outputs": [
        {
          "output_type": "execute_result",
          "data": {
            "text/plain": [
              "country\n",
              "Albania               54.0\n",
              "Algeria               14.0\n",
              "Andorra              312.0\n",
              "Angola                45.0\n",
              "Antigua & Barbuda     45.0\n",
              "                     ...  \n",
              "Vanuatu               11.0\n",
              "Venezuela              3.0\n",
              "Vietnam                1.0\n",
              "Zambia                 4.0\n",
              "Zimbabwe               4.0\n",
              "Name: wine_servings, Length: 162, dtype: float64"
            ]
          },
          "metadata": {},
          "execution_count": 427
        }
      ]
    },
    {
      "cell_type": "code",
      "source": [
        "#2: what is the total consumed by countries in wine_servings\n",
        "wine_servings.sum()"
      ],
      "metadata": {
        "colab": {
          "base_uri": "https://localhost:8080/"
        },
        "id": "l2MGuQF64eA6",
        "outputId": "9494cfd7-ca43-48ea-e6a9-a3944198414f"
      },
      "execution_count": 428,
      "outputs": [
        {
          "output_type": "execute_result",
          "data": {
            "text/plain": [
              "8221.0"
            ]
          },
          "metadata": {},
          "execution_count": 428
        }
      ]
    },
    {
      "cell_type": "code",
      "source": [
        "# find country they consume less than 100 \n",
        "wine_servings[wine_servings < 100]"
      ],
      "metadata": {
        "colab": {
          "base_uri": "https://localhost:8080/"
        },
        "id": "Ga_beleU5ZsA",
        "outputId": "2bed654b-daee-407d-ff9b-58c23bf5ed1b"
      },
      "execution_count": 429,
      "outputs": [
        {
          "output_type": "execute_result",
          "data": {
            "text/plain": [
              "country\n",
              "Albania              54.0\n",
              "Algeria              14.0\n",
              "Angola               45.0\n",
              "Antigua & Barbuda    45.0\n",
              "Armenia              11.0\n",
              "                     ... \n",
              "Vanuatu              11.0\n",
              "Venezuela             3.0\n",
              "Vietnam               1.0\n",
              "Zambia                4.0\n",
              "Zimbabwe              4.0\n",
              "Name: wine_servings, Length: 132, dtype: float64"
            ]
          },
          "metadata": {},
          "execution_count": 429
        }
      ]
    },
    {
      "cell_type": "code",
      "source": [
        "wine_servings[wine_servings < 100].sum()"
      ],
      "metadata": {
        "colab": {
          "base_uri": "https://localhost:8080/"
        },
        "id": "I2BhDZ557dEK",
        "outputId": "4a04ada4-2c36-48f1-a1c3-627dadee56ca"
      },
      "execution_count": 430,
      "outputs": [
        {
          "output_type": "execute_result",
          "data": {
            "text/plain": [
              "2416.0"
            ]
          },
          "metadata": {},
          "execution_count": 430
        }
      ]
    },
    {
      "cell_type": "code",
      "source": [
        "wine_servings[wine_servings <100].count()"
      ],
      "metadata": {
        "colab": {
          "base_uri": "https://localhost:8080/"
        },
        "id": "fJkbGV9n72fK",
        "outputId": "b64aeebe-8da6-44ed-db26-57504480b873"
      },
      "execution_count": 431,
      "outputs": [
        {
          "output_type": "execute_result",
          "data": {
            "text/plain": [
              "132"
            ]
          },
          "metadata": {},
          "execution_count": 431
        }
      ]
    },
    {
      "cell_type": "code",
      "source": [
        "wine_servings[wine_servings <100].size"
      ],
      "metadata": {
        "colab": {
          "base_uri": "https://localhost:8080/"
        },
        "id": "ts6TmJp7v5RM",
        "outputId": "4ad8036c-4eea-4735-aa70-f63b38d41f11"
      },
      "execution_count": 432,
      "outputs": [
        {
          "output_type": "execute_result",
          "data": {
            "text/plain": [
              "132"
            ]
          },
          "metadata": {},
          "execution_count": 432
        }
      ]
    },
    {
      "cell_type": "code",
      "source": [
        "len(wine_servings[wine_servings <100])"
      ],
      "metadata": {
        "colab": {
          "base_uri": "https://localhost:8080/"
        },
        "id": "EHYIpiWewBzj",
        "outputId": "5ab209c6-44df-45e3-9337-9031c257c167"
      },
      "execution_count": 433,
      "outputs": [
        {
          "output_type": "execute_result",
          "data": {
            "text/plain": [
              "132"
            ]
          },
          "metadata": {},
          "execution_count": 433
        }
      ]
    },
    {
      "cell_type": "code",
      "source": [
        "wine_servings[wine_servings <100].shape[0]"
      ],
      "metadata": {
        "colab": {
          "base_uri": "https://localhost:8080/"
        },
        "id": "71LdtG3wwOQH",
        "outputId": "052a5d63-bd15-478f-9b7f-e9ca425e77e6"
      },
      "execution_count": 434,
      "outputs": [
        {
          "output_type": "execute_result",
          "data": {
            "text/plain": [
              "132"
            ]
          },
          "metadata": {},
          "execution_count": 434
        }
      ]
    },
    {
      "cell_type": "markdown",
      "source": [
        "# 43: Dropping And Filling NAs"
      ],
      "metadata": {
        "id": "LjEnN5BDmsE3"
      }
    },
    {
      "cell_type": "code",
      "source": [
        "alcohol.dropna()"
      ],
      "metadata": {
        "colab": {
          "base_uri": "https://localhost:8080/"
        },
        "id": "ELgoUUdgm158",
        "outputId": "717848f4-6d66-4268-e126-47d4c7653ec4"
      },
      "execution_count": 435,
      "outputs": [
        {
          "output_type": "execute_result",
          "data": {
            "text/plain": [
              "country\n",
              "Albania               54.0\n",
              "Algeria               14.0\n",
              "Andorra              312.0\n",
              "Angola                45.0\n",
              "Antigua & Barbuda     45.0\n",
              "                     ...  \n",
              "Vanuatu               11.0\n",
              "Venezuela              3.0\n",
              "Vietnam                1.0\n",
              "Zambia                 4.0\n",
              "Zimbabwe               4.0\n",
              "Name: wine_servings, Length: 162, dtype: float64"
            ]
          },
          "metadata": {},
          "execution_count": 435
        }
      ]
    },
    {
      "cell_type": "code",
      "source": [
        "# one way : Reassingment\n",
        "# alcohol = alcohol.dropna()"
      ],
      "metadata": {
        "id": "INNHxntdm-pL"
      },
      "execution_count": 436,
      "outputs": []
    },
    {
      "cell_type": "code",
      "source": [
        "# another way is use inplace param\n",
        "# alcohol.dropna(inplace = True) # defualt inplace is False."
      ],
      "metadata": {
        "id": "DPsl5u1SnXLd"
      },
      "execution_count": 437,
      "outputs": []
    },
    {
      "cell_type": "code",
      "source": [
        "alcohol.fillna(100, inplace = False) # it fill all the Null values with 100."
      ],
      "metadata": {
        "colab": {
          "base_uri": "https://localhost:8080/"
        },
        "id": "YHu8xQPcn7OZ",
        "outputId": "8b5d1a3d-d239-40cc-c40b-fb47c48f4365"
      },
      "execution_count": 438,
      "outputs": [
        {
          "output_type": "execute_result",
          "data": {
            "text/plain": [
              "country\n",
              "Afghanistan    100.0\n",
              "Albania         54.0\n",
              "Algeria         14.0\n",
              "Andorra        312.0\n",
              "Angola          45.0\n",
              "               ...  \n",
              "Venezuela        3.0\n",
              "Vietnam          1.0\n",
              "Yemen          100.0\n",
              "Zambia           4.0\n",
              "Zimbabwe         4.0\n",
              "Name: wine_servings, Length: 193, dtype: float64"
            ]
          },
          "metadata": {},
          "execution_count": 438
        }
      ]
    },
    {
      "cell_type": "markdown",
      "source": [
        "# 44: Descriptive Statistics."
      ],
      "metadata": {
        "id": "y8-RSVH9ovhw"
      }
    },
    {
      "cell_type": "code",
      "source": [
        "alcohol.sum()"
      ],
      "metadata": {
        "colab": {
          "base_uri": "https://localhost:8080/"
        },
        "id": "d4V1bZJ5o9Wh",
        "outputId": "a80067bd-2459-4430-f78a-4665fdec94c1"
      },
      "execution_count": 439,
      "outputs": [
        {
          "output_type": "execute_result",
          "data": {
            "text/plain": [
              "8221.0"
            ]
          },
          "metadata": {},
          "execution_count": 439
        }
      ]
    },
    {
      "cell_type": "code",
      "source": [
        "#Average:\n",
        "alcohol.count()"
      ],
      "metadata": {
        "colab": {
          "base_uri": "https://localhost:8080/"
        },
        "id": "zkKw_14VpGNP",
        "outputId": "18ac7a0b-2966-4a19-aa05-9bfe31bfb4f1"
      },
      "execution_count": 440,
      "outputs": [
        {
          "output_type": "execute_result",
          "data": {
            "text/plain": [
              "162"
            ]
          },
          "metadata": {},
          "execution_count": 440
        }
      ]
    },
    {
      "cell_type": "code",
      "source": [
        "alcohol.sum() / alcohol.count()"
      ],
      "metadata": {
        "colab": {
          "base_uri": "https://localhost:8080/"
        },
        "id": "NaEI2a37pWKz",
        "outputId": "9acbc450-e495-407e-c3bd-65e1da801f5d"
      },
      "execution_count": 441,
      "outputs": [
        {
          "output_type": "execute_result",
          "data": {
            "text/plain": [
              "50.74691358024691"
            ]
          },
          "metadata": {},
          "execution_count": 441
        }
      ]
    },
    {
      "cell_type": "code",
      "source": [
        "alcohol.mean() # mean and median of the alcohol series."
      ],
      "metadata": {
        "colab": {
          "base_uri": "https://localhost:8080/"
        },
        "id": "JXJpVQIcpbXs",
        "outputId": "b1d969d4-3655-4c0f-d1f9-56c91daabd65"
      },
      "execution_count": 442,
      "outputs": [
        {
          "output_type": "execute_result",
          "data": {
            "text/plain": [
              "50.74691358024691"
            ]
          },
          "metadata": {},
          "execution_count": 442
        }
      ]
    },
    {
      "cell_type": "code",
      "source": [
        "alcohol.median()"
      ],
      "metadata": {
        "colab": {
          "base_uri": "https://localhost:8080/"
        },
        "id": "wO1a2aDYpxD4",
        "outputId": "07f3ea6c-93e2-4b29-a293-febb06af1265"
      },
      "execution_count": 443,
      "outputs": [
        {
          "output_type": "execute_result",
          "data": {
            "text/plain": [
              "11.5"
            ]
          },
          "metadata": {},
          "execution_count": 443
        }
      ]
    },
    {
      "cell_type": "code",
      "source": [
        "alcohol.quantile(.5) # Quantil() is the same as median "
      ],
      "metadata": {
        "colab": {
          "base_uri": "https://localhost:8080/"
        },
        "id": "H2QIn2Ofp0Me",
        "outputId": "43b175e1-5c82-44b7-a2aa-e7e5e8931bb7"
      },
      "execution_count": 444,
      "outputs": [
        {
          "output_type": "execute_result",
          "data": {
            "text/plain": [
              "11.5"
            ]
          },
          "metadata": {},
          "execution_count": 444
        }
      ]
    },
    {
      "cell_type": "code",
      "source": [
        "alcohol.hist();  # hist show that our data is Right Skwered becuae there is lot's of small values in left side \n",
        "# but at the same time there are values in right side which they have bigger values like 250 or 300."
      ],
      "metadata": {
        "colab": {
          "base_uri": "https://localhost:8080/",
          "height": 265
        },
        "id": "e8_XjrfIp7Xa",
        "outputId": "b70c53be-e724-4586-8f13-a5a72ba9e462"
      },
      "execution_count": 445,
      "outputs": [
        {
          "output_type": "display_data",
          "data": {
            "text/plain": [
              "<Figure size 432x288 with 1 Axes>"
            ],
            "image/png": "[encoded data removed]"
          },
          "metadata": {
            "needs_background": "light"
          }
        }
      ]
    },
    {
      "cell_type": "code",
      "source": [
        "#IQR : \n",
        "iqr = alcohol.quantile(.75)- alcohol.quantile(.25)"
      ],
      "metadata": {
        "id": "01ce-NBsq08O"
      },
      "execution_count": 446,
      "outputs": []
    },
    {
      "cell_type": "code",
      "source": [
        "iqr # NOTE: becuase iqr is almost 5 times bigger than median and it's also bigger than mean it shows and mean that \n",
        "# our data is not normally distributed or it is not sematric distributed."
      ],
      "metadata": {
        "colab": {
          "base_uri": "https://localhost:8080/"
        },
        "id": "u8OxmsNJrvYf",
        "outputId": "1030a2b5-d93f-4b21-f079-2c9e1e1a051a"
      },
      "execution_count": 447,
      "outputs": [
        {
          "output_type": "execute_result",
          "data": {
            "text/plain": [
              "58.25"
            ]
          },
          "metadata": {},
          "execution_count": 447
        }
      ]
    },
    {
      "cell_type": "code",
      "source": [
        "# min and max \n",
        "alcohol.min() "
      ],
      "metadata": {
        "colab": {
          "base_uri": "https://localhost:8080/"
        },
        "id": "5wt6nkOarxLW",
        "outputId": "53996b9f-e9e8-4069-ae55-b234234e9b52"
      },
      "execution_count": 448,
      "outputs": [
        {
          "output_type": "execute_result",
          "data": {
            "text/plain": [
              "1.0"
            ]
          },
          "metadata": {},
          "execution_count": 448
        }
      ]
    },
    {
      "cell_type": "code",
      "source": [
        "alcohol.max()"
      ],
      "metadata": {
        "colab": {
          "base_uri": "https://localhost:8080/"
        },
        "id": "YCWYaOVAskBB",
        "outputId": "add317ad-8900-444e-a7b3-2529adb6fef4"
      },
      "execution_count": 449,
      "outputs": [
        {
          "output_type": "execute_result",
          "data": {
            "text/plain": [
              "339.0"
            ]
          },
          "metadata": {},
          "execution_count": 449
        }
      ]
    },
    {
      "cell_type": "code",
      "source": [
        "# Standard deviation.  # NOTE: std is the squr root of the variance. \n",
        "alcohol.std()"
      ],
      "metadata": {
        "colab": {
          "base_uri": "https://localhost:8080/"
        },
        "id": "8l-XgYO5slTH",
        "outputId": "3c02ba8d-a8c0-4ba9-d473-07902992dcf9"
      },
      "execution_count": 450,
      "outputs": [
        {
          "output_type": "execute_result",
          "data": {
            "text/plain": [
              "76.13491716376173"
            ]
          },
          "metadata": {},
          "execution_count": 450
        }
      ]
    },
    {
      "cell_type": "code",
      "source": [
        "# variance\n",
        "alcohol.var()"
      ],
      "metadata": {
        "colab": {
          "base_uri": "https://localhost:8080/"
        },
        "id": "BL5SMJbustlF",
        "outputId": "cd00b6b1-f6e5-41d9-cbc4-2176bbe768e5"
      },
      "execution_count": 451,
      "outputs": [
        {
          "output_type": "execute_result",
          "data": {
            "text/plain": [
              "5796.52561153286"
            ]
          },
          "metadata": {},
          "execution_count": 451
        }
      ]
    },
    {
      "cell_type": "code",
      "source": [
        "alcohol.std()**2 == alcohol.var() # answer is True "
      ],
      "metadata": {
        "colab": {
          "base_uri": "https://localhost:8080/"
        },
        "id": "B4aJfJIjsyfS",
        "outputId": "d5e1e093-ba14-465d-dbc7-39c3f6339209"
      },
      "execution_count": 452,
      "outputs": [
        {
          "output_type": "execute_result",
          "data": {
            "text/plain": [
              "True"
            ]
          },
          "metadata": {},
          "execution_count": 452
        }
      ]
    },
    {
      "cell_type": "markdown",
      "source": [
        "# 45:The Describe() Method."
      ],
      "metadata": {
        "id": "VLwzws3Ou7VW"
      }
    },
    {
      "cell_type": "code",
      "source": [
        "alcohol.describe()"
      ],
      "metadata": {
        "colab": {
          "base_uri": "https://localhost:8080/"
        },
        "id": "ohL37wOcvE-f",
        "outputId": "d5f1d2ee-c6ab-4ae6-e67e-cff06eb0cca6"
      },
      "execution_count": 453,
      "outputs": [
        {
          "output_type": "execute_result",
          "data": {
            "text/plain": [
              "count    162.000000\n",
              "mean      50.746914\n",
              "std       76.134917\n",
              "min        1.000000\n",
              "25%        3.000000\n",
              "50%       11.500000\n",
              "75%       61.250000\n",
              "max      339.000000\n",
              "Name: wine_servings, dtype: float64"
            ]
          },
          "metadata": {},
          "execution_count": 453
        }
      ]
    },
    {
      "cell_type": "code",
      "source": [
        "alcohol.describe(percentiles=[.79,.19],include= float,exclude= object)"
      ],
      "metadata": {
        "colab": {
          "base_uri": "https://localhost:8080/"
        },
        "id": "-EccPn1kvY2e",
        "outputId": "c73df75a-5ac9-4f82-a9bb-a5d2e4feb883"
      },
      "execution_count": 454,
      "outputs": [
        {
          "output_type": "execute_result",
          "data": {
            "text/plain": [
              "count    162.000000\n",
              "mean      50.746914\n",
              "std       76.134917\n",
              "min        1.000000\n",
              "19%        2.000000\n",
              "50%       11.500000\n",
              "79%       81.570000\n",
              "max      339.000000\n",
              "Name: wine_servings, dtype: float64"
            ]
          },
          "metadata": {},
          "execution_count": 454
        }
      ]
    },
    {
      "cell_type": "markdown",
      "source": [
        "# **46: mode() And value_count()**"
      ],
      "metadata": {
        "id": "m62H7d6RwLfg"
      }
    },
    {
      "cell_type": "code",
      "source": [
        "# mode() is the most apparing value in series or dataset or the most frequency value. \n",
        "alcohol.mode()"
      ],
      "metadata": {
        "colab": {
          "base_uri": "https://localhost:8080/"
        },
        "id": "JPXgdf5QwkaF",
        "outputId": "7b68f8e8-be49-4113-85bd-836be2101e26"
      },
      "execution_count": 455,
      "outputs": [
        {
          "output_type": "execute_result",
          "data": {
            "text/plain": [
              "0    1.0\n",
              "dtype: float64"
            ]
          },
          "metadata": {},
          "execution_count": 455
        }
      ]
    },
    {
      "cell_type": "code",
      "source": [
        "alcohol[alcohol ==1].size # OR .count() or .shape[0]"
      ],
      "metadata": {
        "colab": {
          "base_uri": "https://localhost:8080/"
        },
        "id": "iq03h-JcxJ6o",
        "outputId": "99d16436-46f4-43e5-b638-d8a47be98c78"
      },
      "execution_count": 456,
      "outputs": [
        {
          "output_type": "execute_result",
          "data": {
            "text/plain": [
              "28"
            ]
          },
          "metadata": {},
          "execution_count": 456
        }
      ]
    },
    {
      "cell_type": "code",
      "source": [
        "# Value_count.       # Value_count is much better and easy method to count how many of each unique values we have. \n",
        "alcohol.value_counts()"
      ],
      "metadata": {
        "colab": {
          "base_uri": "https://localhost:8080/"
        },
        "id": "Es4Jvheixi64",
        "outputId": "967b41b1-5f6c-4c01-bb92-de2b941169d0"
      },
      "execution_count": 457,
      "outputs": [
        {
          "output_type": "execute_result",
          "data": {
            "text/plain": [
              "1.0      28\n",
              "2.0      10\n",
              "7.0       9\n",
              "8.0       7\n",
              "5.0       6\n",
              "         ..\n",
              "218.0     1\n",
              "185.0     1\n",
              "78.0      1\n",
              "165.0     1\n",
              "22.0      1\n",
              "Name: wine_servings, Length: 71, dtype: int64"
            ]
          },
          "metadata": {},
          "execution_count": 457
        }
      ]
    },
    {
      "cell_type": "code",
      "source": [
        "alcohol.value_counts().hist();"
      ],
      "metadata": {
        "colab": {
          "base_uri": "https://localhost:8080/",
          "height": 265
        },
        "id": "qFlbsbQixrY2",
        "outputId": "99ebc6ba-79f0-4e7f-8afb-db3bd618f81d"
      },
      "execution_count": 458,
      "outputs": [
        {
          "output_type": "display_data",
          "data": {
            "text/plain": [
              "<Figure size 432x288 with 1 Axes>"
            ],
            "image/png": "[encoded data removed]"
          },
          "metadata": {
            "needs_background": "light"
          }
        }
      ]
    },
    {
      "cell_type": "code",
      "source": [
        "alcohol.value_counts(normalize = True)"
      ],
      "metadata": {
        "colab": {
          "base_uri": "https://localhost:8080/"
        },
        "id": "o8ROiLUgx-e0",
        "outputId": "cd724ced-0c88-458c-98b9-2f7c90ac41a5"
      },
      "execution_count": 459,
      "outputs": [
        {
          "output_type": "execute_result",
          "data": {
            "text/plain": [
              "1.0      0.172840\n",
              "2.0      0.061728\n",
              "7.0      0.055556\n",
              "8.0      0.043210\n",
              "5.0      0.037037\n",
              "           ...   \n",
              "218.0    0.006173\n",
              "185.0    0.006173\n",
              "78.0     0.006173\n",
              "165.0    0.006173\n",
              "22.0     0.006173\n",
              "Name: wine_servings, Length: 71, dtype: float64"
            ]
          },
          "metadata": {},
          "execution_count": 459
        }
      ]
    },
    {
      "cell_type": "code",
      "source": [
        "28/ 162"
      ],
      "metadata": {
        "colab": {
          "base_uri": "https://localhost:8080/"
        },
        "id": "ysYvUhsHy_KE",
        "outputId": "6da6f273-84c3-44b6-a12c-ff0eb21fe416"
      },
      "execution_count": 460,
      "outputs": [
        {
          "output_type": "execute_result",
          "data": {
            "text/plain": [
              "0.1728395061728395"
            ]
          },
          "metadata": {},
          "execution_count": 460
        }
      ]
    },
    {
      "cell_type": "markdown",
      "source": [
        "# **47: indxmax() AND indxmin()**"
      ],
      "metadata": {
        "id": "9sYzsG-5zLZ_"
      }
    },
    {
      "cell_type": "code",
      "source": [
        "alcohol.max()"
      ],
      "metadata": {
        "colab": {
          "base_uri": "https://localhost:8080/"
        },
        "id": "Yhr4uLMKzXvi",
        "outputId": "699468f8-0ed9-495b-98fc-45fd6f3b5f6b"
      },
      "execution_count": 461,
      "outputs": [
        {
          "output_type": "execute_result",
          "data": {
            "text/plain": [
              "339.0"
            ]
          },
          "metadata": {},
          "execution_count": 461
        }
      ]
    },
    {
      "cell_type": "code",
      "source": [
        "alcohol[alcohol ==alcohol.max()] # this returns us series not single values. "
      ],
      "metadata": {
        "colab": {
          "base_uri": "https://localhost:8080/"
        },
        "id": "Dfxn86kJz3ub",
        "outputId": "40dbb7e9-5f1a-4db0-f502-252022371ef7"
      },
      "execution_count": 462,
      "outputs": [
        {
          "output_type": "execute_result",
          "data": {
            "text/plain": [
              "country\n",
              "Portugal    339.0\n",
              "Name: wine_servings, dtype: float64"
            ]
          },
          "metadata": {},
          "execution_count": 462
        }
      ]
    },
    {
      "cell_type": "code",
      "source": [
        "alcohol[alcohol == alcohol.max()].index"
      ],
      "metadata": {
        "colab": {
          "base_uri": "https://localhost:8080/"
        },
        "id": "fa6ERHiZz9nF",
        "outputId": "47499984-b8ff-4d87-8240-d779c67cabdc"
      },
      "execution_count": 463,
      "outputs": [
        {
          "output_type": "execute_result",
          "data": {
            "text/plain": [
              "Index(['Portugal'], dtype='object', name='country')"
            ]
          },
          "metadata": {},
          "execution_count": 463
        }
      ]
    },
    {
      "cell_type": "code",
      "source": [
        "type(alcohol[alcohol ==alcohol.max()].index)"
      ],
      "metadata": {
        "colab": {
          "base_uri": "https://localhost:8080/"
        },
        "id": "hkDqdMux0UoZ",
        "outputId": "1ce8ff13-421c-4b8d-eeb1-e2033a52774e"
      },
      "execution_count": 464,
      "outputs": [
        {
          "output_type": "execute_result",
          "data": {
            "text/plain": [
              "pandas.core.indexes.base.Index"
            ]
          },
          "metadata": {},
          "execution_count": 464
        }
      ]
    },
    {
      "cell_type": "code",
      "source": [
        "alcohol[alcohol == alcohol.max()].index[0]"
      ],
      "metadata": {
        "colab": {
          "base_uri": "https://localhost:8080/",
          "height": 35
        },
        "id": "0vEGXxXu0oJO",
        "outputId": "bb7b3bac-83df-4928-aed4-eb2aa185d510"
      },
      "execution_count": 465,
      "outputs": [
        {
          "output_type": "execute_result",
          "data": {
            "text/plain": [
              "'Portugal'"
            ],
            "application/vnd.google.colaboratory.intrinsic+json": {
              "type": "string"
            }
          },
          "metadata": {},
          "execution_count": 465
        }
      ]
    },
    {
      "cell_type": "code",
      "source": [
        "#NOTE: The most efficent way to do that is use \n",
        "alcohol.idxmax()"
      ],
      "metadata": {
        "colab": {
          "base_uri": "https://localhost:8080/",
          "height": 35
        },
        "id": "p0GbQ_5t0_rM",
        "outputId": "9beca1e8-1148-4546-bba3-7d5bc501abc3"
      },
      "execution_count": 466,
      "outputs": [
        {
          "output_type": "execute_result",
          "data": {
            "text/plain": [
              "'Portugal'"
            ],
            "application/vnd.google.colaboratory.intrinsic+json": {
              "type": "string"
            }
          },
          "metadata": {},
          "execution_count": 466
        }
      ]
    },
    {
      "cell_type": "code",
      "source": [
        "alcohol.idxmin()"
      ],
      "metadata": {
        "colab": {
          "base_uri": "https://localhost:8080/",
          "height": 35
        },
        "id": "PSoOfGFl1f58",
        "outputId": "76ccb561-ed07-4f78-e3ec-bcc46bac8799"
      },
      "execution_count": 467,
      "outputs": [
        {
          "output_type": "execute_result",
          "data": {
            "text/plain": [
              "'Brunei'"
            ],
            "application/vnd.google.colaboratory.intrinsic+json": {
              "type": "string"
            }
          },
          "metadata": {},
          "execution_count": 467
        }
      ]
    },
    {
      "cell_type": "markdown",
      "source": [
        "# **48: Sorting with sort_values()**"
      ],
      "metadata": {
        "id": "Z1zdn4bT8lAF"
      }
    },
    {
      "cell_type": "code",
      "source": [
        "alcohol.sort_values()"
      ],
      "metadata": {
        "colab": {
          "base_uri": "https://localhost:8080/"
        },
        "id": "RC5sx9Ih8wGJ",
        "outputId": "a735985d-9e1b-4a9f-c78e-bd79f0d56dc7"
      },
      "execution_count": 468,
      "outputs": [
        {
          "output_type": "execute_result",
          "data": {
            "text/plain": [
              "country\n",
              "Thailand           1.0\n",
              "Solomon Islands    1.0\n",
              "Brunei             1.0\n",
              "Haiti              1.0\n",
              "Cambodia           1.0\n",
              "                  ... \n",
              "Sri Lanka          NaN\n",
              "Sudan              NaN\n",
              "Tajikistan         NaN\n",
              "Uganda             NaN\n",
              "Yemen              NaN\n",
              "Name: wine_servings, Length: 193, dtype: float64"
            ]
          },
          "metadata": {},
          "execution_count": 468
        }
      ]
    },
    {
      "cell_type": "code",
      "source": [
        "alcohol.sort_values(ascending = False)"
      ],
      "metadata": {
        "colab": {
          "base_uri": "https://localhost:8080/"
        },
        "id": "Pj53AKap86Y2",
        "outputId": "cef9ee47-0fc3-4168-e329-797fe0af709d"
      },
      "execution_count": 469,
      "outputs": [
        {
          "output_type": "execute_result",
          "data": {
            "text/plain": [
              "country\n",
              "Portugal      339.0\n",
              "Andorra       312.0\n",
              "Denmark       278.0\n",
              "Slovenia      276.0\n",
              "Luxembourg    271.0\n",
              "              ...  \n",
              "Sri Lanka       NaN\n",
              "Sudan           NaN\n",
              "Tajikistan      NaN\n",
              "Uganda          NaN\n",
              "Yemen           NaN\n",
              "Name: wine_servings, Length: 193, dtype: float64"
            ]
          },
          "metadata": {},
          "execution_count": 469
        }
      ]
    },
    {
      "cell_type": "code",
      "source": [
        "# list the null values in head of the list. \n",
        "alcohol.sort_values(ascending= False, na_position= \"first\") # na_position = \"first\" or \"last\""
      ],
      "metadata": {
        "colab": {
          "base_uri": "https://localhost:8080/"
        },
        "id": "KmRpKS2B9Fs5",
        "outputId": "641f57bf-297b-460c-f826-98344de9dceb"
      },
      "execution_count": 470,
      "outputs": [
        {
          "output_type": "execute_result",
          "data": {
            "text/plain": [
              "country\n",
              "Afghanistan                 NaN\n",
              "Bangladesh                  NaN\n",
              "Bhutan                      NaN\n",
              "Burundi                     NaN\n",
              "North Korea                 NaN\n",
              "                           ... \n",
              "Jordan                      1.0\n",
              "Solomon Islands             1.0\n",
              "Central African Republic    1.0\n",
              "Haiti                       1.0\n",
              "Chad                        1.0\n",
              "Name: wine_servings, Length: 193, dtype: float64"
            ]
          },
          "metadata": {},
          "execution_count": 470
        }
      ]
    },
    {
      "cell_type": "code",
      "source": [
        "alcohol.sort_values(ascending = False, na_position =\"first\", kind = \"quicksort\",inplace = True)# mergsort,heapsort"
      ],
      "metadata": {
        "id": "FAJlGkx88ush"
      },
      "execution_count": 471,
      "outputs": []
    },
    {
      "cell_type": "markdown",
      "source": [
        "# 49: Nlargest() And Nsmallest()"
      ],
      "metadata": {
        "id": "WVIMjziu-y9S"
      }
    },
    {
      "cell_type": "code",
      "source": [
        "alcohol.sort_values(ascending= False)[:10]"
      ],
      "metadata": {
        "colab": {
          "base_uri": "https://localhost:8080/"
        },
        "id": "Zdii1rOn_CV_",
        "outputId": "c3b37b0b-2a3f-441b-d22a-f64d825576ca"
      },
      "execution_count": 472,
      "outputs": [
        {
          "output_type": "execute_result",
          "data": {
            "text/plain": [
              "country\n",
              "Portugal             339.0\n",
              "Andorra              312.0\n",
              "Denmark              278.0\n",
              "Slovenia             276.0\n",
              "Luxembourg           271.0\n",
              "Croatia              254.0\n",
              "Italy                237.0\n",
              "Equatorial Guinea    233.0\n",
              "Argentina            221.0\n",
              "Greece               218.0\n",
              "Name: wine_servings, dtype: float64"
            ]
          },
          "metadata": {},
          "execution_count": 472
        }
      ]
    },
    {
      "cell_type": "code",
      "source": [
        "# Better way or Pandas way is use: the result is the same but it's very pandoric and easy \n",
        "alcohol.nlargest(10)"
      ],
      "metadata": {
        "colab": {
          "base_uri": "https://localhost:8080/"
        },
        "id": "bCMDM7Wd_qr4",
        "outputId": "31fca4eb-42ac-41fa-b718-a2cb8d99cad5"
      },
      "execution_count": 473,
      "outputs": [
        {
          "output_type": "execute_result",
          "data": {
            "text/plain": [
              "country\n",
              "Portugal             339.0\n",
              "Andorra              312.0\n",
              "Denmark              278.0\n",
              "Slovenia             276.0\n",
              "Luxembourg           271.0\n",
              "Croatia              254.0\n",
              "Italy                237.0\n",
              "Equatorial Guinea    233.0\n",
              "Argentina            221.0\n",
              "Greece               218.0\n",
              "Name: wine_servings, dtype: float64"
            ]
          },
          "metadata": {},
          "execution_count": 473
        }
      ]
    },
    {
      "cell_type": "code",
      "source": [
        "alcohol.nsmallest(7)"
      ],
      "metadata": {
        "colab": {
          "base_uri": "https://localhost:8080/"
        },
        "id": "k2cuyCEA_y17",
        "outputId": "5fb8ef3e-1d89-45b7-c9e4-4fdcfa7a790e"
      },
      "execution_count": 474,
      "outputs": [
        {
          "output_type": "execute_result",
          "data": {
            "text/plain": [
              "country\n",
              "Tanzania    1.0\n",
              "Ghana       1.0\n",
              "Comoros     1.0\n",
              "Gambia      1.0\n",
              "Vietnam     1.0\n",
              "Egypt       1.0\n",
              "DR Congo    1.0\n",
              "Name: wine_servings, dtype: float64"
            ]
          },
          "metadata": {},
          "execution_count": 474
        }
      ]
    },
    {
      "cell_type": "markdown",
      "source": [
        "# **50: Sorting with sort_index()**"
      ],
      "metadata": {
        "id": "tScHT6bIAaj4"
      }
    },
    {
      "cell_type": "code",
      "source": [
        "alcohol.sort_index() # sortes values base on the index values. in our case is Alphabetical order. "
      ],
      "metadata": {
        "colab": {
          "base_uri": "https://localhost:8080/"
        },
        "id": "4QRMEJk-AigC",
        "outputId": "02552b73-b78a-4b45-f7b3-c6c830bd3b5f"
      },
      "execution_count": 475,
      "outputs": [
        {
          "output_type": "execute_result",
          "data": {
            "text/plain": [
              "country\n",
              "Afghanistan      NaN\n",
              "Albania         54.0\n",
              "Algeria         14.0\n",
              "Andorra        312.0\n",
              "Angola          45.0\n",
              "               ...  \n",
              "Venezuela        3.0\n",
              "Vietnam          1.0\n",
              "Yemen            NaN\n",
              "Zambia           4.0\n",
              "Zimbabwe         4.0\n",
              "Name: wine_servings, Length: 193, dtype: float64"
            ]
          },
          "metadata": {},
          "execution_count": 475
        }
      ]
    },
    {
      "cell_type": "markdown",
      "source": [
        "# **51: skill challeng  **::"
      ],
      "metadata": {
        "id": "JcLXzpg0BqWb"
      }
    },
    {
      "cell_type": "code",
      "source": [
        "fifty_plus = alcohol[alcohol > 50 ]"
      ],
      "metadata": {
        "id": "syGNzux5B0zd"
      },
      "execution_count": 476,
      "outputs": []
    },
    {
      "cell_type": "code",
      "source": [
        "fifty_plus.head(10)"
      ],
      "metadata": {
        "colab": {
          "base_uri": "https://localhost:8080/"
        },
        "id": "6GvAUcjYCOih",
        "outputId": "5a533c8d-a253-4895-c297-154b923bbfd8"
      },
      "execution_count": 477,
      "outputs": [
        {
          "output_type": "execute_result",
          "data": {
            "text/plain": [
              "country\n",
              "Portugal             339.0\n",
              "Andorra              312.0\n",
              "Denmark              278.0\n",
              "Slovenia             276.0\n",
              "Luxembourg           271.0\n",
              "Croatia              254.0\n",
              "Italy                237.0\n",
              "Equatorial Guinea    233.0\n",
              "Argentina            221.0\n",
              "Greece               218.0\n",
              "Name: wine_servings, dtype: float64"
            ]
          },
          "metadata": {},
          "execution_count": 477
        }
      ]
    },
    {
      "cell_type": "code",
      "source": [
        "fifty_plus.nsmallest(20)"
      ],
      "metadata": {
        "colab": {
          "base_uri": "https://localhost:8080/"
        },
        "id": "QHvIsGERCk2A",
        "outputId": "f17caeca-6327-4362-db10-007ab031a5b0"
      },
      "execution_count": 478,
      "outputs": [
        {
          "output_type": "execute_result",
          "data": {
            "text/plain": [
              "country\n",
              "Bahamas                51.0\n",
              "Seychelles             51.0\n",
              "Albania                54.0\n",
              "Lithuania              56.0\n",
              "Poland                 56.0\n",
              "Gabon                  59.0\n",
              "Estonia                59.0\n",
              "Latvia                 62.0\n",
              "St. Lucia              71.0\n",
              "Russian Federation     73.0\n",
              "Paraguay               74.0\n",
              "Cook Islands           74.0\n",
              "Iceland                78.0\n",
              "South Africa           81.0\n",
              "USA                    84.0\n",
              "Macedonia              86.0\n",
              "Bulgaria               94.0\n",
              "Finland                97.0\n",
              "Spain                 112.0\n",
              "Cyprus                113.0\n",
              "Name: wine_servings, dtype: float64"
            ]
          },
          "metadata": {},
          "execution_count": 478
        }
      ]
    },
    {
      "cell_type": "code",
      "source": [
        "Towenty = fifty_plus.nsmallest(20)"
      ],
      "metadata": {
        "id": "2_wjPOKqDCFk"
      },
      "execution_count": 479,
      "outputs": []
    },
    {
      "cell_type": "code",
      "source": [
        "Towenty.head()"
      ],
      "metadata": {
        "colab": {
          "base_uri": "https://localhost:8080/"
        },
        "id": "UI2BumXaDLkx",
        "outputId": "a0682c16-5da4-4436-ee8b-8e3bb5fc240b"
      },
      "execution_count": 480,
      "outputs": [
        {
          "output_type": "execute_result",
          "data": {
            "text/plain": [
              "country\n",
              "Bahamas       51.0\n",
              "Seychelles    51.0\n",
              "Albania       54.0\n",
              "Lithuania     56.0\n",
              "Poland        56.0\n",
              "Name: wine_servings, dtype: float64"
            ]
          },
          "metadata": {},
          "execution_count": 480
        }
      ]
    },
    {
      "cell_type": "code",
      "source": [
        "Towenty.mean()"
      ],
      "metadata": {
        "colab": {
          "base_uri": "https://localhost:8080/"
        },
        "id": "kBg3xUMdDOKj",
        "outputId": "1b14641a-2e85-452e-ac3a-4794131a1298"
      },
      "execution_count": 481,
      "outputs": [
        {
          "output_type": "execute_result",
          "data": {
            "text/plain": [
              "74.25"
            ]
          },
          "metadata": {},
          "execution_count": 481
        }
      ]
    },
    {
      "cell_type": "code",
      "source": [
        "Towenty.median()"
      ],
      "metadata": {
        "colab": {
          "base_uri": "https://localhost:8080/"
        },
        "id": "6wIl4a-IDQ7F",
        "outputId": "4adf3465-254b-4e0d-ab42-7c54a19f2eb5"
      },
      "execution_count": 482,
      "outputs": [
        {
          "output_type": "execute_result",
          "data": {
            "text/plain": [
              "73.5"
            ]
          },
          "metadata": {},
          "execution_count": 482
        }
      ]
    },
    {
      "cell_type": "code",
      "source": [
        "Towenty.std()"
      ],
      "metadata": {
        "colab": {
          "base_uri": "https://localhost:8080/"
        },
        "id": "00GU9kl8DXsc",
        "outputId": "daa90aa2-b558-4d37-c2ae-445ccc13588f"
      },
      "execution_count": 483,
      "outputs": [
        {
          "output_type": "execute_result",
          "data": {
            "text/plain": [
              "19.07292100831631"
            ]
          },
          "metadata": {},
          "execution_count": 483
        }
      ]
    },
    {
      "cell_type": "markdown",
      "source": [
        "# 53: Series Arithmetics And Fill_value()\n",
        "  Here we are going to use:\n",
        "\n",
        "  .add()\n",
        "\n",
        "  .subscribe()\n",
        "\n",
        "  .multiply()\n",
        "  \n",
        "  .divide() methods of pandas **bold text**"
      ],
      "metadata": {
        "id": "nH8BshwAD-xx"
      }
    },
    {
      "cell_type": "code",
      "source": [
        "alcohol.sort_index(inplace = True)"
      ],
      "metadata": {
        "id": "Cu-B0tXKEInO"
      },
      "execution_count": 484,
      "outputs": []
    },
    {
      "cell_type": "code",
      "source": [
        "alcohol.head(5)"
      ],
      "metadata": {
        "colab": {
          "base_uri": "https://localhost:8080/"
        },
        "id": "acd8ZYmKFf5R",
        "outputId": "7ccc19d1-ddf8-4bfc-8bd7-ef1d609b6b26"
      },
      "execution_count": 485,
      "outputs": [
        {
          "output_type": "execute_result",
          "data": {
            "text/plain": [
              "country\n",
              "Afghanistan      NaN\n",
              "Albania         54.0\n",
              "Algeria         14.0\n",
              "Andorra        312.0\n",
              "Angola          45.0\n",
              "Name: wine_servings, dtype: float64"
            ]
          },
          "metadata": {},
          "execution_count": 485
        }
      ]
    },
    {
      "cell_type": "code",
      "source": [
        "# NOTE: this is not correct way to do \n",
        "more_drinks = pd.Series({\"Albania\":6,\"Algeria\":10})"
      ],
      "metadata": {
        "id": "smVM2DJrFi8x"
      },
      "execution_count": 486,
      "outputs": []
    },
    {
      "cell_type": "code",
      "source": [
        "# this is not pandas way to add to series together. it is Wrong way to do so.\n",
        "alcohol + more_drinks"
      ],
      "metadata": {
        "colab": {
          "base_uri": "https://localhost:8080/"
        },
        "id": "PJICjpghGPgm",
        "outputId": "c8455833-d059-4b26-ebee-cb2cf3bd20a8"
      },
      "execution_count": 487,
      "outputs": [
        {
          "output_type": "execute_result",
          "data": {
            "text/plain": [
              "Afghanistan     NaN\n",
              "Albania        60.0\n",
              "Algeria        24.0\n",
              "Andorra         NaN\n",
              "Angola          NaN\n",
              "               ... \n",
              "Venezuela       NaN\n",
              "Vietnam         NaN\n",
              "Yemen           NaN\n",
              "Zambia          NaN\n",
              "Zimbabwe        NaN\n",
              "Length: 193, dtype: float64"
            ]
          },
          "metadata": {},
          "execution_count": 487
        }
      ]
    },
    {
      "cell_type": "code",
      "source": [
        "# NOTE:  This is the correct way to do  ****** IMPORTANT*******\n",
        "#alcohol.add(more_drinks)\n",
        "alcohol.add(more_drinks, fill_value =0 )"
      ],
      "metadata": {
        "colab": {
          "base_uri": "https://localhost:8080/"
        },
        "id": "WpvIE7vpGUJT",
        "outputId": "76946553-28a0-4610-ed76-5f94b67ad549"
      },
      "execution_count": 488,
      "outputs": [
        {
          "output_type": "execute_result",
          "data": {
            "text/plain": [
              "Afghanistan      NaN\n",
              "Albania         60.0\n",
              "Algeria         24.0\n",
              "Andorra        312.0\n",
              "Angola          45.0\n",
              "               ...  \n",
              "Venezuela        3.0\n",
              "Vietnam          1.0\n",
              "Yemen            NaN\n",
              "Zambia           4.0\n",
              "Zimbabwe         4.0\n",
              "Length: 193, dtype: float64"
            ]
          },
          "metadata": {},
          "execution_count": 488
        }
      ]
    },
    {
      "cell_type": "code",
      "source": [
        "more_drinks = pd.Series({\"Albania\":6,\"Algeria\":10,\"Afghanistan\":100,\"Yemen\":101})"
      ],
      "metadata": {
        "id": "jhqFcZrSGwMV"
      },
      "execution_count": 489,
      "outputs": []
    },
    {
      "cell_type": "code",
      "source": [
        "alcohol.add(more_drinks, fill_value= False)"
      ],
      "metadata": {
        "colab": {
          "base_uri": "https://localhost:8080/"
        },
        "id": "M615-WzADTyL",
        "outputId": "aa0b0f5d-d658-4faf-b411-7f67ca065baf"
      },
      "execution_count": 490,
      "outputs": [
        {
          "output_type": "execute_result",
          "data": {
            "text/plain": [
              "Afghanistan    100.0\n",
              "Albania         60.0\n",
              "Algeria         24.0\n",
              "Andorra        312.0\n",
              "Angola          45.0\n",
              "               ...  \n",
              "Venezuela        3.0\n",
              "Vietnam          1.0\n",
              "Yemen          101.0\n",
              "Zambia           4.0\n",
              "Zimbabwe         4.0\n",
              "Length: 193, dtype: float64"
            ]
          },
          "metadata": {},
          "execution_count": 490
        }
      ]
    },
    {
      "cell_type": "code",
      "source": [
        "# Subtracting \n",
        "alcohol.subtract(more_drinks,fill_value= 0)"
      ],
      "metadata": {
        "colab": {
          "base_uri": "https://localhost:8080/"
        },
        "id": "cN6J_CjIPRy_",
        "outputId": "9d136d60-2f66-4be5-d3ee-97f57bb32965"
      },
      "execution_count": 491,
      "outputs": [
        {
          "output_type": "execute_result",
          "data": {
            "text/plain": [
              "Afghanistan   -100.0\n",
              "Albania         48.0\n",
              "Algeria          4.0\n",
              "Andorra        312.0\n",
              "Angola          45.0\n",
              "               ...  \n",
              "Venezuela        3.0\n",
              "Vietnam          1.0\n",
              "Yemen         -101.0\n",
              "Zambia           4.0\n",
              "Zimbabwe         4.0\n",
              "Length: 193, dtype: float64"
            ]
          },
          "metadata": {},
          "execution_count": 491
        }
      ]
    },
    {
      "cell_type": "code",
      "source": [
        "alcohol.divide(more_drinks, fill_value = 1)"
      ],
      "metadata": {
        "colab": {
          "base_uri": "https://localhost:8080/"
        },
        "id": "RYRfMOUDP0hy",
        "outputId": "1d5e08df-97da-4da5-d85d-f4ccb4a70bc8"
      },
      "execution_count": 492,
      "outputs": [
        {
          "output_type": "execute_result",
          "data": {
            "text/plain": [
              "Afghanistan      0.010000\n",
              "Albania          9.000000\n",
              "Algeria          1.400000\n",
              "Andorra        312.000000\n",
              "Angola          45.000000\n",
              "                  ...    \n",
              "Venezuela        3.000000\n",
              "Vietnam          1.000000\n",
              "Yemen            0.009901\n",
              "Zambia           4.000000\n",
              "Zimbabwe         4.000000\n",
              "Length: 193, dtype: float64"
            ]
          },
          "metadata": {},
          "execution_count": 492
        }
      ]
    },
    {
      "cell_type": "code",
      "source": [
        "alcohol.multiply(more_drinks,fill_value=1)"
      ],
      "metadata": {
        "colab": {
          "base_uri": "https://localhost:8080/"
        },
        "id": "wSYyCvKGC9ka",
        "outputId": "ee9a5ffd-96cd-44a8-e413-c8314ad41027"
      },
      "execution_count": 493,
      "outputs": [
        {
          "output_type": "execute_result",
          "data": {
            "text/plain": [
              "Afghanistan    100.0\n",
              "Albania        324.0\n",
              "Algeria        140.0\n",
              "Andorra        312.0\n",
              "Angola          45.0\n",
              "               ...  \n",
              "Venezuela        3.0\n",
              "Vietnam          1.0\n",
              "Yemen          101.0\n",
              "Zambia           4.0\n",
              "Zimbabwe         4.0\n",
              "Length: 193, dtype: float64"
            ]
          },
          "metadata": {},
          "execution_count": 493
        }
      ]
    },
    {
      "cell_type": "markdown",
      "source": [
        "## 54:**Calculating** Variance And Standad Deviation**"
      ],
      "metadata": {
        "id": "xuWhIb1YT2E2"
      }
    },
    {
      "cell_type": "code",
      "source": [
        "#NOTE: ***** Very important*****"
      ],
      "metadata": {
        "id": "r7b5hqxbUJco"
      },
      "execution_count": 494,
      "outputs": []
    },
    {
      "cell_type": "code",
      "source": [
        "# What is the Variance: it is the Average of squared differences form the mean. \n",
        "# check the picture or pdf file from section 54. or upload it here. \n",
        "alcohol.var()"
      ],
      "metadata": {
        "colab": {
          "base_uri": "https://localhost:8080/"
        },
        "id": "PbtoD6tnUPYx",
        "outputId": "62404650-eb74-43c6-9514-e3b0b0be9d61"
      },
      "execution_count": 495,
      "outputs": [
        {
          "output_type": "execute_result",
          "data": {
            "text/plain": [
              "5796.52561153286"
            ]
          },
          "metadata": {},
          "execution_count": 495
        }
      ]
    },
    {
      "cell_type": "code",
      "source": [
        "#NOTE: this is the replicated version of Variance Formula. \n",
        "#alcohol.subtract(alcohol.mean())\n",
        "#alcohol.subtract(alcohol.mean())**2)\n",
        "#alcohol.subtract(alcohol.mean())**2).sum()\n",
        "(alcohol.subtract(alcohol.mean())**2).sum()/(alcohol.count()-1)"
      ],
      "metadata": {
        "colab": {
          "base_uri": "https://localhost:8080/"
        },
        "id": "ol6nnAzVUYCk",
        "outputId": "fb291353-28b5-49e1-d04f-73da8e58d86e"
      },
      "execution_count": 496,
      "outputs": [
        {
          "output_type": "execute_result",
          "data": {
            "text/plain": [
              "5796.5256115328575"
            ]
          },
          "metadata": {},
          "execution_count": 496
        }
      ]
    },
    {
      "cell_type": "code",
      "source": [
        "alcohol.std()"
      ],
      "metadata": {
        "colab": {
          "base_uri": "https://localhost:8080/"
        },
        "id": "K2L8eB_6UFoS",
        "outputId": "9dd43ffb-bb9b-4142-8a8b-1f9f7b9add99"
      },
      "execution_count": 497,
      "outputs": [
        {
          "output_type": "execute_result",
          "data": {
            "text/plain": [
              "76.13491716376173"
            ]
          },
          "metadata": {},
          "execution_count": 497
        }
      ]
    },
    {
      "cell_type": "code",
      "source": [
        "# How to calculate Std \n",
        "((alcohol.subtract(alcohol.mean())**2).sum()/(alcohol.count()-1))**(1/2)"
      ],
      "metadata": {
        "colab": {
          "base_uri": "https://localhost:8080/"
        },
        "id": "iOwJ9xF-cpqL",
        "outputId": "3edb6e06-9a4b-44a1-965e-00ce81e2b0e8"
      },
      "execution_count": 498,
      "outputs": [
        {
          "output_type": "execute_result",
          "data": {
            "text/plain": [
              "76.13491716376171"
            ]
          },
          "metadata": {},
          "execution_count": 498
        }
      ]
    },
    {
      "cell_type": "markdown",
      "source": [
        "# 55:Cumulative operations"
      ],
      "metadata": {
        "id": "GOJaH4XHdcif"
      }
    },
    {
      "cell_type": "code",
      "source": [
        "# sum()"
      ],
      "metadata": {
        "id": "Ssk-kF3Ldpo4"
      },
      "execution_count": 499,
      "outputs": []
    },
    {
      "cell_type": "code",
      "source": [
        "alcohol.sum()"
      ],
      "metadata": {
        "colab": {
          "base_uri": "https://localhost:8080/"
        },
        "id": "ZA417LW8d7gT",
        "outputId": "80d5da09-1161-4d09-970b-34a8e471baca"
      },
      "execution_count": 500,
      "outputs": [
        {
          "output_type": "execute_result",
          "data": {
            "text/plain": [
              "8221.0"
            ]
          },
          "metadata": {},
          "execution_count": 500
        }
      ]
    },
    {
      "cell_type": "code",
      "source": [
        "alcohol.cumsum()"
      ],
      "metadata": {
        "colab": {
          "base_uri": "https://localhost:8080/"
        },
        "id": "SNAzsodjeGPD",
        "outputId": "4d4e9831-5143-4043-cba0-cf86ee652a55"
      },
      "execution_count": 501,
      "outputs": [
        {
          "output_type": "execute_result",
          "data": {
            "text/plain": [
              "country\n",
              "Afghanistan       NaN\n",
              "Albania          54.0\n",
              "Algeria          68.0\n",
              "Andorra         380.0\n",
              "Angola          425.0\n",
              "                ...  \n",
              "Venezuela      8212.0\n",
              "Vietnam        8213.0\n",
              "Yemen             NaN\n",
              "Zambia         8217.0\n",
              "Zimbabwe       8221.0\n",
              "Name: wine_servings, Length: 193, dtype: float64"
            ]
          },
          "metadata": {},
          "execution_count": 501
        }
      ]
    },
    {
      "cell_type": "code",
      "source": [
        "alcohol.cumsum(skipna = False)"
      ],
      "metadata": {
        "colab": {
          "base_uri": "https://localhost:8080/"
        },
        "id": "31BkG-RyeMFQ",
        "outputId": "9896eefe-3f14-4486-f3d3-a0b94d1797ba"
      },
      "execution_count": 502,
      "outputs": [
        {
          "output_type": "execute_result",
          "data": {
            "text/plain": [
              "country\n",
              "Afghanistan   NaN\n",
              "Albania       NaN\n",
              "Algeria       NaN\n",
              "Andorra       NaN\n",
              "Angola        NaN\n",
              "               ..\n",
              "Venezuela     NaN\n",
              "Vietnam       NaN\n",
              "Yemen         NaN\n",
              "Zambia        NaN\n",
              "Zimbabwe      NaN\n",
              "Name: wine_servings, Length: 193, dtype: float64"
            ]
          },
          "metadata": {},
          "execution_count": 502
        }
      ]
    },
    {
      "cell_type": "code",
      "source": [
        "alcohol.cumsum(skipna = True)"
      ],
      "metadata": {
        "colab": {
          "base_uri": "https://localhost:8080/"
        },
        "id": "IqAMynCfd6nS",
        "outputId": "72e18912-ebb1-41c9-fb80-782124dedf4d"
      },
      "execution_count": 503,
      "outputs": [
        {
          "output_type": "execute_result",
          "data": {
            "text/plain": [
              "country\n",
              "Afghanistan       NaN\n",
              "Albania          54.0\n",
              "Algeria          68.0\n",
              "Andorra         380.0\n",
              "Angola          425.0\n",
              "                ...  \n",
              "Venezuela      8212.0\n",
              "Vietnam        8213.0\n",
              "Yemen             NaN\n",
              "Zambia         8217.0\n",
              "Zimbabwe       8221.0\n",
              "Name: wine_servings, Length: 193, dtype: float64"
            ]
          },
          "metadata": {},
          "execution_count": 503
        }
      ]
    },
    {
      "cell_type": "code",
      "source": [
        "alcohol.prod()"
      ],
      "metadata": {
        "colab": {
          "base_uri": "https://localhost:8080/"
        },
        "id": "7lYI-DyEepZS",
        "outputId": "6cfa6a26-6402-43ff-a600-4376795cfb38"
      },
      "execution_count": 504,
      "outputs": [
        {
          "output_type": "execute_result",
          "data": {
            "text/plain": [
              "3.4276115052182805e+183"
            ]
          },
          "metadata": {},
          "execution_count": 504
        }
      ]
    },
    {
      "cell_type": "code",
      "source": [
        "alcohol.cumprod()"
      ],
      "metadata": {
        "colab": {
          "base_uri": "https://localhost:8080/"
        },
        "id": "lrPlJLdrfAdO",
        "outputId": "233e3140-08d5-4fbc-9a56-8bcd9242b0db"
      },
      "execution_count": 505,
      "outputs": [
        {
          "output_type": "execute_result",
          "data": {
            "text/plain": [
              "country\n",
              "Afghanistan              NaN\n",
              "Albania         5.400000e+01\n",
              "Algeria         7.560000e+02\n",
              "Andorra         2.358720e+05\n",
              "Angola          1.061424e+07\n",
              "                   ...      \n",
              "Venezuela      2.142257e+182\n",
              "Vietnam        2.142257e+182\n",
              "Yemen                    NaN\n",
              "Zambia         8.569029e+182\n",
              "Zimbabwe       3.427612e+183\n",
              "Name: wine_servings, Length: 193, dtype: float64"
            ]
          },
          "metadata": {},
          "execution_count": 505
        }
      ]
    },
    {
      "cell_type": "code",
      "source": [
        "alcohol.cumprod()[-1] ==alcohol.prod()"
      ],
      "metadata": {
        "colab": {
          "base_uri": "https://localhost:8080/"
        },
        "id": "lFhAFnxtfE9Z",
        "outputId": "d48a9a25-3a74-442c-8f73-9d30b9363af3"
      },
      "execution_count": 506,
      "outputs": [
        {
          "output_type": "execute_result",
          "data": {
            "text/plain": [
              "True"
            ]
          },
          "metadata": {},
          "execution_count": 506
        }
      ]
    },
    {
      "cell_type": "code",
      "source": [
        "# Cummin()   #Cummax()\n",
        "alcohol.cummin()"
      ],
      "metadata": {
        "colab": {
          "base_uri": "https://localhost:8080/"
        },
        "id": "_1MP_qkofW5Y",
        "outputId": "7bc83375-827e-4af7-ec5c-2c510d5a5804"
      },
      "execution_count": 507,
      "outputs": [
        {
          "output_type": "execute_result",
          "data": {
            "text/plain": [
              "country\n",
              "Afghanistan     NaN\n",
              "Albania        54.0\n",
              "Algeria        14.0\n",
              "Andorra        14.0\n",
              "Angola         14.0\n",
              "               ... \n",
              "Venezuela       1.0\n",
              "Vietnam         1.0\n",
              "Yemen           NaN\n",
              "Zambia          1.0\n",
              "Zimbabwe        1.0\n",
              "Name: wine_servings, Length: 193, dtype: float64"
            ]
          },
          "metadata": {},
          "execution_count": 507
        }
      ]
    },
    {
      "cell_type": "code",
      "source": [
        "alcohol.cummax()"
      ],
      "metadata": {
        "colab": {
          "base_uri": "https://localhost:8080/"
        },
        "id": "-9ou8vSlfoS9",
        "outputId": "33b1d501-1801-4e83-d065-222893a9a262"
      },
      "execution_count": 508,
      "outputs": [
        {
          "output_type": "execute_result",
          "data": {
            "text/plain": [
              "country\n",
              "Afghanistan      NaN\n",
              "Albania         54.0\n",
              "Algeria         54.0\n",
              "Andorra        312.0\n",
              "Angola         312.0\n",
              "               ...  \n",
              "Venezuela      339.0\n",
              "Vietnam        339.0\n",
              "Yemen            NaN\n",
              "Zambia         339.0\n",
              "Zimbabwe       339.0\n",
              "Name: wine_servings, Length: 193, dtype: float64"
            ]
          },
          "metadata": {},
          "execution_count": 508
        }
      ]
    },
    {
      "cell_type": "markdown",
      "source": [
        "# **56: Pairwise Differences with diff()**"
      ],
      "metadata": {
        "id": "TAmrPPkVf5mY"
      }
    },
    {
      "cell_type": "code",
      "source": [
        "alcohol.head(5)"
      ],
      "metadata": {
        "colab": {
          "base_uri": "https://localhost:8080/"
        },
        "id": "A_QQqZfhkMZ7",
        "outputId": "f8c38f94-e6c4-4fa3-962f-a0219312452b"
      },
      "execution_count": 509,
      "outputs": [
        {
          "output_type": "execute_result",
          "data": {
            "text/plain": [
              "country\n",
              "Afghanistan      NaN\n",
              "Albania         54.0\n",
              "Algeria         14.0\n",
              "Andorra        312.0\n",
              "Angola          45.0\n",
              "Name: wine_servings, dtype: float64"
            ]
          },
          "metadata": {},
          "execution_count": 509
        }
      ]
    },
    {
      "cell_type": "code",
      "source": [
        "alcohol.diff()"
      ],
      "metadata": {
        "colab": {
          "base_uri": "https://localhost:8080/"
        },
        "id": "9Fnm34fOA3i6",
        "outputId": "ec962238-e8db-486f-cec1-af92fc65ca19"
      },
      "execution_count": 510,
      "outputs": [
        {
          "output_type": "execute_result",
          "data": {
            "text/plain": [
              "country\n",
              "Afghanistan      NaN\n",
              "Albania          NaN\n",
              "Algeria        -40.0\n",
              "Andorra        298.0\n",
              "Angola        -267.0\n",
              "               ...  \n",
              "Venezuela       -8.0\n",
              "Vietnam         -2.0\n",
              "Yemen            NaN\n",
              "Zambia           NaN\n",
              "Zimbabwe         0.0\n",
              "Name: wine_servings, Length: 193, dtype: float64"
            ]
          },
          "metadata": {},
          "execution_count": 510
        }
      ]
    },
    {
      "cell_type": "code",
      "source": [
        "alcohol.diff(periods=2).head()"
      ],
      "metadata": {
        "colab": {
          "base_uri": "https://localhost:8080/"
        },
        "id": "elmgMhY0kJf6",
        "outputId": "4dfca69d-8eac-4e77-b1ff-18226cc565ad"
      },
      "execution_count": 511,
      "outputs": [
        {
          "output_type": "execute_result",
          "data": {
            "text/plain": [
              "country\n",
              "Afghanistan      NaN\n",
              "Albania          NaN\n",
              "Algeria          NaN\n",
              "Andorra        258.0\n",
              "Angola          31.0\n",
              "Name: wine_servings, dtype: float64"
            ]
          },
          "metadata": {},
          "execution_count": 511
        }
      ]
    },
    {
      "cell_type": "markdown",
      "source": [
        "# 57:Series Iteration\n",
        "\n",
        "# NOTE: iteration is very important in data science."
      ],
      "metadata": {
        "id": "8gKlEsZFkz5g"
      }
    },
    {
      "cell_type": "code",
      "source": [
        "mini_alc = alcohol[:10]\n",
        "mini_alc"
      ],
      "metadata": {
        "colab": {
          "base_uri": "https://localhost:8080/"
        },
        "id": "cpEeddeKlHNU",
        "outputId": "eefd1a26-5346-4d59-e7df-9dd68def58a0"
      },
      "execution_count": 512,
      "outputs": [
        {
          "output_type": "execute_result",
          "data": {
            "text/plain": [
              "country\n",
              "Afghanistan            NaN\n",
              "Albania               54.0\n",
              "Algeria               14.0\n",
              "Andorra              312.0\n",
              "Angola                45.0\n",
              "Antigua & Barbuda     45.0\n",
              "Argentina            221.0\n",
              "Armenia               11.0\n",
              "Australia            212.0\n",
              "Austria              191.0\n",
              "Name: wine_servings, dtype: float64"
            ]
          },
          "metadata": {},
          "execution_count": 512
        }
      ]
    },
    {
      "cell_type": "code",
      "source": [
        "for i in mini_alc:\n",
        "  print(i) # this line printes only values "
      ],
      "metadata": {
        "colab": {
          "base_uri": "https://localhost:8080/"
        },
        "id": "htgGtTohlhnW",
        "outputId": "a0c96648-f363-4070-e309-458fe2a29a2b"
      },
      "execution_count": 513,
      "outputs": [
        {
          "output_type": "stream",
          "name": "stdout",
          "text": [
            "nan\n",
            "54.0\n",
            "14.0\n",
            "312.0\n",
            "45.0\n",
            "45.0\n",
            "221.0\n",
            "11.0\n",
            "212.0\n",
            "191.0\n"
          ]
        }
      ]
    },
    {
      "cell_type": "code",
      "source": [
        "# this line of code printes index \n",
        "for i in mini_alc.index:\n",
        "  print(i)"
      ],
      "metadata": {
        "colab": {
          "base_uri": "https://localhost:8080/"
        },
        "id": "sUq9WV0QlpQm",
        "outputId": "cad9bb6d-5864-47ed-c918-3afe7b1e089f"
      },
      "execution_count": 514,
      "outputs": [
        {
          "output_type": "stream",
          "name": "stdout",
          "text": [
            "Afghanistan\n",
            "Albania\n",
            "Algeria\n",
            "Andorra\n",
            "Angola\n",
            "Antigua & Barbuda\n",
            "Argentina\n",
            "Armenia\n",
            "Australia\n",
            "Austria\n"
          ]
        }
      ]
    },
    {
      "cell_type": "code",
      "source": [
        "# This line of the code print index and values as well.\n",
        "for i in mini_alc.index:\n",
        "  print(i,mini_alc[i])"
      ],
      "metadata": {
        "colab": {
          "base_uri": "https://localhost:8080/"
        },
        "id": "qWem9ikAmCga",
        "outputId": "08f26542-023c-40fb-fd73-e6bedf2a6276"
      },
      "execution_count": 515,
      "outputs": [
        {
          "output_type": "stream",
          "name": "stdout",
          "text": [
            "Afghanistan nan\n",
            "Albania 54.0\n",
            "Algeria 14.0\n",
            "Andorra 312.0\n",
            "Angola 45.0\n",
            "Antigua & Barbuda 45.0\n",
            "Argentina 221.0\n",
            "Armenia 11.0\n",
            "Australia 212.0\n",
            "Austria 191.0\n"
          ]
        }
      ]
    },
    {
      "cell_type": "code",
      "source": [
        "# Pandas item() method:  it returns tupels of value and index in Series \n",
        "for i in mini_alc.items():\n",
        "  print(i)"
      ],
      "metadata": {
        "colab": {
          "base_uri": "https://localhost:8080/"
        },
        "id": "BWeTvoxImSxX",
        "outputId": "1b72fb0e-c857-417c-b01d-86483fc73228"
      },
      "execution_count": 540,
      "outputs": [
        {
          "output_type": "stream",
          "name": "stdout",
          "text": [
            "('Afghanistan', 20.0)\n",
            "('Albania', 200.0)\n",
            "('Algeria', 20.0)\n",
            "('Andorra', 29.0)\n",
            "('Angola', 45.0)\n",
            "('Antigua & Barbuda', 45.0)\n",
            "('Argentina', 221.0)\n",
            "('Armenia', 11.0)\n",
            "('Australia', 212.0)\n",
            "('Austria', 191.0)\n"
          ]
        }
      ]
    },
    {
      "cell_type": "code",
      "source": [
        "for i in mini_alc.iteritems(): # items() is the alias of the iteritems() method and both of the return the same result.\n",
        "  print(i)"
      ],
      "metadata": {
        "colab": {
          "base_uri": "https://localhost:8080/"
        },
        "id": "DOCqTIKSm-hR",
        "outputId": "bf91309c-c19b-488b-d934-ba7c9f2edc0a"
      },
      "execution_count": 542,
      "outputs": [
        {
          "output_type": "stream",
          "name": "stdout",
          "text": [
            "('Afghanistan', 20.0)\n",
            "('Albania', 200.0)\n",
            "('Algeria', 20.0)\n",
            "('Andorra', 29.0)\n",
            "('Angola', 45.0)\n",
            "('Antigua & Barbuda', 45.0)\n",
            "('Argentina', 221.0)\n",
            "('Armenia', 11.0)\n",
            "('Australia', 212.0)\n",
            "('Austria', 191.0)\n"
          ]
        }
      ]
    },
    {
      "cell_type": "code",
      "source": [
        "sr = pd.Series([i for i in range(10,50,3)])"
      ],
      "metadata": {
        "id": "GWE_o--Ver8p"
      },
      "execution_count": 553,
      "outputs": []
    },
    {
      "cell_type": "code",
      "source": [
        "sr.head"
      ],
      "metadata": {
        "colab": {
          "base_uri": "https://localhost:8080/"
        },
        "id": "n4v7r-dye6iw",
        "outputId": "39e9146c-fb8c-4460-b9f3-418fa90fbfe6"
      },
      "execution_count": 554,
      "outputs": [
        {
          "output_type": "execute_result",
          "data": {
            "text/plain": [
              "<bound method NDFrame.head of 0     10\n",
              "1     13\n",
              "2     16\n",
              "3     19\n",
              "4     22\n",
              "5     25\n",
              "6     28\n",
              "7     31\n",
              "8     34\n",
              "9     37\n",
              "10    40\n",
              "11    43\n",
              "12    46\n",
              "13    49\n",
              "dtype: int64>"
            ]
          },
          "metadata": {},
          "execution_count": 554
        }
      ]
    },
    {
      "cell_type": "code",
      "source": [
        "for i in sr: \n",
        "  print(i)"
      ],
      "metadata": {
        "colab": {
          "base_uri": "https://localhost:8080/"
        },
        "id": "1zU9orRne8GS",
        "outputId": "3a909bd6-63e8-41fd-cc5a-3d3bcf7eecca"
      },
      "execution_count": 555,
      "outputs": [
        {
          "output_type": "stream",
          "name": "stdout",
          "text": [
            "10\n",
            "13\n",
            "16\n",
            "19\n",
            "22\n",
            "25\n",
            "28\n",
            "31\n",
            "34\n",
            "37\n",
            "40\n",
            "43\n",
            "46\n",
            "49\n"
          ]
        }
      ]
    },
    {
      "cell_type": "code",
      "source": [
        "for i in sr.index:\n",
        "  print(i)"
      ],
      "metadata": {
        "colab": {
          "base_uri": "https://localhost:8080/"
        },
        "id": "qQV6roW_fNvc",
        "outputId": "4bd28b2b-a2b9-42d4-9d98-a701acc16bbb"
      },
      "execution_count": 557,
      "outputs": [
        {
          "output_type": "stream",
          "name": "stdout",
          "text": [
            "0\n",
            "1\n",
            "2\n",
            "3\n",
            "4\n",
            "5\n",
            "6\n",
            "7\n",
            "8\n",
            "9\n",
            "10\n",
            "11\n",
            "12\n",
            "13\n"
          ]
        }
      ]
    },
    {
      "cell_type": "code",
      "source": [
        "for i in sr.index:\n",
        "  print(i,sr[i])"
      ],
      "metadata": {
        "colab": {
          "base_uri": "https://localhost:8080/"
        },
        "id": "SQawpjRAflNd",
        "outputId": "329994b9-6102-4c12-c834-f2198a33c9c6"
      },
      "execution_count": 563,
      "outputs": [
        {
          "output_type": "stream",
          "name": "stdout",
          "text": [
            "0 10\n",
            "1 13\n",
            "2 16\n",
            "3 19\n",
            "4 22\n",
            "5 25\n",
            "6 28\n",
            "7 31\n",
            "8 34\n",
            "9 37\n",
            "10 40\n",
            "11 43\n",
            "12 46\n",
            "13 49\n"
          ]
        }
      ]
    },
    {
      "cell_type": "code",
      "source": [
        "for i in sr.items():\n",
        "  print(i)"
      ],
      "metadata": {
        "colab": {
          "base_uri": "https://localhost:8080/"
        },
        "id": "9eVVnyVRgG0u",
        "outputId": "9a400e41-a40a-4435-d837-a515f421ade7"
      },
      "execution_count": 564,
      "outputs": [
        {
          "output_type": "stream",
          "name": "stdout",
          "text": [
            "(0, 10)\n",
            "(1, 13)\n",
            "(2, 16)\n",
            "(3, 19)\n",
            "(4, 22)\n",
            "(5, 25)\n",
            "(6, 28)\n",
            "(7, 31)\n",
            "(8, 34)\n",
            "(9, 37)\n",
            "(10, 40)\n",
            "(11, 43)\n",
            "(12, 46)\n",
            "(13, 49)\n"
          ]
        }
      ]
    },
    {
      "cell_type": "markdown",
      "source": [
        "# 58: Filtering of Series: filter(),Where(),And mask()\n",
        "\n",
        "# NOTE: filtering and where() are very important in Data cleaning."
      ],
      "metadata": {
        "id": "sw2eoTOantk-"
      }
    },
    {
      "cell_type": "code",
      "source": [
        "alcohol.filter(regex=\"^V\")"
      ],
      "metadata": {
        "colab": {
          "base_uri": "https://localhost:8080/"
        },
        "id": "ZUATlN85oLBX",
        "outputId": "425c6bd6-464f-4cd5-b501-41081c4b34fc"
      },
      "execution_count": 566,
      "outputs": [
        {
          "output_type": "execute_result",
          "data": {
            "text/plain": [
              "country\n",
              "Vanuatu      11.0\n",
              "Venezuela     3.0\n",
              "Vietnam       1.0\n",
              "Name: wine_servings, dtype: float64"
            ]
          },
          "metadata": {},
          "execution_count": 566
        }
      ]
    },
    {
      "cell_type": "code",
      "source": [
        "alcohol.filter(regex = \"^Az\")"
      ],
      "metadata": {
        "colab": {
          "base_uri": "https://localhost:8080/"
        },
        "id": "48ta8AF3ghkE",
        "outputId": "469fe8f4-272a-4165-acaa-b7fdf56a3342"
      },
      "execution_count": 570,
      "outputs": [
        {
          "output_type": "execute_result",
          "data": {
            "text/plain": [
              "country\n",
              "Azerbaijan    5.0\n",
              "Name: wine_servings, dtype: float64"
            ]
          },
          "metadata": {},
          "execution_count": 570
        }
      ]
    },
    {
      "cell_type": "code",
      "source": [
        "alcohol.filter(like = \"stan\") # it returns name of the countres they have stan "
      ],
      "metadata": {
        "colab": {
          "base_uri": "https://localhost:8080/"
        },
        "id": "cfkILMsFoIjl",
        "outputId": "505a78cf-31c7-400c-c90b-910b1fda3ee2"
      },
      "execution_count": 571,
      "outputs": [
        {
          "output_type": "execute_result",
          "data": {
            "text/plain": [
              "country\n",
              "Afghanistan     20.0\n",
              "Kazakhstan      12.0\n",
              "Kyrgyzstan       6.0\n",
              "Pakistan         NaN\n",
              "Tajikistan       NaN\n",
              "Turkmenistan    32.0\n",
              "Uzbekistan       8.0\n",
              "Name: wine_servings, dtype: float64"
            ]
          },
          "metadata": {},
          "execution_count": 571
        }
      ]
    },
    {
      "cell_type": "code",
      "source": [
        "alcohol.filter(like = \"nam\")"
      ],
      "metadata": {
        "colab": {
          "base_uri": "https://localhost:8080/"
        },
        "id": "t89jMEephbjm",
        "outputId": "c131795d-a7ef-4a9f-ff7d-3088abf12d0c"
      },
      "execution_count": 572,
      "outputs": [
        {
          "output_type": "execute_result",
          "data": {
            "text/plain": [
              "country\n",
              "Panama      18.0\n",
              "Suriname     7.0\n",
              "Vietnam      1.0\n",
              "Name: wine_servings, dtype: float64"
            ]
          },
          "metadata": {},
          "execution_count": 572
        }
      ]
    },
    {
      "cell_type": "code",
      "source": [
        "alcohol[alcohol >200]"
      ],
      "metadata": {
        "colab": {
          "base_uri": "https://localhost:8080/"
        },
        "id": "ifwGhv7zo1y_",
        "outputId": "66c72cfa-cb93-4a92-b3c8-ebe90b77e267"
      },
      "execution_count": 520,
      "outputs": [
        {
          "output_type": "execute_result",
          "data": {
            "text/plain": [
              "country\n",
              "Andorra              312.0\n",
              "Argentina            221.0\n",
              "Australia            212.0\n",
              "Belgium              212.0\n",
              "Croatia              254.0\n",
              "Denmark              278.0\n",
              "Equatorial Guinea    233.0\n",
              "Greece               218.0\n",
              "Italy                237.0\n",
              "Luxembourg           271.0\n",
              "Portugal             339.0\n",
              "Slovenia             276.0\n",
              "Name: wine_servings, dtype: float64"
            ]
          },
          "metadata": {},
          "execution_count": 520
        }
      ]
    },
    {
      "cell_type": "code",
      "source": [
        "alcohol.loc[alcohol >200]"
      ],
      "metadata": {
        "colab": {
          "base_uri": "https://localhost:8080/"
        },
        "id": "hp9MRetJpWAD",
        "outputId": "6f28a4ea-a663-4842-b411-95ad53786509"
      },
      "execution_count": 573,
      "outputs": [
        {
          "output_type": "execute_result",
          "data": {
            "text/plain": [
              "country\n",
              "Argentina            221.0\n",
              "Australia            212.0\n",
              "Belgium              212.0\n",
              "Croatia              254.0\n",
              "Denmark              278.0\n",
              "Equatorial Guinea    233.0\n",
              "Greece               218.0\n",
              "Italy                237.0\n",
              "Luxembourg           271.0\n",
              "Portugal             339.0\n",
              "Slovenia             276.0\n",
              "Name: wine_servings, dtype: float64"
            ]
          },
          "metadata": {},
          "execution_count": 573
        }
      ]
    },
    {
      "cell_type": "code",
      "source": [
        "sr = alcohol"
      ],
      "metadata": {
        "id": "v2p44_lIiAo7"
      },
      "execution_count": 574,
      "outputs": []
    },
    {
      "cell_type": "code",
      "source": [
        "sr"
      ],
      "metadata": {
        "colab": {
          "base_uri": "https://localhost:8080/"
        },
        "id": "p7XgVKpWiECE",
        "outputId": "b3ded77e-302d-4ddd-cd55-84642b414477"
      },
      "execution_count": 580,
      "outputs": [
        {
          "output_type": "execute_result",
          "data": {
            "text/plain": [
              "country\n",
              "Afghanistan     20.0\n",
              "Albania        200.0\n",
              "Algeria         20.0\n",
              "Andorra         29.0\n",
              "Angola          45.0\n",
              "               ...  \n",
              "Venezuela        3.0\n",
              "Vietnam          1.0\n",
              "Yemen            NaN\n",
              "Zambia           4.0\n",
              "Zimbabwe         4.0\n",
              "Name: wine_servings, Length: 193, dtype: float64"
            ]
          },
          "metadata": {},
          "execution_count": 580
        }
      ]
    },
    {
      "cell_type": "code",
      "source": [
        "sr.filter(regex = \"^A\").sample(3)"
      ],
      "metadata": {
        "colab": {
          "base_uri": "https://localhost:8080/"
        },
        "id": "OgSYbUBkiGiw",
        "outputId": "03d46946-70ff-45a9-b2d2-ee20ea1969f2"
      },
      "execution_count": 582,
      "outputs": [
        {
          "output_type": "execute_result",
          "data": {
            "text/plain": [
              "country\n",
              "Argentina    221.0\n",
              "Algeria       20.0\n",
              "Australia    212.0\n",
              "Name: wine_servings, dtype: float64"
            ]
          },
          "metadata": {},
          "execution_count": 582
        }
      ]
    },
    {
      "cell_type": "code",
      "source": [
        "sr.filter(like = \"ama\")"
      ],
      "metadata": {
        "colab": {
          "base_uri": "https://localhost:8080/"
        },
        "id": "nD3Ms9UPiYZ_",
        "outputId": "1e5113c5-411f-42d1-d68b-fbb49da6b372"
      },
      "execution_count": 584,
      "outputs": [
        {
          "output_type": "execute_result",
          "data": {
            "text/plain": [
              "country\n",
              "Bahamas    51.0\n",
              "Jamaica     9.0\n",
              "Panama     18.0\n",
              "Name: wine_servings, dtype: float64"
            ]
          },
          "metadata": {},
          "execution_count": 584
        }
      ]
    },
    {
      "cell_type": "code",
      "source": [
        "def get200(x):   # very simple and useful function in pandas and python.\n",
        "  return x > 200"
      ],
      "metadata": {
        "id": "4dMbfsu7pZik"
      },
      "execution_count": 585,
      "outputs": []
    },
    {
      "cell_type": "code",
      "source": [
        "alcohol[get200]"
      ],
      "metadata": {
        "colab": {
          "base_uri": "https://localhost:8080/"
        },
        "id": "bJkrsb0Cn6W-",
        "outputId": "1b7bc729-4253-4261-e4a6-5200e47639ef"
      },
      "execution_count": 587,
      "outputs": [
        {
          "output_type": "execute_result",
          "data": {
            "text/plain": [
              "country\n",
              "Argentina            221.0\n",
              "Australia            212.0\n",
              "Belgium              212.0\n",
              "Croatia              254.0\n",
              "Denmark              278.0\n",
              "Equatorial Guinea    233.0\n",
              "Greece               218.0\n",
              "Italy                237.0\n",
              "Luxembourg           271.0\n",
              "Portugal             339.0\n",
              "Slovenia             276.0\n",
              "Name: wine_servings, dtype: float64"
            ]
          },
          "metadata": {},
          "execution_count": 587
        }
      ]
    },
    {
      "cell_type": "code",
      "source": [
        "def get_250(x):\n",
        "  return x>250"
      ],
      "metadata": {
        "id": "XYyGgwhrjFkK"
      },
      "execution_count": 593,
      "outputs": []
    },
    {
      "cell_type": "code",
      "source": [
        "sr[get_250]"
      ],
      "metadata": {
        "colab": {
          "base_uri": "https://localhost:8080/"
        },
        "id": "qpPSyKaVjTUd",
        "outputId": "47ff0a7c-3398-43f3-9d2a-0363f64ed229"
      },
      "execution_count": 594,
      "outputs": [
        {
          "output_type": "execute_result",
          "data": {
            "text/plain": [
              "country\n",
              "Croatia       254.0\n",
              "Denmark       278.0\n",
              "Luxembourg    271.0\n",
              "Portugal      339.0\n",
              "Slovenia      276.0\n",
              "Name: wine_servings, dtype: float64"
            ]
          },
          "metadata": {},
          "execution_count": 594
        }
      ]
    },
    {
      "cell_type": "code",
      "source": [
        "# The where method()\n",
        "alcohol.where(lambda X: X >100).sample(5)\n",
        "#alcohol.where(lambda X: X>200,other = \"Number is to small\")"
      ],
      "metadata": {
        "colab": {
          "base_uri": "https://localhost:8080/"
        },
        "id": "vw9bH3FKpv1e",
        "outputId": "0ce93b63-b8e6-4caa-cfbc-c548714c9254"
      },
      "execution_count": 619,
      "outputs": [
        {
          "output_type": "execute_result",
          "data": {
            "text/plain": [
              "country\n",
              "Albania              200.0\n",
              "Qatar                  NaN\n",
              "St. Kitts & Nevis      NaN\n",
              "Georgia              149.0\n",
              "Colombia               NaN\n",
              "Name: wine_servings, dtype: float64"
            ]
          },
          "metadata": {},
          "execution_count": 619
        }
      ]
    },
    {
      "cell_type": "code",
      "source": [
        "# The Where method\n",
        "alcohol.where(alcohol >200,other = \"too small\")"
      ],
      "metadata": {
        "colab": {
          "base_uri": "https://localhost:8080/"
        },
        "id": "o3_kBP_xlfy0",
        "outputId": "b90a5dfa-4466-4485-bd58-b2a58cc147f9"
      },
      "execution_count": 525,
      "outputs": [
        {
          "output_type": "execute_result",
          "data": {
            "text/plain": [
              "country\n",
              "Afghanistan    too small\n",
              "Albania        too small\n",
              "Algeria        too small\n",
              "Andorra            312.0\n",
              "Angola         too small\n",
              "                 ...    \n",
              "Venezuela      too small\n",
              "Vietnam        too small\n",
              "Yemen          too small\n",
              "Zambia         too small\n",
              "Zimbabwe       too small\n",
              "Name: wine_servings, Length: 193, dtype: object"
            ]
          },
          "metadata": {},
          "execution_count": 525
        }
      ]
    },
    {
      "cell_type": "code",
      "source": [
        "#alcohol.where(lambda X: X >200).dropna()\n",
        "alcohol.where(lambda X: X>200).dropna().count()"
      ],
      "metadata": {
        "colab": {
          "base_uri": "https://localhost:8080/"
        },
        "id": "AJPjKOCSk5UU",
        "outputId": "b284b8bf-8cff-48ab-e1bc-f7284d353d5d"
      },
      "execution_count": 622,
      "outputs": [
        {
          "output_type": "execute_result",
          "data": {
            "text/plain": [
              "11"
            ]
          },
          "metadata": {},
          "execution_count": 622
        }
      ]
    },
    {
      "cell_type": "code",
      "source": [
        "sr.where(lambda X: X >200).dropna().size #.shape[0]"
      ],
      "metadata": {
        "colab": {
          "base_uri": "https://localhost:8080/"
        },
        "id": "YdyghQ0OomKJ",
        "outputId": "c798e542-f673-4ee3-cc71-3e2c4df22c14"
      },
      "execution_count": 632,
      "outputs": [
        {
          "output_type": "execute_result",
          "data": {
            "text/plain": [
              "11"
            ]
          },
          "metadata": {},
          "execution_count": 632
        }
      ]
    },
    {
      "cell_type": "code",
      "source": [
        "sr.where(lambda X: X>= 180).dropna().count()"
      ],
      "metadata": {
        "colab": {
          "base_uri": "https://localhost:8080/"
        },
        "id": "mt05jTTpo9SS",
        "outputId": "823ff5f3-65a5-493b-baa0-1430f809bad9"
      },
      "execution_count": 638,
      "outputs": [
        {
          "output_type": "execute_result",
          "data": {
            "text/plain": [
              "16"
            ]
          },
          "metadata": {},
          "execution_count": 638
        }
      ]
    },
    {
      "cell_type": "code",
      "source": [
        "# The mask method()"
      ],
      "metadata": {
        "id": "BbCP35G8rpbJ"
      },
      "execution_count": 527,
      "outputs": []
    },
    {
      "cell_type": "code",
      "source": [
        "alcohol.where(lambda X: X<= 200).dropna()"
      ],
      "metadata": {
        "colab": {
          "base_uri": "https://localhost:8080/"
        },
        "id": "DYTlE7k1rm74",
        "outputId": "fe964c24-c6ce-46ba-dad1-82b0dede40ec"
      },
      "execution_count": 528,
      "outputs": [
        {
          "output_type": "execute_result",
          "data": {
            "text/plain": [
              "country\n",
              "Albania              54.0\n",
              "Algeria              14.0\n",
              "Angola               45.0\n",
              "Antigua & Barbuda    45.0\n",
              "Armenia              11.0\n",
              "                     ... \n",
              "Vanuatu              11.0\n",
              "Venezuela             3.0\n",
              "Vietnam               1.0\n",
              "Zambia                4.0\n",
              "Zimbabwe              4.0\n",
              "Name: wine_servings, Length: 150, dtype: float64"
            ]
          },
          "metadata": {},
          "execution_count": 528
        }
      ]
    },
    {
      "cell_type": "code",
      "source": [
        "alcohol.mask(lambda X: X > 200).dropna() # NOTE: mask method returns oposite values than condition values. "
      ],
      "metadata": {
        "colab": {
          "base_uri": "https://localhost:8080/"
        },
        "id": "rqnD1N59sjBr",
        "outputId": "dff914d2-31a6-4105-e1ac-ecf421d3c276"
      },
      "execution_count": 639,
      "outputs": [
        {
          "output_type": "execute_result",
          "data": {
            "text/plain": [
              "country\n",
              "Afghanistan     20.0\n",
              "Albania        200.0\n",
              "Algeria         20.0\n",
              "Andorra         29.0\n",
              "Angola          45.0\n",
              "               ...  \n",
              "Vanuatu         11.0\n",
              "Venezuela        3.0\n",
              "Vietnam          1.0\n",
              "Zambia           4.0\n",
              "Zimbabwe         4.0\n",
              "Name: wine_servings, Length: 152, dtype: float64"
            ]
          },
          "metadata": {},
          "execution_count": 639
        }
      ]
    },
    {
      "cell_type": "code",
      "source": [
        "#sr.mask(lambda X:X >180).count()\n",
        "sr.mask(lambda X: X >180).dropna().count()"
      ],
      "metadata": {
        "id": "Gmcp2pOMstaX",
        "colab": {
          "base_uri": "https://localhost:8080/"
        },
        "outputId": "bb29c624-7b2b-4ed5-81da-bf07f74f245b"
      },
      "execution_count": 643,
      "outputs": [
        {
          "output_type": "execute_result",
          "data": {
            "text/plain": [
              "147"
            ]
          },
          "metadata": {},
          "execution_count": 643
        }
      ]
    },
    {
      "cell_type": "code",
      "source": [
        "sr.mask(lambda X: X > 180).dropna()"
      ],
      "metadata": {
        "colab": {
          "base_uri": "https://localhost:8080/"
        },
        "id": "JDmKs3pMq3cJ",
        "outputId": "5e9cbac0-5a8c-46db-8a3e-6575324a3c31"
      },
      "execution_count": 644,
      "outputs": [
        {
          "output_type": "execute_result",
          "data": {
            "text/plain": [
              "country\n",
              "Afghanistan          20.0\n",
              "Algeria              20.0\n",
              "Andorra              29.0\n",
              "Angola               45.0\n",
              "Antigua & Barbuda    45.0\n",
              "                     ... \n",
              "Vanuatu              11.0\n",
              "Venezuela             3.0\n",
              "Vietnam               1.0\n",
              "Zambia                4.0\n",
              "Zimbabwe              4.0\n",
              "Name: wine_servings, Length: 147, dtype: float64"
            ]
          },
          "metadata": {},
          "execution_count": 644
        }
      ]
    },
    {
      "cell_type": "markdown",
      "source": [
        "# **59: Transforming With update(),apply() And map()**\n",
        "\n",
        "NOTE: This topicts is very important for data Analitics"
      ],
      "metadata": {
        "id": "HLyBs7pptRah"
      }
    },
    {
      "cell_type": "code",
      "source": [
        "alcohol.head(10)"
      ],
      "metadata": {
        "colab": {
          "base_uri": "https://localhost:8080/"
        },
        "id": "waDp8Ojnto9q",
        "outputId": "8d5bb675-bb98-44a7-a336-93dce32bef51"
      },
      "execution_count": 530,
      "outputs": [
        {
          "output_type": "execute_result",
          "data": {
            "text/plain": [
              "country\n",
              "Afghanistan            NaN\n",
              "Albania               54.0\n",
              "Algeria               14.0\n",
              "Andorra              312.0\n",
              "Angola                45.0\n",
              "Antigua & Barbuda     45.0\n",
              "Argentina            221.0\n",
              "Armenia               11.0\n",
              "Australia            212.0\n",
              "Austria              191.0\n",
              "Name: wine_servings, dtype: float64"
            ]
          },
          "metadata": {},
          "execution_count": 530
        }
      ]
    },
    {
      "cell_type": "code",
      "source": [
        "#Spot V global Transforms\n",
        "alcohol.loc[\"Algeria\"] =19"
      ],
      "metadata": {
        "id": "LkoZ2NaXt3sa"
      },
      "execution_count": 531,
      "outputs": []
    },
    {
      "cell_type": "code",
      "source": [
        "alcohol.head(10)"
      ],
      "metadata": {
        "colab": {
          "base_uri": "https://localhost:8080/"
        },
        "id": "94j_QLhTuOuv",
        "outputId": "5e5e7de3-0376-4c8c-9195-0e0ab8ca6894"
      },
      "execution_count": 532,
      "outputs": [
        {
          "output_type": "execute_result",
          "data": {
            "text/plain": [
              "country\n",
              "Afghanistan            NaN\n",
              "Albania               54.0\n",
              "Algeria               19.0\n",
              "Andorra              312.0\n",
              "Angola                45.0\n",
              "Antigua & Barbuda     45.0\n",
              "Argentina            221.0\n",
              "Armenia               11.0\n",
              "Australia            212.0\n",
              "Austria              191.0\n",
              "Name: wine_servings, dtype: float64"
            ]
          },
          "metadata": {},
          "execution_count": 532
        }
      ]
    },
    {
      "cell_type": "code",
      "source": [
        "alcohol.loc[\"Albania\"]= 190\n",
        "alcohol.loc[\"Afghanistan\"]= 20\n",
        "alcohol.loc[\"Andorra\"]= 29"
      ],
      "metadata": {
        "id": "xr3dYdqeuR9L"
      },
      "execution_count": 533,
      "outputs": []
    },
    {
      "cell_type": "code",
      "source": [
        "alcohol.head(10)"
      ],
      "metadata": {
        "colab": {
          "base_uri": "https://localhost:8080/"
        },
        "id": "97zb7YF6uqnP",
        "outputId": "40b6340f-2c11-4741-857f-78573e69e8b9"
      },
      "execution_count": 534,
      "outputs": [
        {
          "output_type": "execute_result",
          "data": {
            "text/plain": [
              "country\n",
              "Afghanistan           20.0\n",
              "Albania              190.0\n",
              "Algeria               19.0\n",
              "Andorra               29.0\n",
              "Angola                45.0\n",
              "Antigua & Barbuda     45.0\n",
              "Argentina            221.0\n",
              "Armenia               11.0\n",
              "Australia            212.0\n",
              "Austria              191.0\n",
              "Name: wine_servings, dtype: float64"
            ]
          },
          "metadata": {},
          "execution_count": 534
        }
      ]
    },
    {
      "cell_type": "code",
      "source": [
        "# NOTE: let's do with better way."
      ],
      "metadata": {
        "id": "tEwLb6Gsus5-"
      },
      "execution_count": 535,
      "outputs": []
    },
    {
      "cell_type": "code",
      "source": [
        "# The update() method.\n",
        "\n",
        "alcohol.update(pd.Series(data= [200,20],index = [\"Albania\",\"Algeria\"]))"
      ],
      "metadata": {
        "id": "C48MLawZvAZW"
      },
      "execution_count": 536,
      "outputs": []
    },
    {
      "cell_type": "code",
      "source": [
        "alcohol.head(10)"
      ],
      "metadata": {
        "colab": {
          "base_uri": "https://localhost:8080/"
        },
        "id": "zhxd8Kgfsg0x",
        "outputId": "938dc2d4-fbdb-4aa8-f18e-a0092679e4de"
      },
      "execution_count": 537,
      "outputs": [
        {
          "output_type": "execute_result",
          "data": {
            "text/plain": [
              "country\n",
              "Afghanistan           20.0\n",
              "Albania              200.0\n",
              "Algeria               20.0\n",
              "Andorra               29.0\n",
              "Angola                45.0\n",
              "Antigua & Barbuda     45.0\n",
              "Argentina            221.0\n",
              "Armenia               11.0\n",
              "Australia            212.0\n",
              "Austria              191.0\n",
              "Name: wine_servings, dtype: float64"
            ]
          },
          "metadata": {},
          "execution_count": 537
        }
      ]
    },
    {
      "cell_type": "code",
      "source": [
        "# The apply method;\n",
        "alcohol.apply(lambda X: X**2)"
      ],
      "metadata": {
        "colab": {
          "base_uri": "https://localhost:8080/"
        },
        "id": "l259JPXNvgZR",
        "outputId": "97f185d4-5b9b-48df-dbcb-9d6699a7a4f0"
      },
      "execution_count": 648,
      "outputs": [
        {
          "output_type": "execute_result",
          "data": {
            "text/plain": [
              "country\n",
              "Afghanistan      400.0\n",
              "Albania        40000.0\n",
              "Algeria          400.0\n",
              "Andorra          841.0\n",
              "Angola          2025.0\n",
              "                ...   \n",
              "Venezuela          9.0\n",
              "Vietnam            1.0\n",
              "Yemen              NaN\n",
              "Zambia            16.0\n",
              "Zimbabwe          16.0\n",
              "Name: wine_servings, Length: 193, dtype: float64"
            ]
          },
          "metadata": {},
          "execution_count": 648
        }
      ]
    },
    {
      "cell_type": "code",
      "source": [
        "sr.apply(lambda X: (X*3)/2) # Try any Arithmatic opration you like here. "
      ],
      "metadata": {
        "colab": {
          "base_uri": "https://localhost:8080/"
        },
        "id": "lgRf4EuetIWC",
        "outputId": "51d02eef-7657-4281-b4a3-6794b0a385c8"
      },
      "execution_count": 650,
      "outputs": [
        {
          "output_type": "execute_result",
          "data": {
            "text/plain": [
              "country\n",
              "Afghanistan     30.0\n",
              "Albania        300.0\n",
              "Algeria         30.0\n",
              "Andorra         43.5\n",
              "Angola          67.5\n",
              "               ...  \n",
              "Venezuela        4.5\n",
              "Vietnam          1.5\n",
              "Yemen            NaN\n",
              "Zambia           6.0\n",
              "Zimbabwe         6.0\n",
              "Name: wine_servings, Length: 193, dtype: float64"
            ]
          },
          "metadata": {},
          "execution_count": 650
        }
      ]
    },
    {
      "cell_type": "code",
      "source": [
        "import numpy as np\n"
      ],
      "metadata": {
        "id": "wkF_dch5ssJe"
      },
      "execution_count": 646,
      "outputs": []
    },
    {
      "cell_type": "code",
      "source": [
        "alcohol.apply(np.square)"
      ],
      "metadata": {
        "colab": {
          "base_uri": "https://localhost:8080/"
        },
        "id": "gdJy__wsv1VE",
        "outputId": "befddaca-5740-4dc6-9b7c-12936f99d4ae"
      },
      "execution_count": 647,
      "outputs": [
        {
          "output_type": "execute_result",
          "data": {
            "text/plain": [
              "country\n",
              "Afghanistan      400.0\n",
              "Albania        40000.0\n",
              "Algeria          400.0\n",
              "Andorra          841.0\n",
              "Angola          2025.0\n",
              "                ...   \n",
              "Venezuela          9.0\n",
              "Vietnam            1.0\n",
              "Yemen              NaN\n",
              "Zambia            16.0\n",
              "Zimbabwe          16.0\n",
              "Name: wine_servings, Length: 193, dtype: float64"
            ]
          },
          "metadata": {},
          "execution_count": 647
        }
      ]
    },
    {
      "cell_type": "code",
      "source": [
        "# 3RD approche \n",
        "def multiply_by_self(X):\n",
        "  return X*X"
      ],
      "metadata": {
        "id": "0XHe7NUKv9GC"
      },
      "execution_count": 651,
      "outputs": []
    },
    {
      "cell_type": "code",
      "source": [
        "alcohol.apply(multiply_by_self)"
      ],
      "metadata": {
        "colab": {
          "base_uri": "https://localhost:8080/"
        },
        "id": "Y9gr562oAAjg",
        "outputId": "9291a206-956f-41c3-dff7-b376f0877508"
      },
      "execution_count": 652,
      "outputs": [
        {
          "output_type": "execute_result",
          "data": {
            "text/plain": [
              "country\n",
              "Afghanistan      400.0\n",
              "Albania        40000.0\n",
              "Algeria          400.0\n",
              "Andorra          841.0\n",
              "Angola          2025.0\n",
              "                ...   \n",
              "Venezuela          9.0\n",
              "Vietnam            1.0\n",
              "Yemen              NaN\n",
              "Zambia            16.0\n",
              "Zimbabwe          16.0\n",
              "Name: wine_servings, Length: 193, dtype: float64"
            ]
          },
          "metadata": {},
          "execution_count": 652
        }
      ]
    },
    {
      "cell_type": "code",
      "source": [
        "def multiply_by_self_with_min(X,min_servings):\n",
        "  if X < min_servings:\n",
        "    return X**2\n",
        "  return X"
      ],
      "metadata": {
        "id": "dRrkXTyT_92m"
      },
      "execution_count": 653,
      "outputs": []
    },
    {
      "cell_type": "code",
      "source": [
        "alcohol.apply(multiply_by_self_with_min,  args= (200,))"
      ],
      "metadata": {
        "id": "yL4x3hybcUzl",
        "colab": {
          "base_uri": "https://localhost:8080/"
        },
        "outputId": "f7253740-2089-4801-f09b-3f5ad446645a"
      },
      "execution_count": 654,
      "outputs": [
        {
          "output_type": "execute_result",
          "data": {
            "text/plain": [
              "country\n",
              "Afghanistan     400.0\n",
              "Albania         200.0\n",
              "Algeria         400.0\n",
              "Andorra         841.0\n",
              "Angola         2025.0\n",
              "                ...  \n",
              "Venezuela         9.0\n",
              "Vietnam           1.0\n",
              "Yemen             NaN\n",
              "Zambia           16.0\n",
              "Zimbabwe         16.0\n",
              "Name: wine_servings, Length: 193, dtype: float64"
            ]
          },
          "metadata": {},
          "execution_count": 654
        }
      ]
    },
    {
      "cell_type": "code",
      "source": [
        "# OR 2nd option:\n",
        "alcohol.apply(multiply_by_self_with_min, min_servings = 200)"
      ],
      "metadata": {
        "colab": {
          "base_uri": "https://localhost:8080/"
        },
        "id": "WTMsaXoPxuvl",
        "outputId": "364e702d-d6e7-42ec-c659-adc3f502b583"
      },
      "execution_count": 656,
      "outputs": [
        {
          "output_type": "execute_result",
          "data": {
            "text/plain": [
              "country\n",
              "Afghanistan     400.0\n",
              "Albania         200.0\n",
              "Algeria         400.0\n",
              "Andorra         841.0\n",
              "Angola         2025.0\n",
              "                ...  \n",
              "Venezuela         9.0\n",
              "Vietnam           1.0\n",
              "Yemen             NaN\n",
              "Zambia           16.0\n",
              "Zimbabwe         16.0\n",
              "Name: wine_servings, Length: 193, dtype: float64"
            ]
          },
          "metadata": {},
          "execution_count": 656
        }
      ]
    },
    {
      "cell_type": "code",
      "source": [
        "# The map method."
      ],
      "metadata": {
        "id": "cnjQ2sjcyHPp"
      },
      "execution_count": 657,
      "outputs": []
    },
    {
      "cell_type": "markdown",
      "source": [
        "# 60: Skill challenge "
      ],
      "metadata": {
        "id": "5P-DhMSKy9Wl"
      }
    },
    {
      "cell_type": "code",
      "source": [
        "data_url=('http://andybek.com/pandas-drinks')\n"
      ],
      "metadata": {
        "id": "ozmwEPPyzGpj"
      },
      "execution_count": 658,
      "outputs": []
    },
    {
      "cell_type": "code",
      "source": [
        "beers =pd.read_csv(data_url, usecols = [\"country\",\"beer_servings\"])"
      ],
      "metadata": {
        "id": "IaqyEbSjgsRo"
      },
      "execution_count": 659,
      "outputs": []
    },
    {
      "cell_type": "code",
      "source": [
        "beers .head()"
      ],
      "metadata": {
        "colab": {
          "base_uri": "https://localhost:8080/",
          "height": 206
        },
        "id": "7qjE9fkohBTy",
        "outputId": "4d5e27c5-9cf8-478c-f3a0-ef06e2843f9b"
      },
      "execution_count": 660,
      "outputs": [
        {
          "output_type": "execute_result",
          "data": {
            "text/plain": [
              "       country  beer_servings\n",
              "0  Afghanistan            NaN\n",
              "1      Albania           89.0\n",
              "2      Algeria           25.0\n",
              "3      Andorra          245.0\n",
              "4       Angola          217.0"
            ],
            "text/html": [
              "\n",
              "  <div id=\"df-2464a37a-0716-4e35-bc33-a1bd8db8e5cb\">\n",
              "    <div class=\"colab-df-container\">\n",
              "      <div>\n",
              "<style scoped>\n",
              "    .dataframe tbody tr th:only-of-type {\n",
              "        vertical-align: middle;\n",
              "    }\n",
              "\n",
              "    .dataframe tbody tr th {\n",
              "        vertical-align: top;\n",
              "    }\n",
              "\n",
              "    .dataframe thead th {\n",
              "        text-align: right;\n",
              "    }\n",
              "</style>\n",
              "<table border=\"1\" class=\"dataframe\">\n",
              "  <thead>\n",
              "    <tr style=\"text-align: right;\">\n",
              "      <th></th>\n",
              "      <th>country</th>\n",
              "      <th>beer_servings</th>\n",
              "    </tr>\n",
              "  </thead>\n",
              "  <tbody>\n",
              "    <tr>\n",
              "      <th>0</th>\n",
              "      <td>Afghanistan</td>\n",
              "      <td>NaN</td>\n",
              "    </tr>\n",
              "    <tr>\n",
              "      <th>1</th>\n",
              "      <td>Albania</td>\n",
              "      <td>89.0</td>\n",
              "    </tr>\n",
              "    <tr>\n",
              "      <th>2</th>\n",
              "      <td>Algeria</td>\n",
              "      <td>25.0</td>\n",
              "    </tr>\n",
              "    <tr>\n",
              "      <th>3</th>\n",
              "      <td>Andorra</td>\n",
              "      <td>245.0</td>\n",
              "    </tr>\n",
              "    <tr>\n",
              "      <th>4</th>\n",
              "      <td>Angola</td>\n",
              "      <td>217.0</td>\n",
              "    </tr>\n",
              "  </tbody>\n",
              "</table>\n",
              "</div>\n",
              "      <button class=\"colab-df-convert\" onclick=\"convertToInteractive('df-2464a37a-0716-4e35-bc33-a1bd8db8e5cb')\"\n",
              "              title=\"Convert this dataframe to an interactive table.\"\n",
              "              style=\"display:none;\">\n",
              "        \n",
              "  <svg xmlns=\"http://www.w3.org/2000/svg\" height=\"24px\"viewBox=\"0 0 24 24\"\n",
              "       width=\"24px\">\n",
              "    <path d=\"M0 0h24v24H0V0z\" fill=\"none\"/>\n",
              "    <path d=\"M18.56 5.44l.94 2.06.94-2.06 2.06-.94-2.06-.94-.94-2.06-.94 2.06-2.06.94zm-11 1L8.5 8.5l.94-2.06 2.06-.94-2.06-.94L8.5 2.5l-.94 2.06-2.06.94zm10 10l.94 2.06.94-2.06 2.06-.94-2.06-.94-.94-2.06-.94 2.06-2.06.94z\"/><path d=\"M17.41 7.96l-1.37-1.37c-.4-.4-.92-.59-1.43-.59-.52 0-1.04.2-1.43.59L10.3 9.45l-7.72 7.72c-.78.78-.78 2.05 0 2.83L4 21.41c.39.39.9.59 1.41.59.51 0 1.02-.2 1.41-.59l7.78-7.78 2.81-2.81c.8-.78.8-2.07 0-2.86zM5.41 20L4 18.59l7.72-7.72 1.47 1.35L5.41 20z\"/>\n",
              "  </svg>\n",
              "      </button>\n",
              "      \n",
              "  <style>\n",
              "    .colab-df-container {\n",
              "      display:flex;\n",
              "      flex-wrap:wrap;\n",
              "      gap: 12px;\n",
              "    }\n",
              "\n",
              "    .colab-df-convert {\n",
              "      background-color: #E8F0FE;\n",
              "      border: none;\n",
              "      border-radius: 50%;\n",
              "      cursor: pointer;\n",
              "      display: none;\n",
              "      fill: #1967D2;\n",
              "      height: 32px;\n",
              "      padding: 0 0 0 0;\n",
              "      width: 32px;\n",
              "    }\n",
              "\n",
              "    .colab-df-convert:hover {\n",
              "      background-color: #E2EBFA;\n",
              "      box-shadow: 0px 1px 2px rgba(60, 64, 67, 0.3), 0px 1px 3px 1px rgba(60, 64, 67, 0.15);\n",
              "      fill: #174EA6;\n",
              "    }\n",
              "\n",
              "    [theme=dark] .colab-df-convert {\n",
              "      background-color: #3B4455;\n",
              "      fill: #D2E3FC;\n",
              "    }\n",
              "\n",
              "    [theme=dark] .colab-df-convert:hover {\n",
              "      background-color: #434B5C;\n",
              "      box-shadow: 0px 1px 3px 1px rgba(0, 0, 0, 0.15);\n",
              "      filter: drop-shadow(0px 1px 2px rgba(0, 0, 0, 0.3));\n",
              "      fill: #FFFFFF;\n",
              "    }\n",
              "  </style>\n",
              "\n",
              "      <script>\n",
              "        const buttonEl =\n",
              "          document.querySelector('#df-2464a37a-0716-4e35-bc33-a1bd8db8e5cb button.colab-df-convert');\n",
              "        buttonEl.style.display =\n",
              "          google.colab.kernel.accessAllowed ? 'block' : 'none';\n",
              "\n",
              "        async function convertToInteractive(key) {\n",
              "          const element = document.querySelector('#df-2464a37a-0716-4e35-bc33-a1bd8db8e5cb');\n",
              "          const dataTable =\n",
              "            await google.colab.kernel.invokeFunction('convertToInteractive',\n",
              "                                                     [key], {});\n",
              "          if (!dataTable) return;\n",
              "\n",
              "          const docLinkHtml = 'Like what you see? Visit the ' +\n",
              "            '<a target=\"_blank\" href=https://colab.research.google.com/notebooks/data_table.ipynb>data table notebook</a>'\n",
              "            + ' to learn more about interactive tables.';\n",
              "          element.innerHTML = '';\n",
              "          dataTable['output_type'] = 'display_data';\n",
              "          await google.colab.output.renderOutput(dataTable, element);\n",
              "          const docLink = document.createElement('div');\n",
              "          docLink.innerHTML = docLinkHtml;\n",
              "          element.appendChild(docLink);\n",
              "        }\n",
              "      </script>\n",
              "    </div>\n",
              "  </div>\n",
              "  "
            ]
          },
          "metadata": {},
          "execution_count": 660
        }
      ]
    },
    {
      "cell_type": "code",
      "source": [
        "# use country as index \n",
        "beers =pd.read_csv(data_url, usecols = [\"country\",\"beer_servings\"],index_col = \"country\",squeeze = True)"
      ],
      "metadata": {
        "id": "cxwNMEHPhoE-"
      },
      "execution_count": 688,
      "outputs": []
    },
    {
      "cell_type": "code",
      "source": [
        "beers.head(3)"
      ],
      "metadata": {
        "colab": {
          "base_uri": "https://localhost:8080/"
        },
        "id": "2jF2o_Sth57e",
        "outputId": "a7dede5f-0dc2-4909-ae96-05f6cff2ae27"
      },
      "execution_count": 690,
      "outputs": [
        {
          "output_type": "execute_result",
          "data": {
            "text/plain": [
              "country\n",
              "Afghanistan     NaN\n",
              "Albania        89.0\n",
              "Algeria        25.0\n",
              "Name: beer_servings, dtype: float64"
            ]
          },
          "metadata": {},
          "execution_count": 690
        }
      ]
    },
    {
      "cell_type": "code",
      "source": [
        "beers.mean()"
      ],
      "metadata": {
        "colab": {
          "base_uri": "https://localhost:8080/"
        },
        "id": "dHxprKFzh7_W",
        "outputId": "2f9e41a3-0124-4bb0-ea5e-98dffc99e322"
      },
      "execution_count": 663,
      "outputs": [
        {
          "output_type": "execute_result",
          "data": {
            "text/plain": [
              "102.87078651685393"
            ]
          },
          "metadata": {},
          "execution_count": 663
        }
      ]
    },
    {
      "cell_type": "code",
      "source": [
        "beers.median()"
      ],
      "metadata": {
        "colab": {
          "base_uri": "https://localhost:8080/"
        },
        "id": "LH4n-aICiUIt",
        "outputId": "7aa3bc5c-9922-44e9-fa23-fa0dded3b772"
      },
      "execution_count": 664,
      "outputs": [
        {
          "output_type": "execute_result",
          "data": {
            "text/plain": [
              "60.0"
            ]
          },
          "metadata": {},
          "execution_count": 664
        }
      ]
    },
    {
      "cell_type": "code",
      "source": [
        "beers.mode()"
      ],
      "metadata": {
        "colab": {
          "base_uri": "https://localhost:8080/"
        },
        "id": "_edx9gGWiWl4",
        "outputId": "c0f58547-2a18-4a08-8956-32f3bb05d11d"
      },
      "execution_count": 665,
      "outputs": [
        {
          "output_type": "execute_result",
          "data": {
            "text/plain": [
              "0    5.0\n",
              "1    6.0\n",
              "2    9.0\n",
              "dtype: float64"
            ]
          },
          "metadata": {},
          "execution_count": 665
        }
      ]
    },
    {
      "cell_type": "code",
      "source": [
        "beers.quantile(.50)"
      ],
      "metadata": {
        "colab": {
          "base_uri": "https://localhost:8080/"
        },
        "id": "9UQQGhhtia14",
        "outputId": "ced35920-6d57-4e33-8f50-4a01a712dd2d"
      },
      "execution_count": 666,
      "outputs": [
        {
          "output_type": "execute_result",
          "data": {
            "text/plain": [
              "60.0"
            ]
          },
          "metadata": {},
          "execution_count": 666
        }
      ]
    },
    {
      "cell_type": "code",
      "source": [
        "beers.std()"
      ],
      "metadata": {
        "colab": {
          "base_uri": "https://localhost:8080/"
        },
        "id": "aQn1ezXoiYvB",
        "outputId": "fd42ce52-f919-4ce0-8a6b-356757c0f7b4"
      },
      "execution_count": 667,
      "outputs": [
        {
          "output_type": "execute_result",
          "data": {
            "text/plain": [
              "100.64571267934778"
            ]
          },
          "metadata": {},
          "execution_count": 667
        }
      ]
    },
    {
      "cell_type": "code",
      "source": [
        "beers.var()"
      ],
      "metadata": {
        "colab": {
          "base_uri": "https://localhost:8080/"
        },
        "id": "0H0CXH2dik8v",
        "outputId": "27322561-7cd8-48ca-f61d-df9fb2e54b9f"
      },
      "execution_count": 668,
      "outputs": [
        {
          "output_type": "execute_result",
          "data": {
            "text/plain": [
              "10129.559480733828"
            ]
          },
          "metadata": {},
          "execution_count": 668
        }
      ]
    },
    {
      "cell_type": "code",
      "source": [
        "# our data is right Skewerd \n",
        "beers.hist();"
      ],
      "metadata": {
        "colab": {
          "base_uri": "https://localhost:8080/",
          "height": 265
        },
        "id": "Z_mz6IecinuR",
        "outputId": "e1f382b8-9d25-4061-cc84-19683f931065"
      },
      "execution_count": 669,
      "outputs": [
        {
          "output_type": "display_data",
          "data": {
            "text/plain": [
              "<Figure size 432x288 with 1 Axes>"
            ],
            "image/png": "[encoded data removed]"
          },
          "metadata": {
            "needs_background": "light"
          }
        }
      ]
    },
    {
      "cell_type": "code",
      "source": [
        "beers.describe()"
      ],
      "metadata": {
        "colab": {
          "base_uri": "https://localhost:8080/"
        },
        "id": "CxQaiRSRiykK",
        "outputId": "f4f86984-207c-452e-cd7f-981a97f049bb"
      },
      "execution_count": 670,
      "outputs": [
        {
          "output_type": "execute_result",
          "data": {
            "text/plain": [
              "count    178.000000\n",
              "mean     102.870787\n",
              "std      100.645713\n",
              "min        1.000000\n",
              "25%       21.000000\n",
              "50%       60.000000\n",
              "75%      172.500000\n",
              "max      376.000000\n",
              "Name: beer_servings, dtype: float64"
            ]
          },
          "metadata": {},
          "execution_count": 670
        }
      ]
    },
    {
      "cell_type": "code",
      "source": [
        "# find first 10 country \n",
        "beers[:10]"
      ],
      "metadata": {
        "colab": {
          "base_uri": "https://localhost:8080/"
        },
        "id": "DK4s3hK3jOE7",
        "outputId": "6b8789c0-8456-4395-d543-f2d4b85788b4"
      },
      "execution_count": 694,
      "outputs": [
        {
          "output_type": "execute_result",
          "data": {
            "text/plain": [
              "country\n",
              "Afghanistan            NaN\n",
              "Albania               89.0\n",
              "Algeria               25.0\n",
              "Andorra              245.0\n",
              "Angola               217.0\n",
              "Antigua & Barbuda     12.0\n",
              "Argentina            193.0\n",
              "Armenia               21.0\n",
              "Australia            261.0\n",
              "Austria              279.0\n",
              "Name: beer_servings, dtype: float64"
            ]
          },
          "metadata": {},
          "execution_count": 694
        }
      ]
    },
    {
      "cell_type": "code",
      "source": [
        "# are there reletively bigger or smaller than mean values.\n",
        "beers[:10]- beers.mean()"
      ],
      "metadata": {
        "colab": {
          "base_uri": "https://localhost:8080/"
        },
        "id": "gZw7iI0YjHbt",
        "outputId": "93809249-c1e0-41fc-da57-62d00bd7efe6"
      },
      "execution_count": 672,
      "outputs": [
        {
          "output_type": "execute_result",
          "data": {
            "text/plain": [
              "country\n",
              "Afghanistan                 NaN\n",
              "Albania              -13.870787\n",
              "Algeria              -77.870787\n",
              "Andorra              142.129213\n",
              "Angola               114.129213\n",
              "Antigua & Barbuda    -90.870787\n",
              "Argentina             90.129213\n",
              "Armenia              -81.870787\n",
              "Australia            158.129213\n",
              "Austria              176.129213\n",
              "Name: beer_servings, dtype: float64"
            ]
          },
          "metadata": {},
          "execution_count": 672
        }
      ]
    },
    {
      "cell_type": "code",
      "source": [
        "# 2nd way to show top 10 is bigger or smaller than mean values.\n",
        "(beers [:10]-beers.mean()).apply(lambda X:\"Low\" if X <0 else \"High\")"
      ],
      "metadata": {
        "colab": {
          "base_uri": "https://localhost:8080/"
        },
        "id": "RITELjafj9OF",
        "outputId": "9dd40af0-3bdf-4d2e-d6e6-f40ad7c7f2c4"
      },
      "execution_count": 673,
      "outputs": [
        {
          "output_type": "execute_result",
          "data": {
            "text/plain": [
              "country\n",
              "Afghanistan          High\n",
              "Albania               Low\n",
              "Algeria               Low\n",
              "Andorra              High\n",
              "Angola               High\n",
              "Antigua & Barbuda     Low\n",
              "Argentina            High\n",
              "Armenia               Low\n",
              "Australia            High\n",
              "Austria              High\n",
              "Name: beer_servings, dtype: object"
            ]
          },
          "metadata": {},
          "execution_count": 673
        }
      ]
    },
    {
      "cell_type": "code",
      "source": [
        "# this show that 112 values are lower than mean values and 81 values ae higher than mean values. \n",
        "(beers - beers.mean()).apply(lambda X:\"low\"if X<0 else \"High\").value_counts()"
      ],
      "metadata": {
        "colab": {
          "base_uri": "https://localhost:8080/"
        },
        "id": "YKsUhEqwk_No",
        "outputId": "fd8bdb46-e9e3-49f5-f39d-742020de3eee"
      },
      "execution_count": 674,
      "outputs": [
        {
          "output_type": "execute_result",
          "data": {
            "text/plain": [
              "low     112\n",
              "High     81\n",
              "Name: beer_servings, dtype: int64"
            ]
          },
          "metadata": {},
          "execution_count": 674
        }
      ]
    },
    {
      "cell_type": "markdown",
      "source": [
        "# caluculating of the Z Score \n",
        "\n",
        "**What is the Z Scoore?**\n",
        ">Simply put, a z-score (also called a standard score)\n",
        "\n",
        ">gives you an idea of how far from the mean a data point is"
      ],
      "metadata": {
        "id": "PixxnEail5T0"
      }
    },
    {
      "cell_type": "code",
      "source": [
        "z_scores = (beers- beers.mean()) / beers.std()"
      ],
      "metadata": {
        "id": "-ZiNSfZPprhu"
      },
      "execution_count": 675,
      "outputs": []
    },
    {
      "cell_type": "code",
      "source": [
        "z_scores.head()"
      ],
      "metadata": {
        "colab": {
          "base_uri": "https://localhost:8080/"
        },
        "id": "_QzdwHDVpvYP",
        "outputId": "a7f29cc8-f2e2-4eac-ec29-954e17718f10"
      },
      "execution_count": 676,
      "outputs": [
        {
          "output_type": "execute_result",
          "data": {
            "text/plain": [
              "country\n",
              "Afghanistan         NaN\n",
              "Albania       -0.137818\n",
              "Algeria       -0.773712\n",
              "Andorra        1.412174\n",
              "Angola         1.133970\n",
              "Name: beer_servings, dtype: float64"
            ]
          },
          "metadata": {},
          "execution_count": 676
        }
      ]
    },
    {
      "cell_type": "code",
      "source": [
        "z_scores.mean()"
      ],
      "metadata": {
        "colab": {
          "base_uri": "https://localhost:8080/"
        },
        "id": "6y6SusNgniTD",
        "outputId": "04d106ee-de49-4232-dfd4-5821b6a1ac69"
      },
      "execution_count": 677,
      "outputs": [
        {
          "output_type": "execute_result",
          "data": {
            "text/plain": [
              "9.605300325408658e-17"
            ]
          },
          "metadata": {},
          "execution_count": 677
        }
      ]
    },
    {
      "cell_type": "code",
      "source": [
        "z_scores.min()"
      ],
      "metadata": {
        "colab": {
          "base_uri": "https://localhost:8080/"
        },
        "id": "TFo5YJI5ouli",
        "outputId": "6ed22c93-f6ae-44ba-b2a4-1c184b6cea0d"
      },
      "execution_count": 678,
      "outputs": [
        {
          "output_type": "execute_result",
          "data": {
            "text/plain": [
              "-1.012172141315241"
            ]
          },
          "metadata": {},
          "execution_count": 678
        }
      ]
    },
    {
      "cell_type": "code",
      "source": [
        "z_scores.max()"
      ],
      "metadata": {
        "colab": {
          "base_uri": "https://localhost:8080/"
        },
        "id": "MKLHmfN2oykc",
        "outputId": "65fa1794-42f1-4b7e-bdc8-07504d8603b5"
      },
      "execution_count": 679,
      "outputs": [
        {
          "output_type": "execute_result",
          "data": {
            "text/plain": [
              "2.7137689844109123"
            ]
          },
          "metadata": {},
          "execution_count": 679
        }
      ]
    },
    {
      "cell_type": "code",
      "source": [
        "z_scores.abs().max()"
      ],
      "metadata": {
        "colab": {
          "base_uri": "https://localhost:8080/"
        },
        "id": "1P-RjOrpo10B",
        "outputId": "7e5f74a5-8940-4b47-96f4-12662193b64d"
      },
      "execution_count": 680,
      "outputs": [
        {
          "output_type": "execute_result",
          "data": {
            "text/plain": [
              "2.7137689844109123"
            ]
          },
          "metadata": {},
          "execution_count": 680
        }
      ]
    },
    {
      "cell_type": "code",
      "source": [
        "beers.idxmax()"
      ],
      "metadata": {
        "colab": {
          "base_uri": "https://localhost:8080/",
          "height": 35
        },
        "id": "6rGaFxrno6zk",
        "outputId": "c7a52d70-b06d-45e7-b923-b8f70b122892"
      },
      "execution_count": 681,
      "outputs": [
        {
          "output_type": "execute_result",
          "data": {
            "text/plain": [
              "'Namibia'"
            ],
            "application/vnd.google.colaboratory.intrinsic+json": {
              "type": "string"
            }
          },
          "metadata": {},
          "execution_count": 681
        }
      ]
    },
    {
      "cell_type": "code",
      "source": [
        "beers[\"Namibia\"]"
      ],
      "metadata": {
        "colab": {
          "base_uri": "https://localhost:8080/"
        },
        "id": "dwHZossUpKSA",
        "outputId": "ec152cdb-2793-44e3-c7d1-c5dfe801bcc5"
      },
      "execution_count": 682,
      "outputs": [
        {
          "output_type": "execute_result",
          "data": {
            "text/plain": [
              "376.0"
            ]
          },
          "metadata": {},
          "execution_count": 682
        }
      ]
    },
    {
      "cell_type": "code",
      "source": [
        "beers[beers.idxmax()]"
      ],
      "metadata": {
        "colab": {
          "base_uri": "https://localhost:8080/"
        },
        "id": "6U0Xeuehpaq5",
        "outputId": "66834dc7-865d-4c24-972c-be1c6b68d200"
      },
      "execution_count": 683,
      "outputs": [
        {
          "output_type": "execute_result",
          "data": {
            "text/plain": [
              "376.0"
            ]
          },
          "metadata": {},
          "execution_count": 683
        }
      ]
    },
    {
      "cell_type": "markdown",
      "source": [
        "# 10 The most useful and important things to learn in this notebooks are "
      ],
      "metadata": {
        "id": "Ey1NQuWWwUC6"
      }
    },
    {
      "cell_type": "markdown",
      "source": [
        "NOTE: we use these methods and fuction 60% to 80 % of the times. \n",
        "\n",
        ">**apply()  lambda  mask()  where()  filter()\n",
        "\n",
        ">index()   usecols and index_col\n",
        "\n",
        ">sr.notnull().sum()    std()   var()\n",
        "\n",
        ">Series iteration    sr.items()**\n",
        "\n",
        "\n"
      ],
      "metadata": {
        "id": "ghsiNr7Gwe1Z"
      }
    },
    {
      "cell_type": "code",
      "source": [
        ""
      ],
      "metadata": {
        "id": "LysnacBVzpLg"
      },
      "execution_count": null,
      "outputs": []
    },
    {
      "cell_type": "code",
      "source": [
        ""
      ],
      "metadata": {
        "id": "aSkGXWV0zCB0"
      },
      "execution_count": null,
      "outputs": []
    },
    {
      "cell_type": "code",
      "source": [
        ""
      ],
      "metadata": {
        "id": "NRB7Ld7gwdJH"
      },
      "execution_count": null,
      "outputs": []
    },
    {
      "cell_type": "code",
      "source": [
        ""
      ],
      "metadata": {
        "id": "yRCm9wbNwX02"
      },
      "execution_count": null,
      "outputs": []
    },
    {
      "cell_type": "code",
      "source": [
        ""
      ],
      "metadata": {
        "id": "aefE32x9pgO5"
      },
      "execution_count": 683,
      "outputs": []
    }
  ]
}